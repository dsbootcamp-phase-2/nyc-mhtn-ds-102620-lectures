{
  "nbformat": 4,
  "nbformat_minor": 0,
  "metadata": {
    "kernelspec": {
      "display_name": "Python 3",
      "language": "python",
      "name": "python3"
    },
    "language_info": {
      "codemirror_mode": {
        "name": "ipython",
        "version": 3
      },
      "file_extension": ".py",
      "mimetype": "text/x-python",
      "name": "python",
      "nbconvert_exporter": "python",
      "pygments_lexer": "ipython3",
      "version": "3.6.9-final"
    },
    "colab": {
      "name": "Phase_2_Review.ipynb",
      "provenance": []
    }
  },
  "cells": [
    {
      "cell_type": "markdown",
      "metadata": {
        "id": "KJNLOLZ50LuR"
      },
      "source": [
        "# Phase 2 Review"
      ]
    },
    {
      "cell_type": "code",
      "metadata": {
        "id": "5q8TWWPi0LuR"
      },
      "source": [
        "import pandas as pd\n",
        "import numpy as np\n",
        "from sklearn.preprocessing import StandardScaler\n",
        "from sklearn.preprocessing import LabelBinarizer\n",
        "from sklearn.preprocessing import LabelEncoder\n",
        "import statsmodels.api as sm\n",
        "import statsmodels.formula.api as smf\n",
        "from statsmodels.formula.api import ols\n",
        "import scipy.stats as scs\n",
        "import seaborn as sns\n",
        "import matplotlib.pyplot as plt\n",
        "pd.set_option('display.max_columns', 100)"
      ],
      "execution_count": 6,
      "outputs": []
    },
    {
      "cell_type": "markdown",
      "metadata": {
        "id": "cjLr89hq0LuR"
      },
      "source": [
        "### Check Your Data … Quickly\n",
        "The first thing you want to do when you get a new dataset, is to quickly to verify the contents with the .head() method."
      ]
    },
    {
      "cell_type": "code",
      "metadata": {
        "id": "kZ0FU1CK0LuR",
        "colab": {
          "base_uri": "https://localhost:8080/",
          "height": 377
        },
        "outputId": "4f635ece-6ec3-44ea-d052-f1b9cb9cc5f2"
      },
      "source": [
        "df = pd.read_csv('movie_metadata.csv')\n",
        "print(df.shape)\n",
        "df.head()"
      ],
      "execution_count": 7,
      "outputs": [
        {
          "output_type": "stream",
          "name": "stdout",
          "text": [
            "(5043, 28)\n"
          ]
        },
        {
          "output_type": "execute_result",
          "data": {
            "text/plain": [
              "   color      director_name  num_critic_for_reviews  duration  \\\n",
              "0  Color      James Cameron                   723.0     178.0   \n",
              "1  Color     Gore Verbinski                   302.0     169.0   \n",
              "2  Color         Sam Mendes                   602.0     148.0   \n",
              "3  Color  Christopher Nolan                   813.0     164.0   \n",
              "4    NaN        Doug Walker                     NaN       NaN   \n",
              "\n",
              "   director_facebook_likes  actor_3_facebook_likes      actor_2_name  \\\n",
              "0                      0.0                   855.0  Joel David Moore   \n",
              "1                    563.0                  1000.0     Orlando Bloom   \n",
              "2                      0.0                   161.0      Rory Kinnear   \n",
              "3                  22000.0                 23000.0    Christian Bale   \n",
              "4                    131.0                     NaN        Rob Walker   \n",
              "\n",
              "   actor_1_facebook_likes        gross                           genres  \\\n",
              "0                  1000.0  760505847.0  Action|Adventure|Fantasy|Sci-Fi   \n",
              "1                 40000.0  309404152.0         Action|Adventure|Fantasy   \n",
              "2                 11000.0  200074175.0        Action|Adventure|Thriller   \n",
              "3                 27000.0  448130642.0                  Action|Thriller   \n",
              "4                   131.0          NaN                      Documentary   \n",
              "\n",
              "      actor_1_name                                        movie_title  \\\n",
              "0      CCH Pounder                                            Avatar    \n",
              "1      Johnny Depp          Pirates of the Caribbean: At World's End    \n",
              "2  Christoph Waltz                                           Spectre    \n",
              "3        Tom Hardy                             The Dark Knight Rises    \n",
              "4      Doug Walker  Star Wars: Episode VII - The Force Awakens    ...   \n",
              "\n",
              "   num_voted_users  cast_total_facebook_likes          actor_3_name  \\\n",
              "0           886204                       4834             Wes Studi   \n",
              "1           471220                      48350        Jack Davenport   \n",
              "2           275868                      11700      Stephanie Sigman   \n",
              "3          1144337                     106759  Joseph Gordon-Levitt   \n",
              "4                8                        143                   NaN   \n",
              "\n",
              "   facenumber_in_poster                                      plot_keywords  \\\n",
              "0                   0.0             avatar|future|marine|native|paraplegic   \n",
              "1                   0.0  goddess|marriage ceremony|marriage proposal|pi...   \n",
              "2                   1.0                bomb|espionage|sequel|spy|terrorist   \n",
              "3                   0.0  deception|imprisonment|lawlessness|police offi...   \n",
              "4                   0.0                                                NaN   \n",
              "\n",
              "                                     movie_imdb_link  num_user_for_reviews  \\\n",
              "0  http://www.imdb.com/title/tt0499549/?ref_=fn_t...                3054.0   \n",
              "1  http://www.imdb.com/title/tt0449088/?ref_=fn_t...                1238.0   \n",
              "2  http://www.imdb.com/title/tt2379713/?ref_=fn_t...                 994.0   \n",
              "3  http://www.imdb.com/title/tt1345836/?ref_=fn_t...                2701.0   \n",
              "4  http://www.imdb.com/title/tt5289954/?ref_=fn_t...                   NaN   \n",
              "\n",
              "  language country content_rating       budget  title_year  \\\n",
              "0  English     USA          PG-13  237000000.0      2009.0   \n",
              "1  English     USA          PG-13  300000000.0      2007.0   \n",
              "2  English      UK          PG-13  245000000.0      2015.0   \n",
              "3  English     USA          PG-13  250000000.0      2012.0   \n",
              "4      NaN     NaN            NaN          NaN         NaN   \n",
              "\n",
              "   actor_2_facebook_likes  imdb_score  aspect_ratio  movie_facebook_likes  \n",
              "0                   936.0         7.9          1.78                 33000  \n",
              "1                  5000.0         7.1          2.35                     0  \n",
              "2                   393.0         6.8          2.35                 85000  \n",
              "3                 23000.0         8.5          2.35                164000  \n",
              "4                    12.0         7.1           NaN                     0  "
            ],
            "text/html": "<div>\n<style scoped>\n    .dataframe tbody tr th:only-of-type {\n        vertical-align: middle;\n    }\n\n    .dataframe tbody tr th {\n        vertical-align: top;\n    }\n\n    .dataframe thead th {\n        text-align: right;\n    }\n</style>\n<table border=\"1\" class=\"dataframe\">\n  <thead>\n    <tr style=\"text-align: right;\">\n      <th></th>\n      <th>color</th>\n      <th>director_name</th>\n      <th>num_critic_for_reviews</th>\n      <th>duration</th>\n      <th>director_facebook_likes</th>\n      <th>actor_3_facebook_likes</th>\n      <th>actor_2_name</th>\n      <th>actor_1_facebook_likes</th>\n      <th>gross</th>\n      <th>genres</th>\n      <th>actor_1_name</th>\n      <th>movie_title</th>\n      <th>num_voted_users</th>\n      <th>cast_total_facebook_likes</th>\n      <th>actor_3_name</th>\n      <th>facenumber_in_poster</th>\n      <th>plot_keywords</th>\n      <th>movie_imdb_link</th>\n      <th>num_user_for_reviews</th>\n      <th>language</th>\n      <th>country</th>\n      <th>content_rating</th>\n      <th>budget</th>\n      <th>title_year</th>\n      <th>actor_2_facebook_likes</th>\n      <th>imdb_score</th>\n      <th>aspect_ratio</th>\n      <th>movie_facebook_likes</th>\n    </tr>\n  </thead>\n  <tbody>\n    <tr>\n      <th>0</th>\n      <td>Color</td>\n      <td>James Cameron</td>\n      <td>723.0</td>\n      <td>178.0</td>\n      <td>0.0</td>\n      <td>855.0</td>\n      <td>Joel David Moore</td>\n      <td>1000.0</td>\n      <td>760505847.0</td>\n      <td>Action|Adventure|Fantasy|Sci-Fi</td>\n      <td>CCH Pounder</td>\n      <td>Avatar</td>\n      <td>886204</td>\n      <td>4834</td>\n      <td>Wes Studi</td>\n      <td>0.0</td>\n      <td>avatar|future|marine|native|paraplegic</td>\n      <td>http://www.imdb.com/title/tt0499549/?ref_=fn_t...</td>\n      <td>3054.0</td>\n      <td>English</td>\n      <td>USA</td>\n      <td>PG-13</td>\n      <td>237000000.0</td>\n      <td>2009.0</td>\n      <td>936.0</td>\n      <td>7.9</td>\n      <td>1.78</td>\n      <td>33000</td>\n    </tr>\n    <tr>\n      <th>1</th>\n      <td>Color</td>\n      <td>Gore Verbinski</td>\n      <td>302.0</td>\n      <td>169.0</td>\n      <td>563.0</td>\n      <td>1000.0</td>\n      <td>Orlando Bloom</td>\n      <td>40000.0</td>\n      <td>309404152.0</td>\n      <td>Action|Adventure|Fantasy</td>\n      <td>Johnny Depp</td>\n      <td>Pirates of the Caribbean: At World's End</td>\n      <td>471220</td>\n      <td>48350</td>\n      <td>Jack Davenport</td>\n      <td>0.0</td>\n      <td>goddess|marriage ceremony|marriage proposal|pi...</td>\n      <td>http://www.imdb.com/title/tt0449088/?ref_=fn_t...</td>\n      <td>1238.0</td>\n      <td>English</td>\n      <td>USA</td>\n      <td>PG-13</td>\n      <td>300000000.0</td>\n      <td>2007.0</td>\n      <td>5000.0</td>\n      <td>7.1</td>\n      <td>2.35</td>\n      <td>0</td>\n    </tr>\n    <tr>\n      <th>2</th>\n      <td>Color</td>\n      <td>Sam Mendes</td>\n      <td>602.0</td>\n      <td>148.0</td>\n      <td>0.0</td>\n      <td>161.0</td>\n      <td>Rory Kinnear</td>\n      <td>11000.0</td>\n      <td>200074175.0</td>\n      <td>Action|Adventure|Thriller</td>\n      <td>Christoph Waltz</td>\n      <td>Spectre</td>\n      <td>275868</td>\n      <td>11700</td>\n      <td>Stephanie Sigman</td>\n      <td>1.0</td>\n      <td>bomb|espionage|sequel|spy|terrorist</td>\n      <td>http://www.imdb.com/title/tt2379713/?ref_=fn_t...</td>\n      <td>994.0</td>\n      <td>English</td>\n      <td>UK</td>\n      <td>PG-13</td>\n      <td>245000000.0</td>\n      <td>2015.0</td>\n      <td>393.0</td>\n      <td>6.8</td>\n      <td>2.35</td>\n      <td>85000</td>\n    </tr>\n    <tr>\n      <th>3</th>\n      <td>Color</td>\n      <td>Christopher Nolan</td>\n      <td>813.0</td>\n      <td>164.0</td>\n      <td>22000.0</td>\n      <td>23000.0</td>\n      <td>Christian Bale</td>\n      <td>27000.0</td>\n      <td>448130642.0</td>\n      <td>Action|Thriller</td>\n      <td>Tom Hardy</td>\n      <td>The Dark Knight Rises</td>\n      <td>1144337</td>\n      <td>106759</td>\n      <td>Joseph Gordon-Levitt</td>\n      <td>0.0</td>\n      <td>deception|imprisonment|lawlessness|police offi...</td>\n      <td>http://www.imdb.com/title/tt1345836/?ref_=fn_t...</td>\n      <td>2701.0</td>\n      <td>English</td>\n      <td>USA</td>\n      <td>PG-13</td>\n      <td>250000000.0</td>\n      <td>2012.0</td>\n      <td>23000.0</td>\n      <td>8.5</td>\n      <td>2.35</td>\n      <td>164000</td>\n    </tr>\n    <tr>\n      <th>4</th>\n      <td>NaN</td>\n      <td>Doug Walker</td>\n      <td>NaN</td>\n      <td>NaN</td>\n      <td>131.0</td>\n      <td>NaN</td>\n      <td>Rob Walker</td>\n      <td>131.0</td>\n      <td>NaN</td>\n      <td>Documentary</td>\n      <td>Doug Walker</td>\n      <td>Star Wars: Episode VII - The Force Awakens    ...</td>\n      <td>8</td>\n      <td>143</td>\n      <td>NaN</td>\n      <td>0.0</td>\n      <td>NaN</td>\n      <td>http://www.imdb.com/title/tt5289954/?ref_=fn_t...</td>\n      <td>NaN</td>\n      <td>NaN</td>\n      <td>NaN</td>\n      <td>NaN</td>\n      <td>NaN</td>\n      <td>NaN</td>\n      <td>12.0</td>\n      <td>7.1</td>\n      <td>NaN</td>\n      <td>0</td>\n    </tr>\n  </tbody>\n</table>\n</div>"
          },
          "metadata": {},
          "execution_count": 7
        }
      ]
    },
    {
      "cell_type": "markdown",
      "metadata": {
        "id": "3JxuDvvo0LuS"
      },
      "source": [
        "## Question 1\n",
        "\n",
        "A Hollywood executive wants to know how much an R-rated movie released after 2000 will earn. The data above is a sample of some of the movies with that rating during that timeframe, as well as other movies. How would you go about answering her question? Talk through it theoretically and then do it in code.\n",
        "\n",
        "What is the 95% confidence interval for a post-2000 R-rated movie's box office gross?"
      ]
    },
    {
      "cell_type": "markdown",
      "metadata": {
        "id": "wO7yP5Om0LuS"
      },
      "source": [
        "**I would first filter out the irrelevant rows of data, leaving only those with a movie release year after 2000 and a content rating of R.  Once we have that subset, we can find the sample mean (x_bar) and standard deviation (s) in order to some inferences about the population mean. We need to figure out the sample size and confidence level additionally in our calculation of the confidence interval.**\n"
      ]
    },
    {
      "cell_type": "code",
      "metadata": {
        "id": "_rcQ6EY80LuS",
        "colab": {
          "base_uri": "https://localhost:8080/"
        },
        "outputId": "23eced10-54c7-443f-8a33-d8ba0a4a88fe"
      },
      "source": [
        "# do it in code here\n",
        "data = df[(df.content_rating == 'R') & (df.title_year > 2000)]\n",
        "x_bar = round(data.gross.mean(), 2)\n",
        "print(\"Gross Mean:\", x_bar)\n",
        "s = round(data.gross.std(), 2)\n",
        "print(\"Gross Standard Deviation:\", s)\n"
      ],
      "execution_count": 8,
      "outputs": [
        {
          "output_type": "stream",
          "name": "stdout",
          "text": [
            "Gross Mean: 27648848.44\nGross Standard Deviation: 39088854.94\n"
          ]
        }
      ]
    },
    {
      "cell_type": "code",
      "metadata": {
        "id": "KHi_Dzge0LuS",
        "colab": {
          "base_uri": "https://localhost:8080/"
        },
        "outputId": "9f191f60-7ce4-43b1-990a-d16d6598bce2"
      },
      "source": [
        "# 95% confidence interval\n",
        "n = round(data.gross.count(), 2)\n",
        "conf = 0.95\n",
        "t_value = scs.t.ppf((1+conf)/2, n-1)\n",
        "margin_error = t_value*(s/np.sqrt(n)) \n",
        "confidence_interval = (round(x_bar - margin_error, 2)), (round(x_bar + margin_error, 2))\n",
        "print(\"Confidence Interval: \", confidence_interval)\n"
      ],
      "execution_count": 9,
      "outputs": [
        {
          "output_type": "stream",
          "name": "stdout",
          "text": [
            "Confidence Interval:  (25442351.71, 29855345.17)\n"
          ]
        }
      ]
    },
    {
      "cell_type": "markdown",
      "metadata": {
        "id": "4hJkgHUn0LuS"
      },
      "source": [
        "## Question 2a\n",
        "\n",
        "Your ability to answer the first question has the executive excited and now she has many other questions about the types of movies being made and the differences in those movies budgets and gross amounts.\n",
        "\n",
        "Read through the questions below and **determine what type of statistical test you should use** for each question and **write down the null and alternative hypothesis for those tests**.\n",
        "\n",
        "- Is there a relationship between the number of Facebook likes for a cast and the box office gross of the movie?\n",
        "- Do foreign films perform differently at the box office than non-foreign films?\n",
        "- Of all movies created are 40% rated R?\n",
        "- Is there a relationship between the language of a film and the content rating (G, PG, PG-13, R) of that film?\n",
        "- Is there a relationship between the content rating of a film and its budget? "
      ]
    },
    {
      "cell_type": "markdown",
      "metadata": {
        "id": "c7lbksgR0LuS"
      },
      "source": [
        "#### Is there a relationship between the number of Facebook likes for a cast and the box office gross of the movie?\n",
        "\n",
        "- Two continuous variables (# of FB likes, gross)\n",
        "- Statistical Test:  Relationship between two variables, Pearson correlation or Linear Regression\n",
        "- $H_o$:  The two variables are unrelated.\n",
        "- $H_a$:  The two variables are related.\n"
      ]
    },
    {
      "cell_type": "markdown",
      "metadata": {
        "id": "0wHfwZw80LuS"
      },
      "source": [
        "#### Do foreign films perform differently at the box office than non-foreign films?\n",
        "\n",
        "- One independent categorical variable with 2 levels (film type) and one continuous variable (gross)\n",
        "- Statistical Test: Difference of two means -> Two-sample T-Test\n",
        "- $H_o$: $\\mu_1 = \\mu_2$\n",
        "- $H_a$: $\\mu_1 \\neq \\mu_2$\n"
      ]
    },
    {
      "cell_type": "markdown",
      "metadata": {
        "id": "2XVehwK60LuS"
      },
      "source": [
        "#### Of all movies created are 40% rated R?\n",
        "\n",
        "- One categorical variable (film rating)\n",
        "- Statistical Test: Comparing sample with population proportion -> One-sample Z-test assuming n >= 30\n",
        "- $H_o$: $\\hat{p} = p_o$\n",
        "- $H_a$: $\\hat{p} \\neq p_o$"
      ]
    },
    {
      "cell_type": "markdown",
      "metadata": {
        "id": "53fDT_lX0LuS"
      },
      "source": [
        "#### Is there a relationship between the language of a film and the content rating (G, PG, PG-13, R) of that film?\n",
        "\n",
        "- Two categorical variables (plot keywords and film ratings)\n",
        "- Statistical Test: Relationship between two categorical variables, Chi-squared Test\n",
        "- $H_0$:  The two variables are unrelated.\n",
        "- $H_a$:  Two variables are related.\n",
        "\n"
      ]
    },
    {
      "cell_type": "markdown",
      "metadata": {
        "id": "jeZGkVEl0LuS"
      },
      "source": [
        "#### Is there a relationship between the content rating of a film and its budget? \n",
        "\n",
        "- One categorical variable (content rating) and one continuous variable (budget)\n",
        "- Statistical Test:  Variance between multiple means, One-way ANOVA\n",
        "- $H_o$: $\\mu_1 = \\mu_2 = \\mu_3$\n",
        "- $H_a$: $\\mu_1 \\neq \\mu_2 \\text{ or } \\mu_2 \\neq \\mu_3 \\text{ or } \\mu_1 \\neq \\mu_3$"
      ]
    },
    {
      "cell_type": "markdown",
      "metadata": {
        "id": "HF8g7THl0LuS"
      },
      "source": [
        "## Question 2b\n",
        "\n",
        "Calculate the answer for the second question:\n",
        "\n",
        "- Do foreign films perform differently at the box office than non-foreign films?"
      ]
    },
    {
      "cell_type": "markdown",
      "metadata": {
        "id": "ruRQXoQY0LuS"
      },
      "source": [
        "- One independent categorical variable with 2 levels (film type) and one continuous variable (gross)\n",
        "- Statistical Test: Difference of two means, Two-sample T-Test\n",
        "- $H_o$: $\\mu_1 = \\mu_2$\n",
        "- $H_a$: $\\mu_1 \\neq \\mu_2$"
      ]
    },
    {
      "cell_type": "code",
      "metadata": {
        "id": "M_RwxkVq0LuS",
        "colab": {
          "base_uri": "https://localhost:8080/"
        },
        "outputId": "a8023fe6-9db5-484e-a159-39a40b2ccdfa"
      },
      "source": [
        "# your answer here\n",
        "foreign = data[data.country != 'USA'].gross.dropna()\n",
        "domestic = data[data.country == 'USA'].gross.dropna()\n",
        "for_var = np.var(foreign)\n",
        "dom_var = np.var(domestic)\n",
        "print(\"Ratio of Variances:\", for_var/dom_var)"
      ],
      "execution_count": 10,
      "outputs": [
        {
          "output_type": "stream",
          "name": "stdout",
          "text": [
            "Ratio of Variances: 0.3216512016731956\n"
          ]
        }
      ]
    },
    {
      "cell_type": "code",
      "metadata": {
        "id": "v2Sji2it0LuT",
        "colab": {
          "base_uri": "https://localhost:8080/"
        },
        "outputId": "89ae437d-a531-4d49-a62a-2abb5b9226c3"
      },
      "source": [
        "n_1 = len(foreign)\n",
        "n_2 = len(domestic)\n",
        "s_1 = np.std(foreign)\n",
        "s_2 = np.std(domestic)\n",
        "pooled_sd = np.sqrt((((n_1-1)*(s_1)**2)+((n_2-1)*(s_2)**2))/(n_1+n_2-2))\n",
        "x_bar_1 = np.mean(foreign)\n",
        "x_bar_2 = np.mean(domestic)\n",
        "t_stat = (x_bar_1 - x_bar_2)/((pooled_sd)*(np.sqrt((1/n_1)+(1/n_2)))) #statsmodel t-test\n",
        "print(\"T-statistic:\", t_stat)\n",
        "t_crit = scs.t.ppf(1 - 0.025, df=n_1+n_2-2)\n",
        "print(\"T-critical:\", t_crit)\n",
        "p_value = scs.t.sf(np.abs(t_stat), n_1+n_2-2)*2 # two-sided p-value\n",
        "print(\"P-value:\", p_value)\n",
        "# look at co_nfidence level also"
      ],
      "execution_count": 11,
      "outputs": [
        {
          "output_type": "stream",
          "name": "stdout",
          "text": [
            "T-statistic: -7.737149642655257\nT-critical: 1.9619329840166393\nP-value: 2.1378041722801297e-14\n"
          ]
        }
      ]
    },
    {
      "cell_type": "markdown",
      "metadata": {
        "id": "_utxgCEY0LuT"
      },
      "source": [
        "**We reject the null hypothesis since the T-statistic is less than the negative of the T-critical value. We can say that there is a difference between the means of the two sample populations, and the films do perform differently at the box office.**\n"
      ]
    },
    {
      "cell_type": "markdown",
      "metadata": {
        "id": "2LgIwQX60LuT"
      },
      "source": [
        "## Question 3\n",
        "\n",
        "Now that you have answered all of those questions, the executive wants you to create a model that predicts the money a movie will make if it is released next year in the US. She wants to use this to evaluate different scripts and then decide which one has the largest revenue potential. \n",
        "\n",
        "Below is a list of potential features you could use in the model. Create a new frame containing only those variables.\n",
        "\n",
        "Would you use all of these features in the model?\n",
        "\n",
        "Identify which features you might drop and why.\n",
        "\n",
        "*Remember you want to be able to use this model to predict the box office gross of a film **before** anyone has seen it.*"
      ]
    },
    {
      "cell_type": "markdown",
      "metadata": {
        "id": "lhxH5Kd-0LuT"
      },
      "source": [
        "- **budget**: The amount of money spent to make the movie\n",
        "- **title_year**: The year the movie first came out in the box office\n",
        "- **years_old**: How long has it been since the movie was released\n",
        "- **genre**: Each movie is assigned one genre category like action, horror, comedy\n",
        "- **avg_user_rating**: This rating is taken from Rotten tomatoes, and is the average rating given to the movie by the audience\n",
        "- **actor_1_facebook_likes**: The number of likes that the most popular actor in the movie has\n",
        "- **cast_total_facebook_likes**: The sum of likes for the three most popular actors in the movie\n",
        "- **language**: the original spoken language of the film\n"
      ]
    },
    {
      "cell_type": "code",
      "metadata": {
        "id": "HFaZv-7L0LuT",
        "colab": {
          "base_uri": "https://localhost:8080/",
          "height": 360
        },
        "outputId": "7cc0fb98-656c-4b40-b6f0-50ba47f24954"
      },
      "source": [
        "df.head()"
      ],
      "execution_count": 12,
      "outputs": [
        {
          "output_type": "execute_result",
          "data": {
            "text/plain": [
              "   color      director_name  num_critic_for_reviews  duration  \\\n",
              "0  Color      James Cameron                   723.0     178.0   \n",
              "1  Color     Gore Verbinski                   302.0     169.0   \n",
              "2  Color         Sam Mendes                   602.0     148.0   \n",
              "3  Color  Christopher Nolan                   813.0     164.0   \n",
              "4    NaN        Doug Walker                     NaN       NaN   \n",
              "\n",
              "   director_facebook_likes  actor_3_facebook_likes      actor_2_name  \\\n",
              "0                      0.0                   855.0  Joel David Moore   \n",
              "1                    563.0                  1000.0     Orlando Bloom   \n",
              "2                      0.0                   161.0      Rory Kinnear   \n",
              "3                  22000.0                 23000.0    Christian Bale   \n",
              "4                    131.0                     NaN        Rob Walker   \n",
              "\n",
              "   actor_1_facebook_likes        gross                           genres  \\\n",
              "0                  1000.0  760505847.0  Action|Adventure|Fantasy|Sci-Fi   \n",
              "1                 40000.0  309404152.0         Action|Adventure|Fantasy   \n",
              "2                 11000.0  200074175.0        Action|Adventure|Thriller   \n",
              "3                 27000.0  448130642.0                  Action|Thriller   \n",
              "4                   131.0          NaN                      Documentary   \n",
              "\n",
              "      actor_1_name                                        movie_title  \\\n",
              "0      CCH Pounder                                            Avatar    \n",
              "1      Johnny Depp          Pirates of the Caribbean: At World's End    \n",
              "2  Christoph Waltz                                           Spectre    \n",
              "3        Tom Hardy                             The Dark Knight Rises    \n",
              "4      Doug Walker  Star Wars: Episode VII - The Force Awakens    ...   \n",
              "\n",
              "   num_voted_users  cast_total_facebook_likes          actor_3_name  \\\n",
              "0           886204                       4834             Wes Studi   \n",
              "1           471220                      48350        Jack Davenport   \n",
              "2           275868                      11700      Stephanie Sigman   \n",
              "3          1144337                     106759  Joseph Gordon-Levitt   \n",
              "4                8                        143                   NaN   \n",
              "\n",
              "   facenumber_in_poster                                      plot_keywords  \\\n",
              "0                   0.0             avatar|future|marine|native|paraplegic   \n",
              "1                   0.0  goddess|marriage ceremony|marriage proposal|pi...   \n",
              "2                   1.0                bomb|espionage|sequel|spy|terrorist   \n",
              "3                   0.0  deception|imprisonment|lawlessness|police offi...   \n",
              "4                   0.0                                                NaN   \n",
              "\n",
              "                                     movie_imdb_link  num_user_for_reviews  \\\n",
              "0  http://www.imdb.com/title/tt0499549/?ref_=fn_t...                3054.0   \n",
              "1  http://www.imdb.com/title/tt0449088/?ref_=fn_t...                1238.0   \n",
              "2  http://www.imdb.com/title/tt2379713/?ref_=fn_t...                 994.0   \n",
              "3  http://www.imdb.com/title/tt1345836/?ref_=fn_t...                2701.0   \n",
              "4  http://www.imdb.com/title/tt5289954/?ref_=fn_t...                   NaN   \n",
              "\n",
              "  language country content_rating       budget  title_year  \\\n",
              "0  English     USA          PG-13  237000000.0      2009.0   \n",
              "1  English     USA          PG-13  300000000.0      2007.0   \n",
              "2  English      UK          PG-13  245000000.0      2015.0   \n",
              "3  English     USA          PG-13  250000000.0      2012.0   \n",
              "4      NaN     NaN            NaN          NaN         NaN   \n",
              "\n",
              "   actor_2_facebook_likes  imdb_score  aspect_ratio  movie_facebook_likes  \n",
              "0                   936.0         7.9          1.78                 33000  \n",
              "1                  5000.0         7.1          2.35                     0  \n",
              "2                   393.0         6.8          2.35                 85000  \n",
              "3                 23000.0         8.5          2.35                164000  \n",
              "4                    12.0         7.1           NaN                     0  "
            ],
            "text/html": "<div>\n<style scoped>\n    .dataframe tbody tr th:only-of-type {\n        vertical-align: middle;\n    }\n\n    .dataframe tbody tr th {\n        vertical-align: top;\n    }\n\n    .dataframe thead th {\n        text-align: right;\n    }\n</style>\n<table border=\"1\" class=\"dataframe\">\n  <thead>\n    <tr style=\"text-align: right;\">\n      <th></th>\n      <th>color</th>\n      <th>director_name</th>\n      <th>num_critic_for_reviews</th>\n      <th>duration</th>\n      <th>director_facebook_likes</th>\n      <th>actor_3_facebook_likes</th>\n      <th>actor_2_name</th>\n      <th>actor_1_facebook_likes</th>\n      <th>gross</th>\n      <th>genres</th>\n      <th>actor_1_name</th>\n      <th>movie_title</th>\n      <th>num_voted_users</th>\n      <th>cast_total_facebook_likes</th>\n      <th>actor_3_name</th>\n      <th>facenumber_in_poster</th>\n      <th>plot_keywords</th>\n      <th>movie_imdb_link</th>\n      <th>num_user_for_reviews</th>\n      <th>language</th>\n      <th>country</th>\n      <th>content_rating</th>\n      <th>budget</th>\n      <th>title_year</th>\n      <th>actor_2_facebook_likes</th>\n      <th>imdb_score</th>\n      <th>aspect_ratio</th>\n      <th>movie_facebook_likes</th>\n    </tr>\n  </thead>\n  <tbody>\n    <tr>\n      <th>0</th>\n      <td>Color</td>\n      <td>James Cameron</td>\n      <td>723.0</td>\n      <td>178.0</td>\n      <td>0.0</td>\n      <td>855.0</td>\n      <td>Joel David Moore</td>\n      <td>1000.0</td>\n      <td>760505847.0</td>\n      <td>Action|Adventure|Fantasy|Sci-Fi</td>\n      <td>CCH Pounder</td>\n      <td>Avatar</td>\n      <td>886204</td>\n      <td>4834</td>\n      <td>Wes Studi</td>\n      <td>0.0</td>\n      <td>avatar|future|marine|native|paraplegic</td>\n      <td>http://www.imdb.com/title/tt0499549/?ref_=fn_t...</td>\n      <td>3054.0</td>\n      <td>English</td>\n      <td>USA</td>\n      <td>PG-13</td>\n      <td>237000000.0</td>\n      <td>2009.0</td>\n      <td>936.0</td>\n      <td>7.9</td>\n      <td>1.78</td>\n      <td>33000</td>\n    </tr>\n    <tr>\n      <th>1</th>\n      <td>Color</td>\n      <td>Gore Verbinski</td>\n      <td>302.0</td>\n      <td>169.0</td>\n      <td>563.0</td>\n      <td>1000.0</td>\n      <td>Orlando Bloom</td>\n      <td>40000.0</td>\n      <td>309404152.0</td>\n      <td>Action|Adventure|Fantasy</td>\n      <td>Johnny Depp</td>\n      <td>Pirates of the Caribbean: At World's End</td>\n      <td>471220</td>\n      <td>48350</td>\n      <td>Jack Davenport</td>\n      <td>0.0</td>\n      <td>goddess|marriage ceremony|marriage proposal|pi...</td>\n      <td>http://www.imdb.com/title/tt0449088/?ref_=fn_t...</td>\n      <td>1238.0</td>\n      <td>English</td>\n      <td>USA</td>\n      <td>PG-13</td>\n      <td>300000000.0</td>\n      <td>2007.0</td>\n      <td>5000.0</td>\n      <td>7.1</td>\n      <td>2.35</td>\n      <td>0</td>\n    </tr>\n    <tr>\n      <th>2</th>\n      <td>Color</td>\n      <td>Sam Mendes</td>\n      <td>602.0</td>\n      <td>148.0</td>\n      <td>0.0</td>\n      <td>161.0</td>\n      <td>Rory Kinnear</td>\n      <td>11000.0</td>\n      <td>200074175.0</td>\n      <td>Action|Adventure|Thriller</td>\n      <td>Christoph Waltz</td>\n      <td>Spectre</td>\n      <td>275868</td>\n      <td>11700</td>\n      <td>Stephanie Sigman</td>\n      <td>1.0</td>\n      <td>bomb|espionage|sequel|spy|terrorist</td>\n      <td>http://www.imdb.com/title/tt2379713/?ref_=fn_t...</td>\n      <td>994.0</td>\n      <td>English</td>\n      <td>UK</td>\n      <td>PG-13</td>\n      <td>245000000.0</td>\n      <td>2015.0</td>\n      <td>393.0</td>\n      <td>6.8</td>\n      <td>2.35</td>\n      <td>85000</td>\n    </tr>\n    <tr>\n      <th>3</th>\n      <td>Color</td>\n      <td>Christopher Nolan</td>\n      <td>813.0</td>\n      <td>164.0</td>\n      <td>22000.0</td>\n      <td>23000.0</td>\n      <td>Christian Bale</td>\n      <td>27000.0</td>\n      <td>448130642.0</td>\n      <td>Action|Thriller</td>\n      <td>Tom Hardy</td>\n      <td>The Dark Knight Rises</td>\n      <td>1144337</td>\n      <td>106759</td>\n      <td>Joseph Gordon-Levitt</td>\n      <td>0.0</td>\n      <td>deception|imprisonment|lawlessness|police offi...</td>\n      <td>http://www.imdb.com/title/tt1345836/?ref_=fn_t...</td>\n      <td>2701.0</td>\n      <td>English</td>\n      <td>USA</td>\n      <td>PG-13</td>\n      <td>250000000.0</td>\n      <td>2012.0</td>\n      <td>23000.0</td>\n      <td>8.5</td>\n      <td>2.35</td>\n      <td>164000</td>\n    </tr>\n    <tr>\n      <th>4</th>\n      <td>NaN</td>\n      <td>Doug Walker</td>\n      <td>NaN</td>\n      <td>NaN</td>\n      <td>131.0</td>\n      <td>NaN</td>\n      <td>Rob Walker</td>\n      <td>131.0</td>\n      <td>NaN</td>\n      <td>Documentary</td>\n      <td>Doug Walker</td>\n      <td>Star Wars: Episode VII - The Force Awakens    ...</td>\n      <td>8</td>\n      <td>143</td>\n      <td>NaN</td>\n      <td>0.0</td>\n      <td>NaN</td>\n      <td>http://www.imdb.com/title/tt5289954/?ref_=fn_t...</td>\n      <td>NaN</td>\n      <td>NaN</td>\n      <td>NaN</td>\n      <td>NaN</td>\n      <td>NaN</td>\n      <td>NaN</td>\n      <td>12.0</td>\n      <td>7.1</td>\n      <td>NaN</td>\n      <td>0</td>\n    </tr>\n  </tbody>\n</table>\n</div>"
          },
          "metadata": {},
          "execution_count": 12
        }
      ]
    },
    {
      "cell_type": "markdown",
      "metadata": {
        "id": "GzDRg1ju0LuT"
      },
      "source": [
        "### Data Cleaning"
      ]
    },
    {
      "cell_type": "code",
      "metadata": {
        "id": "yQgZ9K4s0LuT",
        "colab": {
          "base_uri": "https://localhost:8080/"
        },
        "outputId": "337c7b66-3581-4285-af90-b991a1732968"
      },
      "source": [
        "df.content_rating.value_counts()"
      ],
      "execution_count": 13,
      "outputs": [
        {
          "output_type": "execute_result",
          "data": {
            "text/plain": [
              "R            2118\n",
              "PG-13        1461\n",
              "PG            701\n",
              "Not Rated     116\n",
              "G             112\n",
              "Unrated        62\n",
              "Approved       55\n",
              "TV-14          30\n",
              "TV-MA          20\n",
              "X              13\n",
              "TV-PG          13\n",
              "TV-G           10\n",
              "Passed          9\n",
              "NC-17           7\n",
              "GP              6\n",
              "M               5\n",
              "TV-Y            1\n",
              "TV-Y7           1\n",
              "Name: content_rating, dtype: int64"
            ]
          },
          "metadata": {},
          "execution_count": 13
        }
      ]
    },
    {
      "cell_type": "code",
      "metadata": {
        "id": "Fnk0i5It5Vbp"
      },
      "source": [
        "df.drop(df.index[df['content_rating'].isin(['TV-MA', 'TV-14', 'TV-PG', 'TV-G', 'NC-17', 'GP', 'M', 'TV-Y7', 'TV-Y', 'X'])], inplace = True)"
      ],
      "execution_count": 14,
      "outputs": []
    },
    {
      "cell_type": "code",
      "metadata": {
        "id": "rn9sS_el0LuT"
      },
      "source": [
        "unrated = ['Unrated', 'Not Rated', 'Approved', 'Passed', np.nan]\n",
        "rated = ['R', 'PG-13', 'PG', 'G']\n",
        "unrated_dict = dict.fromkeys(unrated, 'unrated')\n",
        "rated_dict = dict(zip(rated, rated))\n",
        "ratings_map = {**rated_dict,**unrated_dict}\n",
        "df['rating'] = df['content_rating'].map(ratings_map)"
      ],
      "execution_count": 15,
      "outputs": []
    },
    {
      "cell_type": "code",
      "metadata": {
        "id": "fg3dB_FP0LuT",
        "colab": {
          "base_uri": "https://localhost:8080/"
        },
        "outputId": "cf504ddd-0bdb-45b6-a575-e00bd76d9b97"
      },
      "source": [
        "df['rating'].value_counts()"
      ],
      "execution_count": 16,
      "outputs": [
        {
          "output_type": "execute_result",
          "data": {
            "text/plain": [
              "R          2118\n",
              "PG-13      1461\n",
              "PG          701\n",
              "unrated     545\n",
              "G           112\n",
              "Name: rating, dtype: int64"
            ]
          },
          "metadata": {},
          "execution_count": 16
        }
      ]
    },
    {
      "cell_type": "code",
      "metadata": {
        "id": "moqWqYGs0LuT"
      },
      "source": [
        "df['genres'] = df['genres'].apply(lambda x: x.split('|'))"
      ],
      "execution_count": 17,
      "outputs": []
    },
    {
      "cell_type": "code",
      "metadata": {
        "id": "ZT8SXdZb0LuT",
        "colab": {
          "base_uri": "https://localhost:8080/",
          "height": 411
        },
        "outputId": "207ce738-5443-40e3-a24a-0f715e12c0d6"
      },
      "source": [
        "df.head()"
      ],
      "execution_count": 18,
      "outputs": [
        {
          "output_type": "execute_result",
          "data": {
            "text/plain": [
              "   color      director_name  num_critic_for_reviews  duration  \\\n",
              "0  Color      James Cameron                   723.0     178.0   \n",
              "1  Color     Gore Verbinski                   302.0     169.0   \n",
              "2  Color         Sam Mendes                   602.0     148.0   \n",
              "3  Color  Christopher Nolan                   813.0     164.0   \n",
              "4    NaN        Doug Walker                     NaN       NaN   \n",
              "\n",
              "   director_facebook_likes  actor_3_facebook_likes      actor_2_name  \\\n",
              "0                      0.0                   855.0  Joel David Moore   \n",
              "1                    563.0                  1000.0     Orlando Bloom   \n",
              "2                      0.0                   161.0      Rory Kinnear   \n",
              "3                  22000.0                 23000.0    Christian Bale   \n",
              "4                    131.0                     NaN        Rob Walker   \n",
              "\n",
              "   actor_1_facebook_likes        gross                                genres  \\\n",
              "0                  1000.0  760505847.0  [Action, Adventure, Fantasy, Sci-Fi]   \n",
              "1                 40000.0  309404152.0          [Action, Adventure, Fantasy]   \n",
              "2                 11000.0  200074175.0         [Action, Adventure, Thriller]   \n",
              "3                 27000.0  448130642.0                    [Action, Thriller]   \n",
              "4                   131.0          NaN                         [Documentary]   \n",
              "\n",
              "      actor_1_name                                        movie_title  \\\n",
              "0      CCH Pounder                                            Avatar    \n",
              "1      Johnny Depp          Pirates of the Caribbean: At World's End    \n",
              "2  Christoph Waltz                                           Spectre    \n",
              "3        Tom Hardy                             The Dark Knight Rises    \n",
              "4      Doug Walker  Star Wars: Episode VII - The Force Awakens    ...   \n",
              "\n",
              "   num_voted_users  cast_total_facebook_likes          actor_3_name  \\\n",
              "0           886204                       4834             Wes Studi   \n",
              "1           471220                      48350        Jack Davenport   \n",
              "2           275868                      11700      Stephanie Sigman   \n",
              "3          1144337                     106759  Joseph Gordon-Levitt   \n",
              "4                8                        143                   NaN   \n",
              "\n",
              "   facenumber_in_poster                                      plot_keywords  \\\n",
              "0                   0.0             avatar|future|marine|native|paraplegic   \n",
              "1                   0.0  goddess|marriage ceremony|marriage proposal|pi...   \n",
              "2                   1.0                bomb|espionage|sequel|spy|terrorist   \n",
              "3                   0.0  deception|imprisonment|lawlessness|police offi...   \n",
              "4                   0.0                                                NaN   \n",
              "\n",
              "                                     movie_imdb_link  num_user_for_reviews  \\\n",
              "0  http://www.imdb.com/title/tt0499549/?ref_=fn_t...                3054.0   \n",
              "1  http://www.imdb.com/title/tt0449088/?ref_=fn_t...                1238.0   \n",
              "2  http://www.imdb.com/title/tt2379713/?ref_=fn_t...                 994.0   \n",
              "3  http://www.imdb.com/title/tt1345836/?ref_=fn_t...                2701.0   \n",
              "4  http://www.imdb.com/title/tt5289954/?ref_=fn_t...                   NaN   \n",
              "\n",
              "  language country content_rating       budget  title_year  \\\n",
              "0  English     USA          PG-13  237000000.0      2009.0   \n",
              "1  English     USA          PG-13  300000000.0      2007.0   \n",
              "2  English      UK          PG-13  245000000.0      2015.0   \n",
              "3  English     USA          PG-13  250000000.0      2012.0   \n",
              "4      NaN     NaN            NaN          NaN         NaN   \n",
              "\n",
              "   actor_2_facebook_likes  imdb_score  aspect_ratio  movie_facebook_likes  \\\n",
              "0                   936.0         7.9          1.78                 33000   \n",
              "1                  5000.0         7.1          2.35                     0   \n",
              "2                   393.0         6.8          2.35                 85000   \n",
              "3                 23000.0         8.5          2.35                164000   \n",
              "4                    12.0         7.1           NaN                     0   \n",
              "\n",
              "    rating  \n",
              "0    PG-13  \n",
              "1    PG-13  \n",
              "2    PG-13  \n",
              "3    PG-13  \n",
              "4  unrated  "
            ],
            "text/html": "<div>\n<style scoped>\n    .dataframe tbody tr th:only-of-type {\n        vertical-align: middle;\n    }\n\n    .dataframe tbody tr th {\n        vertical-align: top;\n    }\n\n    .dataframe thead th {\n        text-align: right;\n    }\n</style>\n<table border=\"1\" class=\"dataframe\">\n  <thead>\n    <tr style=\"text-align: right;\">\n      <th></th>\n      <th>color</th>\n      <th>director_name</th>\n      <th>num_critic_for_reviews</th>\n      <th>duration</th>\n      <th>director_facebook_likes</th>\n      <th>actor_3_facebook_likes</th>\n      <th>actor_2_name</th>\n      <th>actor_1_facebook_likes</th>\n      <th>gross</th>\n      <th>genres</th>\n      <th>actor_1_name</th>\n      <th>movie_title</th>\n      <th>num_voted_users</th>\n      <th>cast_total_facebook_likes</th>\n      <th>actor_3_name</th>\n      <th>facenumber_in_poster</th>\n      <th>plot_keywords</th>\n      <th>movie_imdb_link</th>\n      <th>num_user_for_reviews</th>\n      <th>language</th>\n      <th>country</th>\n      <th>content_rating</th>\n      <th>budget</th>\n      <th>title_year</th>\n      <th>actor_2_facebook_likes</th>\n      <th>imdb_score</th>\n      <th>aspect_ratio</th>\n      <th>movie_facebook_likes</th>\n      <th>rating</th>\n    </tr>\n  </thead>\n  <tbody>\n    <tr>\n      <th>0</th>\n      <td>Color</td>\n      <td>James Cameron</td>\n      <td>723.0</td>\n      <td>178.0</td>\n      <td>0.0</td>\n      <td>855.0</td>\n      <td>Joel David Moore</td>\n      <td>1000.0</td>\n      <td>760505847.0</td>\n      <td>[Action, Adventure, Fantasy, Sci-Fi]</td>\n      <td>CCH Pounder</td>\n      <td>Avatar</td>\n      <td>886204</td>\n      <td>4834</td>\n      <td>Wes Studi</td>\n      <td>0.0</td>\n      <td>avatar|future|marine|native|paraplegic</td>\n      <td>http://www.imdb.com/title/tt0499549/?ref_=fn_t...</td>\n      <td>3054.0</td>\n      <td>English</td>\n      <td>USA</td>\n      <td>PG-13</td>\n      <td>237000000.0</td>\n      <td>2009.0</td>\n      <td>936.0</td>\n      <td>7.9</td>\n      <td>1.78</td>\n      <td>33000</td>\n      <td>PG-13</td>\n    </tr>\n    <tr>\n      <th>1</th>\n      <td>Color</td>\n      <td>Gore Verbinski</td>\n      <td>302.0</td>\n      <td>169.0</td>\n      <td>563.0</td>\n      <td>1000.0</td>\n      <td>Orlando Bloom</td>\n      <td>40000.0</td>\n      <td>309404152.0</td>\n      <td>[Action, Adventure, Fantasy]</td>\n      <td>Johnny Depp</td>\n      <td>Pirates of the Caribbean: At World's End</td>\n      <td>471220</td>\n      <td>48350</td>\n      <td>Jack Davenport</td>\n      <td>0.0</td>\n      <td>goddess|marriage ceremony|marriage proposal|pi...</td>\n      <td>http://www.imdb.com/title/tt0449088/?ref_=fn_t...</td>\n      <td>1238.0</td>\n      <td>English</td>\n      <td>USA</td>\n      <td>PG-13</td>\n      <td>300000000.0</td>\n      <td>2007.0</td>\n      <td>5000.0</td>\n      <td>7.1</td>\n      <td>2.35</td>\n      <td>0</td>\n      <td>PG-13</td>\n    </tr>\n    <tr>\n      <th>2</th>\n      <td>Color</td>\n      <td>Sam Mendes</td>\n      <td>602.0</td>\n      <td>148.0</td>\n      <td>0.0</td>\n      <td>161.0</td>\n      <td>Rory Kinnear</td>\n      <td>11000.0</td>\n      <td>200074175.0</td>\n      <td>[Action, Adventure, Thriller]</td>\n      <td>Christoph Waltz</td>\n      <td>Spectre</td>\n      <td>275868</td>\n      <td>11700</td>\n      <td>Stephanie Sigman</td>\n      <td>1.0</td>\n      <td>bomb|espionage|sequel|spy|terrorist</td>\n      <td>http://www.imdb.com/title/tt2379713/?ref_=fn_t...</td>\n      <td>994.0</td>\n      <td>English</td>\n      <td>UK</td>\n      <td>PG-13</td>\n      <td>245000000.0</td>\n      <td>2015.0</td>\n      <td>393.0</td>\n      <td>6.8</td>\n      <td>2.35</td>\n      <td>85000</td>\n      <td>PG-13</td>\n    </tr>\n    <tr>\n      <th>3</th>\n      <td>Color</td>\n      <td>Christopher Nolan</td>\n      <td>813.0</td>\n      <td>164.0</td>\n      <td>22000.0</td>\n      <td>23000.0</td>\n      <td>Christian Bale</td>\n      <td>27000.0</td>\n      <td>448130642.0</td>\n      <td>[Action, Thriller]</td>\n      <td>Tom Hardy</td>\n      <td>The Dark Knight Rises</td>\n      <td>1144337</td>\n      <td>106759</td>\n      <td>Joseph Gordon-Levitt</td>\n      <td>0.0</td>\n      <td>deception|imprisonment|lawlessness|police offi...</td>\n      <td>http://www.imdb.com/title/tt1345836/?ref_=fn_t...</td>\n      <td>2701.0</td>\n      <td>English</td>\n      <td>USA</td>\n      <td>PG-13</td>\n      <td>250000000.0</td>\n      <td>2012.0</td>\n      <td>23000.0</td>\n      <td>8.5</td>\n      <td>2.35</td>\n      <td>164000</td>\n      <td>PG-13</td>\n    </tr>\n    <tr>\n      <th>4</th>\n      <td>NaN</td>\n      <td>Doug Walker</td>\n      <td>NaN</td>\n      <td>NaN</td>\n      <td>131.0</td>\n      <td>NaN</td>\n      <td>Rob Walker</td>\n      <td>131.0</td>\n      <td>NaN</td>\n      <td>[Documentary]</td>\n      <td>Doug Walker</td>\n      <td>Star Wars: Episode VII - The Force Awakens    ...</td>\n      <td>8</td>\n      <td>143</td>\n      <td>NaN</td>\n      <td>0.0</td>\n      <td>NaN</td>\n      <td>http://www.imdb.com/title/tt5289954/?ref_=fn_t...</td>\n      <td>NaN</td>\n      <td>NaN</td>\n      <td>NaN</td>\n      <td>NaN</td>\n      <td>NaN</td>\n      <td>NaN</td>\n      <td>12.0</td>\n      <td>7.1</td>\n      <td>NaN</td>\n      <td>0</td>\n      <td>unrated</td>\n    </tr>\n  </tbody>\n</table>\n</div>"
          },
          "metadata": {},
          "execution_count": 18
        }
      ]
    },
    {
      "cell_type": "code",
      "metadata": {
        "id": "r50Fsp6T0LuT",
        "colab": {
          "base_uri": "https://localhost:8080/",
          "height": 411
        },
        "outputId": "b722d396-aab2-411b-9e74-73b9704f9ac4"
      },
      "source": [
        "df.rename(columns={'director_facebook_likes': 'dir_fb_likes', 'movie_facebook_likes': 'mov_fb_likes', 'cast_total_facebook_likes': 'cast_fb_likes', 'actor_1_facebook_likes': 'act1_fb_likes', 'actor_3_facebook_likes': 'act3_fb_likes', 'actor_2_facebook_likes': 'act2_fb_likes', 'num_critic_for_reviews': 'num_crit_rev', 'num_user_for_reviews': 'num_user_rev'}, inplace=True)\n",
        "df.head()"
      ],
      "execution_count": 19,
      "outputs": [
        {
          "output_type": "execute_result",
          "data": {
            "text/plain": [
              "   color      director_name  num_crit_rev  duration  dir_fb_likes  \\\n",
              "0  Color      James Cameron         723.0     178.0           0.0   \n",
              "1  Color     Gore Verbinski         302.0     169.0         563.0   \n",
              "2  Color         Sam Mendes         602.0     148.0           0.0   \n",
              "3  Color  Christopher Nolan         813.0     164.0       22000.0   \n",
              "4    NaN        Doug Walker           NaN       NaN         131.0   \n",
              "\n",
              "   act3_fb_likes      actor_2_name  act1_fb_likes        gross  \\\n",
              "0          855.0  Joel David Moore         1000.0  760505847.0   \n",
              "1         1000.0     Orlando Bloom        40000.0  309404152.0   \n",
              "2          161.0      Rory Kinnear        11000.0  200074175.0   \n",
              "3        23000.0    Christian Bale        27000.0  448130642.0   \n",
              "4            NaN        Rob Walker          131.0          NaN   \n",
              "\n",
              "                                 genres     actor_1_name  \\\n",
              "0  [Action, Adventure, Fantasy, Sci-Fi]      CCH Pounder   \n",
              "1          [Action, Adventure, Fantasy]      Johnny Depp   \n",
              "2         [Action, Adventure, Thriller]  Christoph Waltz   \n",
              "3                    [Action, Thriller]        Tom Hardy   \n",
              "4                         [Documentary]      Doug Walker   \n",
              "\n",
              "                                         movie_title  num_voted_users  \\\n",
              "0                                            Avatar            886204   \n",
              "1          Pirates of the Caribbean: At World's End            471220   \n",
              "2                                           Spectre            275868   \n",
              "3                             The Dark Knight Rises           1144337   \n",
              "4  Star Wars: Episode VII - The Force Awakens    ...                8   \n",
              "\n",
              "   cast_fb_likes          actor_3_name  facenumber_in_poster  \\\n",
              "0           4834             Wes Studi                   0.0   \n",
              "1          48350        Jack Davenport                   0.0   \n",
              "2          11700      Stephanie Sigman                   1.0   \n",
              "3         106759  Joseph Gordon-Levitt                   0.0   \n",
              "4            143                   NaN                   0.0   \n",
              "\n",
              "                                       plot_keywords  \\\n",
              "0             avatar|future|marine|native|paraplegic   \n",
              "1  goddess|marriage ceremony|marriage proposal|pi...   \n",
              "2                bomb|espionage|sequel|spy|terrorist   \n",
              "3  deception|imprisonment|lawlessness|police offi...   \n",
              "4                                                NaN   \n",
              "\n",
              "                                     movie_imdb_link  num_user_rev language  \\\n",
              "0  http://www.imdb.com/title/tt0499549/?ref_=fn_t...        3054.0  English   \n",
              "1  http://www.imdb.com/title/tt0449088/?ref_=fn_t...        1238.0  English   \n",
              "2  http://www.imdb.com/title/tt2379713/?ref_=fn_t...         994.0  English   \n",
              "3  http://www.imdb.com/title/tt1345836/?ref_=fn_t...        2701.0  English   \n",
              "4  http://www.imdb.com/title/tt5289954/?ref_=fn_t...           NaN      NaN   \n",
              "\n",
              "  country content_rating       budget  title_year  act2_fb_likes  imdb_score  \\\n",
              "0     USA          PG-13  237000000.0      2009.0          936.0         7.9   \n",
              "1     USA          PG-13  300000000.0      2007.0         5000.0         7.1   \n",
              "2      UK          PG-13  245000000.0      2015.0          393.0         6.8   \n",
              "3     USA          PG-13  250000000.0      2012.0        23000.0         8.5   \n",
              "4     NaN            NaN          NaN         NaN           12.0         7.1   \n",
              "\n",
              "   aspect_ratio  mov_fb_likes   rating  \n",
              "0          1.78         33000    PG-13  \n",
              "1          2.35             0    PG-13  \n",
              "2          2.35         85000    PG-13  \n",
              "3          2.35        164000    PG-13  \n",
              "4           NaN             0  unrated  "
            ],
            "text/html": "<div>\n<style scoped>\n    .dataframe tbody tr th:only-of-type {\n        vertical-align: middle;\n    }\n\n    .dataframe tbody tr th {\n        vertical-align: top;\n    }\n\n    .dataframe thead th {\n        text-align: right;\n    }\n</style>\n<table border=\"1\" class=\"dataframe\">\n  <thead>\n    <tr style=\"text-align: right;\">\n      <th></th>\n      <th>color</th>\n      <th>director_name</th>\n      <th>num_crit_rev</th>\n      <th>duration</th>\n      <th>dir_fb_likes</th>\n      <th>act3_fb_likes</th>\n      <th>actor_2_name</th>\n      <th>act1_fb_likes</th>\n      <th>gross</th>\n      <th>genres</th>\n      <th>actor_1_name</th>\n      <th>movie_title</th>\n      <th>num_voted_users</th>\n      <th>cast_fb_likes</th>\n      <th>actor_3_name</th>\n      <th>facenumber_in_poster</th>\n      <th>plot_keywords</th>\n      <th>movie_imdb_link</th>\n      <th>num_user_rev</th>\n      <th>language</th>\n      <th>country</th>\n      <th>content_rating</th>\n      <th>budget</th>\n      <th>title_year</th>\n      <th>act2_fb_likes</th>\n      <th>imdb_score</th>\n      <th>aspect_ratio</th>\n      <th>mov_fb_likes</th>\n      <th>rating</th>\n    </tr>\n  </thead>\n  <tbody>\n    <tr>\n      <th>0</th>\n      <td>Color</td>\n      <td>James Cameron</td>\n      <td>723.0</td>\n      <td>178.0</td>\n      <td>0.0</td>\n      <td>855.0</td>\n      <td>Joel David Moore</td>\n      <td>1000.0</td>\n      <td>760505847.0</td>\n      <td>[Action, Adventure, Fantasy, Sci-Fi]</td>\n      <td>CCH Pounder</td>\n      <td>Avatar</td>\n      <td>886204</td>\n      <td>4834</td>\n      <td>Wes Studi</td>\n      <td>0.0</td>\n      <td>avatar|future|marine|native|paraplegic</td>\n      <td>http://www.imdb.com/title/tt0499549/?ref_=fn_t...</td>\n      <td>3054.0</td>\n      <td>English</td>\n      <td>USA</td>\n      <td>PG-13</td>\n      <td>237000000.0</td>\n      <td>2009.0</td>\n      <td>936.0</td>\n      <td>7.9</td>\n      <td>1.78</td>\n      <td>33000</td>\n      <td>PG-13</td>\n    </tr>\n    <tr>\n      <th>1</th>\n      <td>Color</td>\n      <td>Gore Verbinski</td>\n      <td>302.0</td>\n      <td>169.0</td>\n      <td>563.0</td>\n      <td>1000.0</td>\n      <td>Orlando Bloom</td>\n      <td>40000.0</td>\n      <td>309404152.0</td>\n      <td>[Action, Adventure, Fantasy]</td>\n      <td>Johnny Depp</td>\n      <td>Pirates of the Caribbean: At World's End</td>\n      <td>471220</td>\n      <td>48350</td>\n      <td>Jack Davenport</td>\n      <td>0.0</td>\n      <td>goddess|marriage ceremony|marriage proposal|pi...</td>\n      <td>http://www.imdb.com/title/tt0449088/?ref_=fn_t...</td>\n      <td>1238.0</td>\n      <td>English</td>\n      <td>USA</td>\n      <td>PG-13</td>\n      <td>300000000.0</td>\n      <td>2007.0</td>\n      <td>5000.0</td>\n      <td>7.1</td>\n      <td>2.35</td>\n      <td>0</td>\n      <td>PG-13</td>\n    </tr>\n    <tr>\n      <th>2</th>\n      <td>Color</td>\n      <td>Sam Mendes</td>\n      <td>602.0</td>\n      <td>148.0</td>\n      <td>0.0</td>\n      <td>161.0</td>\n      <td>Rory Kinnear</td>\n      <td>11000.0</td>\n      <td>200074175.0</td>\n      <td>[Action, Adventure, Thriller]</td>\n      <td>Christoph Waltz</td>\n      <td>Spectre</td>\n      <td>275868</td>\n      <td>11700</td>\n      <td>Stephanie Sigman</td>\n      <td>1.0</td>\n      <td>bomb|espionage|sequel|spy|terrorist</td>\n      <td>http://www.imdb.com/title/tt2379713/?ref_=fn_t...</td>\n      <td>994.0</td>\n      <td>English</td>\n      <td>UK</td>\n      <td>PG-13</td>\n      <td>245000000.0</td>\n      <td>2015.0</td>\n      <td>393.0</td>\n      <td>6.8</td>\n      <td>2.35</td>\n      <td>85000</td>\n      <td>PG-13</td>\n    </tr>\n    <tr>\n      <th>3</th>\n      <td>Color</td>\n      <td>Christopher Nolan</td>\n      <td>813.0</td>\n      <td>164.0</td>\n      <td>22000.0</td>\n      <td>23000.0</td>\n      <td>Christian Bale</td>\n      <td>27000.0</td>\n      <td>448130642.0</td>\n      <td>[Action, Thriller]</td>\n      <td>Tom Hardy</td>\n      <td>The Dark Knight Rises</td>\n      <td>1144337</td>\n      <td>106759</td>\n      <td>Joseph Gordon-Levitt</td>\n      <td>0.0</td>\n      <td>deception|imprisonment|lawlessness|police offi...</td>\n      <td>http://www.imdb.com/title/tt1345836/?ref_=fn_t...</td>\n      <td>2701.0</td>\n      <td>English</td>\n      <td>USA</td>\n      <td>PG-13</td>\n      <td>250000000.0</td>\n      <td>2012.0</td>\n      <td>23000.0</td>\n      <td>8.5</td>\n      <td>2.35</td>\n      <td>164000</td>\n      <td>PG-13</td>\n    </tr>\n    <tr>\n      <th>4</th>\n      <td>NaN</td>\n      <td>Doug Walker</td>\n      <td>NaN</td>\n      <td>NaN</td>\n      <td>131.0</td>\n      <td>NaN</td>\n      <td>Rob Walker</td>\n      <td>131.0</td>\n      <td>NaN</td>\n      <td>[Documentary]</td>\n      <td>Doug Walker</td>\n      <td>Star Wars: Episode VII - The Force Awakens    ...</td>\n      <td>8</td>\n      <td>143</td>\n      <td>NaN</td>\n      <td>0.0</td>\n      <td>NaN</td>\n      <td>http://www.imdb.com/title/tt5289954/?ref_=fn_t...</td>\n      <td>NaN</td>\n      <td>NaN</td>\n      <td>NaN</td>\n      <td>NaN</td>\n      <td>NaN</td>\n      <td>NaN</td>\n      <td>12.0</td>\n      <td>7.1</td>\n      <td>NaN</td>\n      <td>0</td>\n      <td>unrated</td>\n    </tr>\n  </tbody>\n</table>\n</div>"
          },
          "metadata": {},
          "execution_count": 19
        }
      ]
    },
    {
      "cell_type": "code",
      "metadata": {
        "id": "5xa5P8Yi0LuT"
      },
      "source": [
        "genres = df.genres\n",
        "genres = pd.DataFrame(df.genres.values.tolist()).add_prefix('genre_')\n",
        "df = pd.concat([df, genres], axis=1)\n",
        "df.drop(columns=['genre_3','genre_4', 'genre_5', 'genre_6', 'genre_7'], inplace=True)\n",
        "df['years_old'] = 2021 - df['title_year']"
      ],
      "execution_count": 20,
      "outputs": []
    },
    {
      "cell_type": "code",
      "metadata": {
        "id": "3WUNUUwZ0LuT",
        "colab": {
          "base_uri": "https://localhost:8080/",
          "height": 411
        },
        "outputId": "4f46c8e8-b389-43ac-ab6e-4e7b96c80190"
      },
      "source": [
        "df.head()"
      ],
      "execution_count": 21,
      "outputs": [
        {
          "output_type": "execute_result",
          "data": {
            "text/plain": [
              "   color      director_name  num_crit_rev  duration  dir_fb_likes  \\\n",
              "0  Color      James Cameron         723.0     178.0           0.0   \n",
              "1  Color     Gore Verbinski         302.0     169.0         563.0   \n",
              "2  Color         Sam Mendes         602.0     148.0           0.0   \n",
              "3  Color  Christopher Nolan         813.0     164.0       22000.0   \n",
              "4    NaN        Doug Walker           NaN       NaN         131.0   \n",
              "\n",
              "   act3_fb_likes      actor_2_name  act1_fb_likes        gross  \\\n",
              "0          855.0  Joel David Moore         1000.0  760505847.0   \n",
              "1         1000.0     Orlando Bloom        40000.0  309404152.0   \n",
              "2          161.0      Rory Kinnear        11000.0  200074175.0   \n",
              "3        23000.0    Christian Bale        27000.0  448130642.0   \n",
              "4            NaN        Rob Walker          131.0          NaN   \n",
              "\n",
              "                                 genres     actor_1_name  \\\n",
              "0  [Action, Adventure, Fantasy, Sci-Fi]      CCH Pounder   \n",
              "1          [Action, Adventure, Fantasy]      Johnny Depp   \n",
              "2         [Action, Adventure, Thriller]  Christoph Waltz   \n",
              "3                    [Action, Thriller]        Tom Hardy   \n",
              "4                         [Documentary]      Doug Walker   \n",
              "\n",
              "                                         movie_title  num_voted_users  \\\n",
              "0                                            Avatar          886204.0   \n",
              "1          Pirates of the Caribbean: At World's End          471220.0   \n",
              "2                                           Spectre          275868.0   \n",
              "3                             The Dark Knight Rises         1144337.0   \n",
              "4  Star Wars: Episode VII - The Force Awakens    ...              8.0   \n",
              "\n",
              "   cast_fb_likes          actor_3_name  facenumber_in_poster  \\\n",
              "0         4834.0             Wes Studi                   0.0   \n",
              "1        48350.0        Jack Davenport                   0.0   \n",
              "2        11700.0      Stephanie Sigman                   1.0   \n",
              "3       106759.0  Joseph Gordon-Levitt                   0.0   \n",
              "4          143.0                   NaN                   0.0   \n",
              "\n",
              "                                       plot_keywords  \\\n",
              "0             avatar|future|marine|native|paraplegic   \n",
              "1  goddess|marriage ceremony|marriage proposal|pi...   \n",
              "2                bomb|espionage|sequel|spy|terrorist   \n",
              "3  deception|imprisonment|lawlessness|police offi...   \n",
              "4                                                NaN   \n",
              "\n",
              "                                     movie_imdb_link  num_user_rev language  \\\n",
              "0  http://www.imdb.com/title/tt0499549/?ref_=fn_t...        3054.0  English   \n",
              "1  http://www.imdb.com/title/tt0449088/?ref_=fn_t...        1238.0  English   \n",
              "2  http://www.imdb.com/title/tt2379713/?ref_=fn_t...         994.0  English   \n",
              "3  http://www.imdb.com/title/tt1345836/?ref_=fn_t...        2701.0  English   \n",
              "4  http://www.imdb.com/title/tt5289954/?ref_=fn_t...           NaN      NaN   \n",
              "\n",
              "  country content_rating       budget  title_year  act2_fb_likes  imdb_score  \\\n",
              "0     USA          PG-13  237000000.0      2009.0          936.0         7.9   \n",
              "1     USA          PG-13  300000000.0      2007.0         5000.0         7.1   \n",
              "2      UK          PG-13  245000000.0      2015.0          393.0         6.8   \n",
              "3     USA          PG-13  250000000.0      2012.0        23000.0         8.5   \n",
              "4     NaN            NaN          NaN         NaN           12.0         7.1   \n",
              "\n",
              "   aspect_ratio  mov_fb_likes   rating      genre_0    genre_1   genre_2  \\\n",
              "0          1.78       33000.0    PG-13       Action  Adventure   Fantasy   \n",
              "1          2.35           0.0    PG-13       Action  Adventure   Fantasy   \n",
              "2          2.35       85000.0    PG-13       Action  Adventure  Thriller   \n",
              "3          2.35      164000.0    PG-13       Action   Thriller      None   \n",
              "4           NaN           0.0  unrated  Documentary       None      None   \n",
              "\n",
              "   years_old  \n",
              "0       12.0  \n",
              "1       14.0  \n",
              "2        6.0  \n",
              "3        9.0  \n",
              "4        NaN  "
            ],
            "text/html": "<div>\n<style scoped>\n    .dataframe tbody tr th:only-of-type {\n        vertical-align: middle;\n    }\n\n    .dataframe tbody tr th {\n        vertical-align: top;\n    }\n\n    .dataframe thead th {\n        text-align: right;\n    }\n</style>\n<table border=\"1\" class=\"dataframe\">\n  <thead>\n    <tr style=\"text-align: right;\">\n      <th></th>\n      <th>color</th>\n      <th>director_name</th>\n      <th>num_crit_rev</th>\n      <th>duration</th>\n      <th>dir_fb_likes</th>\n      <th>act3_fb_likes</th>\n      <th>actor_2_name</th>\n      <th>act1_fb_likes</th>\n      <th>gross</th>\n      <th>genres</th>\n      <th>actor_1_name</th>\n      <th>movie_title</th>\n      <th>num_voted_users</th>\n      <th>cast_fb_likes</th>\n      <th>actor_3_name</th>\n      <th>facenumber_in_poster</th>\n      <th>plot_keywords</th>\n      <th>movie_imdb_link</th>\n      <th>num_user_rev</th>\n      <th>language</th>\n      <th>country</th>\n      <th>content_rating</th>\n      <th>budget</th>\n      <th>title_year</th>\n      <th>act2_fb_likes</th>\n      <th>imdb_score</th>\n      <th>aspect_ratio</th>\n      <th>mov_fb_likes</th>\n      <th>rating</th>\n      <th>genre_0</th>\n      <th>genre_1</th>\n      <th>genre_2</th>\n      <th>years_old</th>\n    </tr>\n  </thead>\n  <tbody>\n    <tr>\n      <th>0</th>\n      <td>Color</td>\n      <td>James Cameron</td>\n      <td>723.0</td>\n      <td>178.0</td>\n      <td>0.0</td>\n      <td>855.0</td>\n      <td>Joel David Moore</td>\n      <td>1000.0</td>\n      <td>760505847.0</td>\n      <td>[Action, Adventure, Fantasy, Sci-Fi]</td>\n      <td>CCH Pounder</td>\n      <td>Avatar</td>\n      <td>886204.0</td>\n      <td>4834.0</td>\n      <td>Wes Studi</td>\n      <td>0.0</td>\n      <td>avatar|future|marine|native|paraplegic</td>\n      <td>http://www.imdb.com/title/tt0499549/?ref_=fn_t...</td>\n      <td>3054.0</td>\n      <td>English</td>\n      <td>USA</td>\n      <td>PG-13</td>\n      <td>237000000.0</td>\n      <td>2009.0</td>\n      <td>936.0</td>\n      <td>7.9</td>\n      <td>1.78</td>\n      <td>33000.0</td>\n      <td>PG-13</td>\n      <td>Action</td>\n      <td>Adventure</td>\n      <td>Fantasy</td>\n      <td>12.0</td>\n    </tr>\n    <tr>\n      <th>1</th>\n      <td>Color</td>\n      <td>Gore Verbinski</td>\n      <td>302.0</td>\n      <td>169.0</td>\n      <td>563.0</td>\n      <td>1000.0</td>\n      <td>Orlando Bloom</td>\n      <td>40000.0</td>\n      <td>309404152.0</td>\n      <td>[Action, Adventure, Fantasy]</td>\n      <td>Johnny Depp</td>\n      <td>Pirates of the Caribbean: At World's End</td>\n      <td>471220.0</td>\n      <td>48350.0</td>\n      <td>Jack Davenport</td>\n      <td>0.0</td>\n      <td>goddess|marriage ceremony|marriage proposal|pi...</td>\n      <td>http://www.imdb.com/title/tt0449088/?ref_=fn_t...</td>\n      <td>1238.0</td>\n      <td>English</td>\n      <td>USA</td>\n      <td>PG-13</td>\n      <td>300000000.0</td>\n      <td>2007.0</td>\n      <td>5000.0</td>\n      <td>7.1</td>\n      <td>2.35</td>\n      <td>0.0</td>\n      <td>PG-13</td>\n      <td>Action</td>\n      <td>Adventure</td>\n      <td>Fantasy</td>\n      <td>14.0</td>\n    </tr>\n    <tr>\n      <th>2</th>\n      <td>Color</td>\n      <td>Sam Mendes</td>\n      <td>602.0</td>\n      <td>148.0</td>\n      <td>0.0</td>\n      <td>161.0</td>\n      <td>Rory Kinnear</td>\n      <td>11000.0</td>\n      <td>200074175.0</td>\n      <td>[Action, Adventure, Thriller]</td>\n      <td>Christoph Waltz</td>\n      <td>Spectre</td>\n      <td>275868.0</td>\n      <td>11700.0</td>\n      <td>Stephanie Sigman</td>\n      <td>1.0</td>\n      <td>bomb|espionage|sequel|spy|terrorist</td>\n      <td>http://www.imdb.com/title/tt2379713/?ref_=fn_t...</td>\n      <td>994.0</td>\n      <td>English</td>\n      <td>UK</td>\n      <td>PG-13</td>\n      <td>245000000.0</td>\n      <td>2015.0</td>\n      <td>393.0</td>\n      <td>6.8</td>\n      <td>2.35</td>\n      <td>85000.0</td>\n      <td>PG-13</td>\n      <td>Action</td>\n      <td>Adventure</td>\n      <td>Thriller</td>\n      <td>6.0</td>\n    </tr>\n    <tr>\n      <th>3</th>\n      <td>Color</td>\n      <td>Christopher Nolan</td>\n      <td>813.0</td>\n      <td>164.0</td>\n      <td>22000.0</td>\n      <td>23000.0</td>\n      <td>Christian Bale</td>\n      <td>27000.0</td>\n      <td>448130642.0</td>\n      <td>[Action, Thriller]</td>\n      <td>Tom Hardy</td>\n      <td>The Dark Knight Rises</td>\n      <td>1144337.0</td>\n      <td>106759.0</td>\n      <td>Joseph Gordon-Levitt</td>\n      <td>0.0</td>\n      <td>deception|imprisonment|lawlessness|police offi...</td>\n      <td>http://www.imdb.com/title/tt1345836/?ref_=fn_t...</td>\n      <td>2701.0</td>\n      <td>English</td>\n      <td>USA</td>\n      <td>PG-13</td>\n      <td>250000000.0</td>\n      <td>2012.0</td>\n      <td>23000.0</td>\n      <td>8.5</td>\n      <td>2.35</td>\n      <td>164000.0</td>\n      <td>PG-13</td>\n      <td>Action</td>\n      <td>Thriller</td>\n      <td>None</td>\n      <td>9.0</td>\n    </tr>\n    <tr>\n      <th>4</th>\n      <td>NaN</td>\n      <td>Doug Walker</td>\n      <td>NaN</td>\n      <td>NaN</td>\n      <td>131.0</td>\n      <td>NaN</td>\n      <td>Rob Walker</td>\n      <td>131.0</td>\n      <td>NaN</td>\n      <td>[Documentary]</td>\n      <td>Doug Walker</td>\n      <td>Star Wars: Episode VII - The Force Awakens    ...</td>\n      <td>8.0</td>\n      <td>143.0</td>\n      <td>NaN</td>\n      <td>0.0</td>\n      <td>NaN</td>\n      <td>http://www.imdb.com/title/tt5289954/?ref_=fn_t...</td>\n      <td>NaN</td>\n      <td>NaN</td>\n      <td>NaN</td>\n      <td>NaN</td>\n      <td>NaN</td>\n      <td>NaN</td>\n      <td>12.0</td>\n      <td>7.1</td>\n      <td>NaN</td>\n      <td>0.0</td>\n      <td>unrated</td>\n      <td>Documentary</td>\n      <td>None</td>\n      <td>None</td>\n      <td>NaN</td>\n    </tr>\n  </tbody>\n</table>\n</div>"
          },
          "metadata": {},
          "execution_count": 21
        }
      ]
    },
    {
      "cell_type": "code",
      "metadata": {
        "id": "ZZlyY1FX0LuT"
      },
      "source": [
        "df2 = df[['gross', 'budget', 'years_old', 'genre_0', 'imdb_score', 'act1_fb_likes', 'cast_fb_likes', 'language', 'rating']]"
      ],
      "execution_count": 22,
      "outputs": []
    },
    {
      "cell_type": "markdown",
      "metadata": {
        "id": "u5iDB7gqDnhu"
      },
      "source": []
    },
    {
      "cell_type": "code",
      "metadata": {
        "id": "BgCRLq9M0LuT",
        "colab": {
          "base_uri": "https://localhost:8080/",
          "height": 204
        },
        "outputId": "612288c9-6365-4c74-fc7c-41692384302e"
      },
      "source": [
        "df2.head()"
      ],
      "execution_count": 23,
      "outputs": [
        {
          "output_type": "execute_result",
          "data": {
            "text/plain": [
              "         gross       budget  years_old      genre_0  imdb_score  \\\n",
              "0  760505847.0  237000000.0       12.0       Action         7.9   \n",
              "1  309404152.0  300000000.0       14.0       Action         7.1   \n",
              "2  200074175.0  245000000.0        6.0       Action         6.8   \n",
              "3  448130642.0  250000000.0        9.0       Action         8.5   \n",
              "4          NaN          NaN        NaN  Documentary         7.1   \n",
              "\n",
              "   act1_fb_likes  cast_fb_likes language   rating  \n",
              "0         1000.0         4834.0  English    PG-13  \n",
              "1        40000.0        48350.0  English    PG-13  \n",
              "2        11000.0        11700.0  English    PG-13  \n",
              "3        27000.0       106759.0  English    PG-13  \n",
              "4          131.0          143.0      NaN  unrated  "
            ],
            "text/html": "<div>\n<style scoped>\n    .dataframe tbody tr th:only-of-type {\n        vertical-align: middle;\n    }\n\n    .dataframe tbody tr th {\n        vertical-align: top;\n    }\n\n    .dataframe thead th {\n        text-align: right;\n    }\n</style>\n<table border=\"1\" class=\"dataframe\">\n  <thead>\n    <tr style=\"text-align: right;\">\n      <th></th>\n      <th>gross</th>\n      <th>budget</th>\n      <th>years_old</th>\n      <th>genre_0</th>\n      <th>imdb_score</th>\n      <th>act1_fb_likes</th>\n      <th>cast_fb_likes</th>\n      <th>language</th>\n      <th>rating</th>\n    </tr>\n  </thead>\n  <tbody>\n    <tr>\n      <th>0</th>\n      <td>760505847.0</td>\n      <td>237000000.0</td>\n      <td>12.0</td>\n      <td>Action</td>\n      <td>7.9</td>\n      <td>1000.0</td>\n      <td>4834.0</td>\n      <td>English</td>\n      <td>PG-13</td>\n    </tr>\n    <tr>\n      <th>1</th>\n      <td>309404152.0</td>\n      <td>300000000.0</td>\n      <td>14.0</td>\n      <td>Action</td>\n      <td>7.1</td>\n      <td>40000.0</td>\n      <td>48350.0</td>\n      <td>English</td>\n      <td>PG-13</td>\n    </tr>\n    <tr>\n      <th>2</th>\n      <td>200074175.0</td>\n      <td>245000000.0</td>\n      <td>6.0</td>\n      <td>Action</td>\n      <td>6.8</td>\n      <td>11000.0</td>\n      <td>11700.0</td>\n      <td>English</td>\n      <td>PG-13</td>\n    </tr>\n    <tr>\n      <th>3</th>\n      <td>448130642.0</td>\n      <td>250000000.0</td>\n      <td>9.0</td>\n      <td>Action</td>\n      <td>8.5</td>\n      <td>27000.0</td>\n      <td>106759.0</td>\n      <td>English</td>\n      <td>PG-13</td>\n    </tr>\n    <tr>\n      <th>4</th>\n      <td>NaN</td>\n      <td>NaN</td>\n      <td>NaN</td>\n      <td>Documentary</td>\n      <td>7.1</td>\n      <td>131.0</td>\n      <td>143.0</td>\n      <td>NaN</td>\n      <td>unrated</td>\n    </tr>\n  </tbody>\n</table>\n</div>"
          },
          "metadata": {},
          "execution_count": 23
        }
      ]
    },
    {
      "cell_type": "code",
      "metadata": {
        "id": "D9ozatWa0LuT",
        "colab": {
          "base_uri": "https://localhost:8080/"
        },
        "outputId": "781011e5-4ae7-4dd0-80b0-d1fc8032d74d"
      },
      "source": [
        "df2.dtypes"
      ],
      "execution_count": 24,
      "outputs": [
        {
          "output_type": "execute_result",
          "data": {
            "text/plain": [
              "gross            float64\n",
              "budget           float64\n",
              "years_old        float64\n",
              "genre_0           object\n",
              "imdb_score       float64\n",
              "act1_fb_likes    float64\n",
              "cast_fb_likes    float64\n",
              "language          object\n",
              "rating            object\n",
              "dtype: object"
            ]
          },
          "metadata": {},
          "execution_count": 24
        }
      ]
    },
    {
      "cell_type": "markdown",
      "metadata": {
        "id": "K2sI74cp0LuT"
      },
      "source": [
        "### Handling Missing Values"
      ]
    },
    {
      "cell_type": "code",
      "metadata": {
        "id": "9CeKOmBQ0LuT",
        "colab": {
          "base_uri": "https://localhost:8080/",
          "height": 341
        },
        "outputId": "ad30d3ec-74a4-4e43-cab3-f9c58b2e96fb"
      },
      "source": [
        "#sns.heatmap(df2.isna(), cbar=False)\n",
        "#plt.savefig('heatmap.png')"
      ],
      "execution_count": 25,
      "outputs": []
    },
    {
      "source": [
        "<img src=\"images/heatmap.png\">"
      ],
      "cell_type": "markdown",
      "metadata": {}
    },
    {
      "cell_type": "code",
      "metadata": {
        "id": "PJLb5CRO0LuT"
      },
      "source": [
        "df2 = df2.dropna(subset=['gross'])"
      ],
      "execution_count": 26,
      "outputs": []
    },
    {
      "cell_type": "code",
      "metadata": {
        "id": "AArT7PF90LuT",
        "colab": {
          "base_uri": "https://localhost:8080/"
        },
        "outputId": "1f936b2c-7fbd-407d-874a-27f88630ea16"
      },
      "source": [
        "df2.shape"
      ],
      "execution_count": 27,
      "outputs": [
        {
          "output_type": "execute_result",
          "data": {
            "text/plain": [
              "(4138, 9)"
            ]
          },
          "metadata": {},
          "execution_count": 27
        }
      ]
    },
    {
      "cell_type": "code",
      "metadata": {
        "id": "wX6R0hkM0LuT",
        "colab": {
          "base_uri": "https://localhost:8080/",
          "height": 341
        },
        "outputId": "3a884896-f32f-4e41-cbc5-2d7a118afcc5"
      },
      "source": [
        "#sns.heatmap(df2.isna(), cbar=False)\n",
        "#plt.savefig('heatmap2.png')"
      ],
      "execution_count": 28,
      "outputs": []
    },
    {
      "source": [
        "<img src=\"images/heatmap2.png\">"
      ],
      "cell_type": "markdown",
      "metadata": {}
    },
    {
      "cell_type": "code",
      "metadata": {
        "id": "4PS3Bam40LuU",
        "colab": {
          "base_uri": "https://localhost:8080/"
        },
        "outputId": "3d9da007-2d40-46c5-d324-2239fdfaaa96"
      },
      "source": [
        "budget_ratings = df2.groupby('rating')['budget'].mean().round(1).to_dict()\n",
        "budget_ratings"
      ],
      "execution_count": 29,
      "outputs": [
        {
          "output_type": "execute_result",
          "data": {
            "text/plain": [
              "{'G': 50911615.4,\n",
              " 'PG': 53575683.2,\n",
              " 'PG-13': 55784951.6,\n",
              " 'R': 36998505.3,\n",
              " 'unrated': 13093854.0}"
            ]
          },
          "metadata": {},
          "execution_count": 29
        }
      ]
    },
    {
      "cell_type": "code",
      "metadata": {
        "id": "h4zh-NaG0LuU"
      },
      "source": [
        "df2['budget'] = df2['budget'].fillna(df2['rating'].map(budget_ratings))"
      ],
      "execution_count": 30,
      "outputs": []
    },
    {
      "cell_type": "code",
      "metadata": {
        "id": "54YST0DX0LuU",
        "colab": {
          "base_uri": "https://localhost:8080/",
          "height": 341
        },
        "outputId": "54f66e31-bdb9-4c31-d58d-1b1f8893d626"
      },
      "source": [
        "#sns.heatmap(df2.isnull(), cbar=False)\n",
        "#plt.savefig('heatmap3.png')"
      ],
      "execution_count": 31,
      "outputs": []
    },
    {
      "source": [
        "<img src=\"images/heatmap3.png\">"
      ],
      "cell_type": "markdown",
      "metadata": {}
    },
    {
      "cell_type": "code",
      "metadata": {
        "id": "dIquD4lABoqI"
      },
      "source": [
        "df2.reset_index(drop=True, inplace=True)"
      ],
      "execution_count": 32,
      "outputs": []
    },
    {
      "cell_type": "code",
      "metadata": {
        "colab": {
          "base_uri": "https://localhost:8080/",
          "height": 419
        },
        "id": "_RZcJs7ABoxX",
        "outputId": "b34a4f07-a3b7-4e06-81d0-87beddc8801c"
      },
      "source": [
        "df2"
      ],
      "execution_count": 33,
      "outputs": [
        {
          "output_type": "execute_result",
          "data": {
            "text/plain": [
              "            gross       budget  years_old genre_0  imdb_score  act1_fb_likes  \\\n",
              "0     760505847.0  237000000.0       12.0  Action         7.9         1000.0   \n",
              "1     309404152.0  300000000.0       14.0  Action         7.1        40000.0   \n",
              "2     200074175.0  245000000.0        6.0  Action         6.8        11000.0   \n",
              "3     448130642.0  250000000.0        9.0  Action         8.5        27000.0   \n",
              "4      73058679.0  263700000.0        9.0  Action         6.6          640.0   \n",
              "...           ...          ...        ...     ...         ...            ...   \n",
              "4133      70071.0       7000.0       16.0     NaN         6.3            0.0   \n",
              "4134    2040920.0       7000.0       29.0     NaN         6.9          121.0   \n",
              "4135       4584.0       9000.0       10.0     NaN         6.4          296.0   \n",
              "4136      10443.0   55784951.6        9.0     NaN         6.3          946.0   \n",
              "4137      85222.0       1100.0       17.0     NaN         6.6           86.0   \n",
              "\n",
              "      cast_fb_likes language   rating  \n",
              "0            4834.0  English    PG-13  \n",
              "1           48350.0  English    PG-13  \n",
              "2           11700.0  English    PG-13  \n",
              "3          106759.0  English    PG-13  \n",
              "4            1873.0  English    PG-13  \n",
              "...             ...      ...      ...  \n",
              "4133            0.0  English  unrated  \n",
              "4134          147.0  Spanish        R  \n",
              "4135          690.0  English  unrated  \n",
              "4136         2386.0  English    PG-13  \n",
              "4137          163.0  English       PG  \n",
              "\n",
              "[4138 rows x 9 columns]"
            ],
            "text/html": "<div>\n<style scoped>\n    .dataframe tbody tr th:only-of-type {\n        vertical-align: middle;\n    }\n\n    .dataframe tbody tr th {\n        vertical-align: top;\n    }\n\n    .dataframe thead th {\n        text-align: right;\n    }\n</style>\n<table border=\"1\" class=\"dataframe\">\n  <thead>\n    <tr style=\"text-align: right;\">\n      <th></th>\n      <th>gross</th>\n      <th>budget</th>\n      <th>years_old</th>\n      <th>genre_0</th>\n      <th>imdb_score</th>\n      <th>act1_fb_likes</th>\n      <th>cast_fb_likes</th>\n      <th>language</th>\n      <th>rating</th>\n    </tr>\n  </thead>\n  <tbody>\n    <tr>\n      <th>0</th>\n      <td>760505847.0</td>\n      <td>237000000.0</td>\n      <td>12.0</td>\n      <td>Action</td>\n      <td>7.9</td>\n      <td>1000.0</td>\n      <td>4834.0</td>\n      <td>English</td>\n      <td>PG-13</td>\n    </tr>\n    <tr>\n      <th>1</th>\n      <td>309404152.0</td>\n      <td>300000000.0</td>\n      <td>14.0</td>\n      <td>Action</td>\n      <td>7.1</td>\n      <td>40000.0</td>\n      <td>48350.0</td>\n      <td>English</td>\n      <td>PG-13</td>\n    </tr>\n    <tr>\n      <th>2</th>\n      <td>200074175.0</td>\n      <td>245000000.0</td>\n      <td>6.0</td>\n      <td>Action</td>\n      <td>6.8</td>\n      <td>11000.0</td>\n      <td>11700.0</td>\n      <td>English</td>\n      <td>PG-13</td>\n    </tr>\n    <tr>\n      <th>3</th>\n      <td>448130642.0</td>\n      <td>250000000.0</td>\n      <td>9.0</td>\n      <td>Action</td>\n      <td>8.5</td>\n      <td>27000.0</td>\n      <td>106759.0</td>\n      <td>English</td>\n      <td>PG-13</td>\n    </tr>\n    <tr>\n      <th>4</th>\n      <td>73058679.0</td>\n      <td>263700000.0</td>\n      <td>9.0</td>\n      <td>Action</td>\n      <td>6.6</td>\n      <td>640.0</td>\n      <td>1873.0</td>\n      <td>English</td>\n      <td>PG-13</td>\n    </tr>\n    <tr>\n      <th>...</th>\n      <td>...</td>\n      <td>...</td>\n      <td>...</td>\n      <td>...</td>\n      <td>...</td>\n      <td>...</td>\n      <td>...</td>\n      <td>...</td>\n      <td>...</td>\n    </tr>\n    <tr>\n      <th>4133</th>\n      <td>70071.0</td>\n      <td>7000.0</td>\n      <td>16.0</td>\n      <td>NaN</td>\n      <td>6.3</td>\n      <td>0.0</td>\n      <td>0.0</td>\n      <td>English</td>\n      <td>unrated</td>\n    </tr>\n    <tr>\n      <th>4134</th>\n      <td>2040920.0</td>\n      <td>7000.0</td>\n      <td>29.0</td>\n      <td>NaN</td>\n      <td>6.9</td>\n      <td>121.0</td>\n      <td>147.0</td>\n      <td>Spanish</td>\n      <td>R</td>\n    </tr>\n    <tr>\n      <th>4135</th>\n      <td>4584.0</td>\n      <td>9000.0</td>\n      <td>10.0</td>\n      <td>NaN</td>\n      <td>6.4</td>\n      <td>296.0</td>\n      <td>690.0</td>\n      <td>English</td>\n      <td>unrated</td>\n    </tr>\n    <tr>\n      <th>4136</th>\n      <td>10443.0</td>\n      <td>55784951.6</td>\n      <td>9.0</td>\n      <td>NaN</td>\n      <td>6.3</td>\n      <td>946.0</td>\n      <td>2386.0</td>\n      <td>English</td>\n      <td>PG-13</td>\n    </tr>\n    <tr>\n      <th>4137</th>\n      <td>85222.0</td>\n      <td>1100.0</td>\n      <td>17.0</td>\n      <td>NaN</td>\n      <td>6.6</td>\n      <td>86.0</td>\n      <td>163.0</td>\n      <td>English</td>\n      <td>PG</td>\n    </tr>\n  </tbody>\n</table>\n<p>4138 rows × 9 columns</p>\n</div>"
          },
          "metadata": {},
          "execution_count": 33
        }
      ]
    },
    {
      "cell_type": "markdown",
      "metadata": {
        "id": "oNDYU5FN0LuU"
      },
      "source": [
        "### Handling Outliers"
      ]
    },
    {
      "cell_type": "code",
      "metadata": {
        "colab": {
          "base_uri": "https://localhost:8080/"
        },
        "id": "6B_Y9zWKEsq3",
        "outputId": "39878895-4a7c-4628-d63d-47677707a926"
      },
      "source": [
        "above_3std = df2.gross.mean() + (3*df2.gross.std())\n",
        "above_3std"
      ],
      "execution_count": 34,
      "outputs": [
        {
          "output_type": "execute_result",
          "data": {
            "text/plain": [
              "254338224.13241583"
            ]
          },
          "metadata": {},
          "execution_count": 34
        }
      ]
    },
    {
      "cell_type": "code",
      "metadata": {
        "id": "hVe-HTyxE7WU"
      },
      "source": [
        "df2 = df2[(df2.gross<=above_3std)&(df2.gross>1000000)]"
      ],
      "execution_count": 35,
      "outputs": []
    },
    {
      "cell_type": "code",
      "metadata": {
        "colab": {
          "base_uri": "https://localhost:8080/"
        },
        "id": "yhnJUWwWFHEo",
        "outputId": "2b77054f-045d-461b-f77b-603b5ba4cc14"
      },
      "source": [
        "df2.shape"
      ],
      "execution_count": 36,
      "outputs": [
        {
          "output_type": "execute_result",
          "data": {
            "text/plain": [
              "(3470, 9)"
            ]
          },
          "metadata": {},
          "execution_count": 36
        }
      ]
    },
    {
      "cell_type": "code",
      "metadata": {
        "colab": {
          "base_uri": "https://localhost:8080/"
        },
        "id": "IUo0uqUkFL5O",
        "outputId": "e3421ea7-b6c4-439a-e4c8-5e9902bf27e6"
      },
      "source": [
        "above_3std = df2.budget.mean() + (3*df2.budget.std())\n",
        "above_3std"
      ],
      "execution_count": 37,
      "outputs": [
        {
          "output_type": "execute_result",
          "data": {
            "text/plain": [
              "690700221.0921232"
            ]
          },
          "metadata": {},
          "execution_count": 37
        }
      ]
    },
    {
      "cell_type": "code",
      "metadata": {
        "id": "GiZurA9AFUXY"
      },
      "source": [
        "df2 = df2[(df2.budget<=above_3std)&(df2.budget>1000000)]"
      ],
      "execution_count": 38,
      "outputs": []
    },
    {
      "cell_type": "code",
      "metadata": {
        "colab": {
          "base_uri": "https://localhost:8080/"
        },
        "id": "w7USxqmoFgod",
        "outputId": "5d3df11c-ece1-4b00-c49b-bcb425dd14b3"
      },
      "source": [
        "df2.shape"
      ],
      "execution_count": 39,
      "outputs": [
        {
          "output_type": "execute_result",
          "data": {
            "text/plain": [
              "(3364, 9)"
            ]
          },
          "metadata": {},
          "execution_count": 39
        }
      ]
    },
    {
      "cell_type": "code",
      "metadata": {
        "colab": {
          "base_uri": "https://localhost:8080/",
          "height": 293
        },
        "id": "x18dkTQh7lR8",
        "outputId": "363d8627-0028-4a99-adf9-8121aa83a606"
      },
      "source": [
        "# df2['gross'].plot(kind='box')\n",
        "# plt.savefig('gross_boxplot.png')"
      ],
      "execution_count": 40,
      "outputs": []
    },
    {
      "source": [
        "<img src=\"images/gross_boxplot.png\">"
      ],
      "cell_type": "markdown",
      "metadata": {}
    },
    {
      "cell_type": "markdown",
      "metadata": {
        "id": "vSEpkjNXlXOz"
      },
      "source": [
        "### Feature Selection"
      ]
    },
    {
      "cell_type": "code",
      "metadata": {
        "colab": {
          "base_uri": "https://localhost:8080/",
          "height": 596
        },
        "id": "BfxA26oXlWZo",
        "outputId": "41a83bf6-e6de-4b07-e12e-4c8910c7bbd8"
      },
      "source": [
        "#Using Pearson Correlation\n",
        "#plt.figure(figsize=(16,12))\n",
        "#cor = df2.corr()\n",
        "#sns.heatmap(cor, annot=True, cmap=plt.cm.Reds)\n",
        "#plt.show()"
      ],
      "execution_count": 44,
      "outputs": []
    },
    {
      "source": [
        "<img src=\"images/corrmap.png\">"
      ],
      "cell_type": "markdown",
      "metadata": {}
    },
    {
      "cell_type": "code",
      "metadata": {
        "colab": {
          "base_uri": "https://localhost:8080/",
          "height": 478
        },
        "id": "P5H62QfAoMxE",
        "outputId": "929591dc-7833-4f14-ac07-db5829266f00"
      },
      "source": [
        "model = ols(formula='gross~budget', data=df2).fit()\n",
        "model.summary()"
      ],
      "execution_count": 45,
      "outputs": [
        {
          "output_type": "execute_result",
          "data": {
            "text/plain": [
              "<class 'statsmodels.iolib.summary.Summary'>\n",
              "\"\"\"\n",
              "                            OLS Regression Results                            \n",
              "==============================================================================\n",
              "Dep. Variable:                  gross   R-squared:                       0.286\n",
              "Model:                            OLS   Adj. R-squared:                  0.285\n",
              "Method:                 Least Squares   F-statistic:                     1343.\n",
              "Date:                Mon, 14 Dec 2020   Prob (F-statistic):          9.72e-248\n",
              "Time:                        22:52:36   Log-Likelihood:                -63847.\n",
              "No. Observations:                3364   AIC:                         1.277e+05\n",
              "Df Residuals:                    3362   BIC:                         1.277e+05\n",
              "Df Model:                           1                                         \n",
              "Covariance Type:            nonrobust                                         \n",
              "==============================================================================\n",
              "                 coef    std err          t      P>|t|      [0.025      0.975]\n",
              "------------------------------------------------------------------------------\n",
              "Intercept   2.236e+07   1.04e+06     21.554      0.000    2.03e+07    2.44e+07\n",
              "budget         0.6673      0.018     36.652      0.000       0.632       0.703\n",
              "==============================================================================\n",
              "Omnibus:                      822.253   Durbin-Watson:                   1.108\n",
              "Prob(Omnibus):                  0.000   Jarque-Bera (JB):             5393.888\n",
              "Skew:                           0.996   Prob(JB):                         0.00\n",
              "Kurtosis:                       8.875   Cond. No.                     8.10e+07\n",
              "==============================================================================\n",
              "\n",
              "Notes:\n",
              "[1] Standard Errors assume that the covariance matrix of the errors is correctly specified.\n",
              "[2] The condition number is large, 8.1e+07. This might indicate that there are\n",
              "strong multicollinearity or other numerical problems.\n",
              "\"\"\""
            ],
            "text/html": "<table class=\"simpletable\">\n<caption>OLS Regression Results</caption>\n<tr>\n  <th>Dep. Variable:</th>          <td>gross</td>      <th>  R-squared:         </th> <td>   0.286</td> \n</tr>\n<tr>\n  <th>Model:</th>                   <td>OLS</td>       <th>  Adj. R-squared:    </th> <td>   0.285</td> \n</tr>\n<tr>\n  <th>Method:</th>             <td>Least Squares</td>  <th>  F-statistic:       </th> <td>   1343.</td> \n</tr>\n<tr>\n  <th>Date:</th>             <td>Mon, 14 Dec 2020</td> <th>  Prob (F-statistic):</th> <td>9.72e-248</td>\n</tr>\n<tr>\n  <th>Time:</th>                 <td>22:52:36</td>     <th>  Log-Likelihood:    </th> <td> -63847.</td> \n</tr>\n<tr>\n  <th>No. Observations:</th>      <td>  3364</td>      <th>  AIC:               </th> <td>1.277e+05</td>\n</tr>\n<tr>\n  <th>Df Residuals:</th>          <td>  3362</td>      <th>  BIC:               </th> <td>1.277e+05</td>\n</tr>\n<tr>\n  <th>Df Model:</th>              <td>     1</td>      <th>                     </th>     <td> </td>    \n</tr>\n<tr>\n  <th>Covariance Type:</th>      <td>nonrobust</td>    <th>                     </th>     <td> </td>    \n</tr>\n</table>\n<table class=\"simpletable\">\n<tr>\n      <td></td>         <th>coef</th>     <th>std err</th>      <th>t</th>      <th>P>|t|</th>  <th>[0.025</th>    <th>0.975]</th>  \n</tr>\n<tr>\n  <th>Intercept</th> <td> 2.236e+07</td> <td> 1.04e+06</td> <td>   21.554</td> <td> 0.000</td> <td> 2.03e+07</td> <td> 2.44e+07</td>\n</tr>\n<tr>\n  <th>budget</th>    <td>    0.6673</td> <td>    0.018</td> <td>   36.652</td> <td> 0.000</td> <td>    0.632</td> <td>    0.703</td>\n</tr>\n</table>\n<table class=\"simpletable\">\n<tr>\n  <th>Omnibus:</th>       <td>822.253</td> <th>  Durbin-Watson:     </th> <td>   1.108</td>\n</tr>\n<tr>\n  <th>Prob(Omnibus):</th> <td> 0.000</td>  <th>  Jarque-Bera (JB):  </th> <td>5393.888</td>\n</tr>\n<tr>\n  <th>Skew:</th>          <td> 0.996</td>  <th>  Prob(JB):          </th> <td>    0.00</td>\n</tr>\n<tr>\n  <th>Kurtosis:</th>      <td> 8.875</td>  <th>  Cond. No.          </th> <td>8.10e+07</td>\n</tr>\n</table><br/><br/>Notes:<br/>[1] Standard Errors assume that the covariance matrix of the errors is correctly specified.<br/>[2] The condition number is large, 8.1e+07. This might indicate that there are<br/>strong multicollinearity or other numerical problems."
          },
          "metadata": {},
          "execution_count": 45
        }
      ]
    },
    {
      "cell_type": "code",
      "metadata": {
        "colab": {
          "base_uri": "https://localhost:8080/",
          "height": 290
        },
        "id": "3eFzEo22pUq3",
        "outputId": "d678f376-4301-444d-99c5-7ac752cba4e8"
      },
      "source": [
        "#X_new = pd.DataFrame({'budget': [df2.budget.min(), df2.budget.max()]})\n",
        "#preds = model.predict(X_new)\n",
        "#df2.plot(kind='scatter', x='budget', y='gross')\n",
        "#plt.plot(X_new, preds, c='red', linewidth=2)\n",
        "#plt.show()\n",
        "#plt.savefig('gross_budget_scatter.png')"
      ],
      "execution_count": 51,
      "outputs": []
    },
    {
      "source": [
        "<img src=\"images/gross_budget_scatter.png\">"
      ],
      "cell_type": "markdown",
      "metadata": {}
    },
    {
      "cell_type": "code",
      "metadata": {
        "colab": {
          "base_uri": "https://localhost:8080/",
          "height": 585
        },
        "id": "LcRdl62wqohX",
        "outputId": "4b691d27-ca6a-461a-9715-1520f13d0a8d"
      },
      "source": [
        "#fig = plt.figure(figsize=(15,8))\n",
        "#fig = sm.graphics.plot_regress_exog(model, 'budget', fig=fig)\n",
        "#plt.show()\n",
        "#plt.savefig('budget_regression_plots.png')"
      ],
      "execution_count": 52,
      "outputs": []
    },
    {
      "source": [
        "<img src=\"images/budget_regression_plots.png\">"
      ],
      "cell_type": "markdown",
      "metadata": {}
    },
    {
      "cell_type": "code",
      "metadata": {
        "colab": {
          "base_uri": "https://localhost:8080/",
          "height": 279
        },
        "id": "S-3dX7p6rY3T",
        "outputId": "19c6bbbf-7f89-444e-9ebd-46327dadbe03"
      },
      "source": [
        "#Q-Q plot for normality check\n",
        "\n",
        "#import scipy.stats as stats\n",
        "#residuals = model.resid\n",
        "#fig = sm.graphics.qqplot(residuals, dist=stats.norm, line='45', fit=True)\n",
        "#fig.show()"
      ],
      "execution_count": 53,
      "outputs": []
    },
    {
      "source": [
        "<img src=\"images/qqplot.png\">"
      ],
      "cell_type": "markdown",
      "metadata": {}
    },
    {
      "cell_type": "code",
      "metadata": {
        "colab": {
          "base_uri": "https://localhost:8080/",
          "height": 297
        },
        "id": "XUWYEuD7gn23",
        "outputId": "e6b23028-8464-444a-d21f-406cd85a5636"
      },
      "source": [
        "df2.describe()"
      ],
      "execution_count": 54,
      "outputs": [
        {
          "output_type": "execute_result",
          "data": {
            "text/plain": [
              "              gross        budget    years_old   imdb_score  act1_fb_likes  \\\n",
              "count  3.364000e+03  3.364000e+03  3364.000000  3364.000000    3364.000000   \n",
              "mean   4.939170e+07  4.050710e+07    17.714625     6.431243    7815.939358   \n",
              "std    5.006370e+07  4.008784e+07     9.339725     1.057748   15421.387195   \n",
              "min    1.007535e+06  1.100000e+06     5.000000     1.600000       0.000000   \n",
              "25%    1.304922e+07  1.400000e+07    11.000000     5.800000     788.750000   \n",
              "50%    3.304305e+07  3.000000e+07    16.000000     6.500000    1000.000000   \n",
              "75%    6.767926e+07  5.500000e+07    22.000000     7.200000   13000.000000   \n",
              "max    2.515016e+08  6.000000e+08    84.000000     9.300000  640000.000000   \n",
              "\n",
              "       cast_fb_likes  \n",
              "count     3364.00000  \n",
              "mean     11507.00327  \n",
              "std      18677.06208  \n",
              "min          0.00000  \n",
              "25%       2072.50000  \n",
              "50%       4288.50000  \n",
              "75%      16454.25000  \n",
              "max     656730.00000  "
            ],
            "text/html": "<div>\n<style scoped>\n    .dataframe tbody tr th:only-of-type {\n        vertical-align: middle;\n    }\n\n    .dataframe tbody tr th {\n        vertical-align: top;\n    }\n\n    .dataframe thead th {\n        text-align: right;\n    }\n</style>\n<table border=\"1\" class=\"dataframe\">\n  <thead>\n    <tr style=\"text-align: right;\">\n      <th></th>\n      <th>gross</th>\n      <th>budget</th>\n      <th>years_old</th>\n      <th>imdb_score</th>\n      <th>act1_fb_likes</th>\n      <th>cast_fb_likes</th>\n    </tr>\n  </thead>\n  <tbody>\n    <tr>\n      <th>count</th>\n      <td>3.364000e+03</td>\n      <td>3.364000e+03</td>\n      <td>3364.000000</td>\n      <td>3364.000000</td>\n      <td>3364.000000</td>\n      <td>3364.00000</td>\n    </tr>\n    <tr>\n      <th>mean</th>\n      <td>4.939170e+07</td>\n      <td>4.050710e+07</td>\n      <td>17.714625</td>\n      <td>6.431243</td>\n      <td>7815.939358</td>\n      <td>11507.00327</td>\n    </tr>\n    <tr>\n      <th>std</th>\n      <td>5.006370e+07</td>\n      <td>4.008784e+07</td>\n      <td>9.339725</td>\n      <td>1.057748</td>\n      <td>15421.387195</td>\n      <td>18677.06208</td>\n    </tr>\n    <tr>\n      <th>min</th>\n      <td>1.007535e+06</td>\n      <td>1.100000e+06</td>\n      <td>5.000000</td>\n      <td>1.600000</td>\n      <td>0.000000</td>\n      <td>0.00000</td>\n    </tr>\n    <tr>\n      <th>25%</th>\n      <td>1.304922e+07</td>\n      <td>1.400000e+07</td>\n      <td>11.000000</td>\n      <td>5.800000</td>\n      <td>788.750000</td>\n      <td>2072.50000</td>\n    </tr>\n    <tr>\n      <th>50%</th>\n      <td>3.304305e+07</td>\n      <td>3.000000e+07</td>\n      <td>16.000000</td>\n      <td>6.500000</td>\n      <td>1000.000000</td>\n      <td>4288.50000</td>\n    </tr>\n    <tr>\n      <th>75%</th>\n      <td>6.767926e+07</td>\n      <td>5.500000e+07</td>\n      <td>22.000000</td>\n      <td>7.200000</td>\n      <td>13000.000000</td>\n      <td>16454.25000</td>\n    </tr>\n    <tr>\n      <th>max</th>\n      <td>2.515016e+08</td>\n      <td>6.000000e+08</td>\n      <td>84.000000</td>\n      <td>9.300000</td>\n      <td>640000.000000</td>\n      <td>656730.00000</td>\n    </tr>\n  </tbody>\n</table>\n</div>"
          },
          "metadata": {},
          "execution_count": 54
        }
      ]
    },
    {
      "cell_type": "code",
      "metadata": {
        "colab": {
          "base_uri": "https://localhost:8080/",
          "height": 400
        },
        "id": "XLLaHOI7gn9W",
        "outputId": "c5b18ea9-7b52-481b-9415-91d961000e8c"
      },
      "source": [
        "#testing for linearity assumption\n",
        "# fig, axs= plt.subplots(1,5, sharey=True, figsize=(18,6))\n",
        "#for idx, channel in enumerate(['budget', 'imdb_score', 'years_old', 'act1_fb_likes', 'cast_fb_likes']):\n",
        "#    df2.plot(kind='scatter', x=channel, y='gross', ax=axs[idx], label=channel)\n",
        "#plt.legend()\n",
        "#plt.show()"
      ],
      "execution_count": 57,
      "outputs": []
    },
    {
      "source": [
        "<img src=\"images/linearity.png\">"
      ],
      "cell_type": "markdown",
      "metadata": {}
    },
    {
      "cell_type": "code",
      "metadata": {
        "colab": {
          "base_uri": "https://localhost:8080/",
          "height": 654
        },
        "id": "EZNGICYWlAyp",
        "outputId": "3f5f5df9-b876-4b48-b342-ad5f597c96c0"
      },
      "source": [
        "#Using Pearson Correlation\n",
        "#plt.figure(figsize=(12,10))\n",
        "#cor = df2.corr()\n",
        "#sns.heatmap(cor, annot=True, cmap=plt.cm.Reds)\n",
        "#plt.show()"
      ],
      "execution_count": 59,
      "outputs": []
    },
    {
      "source": [
        "<img src=\"images/corrmap2.png\">"
      ],
      "cell_type": "markdown",
      "metadata": {}
    },
    {
      "cell_type": "code",
      "metadata": {
        "id": "wRmcnL586CVJ"
      },
      "source": [
        "df2 = df2.drop(columns=['cast_fb_likes'])"
      ],
      "execution_count": 60,
      "outputs": []
    },
    {
      "cell_type": "code",
      "metadata": {
        "id": "gY3CD4iB0LuU",
        "colab": {
          "base_uri": "https://localhost:8080/",
          "height": 920
        },
        "outputId": "214c4204-3548-4c77-dbfc-87befb58444d"
      },
      "source": [
        "# sns.pairplot(df2, kind='reg')"
      ],
      "execution_count": 61,
      "outputs": []
    },
    {
      "source": [
        "<img src=\"images/pairplot.png\">"
      ],
      "cell_type": "markdown",
      "metadata": {}
    },
    {
      "cell_type": "code",
      "metadata": {
        "id": "_ozL1ZHw0LuU",
        "colab": {
          "base_uri": "https://localhost:8080/",
          "height": 998
        },
        "outputId": "ab7f8efd-d099-44d3-9813-f45e5612e4aa"
      },
      "source": [
        "#df2.hist(figsize=(18,15), bins='auto')"
      ],
      "execution_count": 62,
      "outputs": []
    },
    {
      "source": [
        "<img src=\"images/histplots.png\">"
      ],
      "cell_type": "markdown",
      "metadata": {}
    },
    {
      "cell_type": "code",
      "metadata": {
        "colab": {
          "base_uri": "https://localhost:8080/",
          "height": 409
        },
        "id": "ZrLAmTknu0Ef",
        "outputId": "44d1b399-426f-4eeb-8c8c-5d76d6d752ec"
      },
      "source": [
        "# Run a simple OLS regression between indepedent and dependent variables\n",
        "# Plot the residuals using sm.graphics.plot_regress_exog()\n",
        "# Plot a Q-Q plot for regression residuals normality test\n",
        "results=[]\n",
        "f = f'gross~{column}'\n",
        "for idx, column in enumerate(data.columns):\n",
        "    model = smf.ols(formula=f, data=df2).fit()\n",
        "\n",
        "    fig,axes = plt.subplots(figsize=(15,12))\n",
        "    fig = sm.graphics.plot_regress_exog(model, column, fig=fig)\n",
        "    fig = sm.graphics.qqplot(model.resid, dist=scs.norm, line='45', fit=True)\n",
        "    fig.tight_layout()\n",
        "    plt.show()\n",
        "\n",
        "    # Store following values in array for each iteration: independent variable, r_squared, intercept, slope, p-value, normality (JB)\n",
        "    results.append([column, model.rsquared, model.params[0], model.params[1], model.pvalues[1], sms.jarque_bera(model.resid)[0]])"
      ],
      "execution_count": 63,
      "outputs": [
        {
          "output_type": "error",
          "ename": "NameError",
          "evalue": "name 'column' is not defined",
          "traceback": [
            "\u001b[0;31m---------------------------------------------------------------------------\u001b[0m",
            "\u001b[0;31mNameError\u001b[0m                                 Traceback (most recent call last)",
            "\u001b[0;32m<ipython-input-63-68796ca4e6cc>\u001b[0m in \u001b[0;36m<module>\u001b[0;34m()\u001b[0m\n\u001b[1;32m      3\u001b[0m \u001b[0;31m# Plot a Q-Q plot for regression residuals normality test\u001b[0m\u001b[0;34m\u001b[0m\u001b[0;34m\u001b[0m\u001b[0;34m\u001b[0m\u001b[0m\n\u001b[1;32m      4\u001b[0m \u001b[0mresults\u001b[0m\u001b[0;34m=\u001b[0m\u001b[0;34m[\u001b[0m\u001b[0;34m]\u001b[0m\u001b[0;34m\u001b[0m\u001b[0;34m\u001b[0m\u001b[0m\n\u001b[0;32m----> 5\u001b[0;31m \u001b[0mf\u001b[0m \u001b[0;34m=\u001b[0m \u001b[0;34mf'gross~{column}'\u001b[0m\u001b[0;34m\u001b[0m\u001b[0;34m\u001b[0m\u001b[0m\n\u001b[0m\u001b[1;32m      6\u001b[0m \u001b[0;32mfor\u001b[0m \u001b[0midx\u001b[0m\u001b[0;34m,\u001b[0m \u001b[0mcolumn\u001b[0m \u001b[0;32min\u001b[0m \u001b[0menumerate\u001b[0m\u001b[0;34m(\u001b[0m\u001b[0mdata\u001b[0m\u001b[0;34m.\u001b[0m\u001b[0mcolumns\u001b[0m\u001b[0;34m)\u001b[0m\u001b[0;34m:\u001b[0m\u001b[0;34m\u001b[0m\u001b[0;34m\u001b[0m\u001b[0m\n\u001b[1;32m      7\u001b[0m     \u001b[0mmodel\u001b[0m \u001b[0;34m=\u001b[0m \u001b[0msmf\u001b[0m\u001b[0;34m.\u001b[0m\u001b[0mols\u001b[0m\u001b[0;34m(\u001b[0m\u001b[0mformula\u001b[0m\u001b[0;34m=\u001b[0m\u001b[0mf\u001b[0m\u001b[0;34m,\u001b[0m \u001b[0mdata\u001b[0m\u001b[0;34m=\u001b[0m\u001b[0mdf2\u001b[0m\u001b[0;34m)\u001b[0m\u001b[0;34m.\u001b[0m\u001b[0mfit\u001b[0m\u001b[0;34m(\u001b[0m\u001b[0;34m)\u001b[0m\u001b[0;34m\u001b[0m\u001b[0;34m\u001b[0m\u001b[0m\n",
            "\u001b[0;31mNameError\u001b[0m: name 'column' is not defined"
          ]
        }
      ]
    },
    {
      "cell_type": "code",
      "metadata": {
        "id": "9DXHUhvMuzv3"
      },
      "source": [],
      "execution_count": null,
      "outputs": []
    },
    {
      "cell_type": "code",
      "metadata": {
        "id": "MPCr57diwtqQ"
      },
      "source": [
        "pd.DataFrame(results, coluns=['ind_var', 'r_squared', 'intercept', 'slope', 'p-value', 'normality (JB)'])"
      ],
      "execution_count": 64,
      "outputs": [
        {
          "output_type": "error",
          "ename": "TypeError",
          "evalue": "__init__() got an unexpected keyword argument 'coluns'",
          "traceback": [
            "\u001b[0;31m---------------------------------------------------------------------------\u001b[0m",
            "\u001b[0;31mTypeError\u001b[0m                                 Traceback (most recent call last)",
            "\u001b[0;32m<ipython-input-64-d1490c58ef4b>\u001b[0m in \u001b[0;36m<module>\u001b[0;34m()\u001b[0m\n\u001b[0;32m----> 1\u001b[0;31m \u001b[0mpd\u001b[0m\u001b[0;34m.\u001b[0m\u001b[0mDataFrame\u001b[0m\u001b[0;34m(\u001b[0m\u001b[0mresults\u001b[0m\u001b[0;34m,\u001b[0m \u001b[0mcoluns\u001b[0m\u001b[0;34m=\u001b[0m\u001b[0;34m[\u001b[0m\u001b[0;34m'ind_var'\u001b[0m\u001b[0;34m,\u001b[0m \u001b[0;34m'r_squared'\u001b[0m\u001b[0;34m,\u001b[0m \u001b[0;34m'intercept'\u001b[0m\u001b[0;34m,\u001b[0m \u001b[0;34m'slope'\u001b[0m\u001b[0;34m,\u001b[0m \u001b[0;34m'p-value'\u001b[0m\u001b[0;34m,\u001b[0m \u001b[0;34m'normality (JB)'\u001b[0m\u001b[0;34m]\u001b[0m\u001b[0;34m)\u001b[0m\u001b[0;34m\u001b[0m\u001b[0;34m\u001b[0m\u001b[0m\n\u001b[0m",
            "\u001b[0;31mTypeError\u001b[0m: __init__() got an unexpected keyword argument 'coluns'"
          ]
        }
      ]
    },
    {
      "cell_type": "code",
      "metadata": {
        "id": "-xGsQB890LuU"
      },
      "source": [
        "# Your code here \n",
        "fig, axes = plt.subplots(nrows=2, ncols=4, figsize=(16,15))\n",
        "\n",
        "for xcol, ax in zip(['genres', 'rating'], axes):\n",
        "    df2.plot(kind='scatter', x=xcol, y='gross', ax=ax, alpha=0.4, color='b')\n",
        "    ax.set_title(f'Gross vs {column}')\n",
        "    ax.set_xlabel(column)\n",
        "    ax.set_ylabel('Gross in $1,000,000')\n",
        "fig.tight_layout()"
      ],
      "execution_count": 65,
      "outputs": [
        {
          "output_type": "error",
          "ename": "KeyError",
          "evalue": "'genres'",
          "traceback": [
            "\u001b[0;31m---------------------------------------------------------------------------\u001b[0m",
            "\u001b[0;31mKeyError\u001b[0m                                  Traceback (most recent call last)",
            "\u001b[0;32m/Users/examsherpa/opt/anaconda3/envs/learn-env/lib/python3.6/site-packages/pandas/core/indexes/base.py\u001b[0m in \u001b[0;36mget_loc\u001b[0;34m(self, key, method, tolerance)\u001b[0m\n\u001b[1;32m   2896\u001b[0m             \u001b[0;32mtry\u001b[0m\u001b[0;34m:\u001b[0m\u001b[0;34m\u001b[0m\u001b[0;34m\u001b[0m\u001b[0m\n\u001b[0;32m-> 2897\u001b[0;31m                 \u001b[0;32mreturn\u001b[0m \u001b[0mself\u001b[0m\u001b[0;34m.\u001b[0m\u001b[0m_engine\u001b[0m\u001b[0;34m.\u001b[0m\u001b[0mget_loc\u001b[0m\u001b[0;34m(\u001b[0m\u001b[0mkey\u001b[0m\u001b[0;34m)\u001b[0m\u001b[0;34m\u001b[0m\u001b[0;34m\u001b[0m\u001b[0m\n\u001b[0m\u001b[1;32m   2898\u001b[0m             \u001b[0;32mexcept\u001b[0m \u001b[0mKeyError\u001b[0m\u001b[0;34m:\u001b[0m\u001b[0;34m\u001b[0m\u001b[0;34m\u001b[0m\u001b[0m\n",
            "\u001b[0;32mpandas/_libs/index.pyx\u001b[0m in \u001b[0;36mpandas._libs.index.IndexEngine.get_loc\u001b[0;34m()\u001b[0m\n",
            "\u001b[0;32mpandas/_libs/index.pyx\u001b[0m in \u001b[0;36mpandas._libs.index.IndexEngine.get_loc\u001b[0;34m()\u001b[0m\n",
            "\u001b[0;32mpandas/_libs/hashtable_class_helper.pxi\u001b[0m in \u001b[0;36mpandas._libs.hashtable.PyObjectHashTable.get_item\u001b[0;34m()\u001b[0m\n",
            "\u001b[0;32mpandas/_libs/hashtable_class_helper.pxi\u001b[0m in \u001b[0;36mpandas._libs.hashtable.PyObjectHashTable.get_item\u001b[0;34m()\u001b[0m\n",
            "\u001b[0;31mKeyError\u001b[0m: 'genres'",
            "\nDuring handling of the above exception, another exception occurred:\n",
            "\u001b[0;31mKeyError\u001b[0m                                  Traceback (most recent call last)",
            "\u001b[0;32m<ipython-input-65-2d8b70e8adf2>\u001b[0m in \u001b[0;36m<module>\u001b[0;34m()\u001b[0m\n\u001b[1;32m      3\u001b[0m \u001b[0;34m\u001b[0m\u001b[0m\n\u001b[1;32m      4\u001b[0m \u001b[0;32mfor\u001b[0m \u001b[0mxcol\u001b[0m\u001b[0;34m,\u001b[0m \u001b[0max\u001b[0m \u001b[0;32min\u001b[0m \u001b[0mzip\u001b[0m\u001b[0;34m(\u001b[0m\u001b[0;34m[\u001b[0m\u001b[0;34m'genres'\u001b[0m\u001b[0;34m,\u001b[0m \u001b[0;34m'rating'\u001b[0m\u001b[0;34m]\u001b[0m\u001b[0;34m,\u001b[0m \u001b[0maxes\u001b[0m\u001b[0;34m)\u001b[0m\u001b[0;34m:\u001b[0m\u001b[0;34m\u001b[0m\u001b[0;34m\u001b[0m\u001b[0m\n\u001b[0;32m----> 5\u001b[0;31m     \u001b[0mdf2\u001b[0m\u001b[0;34m.\u001b[0m\u001b[0mplot\u001b[0m\u001b[0;34m(\u001b[0m\u001b[0mkind\u001b[0m\u001b[0;34m=\u001b[0m\u001b[0;34m'scatter'\u001b[0m\u001b[0;34m,\u001b[0m \u001b[0mx\u001b[0m\u001b[0;34m=\u001b[0m\u001b[0mxcol\u001b[0m\u001b[0;34m,\u001b[0m \u001b[0my\u001b[0m\u001b[0;34m=\u001b[0m\u001b[0;34m'gross'\u001b[0m\u001b[0;34m,\u001b[0m \u001b[0max\u001b[0m\u001b[0;34m=\u001b[0m\u001b[0max\u001b[0m\u001b[0;34m,\u001b[0m \u001b[0malpha\u001b[0m\u001b[0;34m=\u001b[0m\u001b[0;36m0.4\u001b[0m\u001b[0;34m,\u001b[0m \u001b[0mcolor\u001b[0m\u001b[0;34m=\u001b[0m\u001b[0;34m'b'\u001b[0m\u001b[0;34m)\u001b[0m\u001b[0;34m\u001b[0m\u001b[0;34m\u001b[0m\u001b[0m\n\u001b[0m\u001b[1;32m      6\u001b[0m     \u001b[0max\u001b[0m\u001b[0;34m.\u001b[0m\u001b[0mset_title\u001b[0m\u001b[0;34m(\u001b[0m\u001b[0;34mf'Gross vs {column}'\u001b[0m\u001b[0;34m)\u001b[0m\u001b[0;34m\u001b[0m\u001b[0;34m\u001b[0m\u001b[0m\n\u001b[1;32m      7\u001b[0m     \u001b[0max\u001b[0m\u001b[0;34m.\u001b[0m\u001b[0mset_xlabel\u001b[0m\u001b[0;34m(\u001b[0m\u001b[0mcolumn\u001b[0m\u001b[0;34m)\u001b[0m\u001b[0;34m\u001b[0m\u001b[0;34m\u001b[0m\u001b[0m\n",
            "\u001b[0;32m/Users/examsherpa/opt/anaconda3/envs/learn-env/lib/python3.6/site-packages/pandas/plotting/_core.py\u001b[0m in \u001b[0;36m__call__\u001b[0;34m(self, *args, **kwargs)\u001b[0m\n\u001b[1;32m    736\u001b[0m         \u001b[0;32mif\u001b[0m \u001b[0mkind\u001b[0m \u001b[0;32min\u001b[0m \u001b[0mself\u001b[0m\u001b[0;34m.\u001b[0m\u001b[0m_dataframe_kinds\u001b[0m\u001b[0;34m:\u001b[0m\u001b[0;34m\u001b[0m\u001b[0;34m\u001b[0m\u001b[0m\n\u001b[1;32m    737\u001b[0m             \u001b[0;32mif\u001b[0m \u001b[0misinstance\u001b[0m\u001b[0;34m(\u001b[0m\u001b[0mdata\u001b[0m\u001b[0;34m,\u001b[0m \u001b[0mABCDataFrame\u001b[0m\u001b[0;34m)\u001b[0m\u001b[0;34m:\u001b[0m\u001b[0;34m\u001b[0m\u001b[0;34m\u001b[0m\u001b[0m\n\u001b[0;32m--> 738\u001b[0;31m                 \u001b[0;32mreturn\u001b[0m \u001b[0mplot_backend\u001b[0m\u001b[0;34m.\u001b[0m\u001b[0mplot\u001b[0m\u001b[0;34m(\u001b[0m\u001b[0mdata\u001b[0m\u001b[0;34m,\u001b[0m \u001b[0mx\u001b[0m\u001b[0;34m=\u001b[0m\u001b[0mx\u001b[0m\u001b[0;34m,\u001b[0m \u001b[0my\u001b[0m\u001b[0;34m=\u001b[0m\u001b[0my\u001b[0m\u001b[0;34m,\u001b[0m \u001b[0mkind\u001b[0m\u001b[0;34m=\u001b[0m\u001b[0mkind\u001b[0m\u001b[0;34m,\u001b[0m \u001b[0;34m**\u001b[0m\u001b[0mkwargs\u001b[0m\u001b[0;34m)\u001b[0m\u001b[0;34m\u001b[0m\u001b[0;34m\u001b[0m\u001b[0m\n\u001b[0m\u001b[1;32m    739\u001b[0m             \u001b[0;32melse\u001b[0m\u001b[0;34m:\u001b[0m\u001b[0;34m\u001b[0m\u001b[0;34m\u001b[0m\u001b[0m\n\u001b[1;32m    740\u001b[0m                 raise ValueError(\n",
            "\u001b[0;32m/Users/examsherpa/opt/anaconda3/envs/learn-env/lib/python3.6/site-packages/pandas/plotting/_matplotlib/__init__.py\u001b[0m in \u001b[0;36mplot\u001b[0;34m(data, kind, **kwargs)\u001b[0m\n\u001b[1;32m     59\u001b[0m                 \u001b[0max\u001b[0m \u001b[0;34m=\u001b[0m \u001b[0mplt\u001b[0m\u001b[0;34m.\u001b[0m\u001b[0mgca\u001b[0m\u001b[0;34m(\u001b[0m\u001b[0;34m)\u001b[0m\u001b[0;34m\u001b[0m\u001b[0;34m\u001b[0m\u001b[0m\n\u001b[1;32m     60\u001b[0m             \u001b[0mkwargs\u001b[0m\u001b[0;34m[\u001b[0m\u001b[0;34m\"ax\"\u001b[0m\u001b[0;34m]\u001b[0m \u001b[0;34m=\u001b[0m \u001b[0mgetattr\u001b[0m\u001b[0;34m(\u001b[0m\u001b[0max\u001b[0m\u001b[0;34m,\u001b[0m \u001b[0;34m\"left_ax\"\u001b[0m\u001b[0;34m,\u001b[0m \u001b[0max\u001b[0m\u001b[0;34m)\u001b[0m\u001b[0;34m\u001b[0m\u001b[0;34m\u001b[0m\u001b[0m\n\u001b[0;32m---> 61\u001b[0;31m     \u001b[0mplot_obj\u001b[0m \u001b[0;34m=\u001b[0m \u001b[0mPLOT_CLASSES\u001b[0m\u001b[0;34m[\u001b[0m\u001b[0mkind\u001b[0m\u001b[0;34m]\u001b[0m\u001b[0;34m(\u001b[0m\u001b[0mdata\u001b[0m\u001b[0;34m,\u001b[0m \u001b[0;34m**\u001b[0m\u001b[0mkwargs\u001b[0m\u001b[0;34m)\u001b[0m\u001b[0;34m\u001b[0m\u001b[0;34m\u001b[0m\u001b[0m\n\u001b[0m\u001b[1;32m     62\u001b[0m     \u001b[0mplot_obj\u001b[0m\u001b[0;34m.\u001b[0m\u001b[0mgenerate\u001b[0m\u001b[0;34m(\u001b[0m\u001b[0;34m)\u001b[0m\u001b[0;34m\u001b[0m\u001b[0;34m\u001b[0m\u001b[0m\n\u001b[1;32m     63\u001b[0m     \u001b[0mplot_obj\u001b[0m\u001b[0;34m.\u001b[0m\u001b[0mdraw\u001b[0m\u001b[0;34m(\u001b[0m\u001b[0;34m)\u001b[0m\u001b[0;34m\u001b[0m\u001b[0;34m\u001b[0m\u001b[0m\n",
            "\u001b[0;32m/Users/examsherpa/opt/anaconda3/envs/learn-env/lib/python3.6/site-packages/pandas/plotting/_matplotlib/core.py\u001b[0m in \u001b[0;36m__init__\u001b[0;34m(self, data, x, y, s, c, **kwargs)\u001b[0m\n\u001b[1;32m    928\u001b[0m             \u001b[0;31m# the handling of this argument later\u001b[0m\u001b[0;34m\u001b[0m\u001b[0;34m\u001b[0m\u001b[0;34m\u001b[0m\u001b[0m\n\u001b[1;32m    929\u001b[0m             \u001b[0ms\u001b[0m \u001b[0;34m=\u001b[0m \u001b[0;36m20\u001b[0m\u001b[0;34m\u001b[0m\u001b[0;34m\u001b[0m\u001b[0m\n\u001b[0;32m--> 930\u001b[0;31m         \u001b[0msuper\u001b[0m\u001b[0;34m(\u001b[0m\u001b[0;34m)\u001b[0m\u001b[0;34m.\u001b[0m\u001b[0m__init__\u001b[0m\u001b[0;34m(\u001b[0m\u001b[0mdata\u001b[0m\u001b[0;34m,\u001b[0m \u001b[0mx\u001b[0m\u001b[0;34m,\u001b[0m \u001b[0my\u001b[0m\u001b[0;34m,\u001b[0m \u001b[0ms\u001b[0m\u001b[0;34m=\u001b[0m\u001b[0ms\u001b[0m\u001b[0;34m,\u001b[0m \u001b[0;34m**\u001b[0m\u001b[0mkwargs\u001b[0m\u001b[0;34m)\u001b[0m\u001b[0;34m\u001b[0m\u001b[0;34m\u001b[0m\u001b[0m\n\u001b[0m\u001b[1;32m    931\u001b[0m         \u001b[0;32mif\u001b[0m \u001b[0mis_integer\u001b[0m\u001b[0;34m(\u001b[0m\u001b[0mc\u001b[0m\u001b[0;34m)\u001b[0m \u001b[0;32mand\u001b[0m \u001b[0;32mnot\u001b[0m \u001b[0mself\u001b[0m\u001b[0;34m.\u001b[0m\u001b[0mdata\u001b[0m\u001b[0;34m.\u001b[0m\u001b[0mcolumns\u001b[0m\u001b[0;34m.\u001b[0m\u001b[0mholds_integer\u001b[0m\u001b[0;34m(\u001b[0m\u001b[0;34m)\u001b[0m\u001b[0;34m:\u001b[0m\u001b[0;34m\u001b[0m\u001b[0;34m\u001b[0m\u001b[0m\n\u001b[1;32m    932\u001b[0m             \u001b[0mc\u001b[0m \u001b[0;34m=\u001b[0m \u001b[0mself\u001b[0m\u001b[0;34m.\u001b[0m\u001b[0mdata\u001b[0m\u001b[0;34m.\u001b[0m\u001b[0mcolumns\u001b[0m\u001b[0;34m[\u001b[0m\u001b[0mc\u001b[0m\u001b[0;34m]\u001b[0m\u001b[0;34m\u001b[0m\u001b[0;34m\u001b[0m\u001b[0m\n",
            "\u001b[0;32m/Users/examsherpa/opt/anaconda3/envs/learn-env/lib/python3.6/site-packages/pandas/plotting/_matplotlib/core.py\u001b[0m in \u001b[0;36m__init__\u001b[0;34m(self, data, x, y, **kwargs)\u001b[0m\n\u001b[1;32m    867\u001b[0m         \u001b[0;32mif\u001b[0m \u001b[0mis_integer\u001b[0m\u001b[0;34m(\u001b[0m\u001b[0my\u001b[0m\u001b[0;34m)\u001b[0m \u001b[0;32mand\u001b[0m \u001b[0;32mnot\u001b[0m \u001b[0mself\u001b[0m\u001b[0;34m.\u001b[0m\u001b[0mdata\u001b[0m\u001b[0;34m.\u001b[0m\u001b[0mcolumns\u001b[0m\u001b[0;34m.\u001b[0m\u001b[0mholds_integer\u001b[0m\u001b[0;34m(\u001b[0m\u001b[0;34m)\u001b[0m\u001b[0;34m:\u001b[0m\u001b[0;34m\u001b[0m\u001b[0;34m\u001b[0m\u001b[0m\n\u001b[1;32m    868\u001b[0m             \u001b[0my\u001b[0m \u001b[0;34m=\u001b[0m \u001b[0mself\u001b[0m\u001b[0;34m.\u001b[0m\u001b[0mdata\u001b[0m\u001b[0;34m.\u001b[0m\u001b[0mcolumns\u001b[0m\u001b[0;34m[\u001b[0m\u001b[0my\u001b[0m\u001b[0;34m]\u001b[0m\u001b[0;34m\u001b[0m\u001b[0;34m\u001b[0m\u001b[0m\n\u001b[0;32m--> 869\u001b[0;31m         \u001b[0;32mif\u001b[0m \u001b[0mlen\u001b[0m\u001b[0;34m(\u001b[0m\u001b[0mself\u001b[0m\u001b[0;34m.\u001b[0m\u001b[0mdata\u001b[0m\u001b[0;34m[\u001b[0m\u001b[0mx\u001b[0m\u001b[0;34m]\u001b[0m\u001b[0;34m.\u001b[0m\u001b[0m_get_numeric_data\u001b[0m\u001b[0;34m(\u001b[0m\u001b[0;34m)\u001b[0m\u001b[0;34m)\u001b[0m \u001b[0;34m==\u001b[0m \u001b[0;36m0\u001b[0m\u001b[0;34m:\u001b[0m\u001b[0;34m\u001b[0m\u001b[0;34m\u001b[0m\u001b[0m\n\u001b[0m\u001b[1;32m    870\u001b[0m             \u001b[0;32mraise\u001b[0m \u001b[0mValueError\u001b[0m\u001b[0;34m(\u001b[0m\u001b[0mself\u001b[0m\u001b[0;34m.\u001b[0m\u001b[0m_kind\u001b[0m \u001b[0;34m+\u001b[0m \u001b[0;34m\" requires x column to be numeric\"\u001b[0m\u001b[0;34m)\u001b[0m\u001b[0;34m\u001b[0m\u001b[0;34m\u001b[0m\u001b[0m\n\u001b[1;32m    871\u001b[0m         \u001b[0;32mif\u001b[0m \u001b[0mlen\u001b[0m\u001b[0;34m(\u001b[0m\u001b[0mself\u001b[0m\u001b[0;34m.\u001b[0m\u001b[0mdata\u001b[0m\u001b[0;34m[\u001b[0m\u001b[0my\u001b[0m\u001b[0;34m]\u001b[0m\u001b[0;34m.\u001b[0m\u001b[0m_get_numeric_data\u001b[0m\u001b[0;34m(\u001b[0m\u001b[0;34m)\u001b[0m\u001b[0;34m)\u001b[0m \u001b[0;34m==\u001b[0m \u001b[0;36m0\u001b[0m\u001b[0;34m:\u001b[0m\u001b[0;34m\u001b[0m\u001b[0;34m\u001b[0m\u001b[0m\n",
            "\u001b[0;32m/Users/examsherpa/opt/anaconda3/envs/learn-env/lib/python3.6/site-packages/pandas/core/frame.py\u001b[0m in \u001b[0;36m__getitem__\u001b[0;34m(self, key)\u001b[0m\n\u001b[1;32m   2993\u001b[0m             \u001b[0;32mif\u001b[0m \u001b[0mself\u001b[0m\u001b[0;34m.\u001b[0m\u001b[0mcolumns\u001b[0m\u001b[0;34m.\u001b[0m\u001b[0mnlevels\u001b[0m \u001b[0;34m>\u001b[0m \u001b[0;36m1\u001b[0m\u001b[0;34m:\u001b[0m\u001b[0;34m\u001b[0m\u001b[0;34m\u001b[0m\u001b[0m\n\u001b[1;32m   2994\u001b[0m                 \u001b[0;32mreturn\u001b[0m \u001b[0mself\u001b[0m\u001b[0;34m.\u001b[0m\u001b[0m_getitem_multilevel\u001b[0m\u001b[0;34m(\u001b[0m\u001b[0mkey\u001b[0m\u001b[0;34m)\u001b[0m\u001b[0;34m\u001b[0m\u001b[0;34m\u001b[0m\u001b[0m\n\u001b[0;32m-> 2995\u001b[0;31m             \u001b[0mindexer\u001b[0m \u001b[0;34m=\u001b[0m \u001b[0mself\u001b[0m\u001b[0;34m.\u001b[0m\u001b[0mcolumns\u001b[0m\u001b[0;34m.\u001b[0m\u001b[0mget_loc\u001b[0m\u001b[0;34m(\u001b[0m\u001b[0mkey\u001b[0m\u001b[0;34m)\u001b[0m\u001b[0;34m\u001b[0m\u001b[0;34m\u001b[0m\u001b[0m\n\u001b[0m\u001b[1;32m   2996\u001b[0m             \u001b[0;32mif\u001b[0m \u001b[0mis_integer\u001b[0m\u001b[0;34m(\u001b[0m\u001b[0mindexer\u001b[0m\u001b[0;34m)\u001b[0m\u001b[0;34m:\u001b[0m\u001b[0;34m\u001b[0m\u001b[0;34m\u001b[0m\u001b[0m\n\u001b[1;32m   2997\u001b[0m                 \u001b[0mindexer\u001b[0m \u001b[0;34m=\u001b[0m \u001b[0;34m[\u001b[0m\u001b[0mindexer\u001b[0m\u001b[0;34m]\u001b[0m\u001b[0;34m\u001b[0m\u001b[0;34m\u001b[0m\u001b[0m\n",
            "\u001b[0;32m/Users/examsherpa/opt/anaconda3/envs/learn-env/lib/python3.6/site-packages/pandas/core/indexes/base.py\u001b[0m in \u001b[0;36mget_loc\u001b[0;34m(self, key, method, tolerance)\u001b[0m\n\u001b[1;32m   2897\u001b[0m                 \u001b[0;32mreturn\u001b[0m \u001b[0mself\u001b[0m\u001b[0;34m.\u001b[0m\u001b[0m_engine\u001b[0m\u001b[0;34m.\u001b[0m\u001b[0mget_loc\u001b[0m\u001b[0;34m(\u001b[0m\u001b[0mkey\u001b[0m\u001b[0;34m)\u001b[0m\u001b[0;34m\u001b[0m\u001b[0;34m\u001b[0m\u001b[0m\n\u001b[1;32m   2898\u001b[0m             \u001b[0;32mexcept\u001b[0m \u001b[0mKeyError\u001b[0m\u001b[0;34m:\u001b[0m\u001b[0;34m\u001b[0m\u001b[0;34m\u001b[0m\u001b[0m\n\u001b[0;32m-> 2899\u001b[0;31m                 \u001b[0;32mreturn\u001b[0m \u001b[0mself\u001b[0m\u001b[0;34m.\u001b[0m\u001b[0m_engine\u001b[0m\u001b[0;34m.\u001b[0m\u001b[0mget_loc\u001b[0m\u001b[0;34m(\u001b[0m\u001b[0mself\u001b[0m\u001b[0;34m.\u001b[0m\u001b[0m_maybe_cast_indexer\u001b[0m\u001b[0;34m(\u001b[0m\u001b[0mkey\u001b[0m\u001b[0;34m)\u001b[0m\u001b[0;34m)\u001b[0m\u001b[0;34m\u001b[0m\u001b[0;34m\u001b[0m\u001b[0m\n\u001b[0m\u001b[1;32m   2900\u001b[0m         \u001b[0mindexer\u001b[0m \u001b[0;34m=\u001b[0m \u001b[0mself\u001b[0m\u001b[0;34m.\u001b[0m\u001b[0mget_indexer\u001b[0m\u001b[0;34m(\u001b[0m\u001b[0;34m[\u001b[0m\u001b[0mkey\u001b[0m\u001b[0;34m]\u001b[0m\u001b[0;34m,\u001b[0m \u001b[0mmethod\u001b[0m\u001b[0;34m=\u001b[0m\u001b[0mmethod\u001b[0m\u001b[0;34m,\u001b[0m \u001b[0mtolerance\u001b[0m\u001b[0;34m=\u001b[0m\u001b[0mtolerance\u001b[0m\u001b[0;34m)\u001b[0m\u001b[0;34m\u001b[0m\u001b[0;34m\u001b[0m\u001b[0m\n\u001b[1;32m   2901\u001b[0m         \u001b[0;32mif\u001b[0m \u001b[0mindexer\u001b[0m\u001b[0;34m.\u001b[0m\u001b[0mndim\u001b[0m \u001b[0;34m>\u001b[0m \u001b[0;36m1\u001b[0m \u001b[0;32mor\u001b[0m \u001b[0mindexer\u001b[0m\u001b[0;34m.\u001b[0m\u001b[0msize\u001b[0m \u001b[0;34m>\u001b[0m \u001b[0;36m1\u001b[0m\u001b[0;34m:\u001b[0m\u001b[0;34m\u001b[0m\u001b[0;34m\u001b[0m\u001b[0m\n",
            "\u001b[0;32mpandas/_libs/index.pyx\u001b[0m in \u001b[0;36mpandas._libs.index.IndexEngine.get_loc\u001b[0;34m()\u001b[0m\n",
            "\u001b[0;32mpandas/_libs/index.pyx\u001b[0m in \u001b[0;36mpandas._libs.index.IndexEngine.get_loc\u001b[0;34m()\u001b[0m\n",
            "\u001b[0;32mpandas/_libs/hashtable_class_helper.pxi\u001b[0m in \u001b[0;36mpandas._libs.hashtable.PyObjectHashTable.get_item\u001b[0;34m()\u001b[0m\n",
            "\u001b[0;32mpandas/_libs/hashtable_class_helper.pxi\u001b[0m in \u001b[0;36mpandas._libs.hashtable.PyObjectHashTable.get_item\u001b[0;34m()\u001b[0m\n",
            "\u001b[0;31mKeyError\u001b[0m: 'genres'"
          ]
        }
      ]
    },
    {
      "cell_type": "code",
      "metadata": {
        "id": "apc_Y5eiHc7O"
      },
      "source": [
        "df3 = df2.copy()"
      ],
      "execution_count": 66,
      "outputs": []
    },
    {
      "cell_type": "code",
      "metadata": {
        "colab": {
          "base_uri": "https://localhost:8080/",
          "height": 204
        },
        "id": "yd-mFKtSH5Go",
        "outputId": "25c7070f-137b-4712-c30c-774b1bb2aae7"
      },
      "source": [
        "df2.head()"
      ],
      "execution_count": 67,
      "outputs": [
        {
          "output_type": "execute_result",
          "data": {
            "text/plain": [
              "          gross       budget  years_old    genre_0  imdb_score  act1_fb_likes  \\\n",
              "2   200074175.0  245000000.0        6.0     Action         6.8        11000.0   \n",
              "4    73058679.0  263700000.0        9.0     Action         6.6          640.0   \n",
              "6   200807262.0  260000000.0       11.0  Adventure         7.8          799.0   \n",
              "10  200069408.0  209000000.0       15.0     Action         6.1        18000.0   \n",
              "11  168368427.0  200000000.0       13.0     Action         6.7          451.0   \n",
              "\n",
              "   language rating  \n",
              "2   English  PG-13  \n",
              "4   English  PG-13  \n",
              "6   English     PG  \n",
              "10  English  PG-13  \n",
              "11  English  PG-13  "
            ],
            "text/html": "<div>\n<style scoped>\n    .dataframe tbody tr th:only-of-type {\n        vertical-align: middle;\n    }\n\n    .dataframe tbody tr th {\n        vertical-align: top;\n    }\n\n    .dataframe thead th {\n        text-align: right;\n    }\n</style>\n<table border=\"1\" class=\"dataframe\">\n  <thead>\n    <tr style=\"text-align: right;\">\n      <th></th>\n      <th>gross</th>\n      <th>budget</th>\n      <th>years_old</th>\n      <th>genre_0</th>\n      <th>imdb_score</th>\n      <th>act1_fb_likes</th>\n      <th>language</th>\n      <th>rating</th>\n    </tr>\n  </thead>\n  <tbody>\n    <tr>\n      <th>2</th>\n      <td>200074175.0</td>\n      <td>245000000.0</td>\n      <td>6.0</td>\n      <td>Action</td>\n      <td>6.8</td>\n      <td>11000.0</td>\n      <td>English</td>\n      <td>PG-13</td>\n    </tr>\n    <tr>\n      <th>4</th>\n      <td>73058679.0</td>\n      <td>263700000.0</td>\n      <td>9.0</td>\n      <td>Action</td>\n      <td>6.6</td>\n      <td>640.0</td>\n      <td>English</td>\n      <td>PG-13</td>\n    </tr>\n    <tr>\n      <th>6</th>\n      <td>200807262.0</td>\n      <td>260000000.0</td>\n      <td>11.0</td>\n      <td>Adventure</td>\n      <td>7.8</td>\n      <td>799.0</td>\n      <td>English</td>\n      <td>PG</td>\n    </tr>\n    <tr>\n      <th>10</th>\n      <td>200069408.0</td>\n      <td>209000000.0</td>\n      <td>15.0</td>\n      <td>Action</td>\n      <td>6.1</td>\n      <td>18000.0</td>\n      <td>English</td>\n      <td>PG-13</td>\n    </tr>\n    <tr>\n      <th>11</th>\n      <td>168368427.0</td>\n      <td>200000000.0</td>\n      <td>13.0</td>\n      <td>Action</td>\n      <td>6.7</td>\n      <td>451.0</td>\n      <td>English</td>\n      <td>PG-13</td>\n    </tr>\n  </tbody>\n</table>\n</div>"
          },
          "metadata": {},
          "execution_count": 67
        }
      ]
    },
    {
      "cell_type": "code",
      "metadata": {
        "id": "ZvwiSEAN0LuU",
        "colab": {
          "base_uri": "https://localhost:8080/",
          "height": 204
        },
        "outputId": "fd1afad7-3a47-45a6-da4c-8cd7231adea6"
      },
      "source": [
        "#exponential model\n",
        "df3['log_gross'] = np.log(df3.gross)\n",
        "#logarithmic model\n",
        "df3['log_budget'] = np.log(df3.budget)\n",
        "df3['log_act1_fb'] = df3.act1_fb_likes.apply(lambda x: np.log(x) if x > 0 else 0)\n",
        "df3['log_score'] = np.log(df3.imdb_score)\n",
        "df3['log_years_old'] = np.log(df3.years_old)\n",
        "#reciprocal model\n",
        "df3['recip_gross'] = 1/df3.gross\n",
        "#quadratic model\n",
        "df3['sqrt_gross'] = np.sqrt(df3.gross)\n",
        "#power model (log(x), log(y))\n",
        "df3.head()"
      ],
      "execution_count": 68,
      "outputs": [
        {
          "output_type": "execute_result",
          "data": {
            "text/plain": [
              "          gross       budget  years_old    genre_0  imdb_score  act1_fb_likes  \\\n",
              "2   200074175.0  245000000.0        6.0     Action         6.8        11000.0   \n",
              "4    73058679.0  263700000.0        9.0     Action         6.6          640.0   \n",
              "6   200807262.0  260000000.0       11.0  Adventure         7.8          799.0   \n",
              "10  200069408.0  209000000.0       15.0     Action         6.1        18000.0   \n",
              "11  168368427.0  200000000.0       13.0     Action         6.7          451.0   \n",
              "\n",
              "   language rating  log_gross  log_budget  log_act1_fb  log_score  \\\n",
              "2   English  PG-13  19.114199   19.316769     9.305651   1.916923   \n",
              "4   English  PG-13  18.106773   19.390323     6.461468   1.887070   \n",
              "6   English     PG  19.117856   19.376192     6.683361   2.054124   \n",
              "10  English  PG-13  19.114175   19.157845     9.798127   1.808289   \n",
              "11  English  PG-13  18.941665   19.113828     6.111467   1.902108   \n",
              "\n",
              "    log_years_old   recip_gross    sqrt_gross  \n",
              "2        1.791759  4.998146e-09  14144.757863  \n",
              "4        2.197225  1.368763e-08   8547.436984  \n",
              "6        2.397895  4.979900e-09  14170.647903  \n",
              "10       2.708050  4.998265e-09  14144.589354  \n",
              "11       2.564949  5.939356e-09  12975.685993  "
            ],
            "text/html": "<div>\n<style scoped>\n    .dataframe tbody tr th:only-of-type {\n        vertical-align: middle;\n    }\n\n    .dataframe tbody tr th {\n        vertical-align: top;\n    }\n\n    .dataframe thead th {\n        text-align: right;\n    }\n</style>\n<table border=\"1\" class=\"dataframe\">\n  <thead>\n    <tr style=\"text-align: right;\">\n      <th></th>\n      <th>gross</th>\n      <th>budget</th>\n      <th>years_old</th>\n      <th>genre_0</th>\n      <th>imdb_score</th>\n      <th>act1_fb_likes</th>\n      <th>language</th>\n      <th>rating</th>\n      <th>log_gross</th>\n      <th>log_budget</th>\n      <th>log_act1_fb</th>\n      <th>log_score</th>\n      <th>log_years_old</th>\n      <th>recip_gross</th>\n      <th>sqrt_gross</th>\n    </tr>\n  </thead>\n  <tbody>\n    <tr>\n      <th>2</th>\n      <td>200074175.0</td>\n      <td>245000000.0</td>\n      <td>6.0</td>\n      <td>Action</td>\n      <td>6.8</td>\n      <td>11000.0</td>\n      <td>English</td>\n      <td>PG-13</td>\n      <td>19.114199</td>\n      <td>19.316769</td>\n      <td>9.305651</td>\n      <td>1.916923</td>\n      <td>1.791759</td>\n      <td>4.998146e-09</td>\n      <td>14144.757863</td>\n    </tr>\n    <tr>\n      <th>4</th>\n      <td>73058679.0</td>\n      <td>263700000.0</td>\n      <td>9.0</td>\n      <td>Action</td>\n      <td>6.6</td>\n      <td>640.0</td>\n      <td>English</td>\n      <td>PG-13</td>\n      <td>18.106773</td>\n      <td>19.390323</td>\n      <td>6.461468</td>\n      <td>1.887070</td>\n      <td>2.197225</td>\n      <td>1.368763e-08</td>\n      <td>8547.436984</td>\n    </tr>\n    <tr>\n      <th>6</th>\n      <td>200807262.0</td>\n      <td>260000000.0</td>\n      <td>11.0</td>\n      <td>Adventure</td>\n      <td>7.8</td>\n      <td>799.0</td>\n      <td>English</td>\n      <td>PG</td>\n      <td>19.117856</td>\n      <td>19.376192</td>\n      <td>6.683361</td>\n      <td>2.054124</td>\n      <td>2.397895</td>\n      <td>4.979900e-09</td>\n      <td>14170.647903</td>\n    </tr>\n    <tr>\n      <th>10</th>\n      <td>200069408.0</td>\n      <td>209000000.0</td>\n      <td>15.0</td>\n      <td>Action</td>\n      <td>6.1</td>\n      <td>18000.0</td>\n      <td>English</td>\n      <td>PG-13</td>\n      <td>19.114175</td>\n      <td>19.157845</td>\n      <td>9.798127</td>\n      <td>1.808289</td>\n      <td>2.708050</td>\n      <td>4.998265e-09</td>\n      <td>14144.589354</td>\n    </tr>\n    <tr>\n      <th>11</th>\n      <td>168368427.0</td>\n      <td>200000000.0</td>\n      <td>13.0</td>\n      <td>Action</td>\n      <td>6.7</td>\n      <td>451.0</td>\n      <td>English</td>\n      <td>PG-13</td>\n      <td>18.941665</td>\n      <td>19.113828</td>\n      <td>6.111467</td>\n      <td>1.902108</td>\n      <td>2.564949</td>\n      <td>5.939356e-09</td>\n      <td>12975.685993</td>\n    </tr>\n  </tbody>\n</table>\n</div>"
          },
          "metadata": {},
          "execution_count": 68
        }
      ]
    },
    {
      "cell_type": "code",
      "metadata": {
        "id": "vSw5-eEB0LuU",
        "colab": {
          "base_uri": "https://localhost:8080/",
          "height": 619
        },
        "outputId": "af6bb4fe-8936-485b-b4bc-701a7cf40525"
      },
      "source": [
        "#fig, ax = plt.subplots(figsize=(8,8))\n",
        "#df3_log = df3[['log_budget', 'log_act1_fb', 'log_years_old', 'log_gross']]\n",
        "#df3_log.hist(bins='auto', ax=ax)\n",
        "#fig.tight_layout()"
      ],
      "execution_count": 69,
      "outputs": []
    },
    {
      "source": [
        "<img src=\"images/histplots2.png\">"
      ],
      "cell_type": "markdown",
      "metadata": {}
    },
    {
      "cell_type": "code",
      "metadata": {
        "id": "Vqpn7Clh0LuU",
        "colab": {
          "base_uri": "https://localhost:8080/",
          "height": 541
        },
        "outputId": "4e9a8051-547b-4f50-9c65-92bc28337433"
      },
      "source": [
        "outcome = 'gross'\n",
        "x_cols = ['budget', 'years_old', 'act1_fb_likes', 'imdb_score']\n",
        "predictors = '+'.join(x_cols)\n",
        "formula = outcome + '~' + predictors\n",
        "model = ols(formula=formula, data=df2).fit()\n",
        "model.summary()"
      ],
      "execution_count": 70,
      "outputs": [
        {
          "output_type": "execute_result",
          "data": {
            "text/plain": [
              "<class 'statsmodels.iolib.summary.Summary'>\n",
              "\"\"\"\n",
              "                            OLS Regression Results                            \n",
              "==============================================================================\n",
              "Dep. Variable:                  gross   R-squared:                       0.331\n",
              "Model:                            OLS   Adj. R-squared:                  0.330\n",
              "Method:                 Least Squares   F-statistic:                     415.5\n",
              "Date:                Mon, 14 Dec 2020   Prob (F-statistic):          3.59e-291\n",
              "Time:                        23:23:12   Log-Likelihood:                -63736.\n",
              "No. Observations:                3364   AIC:                         1.275e+05\n",
              "Df Residuals:                    3359   BIC:                         1.275e+05\n",
              "Df Model:                           4                                         \n",
              "Covariance Type:            nonrobust                                         \n",
              "=================================================================================\n",
              "                    coef    std err          t      P>|t|      [0.025      0.975]\n",
              "---------------------------------------------------------------------------------\n",
              "Intercept     -3.992e+07   4.54e+06     -8.798      0.000   -4.88e+07    -3.1e+07\n",
              "budget            0.6912      0.018     38.042      0.000       0.656       0.727\n",
              "years_old      5.777e+05   7.83e+04      7.377      0.000    4.24e+05    7.31e+05\n",
              "act1_fb_likes   161.9157     46.556      3.478      0.001      70.634     253.197\n",
              "imdb_score     7.745e+06   6.77e+05     11.436      0.000    6.42e+06    9.07e+06\n",
              "==============================================================================\n",
              "Omnibus:                      711.411   Durbin-Watson:                   1.177\n",
              "Prob(Omnibus):                  0.000   Jarque-Bera (JB):             5671.075\n",
              "Skew:                           0.782   Prob(JB):                         0.00\n",
              "Kurtosis:                       9.165   Cond. No.                     3.69e+08\n",
              "==============================================================================\n",
              "\n",
              "Notes:\n",
              "[1] Standard Errors assume that the covariance matrix of the errors is correctly specified.\n",
              "[2] The condition number is large, 3.69e+08. This might indicate that there are\n",
              "strong multicollinearity or other numerical problems.\n",
              "\"\"\""
            ],
            "text/html": "<table class=\"simpletable\">\n<caption>OLS Regression Results</caption>\n<tr>\n  <th>Dep. Variable:</th>          <td>gross</td>      <th>  R-squared:         </th> <td>   0.331</td> \n</tr>\n<tr>\n  <th>Model:</th>                   <td>OLS</td>       <th>  Adj. R-squared:    </th> <td>   0.330</td> \n</tr>\n<tr>\n  <th>Method:</th>             <td>Least Squares</td>  <th>  F-statistic:       </th> <td>   415.5</td> \n</tr>\n<tr>\n  <th>Date:</th>             <td>Mon, 14 Dec 2020</td> <th>  Prob (F-statistic):</th> <td>3.59e-291</td>\n</tr>\n<tr>\n  <th>Time:</th>                 <td>23:23:12</td>     <th>  Log-Likelihood:    </th> <td> -63736.</td> \n</tr>\n<tr>\n  <th>No. Observations:</th>      <td>  3364</td>      <th>  AIC:               </th> <td>1.275e+05</td>\n</tr>\n<tr>\n  <th>Df Residuals:</th>          <td>  3359</td>      <th>  BIC:               </th> <td>1.275e+05</td>\n</tr>\n<tr>\n  <th>Df Model:</th>              <td>     4</td>      <th>                     </th>     <td> </td>    \n</tr>\n<tr>\n  <th>Covariance Type:</th>      <td>nonrobust</td>    <th>                     </th>     <td> </td>    \n</tr>\n</table>\n<table class=\"simpletable\">\n<tr>\n        <td></td>           <th>coef</th>     <th>std err</th>      <th>t</th>      <th>P>|t|</th>  <th>[0.025</th>    <th>0.975]</th>  \n</tr>\n<tr>\n  <th>Intercept</th>     <td>-3.992e+07</td> <td> 4.54e+06</td> <td>   -8.798</td> <td> 0.000</td> <td>-4.88e+07</td> <td> -3.1e+07</td>\n</tr>\n<tr>\n  <th>budget</th>        <td>    0.6912</td> <td>    0.018</td> <td>   38.042</td> <td> 0.000</td> <td>    0.656</td> <td>    0.727</td>\n</tr>\n<tr>\n  <th>years_old</th>     <td> 5.777e+05</td> <td> 7.83e+04</td> <td>    7.377</td> <td> 0.000</td> <td> 4.24e+05</td> <td> 7.31e+05</td>\n</tr>\n<tr>\n  <th>act1_fb_likes</th> <td>  161.9157</td> <td>   46.556</td> <td>    3.478</td> <td> 0.001</td> <td>   70.634</td> <td>  253.197</td>\n</tr>\n<tr>\n  <th>imdb_score</th>    <td> 7.745e+06</td> <td> 6.77e+05</td> <td>   11.436</td> <td> 0.000</td> <td> 6.42e+06</td> <td> 9.07e+06</td>\n</tr>\n</table>\n<table class=\"simpletable\">\n<tr>\n  <th>Omnibus:</th>       <td>711.411</td> <th>  Durbin-Watson:     </th> <td>   1.177</td>\n</tr>\n<tr>\n  <th>Prob(Omnibus):</th> <td> 0.000</td>  <th>  Jarque-Bera (JB):  </th> <td>5671.075</td>\n</tr>\n<tr>\n  <th>Skew:</th>          <td> 0.782</td>  <th>  Prob(JB):          </th> <td>    0.00</td>\n</tr>\n<tr>\n  <th>Kurtosis:</th>      <td> 9.165</td>  <th>  Cond. No.          </th> <td>3.69e+08</td>\n</tr>\n</table><br/><br/>Notes:<br/>[1] Standard Errors assume that the covariance matrix of the errors is correctly specified.<br/>[2] The condition number is large, 3.69e+08. This might indicate that there are<br/>strong multicollinearity or other numerical problems."
          },
          "metadata": {},
          "execution_count": 70
        }
      ]
    },
    {
      "cell_type": "code",
      "metadata": {
        "id": "S0M9c8vd0LuU",
        "colab": {
          "base_uri": "https://localhost:8080/",
          "height": 1000
        },
        "outputId": "62f6fc41-5c26-4d80-cceb-17c9dc75fc42"
      },
      "source": [
        "# pd.plotting.scatter_matrix(df3, figsize=(10,12))"
      ],
      "execution_count": 71,
      "outputs": []
    },
    {
      "source": [
        "<img src=\"images/scattermatrix.png\">"
      ],
      "cell_type": "markdown",
      "metadata": {}
    },
    {
      "cell_type": "code",
      "metadata": {
        "id": "4CwfWPi30LuU",
        "colab": {
          "base_uri": "https://localhost:8080/",
          "height": 541
        },
        "outputId": "c9eeebdd-08f5-4f23-9a57-be0600622700"
      },
      "source": [
        "outcome = 'log_gross'\n",
        "x_cols = ['budget', 'years_old', 'act1_fb_likes', 'imdb_score']\n",
        "predictors = '+'.join(x_cols)\n",
        "formula = outcome + '~' + predictors\n",
        "model = ols(formula=formula, data=df3).fit()\n",
        "model.summary()"
      ],
      "execution_count": 72,
      "outputs": [
        {
          "output_type": "execute_result",
          "data": {
            "text/plain": [
              "<class 'statsmodels.iolib.summary.Summary'>\n",
              "\"\"\"\n",
              "                            OLS Regression Results                            \n",
              "==============================================================================\n",
              "Dep. Variable:              log_gross   R-squared:                       0.228\n",
              "Model:                            OLS   Adj. R-squared:                  0.228\n",
              "Method:                 Least Squares   F-statistic:                     248.7\n",
              "Date:                Mon, 14 Dec 2020   Prob (F-statistic):          2.39e-187\n",
              "Time:                        23:23:42   Log-Likelihood:                -5042.4\n",
              "No. Observations:                3364   AIC:                         1.009e+04\n",
              "Df Residuals:                    3359   BIC:                         1.013e+04\n",
              "Df Model:                           4                                         \n",
              "Covariance Type:            nonrobust                                         \n",
              "=================================================================================\n",
              "                    coef    std err          t      P>|t|      [0.025      0.975]\n",
              "---------------------------------------------------------------------------------\n",
              "Intercept        15.6374      0.120    130.266      0.000      15.402      15.873\n",
              "budget         1.431e-08   4.81e-10     29.770      0.000    1.34e-08    1.53e-08\n",
              "years_old         0.0158      0.002      7.611      0.000       0.012       0.020\n",
              "act1_fb_likes  6.256e-06   1.23e-06      5.079      0.000    3.84e-06    8.67e-06\n",
              "imdb_score        0.0900      0.018      5.025      0.000       0.055       0.125\n",
              "==============================================================================\n",
              "Omnibus:                      595.681   Durbin-Watson:                   0.874\n",
              "Prob(Omnibus):                  0.000   Jarque-Bera (JB):             1658.521\n",
              "Skew:                          -0.937   Prob(JB):                         0.00\n",
              "Kurtosis:                       5.884   Cond. No.                     3.69e+08\n",
              "==============================================================================\n",
              "\n",
              "Notes:\n",
              "[1] Standard Errors assume that the covariance matrix of the errors is correctly specified.\n",
              "[2] The condition number is large, 3.69e+08. This might indicate that there are\n",
              "strong multicollinearity or other numerical problems.\n",
              "\"\"\""
            ],
            "text/html": "<table class=\"simpletable\">\n<caption>OLS Regression Results</caption>\n<tr>\n  <th>Dep. Variable:</th>        <td>log_gross</td>    <th>  R-squared:         </th> <td>   0.228</td> \n</tr>\n<tr>\n  <th>Model:</th>                   <td>OLS</td>       <th>  Adj. R-squared:    </th> <td>   0.228</td> \n</tr>\n<tr>\n  <th>Method:</th>             <td>Least Squares</td>  <th>  F-statistic:       </th> <td>   248.7</td> \n</tr>\n<tr>\n  <th>Date:</th>             <td>Mon, 14 Dec 2020</td> <th>  Prob (F-statistic):</th> <td>2.39e-187</td>\n</tr>\n<tr>\n  <th>Time:</th>                 <td>23:23:42</td>     <th>  Log-Likelihood:    </th> <td> -5042.4</td> \n</tr>\n<tr>\n  <th>No. Observations:</th>      <td>  3364</td>      <th>  AIC:               </th> <td>1.009e+04</td>\n</tr>\n<tr>\n  <th>Df Residuals:</th>          <td>  3359</td>      <th>  BIC:               </th> <td>1.013e+04</td>\n</tr>\n<tr>\n  <th>Df Model:</th>              <td>     4</td>      <th>                     </th>     <td> </td>    \n</tr>\n<tr>\n  <th>Covariance Type:</th>      <td>nonrobust</td>    <th>                     </th>     <td> </td>    \n</tr>\n</table>\n<table class=\"simpletable\">\n<tr>\n        <td></td>           <th>coef</th>     <th>std err</th>      <th>t</th>      <th>P>|t|</th>  <th>[0.025</th>    <th>0.975]</th>  \n</tr>\n<tr>\n  <th>Intercept</th>     <td>   15.6374</td> <td>    0.120</td> <td>  130.266</td> <td> 0.000</td> <td>   15.402</td> <td>   15.873</td>\n</tr>\n<tr>\n  <th>budget</th>        <td> 1.431e-08</td> <td> 4.81e-10</td> <td>   29.770</td> <td> 0.000</td> <td> 1.34e-08</td> <td> 1.53e-08</td>\n</tr>\n<tr>\n  <th>years_old</th>     <td>    0.0158</td> <td>    0.002</td> <td>    7.611</td> <td> 0.000</td> <td>    0.012</td> <td>    0.020</td>\n</tr>\n<tr>\n  <th>act1_fb_likes</th> <td> 6.256e-06</td> <td> 1.23e-06</td> <td>    5.079</td> <td> 0.000</td> <td> 3.84e-06</td> <td> 8.67e-06</td>\n</tr>\n<tr>\n  <th>imdb_score</th>    <td>    0.0900</td> <td>    0.018</td> <td>    5.025</td> <td> 0.000</td> <td>    0.055</td> <td>    0.125</td>\n</tr>\n</table>\n<table class=\"simpletable\">\n<tr>\n  <th>Omnibus:</th>       <td>595.681</td> <th>  Durbin-Watson:     </th> <td>   0.874</td>\n</tr>\n<tr>\n  <th>Prob(Omnibus):</th> <td> 0.000</td>  <th>  Jarque-Bera (JB):  </th> <td>1658.521</td>\n</tr>\n<tr>\n  <th>Skew:</th>          <td>-0.937</td>  <th>  Prob(JB):          </th> <td>    0.00</td>\n</tr>\n<tr>\n  <th>Kurtosis:</th>      <td> 5.884</td>  <th>  Cond. No.          </th> <td>3.69e+08</td>\n</tr>\n</table><br/><br/>Notes:<br/>[1] Standard Errors assume that the covariance matrix of the errors is correctly specified.<br/>[2] The condition number is large, 3.69e+08. This might indicate that there are<br/>strong multicollinearity or other numerical problems."
          },
          "metadata": {},
          "execution_count": 72
        }
      ]
    },
    {
      "cell_type": "code",
      "metadata": {
        "colab": {
          "base_uri": "https://localhost:8080/",
          "height": 511
        },
        "id": "qPeRhjwJAcx1",
        "outputId": "036c6c60-cc5b-471d-a8f6-155697731042"
      },
      "source": [
        "xcol = ['budget', 'imdb_score', 'years_old', 'act1_fb_likes']\n",
        "g = sns.FacetGrid(df3, col=xcol,  height=3.5)\n",
        "g.map(sns.scatterplot,'log_gross')"
      ],
      "execution_count": 73,
      "outputs": [
        {
          "output_type": "error",
          "ename": "ValueError",
          "evalue": "could not broadcast input array from shape (3364,4) into shape (3364)",
          "traceback": [
            "\u001b[0;31m---------------------------------------------------------------------------\u001b[0m",
            "\u001b[0;31mAttributeError\u001b[0m                            Traceback (most recent call last)",
            "\u001b[0;32m/Users/examsherpa/opt/anaconda3/envs/learn-env/lib/python3.6/site-packages/seaborn/_core.py\u001b[0m in \u001b[0;36mcategorical_order\u001b[0;34m(vector, order)\u001b[0m\n\u001b[1;32m   1455\u001b[0m             \u001b[0;32mtry\u001b[0m\u001b[0;34m:\u001b[0m\u001b[0;34m\u001b[0m\u001b[0;34m\u001b[0m\u001b[0m\n\u001b[0;32m-> 1456\u001b[0;31m                 \u001b[0morder\u001b[0m \u001b[0;34m=\u001b[0m \u001b[0mvector\u001b[0m\u001b[0;34m.\u001b[0m\u001b[0mcat\u001b[0m\u001b[0;34m.\u001b[0m\u001b[0mcategories\u001b[0m\u001b[0;34m\u001b[0m\u001b[0;34m\u001b[0m\u001b[0m\n\u001b[0m\u001b[1;32m   1457\u001b[0m             \u001b[0;32mexcept\u001b[0m \u001b[0;34m(\u001b[0m\u001b[0mTypeError\u001b[0m\u001b[0;34m,\u001b[0m \u001b[0mAttributeError\u001b[0m\u001b[0;34m)\u001b[0m\u001b[0;34m:\u001b[0m\u001b[0;34m\u001b[0m\u001b[0;34m\u001b[0m\u001b[0m\n",
            "\u001b[0;32m/Users/examsherpa/opt/anaconda3/envs/learn-env/lib/python3.6/site-packages/pandas/core/generic.py\u001b[0m in \u001b[0;36m__getattr__\u001b[0;34m(self, name)\u001b[0m\n\u001b[1;32m   5178\u001b[0m                 \u001b[0;32mreturn\u001b[0m \u001b[0mself\u001b[0m\u001b[0;34m[\u001b[0m\u001b[0mname\u001b[0m\u001b[0;34m]\u001b[0m\u001b[0;34m\u001b[0m\u001b[0;34m\u001b[0m\u001b[0m\n\u001b[0;32m-> 5179\u001b[0;31m             \u001b[0;32mreturn\u001b[0m \u001b[0mobject\u001b[0m\u001b[0;34m.\u001b[0m\u001b[0m__getattribute__\u001b[0m\u001b[0;34m(\u001b[0m\u001b[0mself\u001b[0m\u001b[0;34m,\u001b[0m \u001b[0mname\u001b[0m\u001b[0;34m)\u001b[0m\u001b[0;34m\u001b[0m\u001b[0;34m\u001b[0m\u001b[0m\n\u001b[0m\u001b[1;32m   5180\u001b[0m \u001b[0;34m\u001b[0m\u001b[0m\n",
            "\u001b[0;31mAttributeError\u001b[0m: 'DataFrame' object has no attribute 'cat'",
            "\nDuring handling of the above exception, another exception occurred:\n",
            "\u001b[0;31mAttributeError\u001b[0m                            Traceback (most recent call last)",
            "\u001b[0;32m/Users/examsherpa/opt/anaconda3/envs/learn-env/lib/python3.6/site-packages/seaborn/_core.py\u001b[0m in \u001b[0;36mcategorical_order\u001b[0;34m(vector, order)\u001b[0m\n\u001b[1;32m   1459\u001b[0m                 \u001b[0;32mtry\u001b[0m\u001b[0;34m:\u001b[0m\u001b[0;34m\u001b[0m\u001b[0;34m\u001b[0m\u001b[0m\n\u001b[0;32m-> 1460\u001b[0;31m                     \u001b[0morder\u001b[0m \u001b[0;34m=\u001b[0m \u001b[0mvector\u001b[0m\u001b[0;34m.\u001b[0m\u001b[0munique\u001b[0m\u001b[0;34m(\u001b[0m\u001b[0;34m)\u001b[0m\u001b[0;34m\u001b[0m\u001b[0;34m\u001b[0m\u001b[0m\n\u001b[0m\u001b[1;32m   1461\u001b[0m                 \u001b[0;32mexcept\u001b[0m \u001b[0mAttributeError\u001b[0m\u001b[0;34m:\u001b[0m\u001b[0;34m\u001b[0m\u001b[0;34m\u001b[0m\u001b[0m\n",
            "\u001b[0;32m/Users/examsherpa/opt/anaconda3/envs/learn-env/lib/python3.6/site-packages/pandas/core/generic.py\u001b[0m in \u001b[0;36m__getattr__\u001b[0;34m(self, name)\u001b[0m\n\u001b[1;32m   5178\u001b[0m                 \u001b[0;32mreturn\u001b[0m \u001b[0mself\u001b[0m\u001b[0;34m[\u001b[0m\u001b[0mname\u001b[0m\u001b[0;34m]\u001b[0m\u001b[0;34m\u001b[0m\u001b[0;34m\u001b[0m\u001b[0m\n\u001b[0;32m-> 5179\u001b[0;31m             \u001b[0;32mreturn\u001b[0m \u001b[0mobject\u001b[0m\u001b[0;34m.\u001b[0m\u001b[0m__getattribute__\u001b[0m\u001b[0;34m(\u001b[0m\u001b[0mself\u001b[0m\u001b[0;34m,\u001b[0m \u001b[0mname\u001b[0m\u001b[0;34m)\u001b[0m\u001b[0;34m\u001b[0m\u001b[0;34m\u001b[0m\u001b[0m\n\u001b[0m\u001b[1;32m   5180\u001b[0m \u001b[0;34m\u001b[0m\u001b[0m\n",
            "\u001b[0;31mAttributeError\u001b[0m: 'DataFrame' object has no attribute 'unique'",
            "\nDuring handling of the above exception, another exception occurred:\n",
            "\u001b[0;31mValueError\u001b[0m                                Traceback (most recent call last)",
            "\u001b[0;32m<ipython-input-73-c6aa0e805f4a>\u001b[0m in \u001b[0;36m<module>\u001b[0;34m()\u001b[0m\n\u001b[1;32m      1\u001b[0m \u001b[0mxcol\u001b[0m \u001b[0;34m=\u001b[0m \u001b[0;34m[\u001b[0m\u001b[0;34m'budget'\u001b[0m\u001b[0;34m,\u001b[0m \u001b[0;34m'imdb_score'\u001b[0m\u001b[0;34m,\u001b[0m \u001b[0;34m'years_old'\u001b[0m\u001b[0;34m,\u001b[0m \u001b[0;34m'act1_fb_likes'\u001b[0m\u001b[0;34m]\u001b[0m\u001b[0;34m\u001b[0m\u001b[0;34m\u001b[0m\u001b[0m\n\u001b[0;32m----> 2\u001b[0;31m \u001b[0mg\u001b[0m \u001b[0;34m=\u001b[0m \u001b[0msns\u001b[0m\u001b[0;34m.\u001b[0m\u001b[0mFacetGrid\u001b[0m\u001b[0;34m(\u001b[0m\u001b[0mdf3\u001b[0m\u001b[0;34m,\u001b[0m \u001b[0mcol\u001b[0m\u001b[0;34m=\u001b[0m\u001b[0mxcol\u001b[0m\u001b[0;34m,\u001b[0m  \u001b[0mheight\u001b[0m\u001b[0;34m=\u001b[0m\u001b[0;36m3.5\u001b[0m\u001b[0;34m)\u001b[0m\u001b[0;34m\u001b[0m\u001b[0;34m\u001b[0m\u001b[0m\n\u001b[0m\u001b[1;32m      3\u001b[0m \u001b[0mg\u001b[0m\u001b[0;34m.\u001b[0m\u001b[0mmap\u001b[0m\u001b[0;34m(\u001b[0m\u001b[0msns\u001b[0m\u001b[0;34m.\u001b[0m\u001b[0mscatterplot\u001b[0m\u001b[0;34m,\u001b[0m\u001b[0;34m'log_gross'\u001b[0m\u001b[0;34m)\u001b[0m\u001b[0;34m\u001b[0m\u001b[0;34m\u001b[0m\u001b[0m\n",
            "\u001b[0;32m/Users/examsherpa/opt/anaconda3/envs/learn-env/lib/python3.6/site-packages/seaborn/_decorators.py\u001b[0m in \u001b[0;36minner_f\u001b[0;34m(*args, **kwargs)\u001b[0m\n\u001b[1;32m     44\u001b[0m             )\n\u001b[1;32m     45\u001b[0m         \u001b[0mkwargs\u001b[0m\u001b[0;34m.\u001b[0m\u001b[0mupdate\u001b[0m\u001b[0;34m(\u001b[0m\u001b[0;34m{\u001b[0m\u001b[0mk\u001b[0m\u001b[0;34m:\u001b[0m \u001b[0marg\u001b[0m \u001b[0;32mfor\u001b[0m \u001b[0mk\u001b[0m\u001b[0;34m,\u001b[0m \u001b[0marg\u001b[0m \u001b[0;32min\u001b[0m \u001b[0mzip\u001b[0m\u001b[0;34m(\u001b[0m\u001b[0msig\u001b[0m\u001b[0;34m.\u001b[0m\u001b[0mparameters\u001b[0m\u001b[0;34m,\u001b[0m \u001b[0margs\u001b[0m\u001b[0;34m)\u001b[0m\u001b[0;34m}\u001b[0m\u001b[0;34m)\u001b[0m\u001b[0;34m\u001b[0m\u001b[0;34m\u001b[0m\u001b[0m\n\u001b[0;32m---> 46\u001b[0;31m         \u001b[0;32mreturn\u001b[0m \u001b[0mf\u001b[0m\u001b[0;34m(\u001b[0m\u001b[0;34m**\u001b[0m\u001b[0mkwargs\u001b[0m\u001b[0;34m)\u001b[0m\u001b[0;34m\u001b[0m\u001b[0;34m\u001b[0m\u001b[0m\n\u001b[0m\u001b[1;32m     47\u001b[0m     \u001b[0;32mreturn\u001b[0m \u001b[0minner_f\u001b[0m\u001b[0;34m\u001b[0m\u001b[0;34m\u001b[0m\u001b[0m\n\u001b[1;32m     48\u001b[0m \u001b[0;34m\u001b[0m\u001b[0m\n",
            "\u001b[0;32m/Users/examsherpa/opt/anaconda3/envs/learn-env/lib/python3.6/site-packages/seaborn/axisgrid.py\u001b[0m in \u001b[0;36m__init__\u001b[0;34m(self, data, row, col, hue, col_wrap, sharex, sharey, height, aspect, palette, row_order, col_order, hue_order, hue_kws, dropna, legend_out, despine, margin_titles, xlim, ylim, subplot_kws, gridspec_kws, size)\u001b[0m\n\u001b[1;32m    334\u001b[0m             \u001b[0mcol_names\u001b[0m \u001b[0;34m=\u001b[0m \u001b[0;34m[\u001b[0m\u001b[0;34m]\u001b[0m\u001b[0;34m\u001b[0m\u001b[0;34m\u001b[0m\u001b[0m\n\u001b[1;32m    335\u001b[0m         \u001b[0;32melse\u001b[0m\u001b[0;34m:\u001b[0m\u001b[0;34m\u001b[0m\u001b[0;34m\u001b[0m\u001b[0m\n\u001b[0;32m--> 336\u001b[0;31m             \u001b[0mcol_names\u001b[0m \u001b[0;34m=\u001b[0m \u001b[0mcategorical_order\u001b[0m\u001b[0;34m(\u001b[0m\u001b[0mdata\u001b[0m\u001b[0;34m[\u001b[0m\u001b[0mcol\u001b[0m\u001b[0;34m]\u001b[0m\u001b[0;34m,\u001b[0m \u001b[0mcol_order\u001b[0m\u001b[0;34m)\u001b[0m\u001b[0;34m\u001b[0m\u001b[0;34m\u001b[0m\u001b[0m\n\u001b[0m\u001b[1;32m    337\u001b[0m \u001b[0;34m\u001b[0m\u001b[0m\n\u001b[1;32m    338\u001b[0m         \u001b[0;31m# Additional dict of kwarg -> list of values for mapping the hue var\u001b[0m\u001b[0;34m\u001b[0m\u001b[0;34m\u001b[0m\u001b[0;34m\u001b[0m\u001b[0m\n",
            "\u001b[0;32m/Users/examsherpa/opt/anaconda3/envs/learn-env/lib/python3.6/site-packages/seaborn/_core.py\u001b[0m in \u001b[0;36mcategorical_order\u001b[0;34m(vector, order)\u001b[0m\n\u001b[1;32m   1460\u001b[0m                     \u001b[0morder\u001b[0m \u001b[0;34m=\u001b[0m \u001b[0mvector\u001b[0m\u001b[0;34m.\u001b[0m\u001b[0munique\u001b[0m\u001b[0;34m(\u001b[0m\u001b[0;34m)\u001b[0m\u001b[0;34m\u001b[0m\u001b[0;34m\u001b[0m\u001b[0m\n\u001b[1;32m   1461\u001b[0m                 \u001b[0;32mexcept\u001b[0m \u001b[0mAttributeError\u001b[0m\u001b[0;34m:\u001b[0m\u001b[0;34m\u001b[0m\u001b[0;34m\u001b[0m\u001b[0m\n\u001b[0;32m-> 1462\u001b[0;31m                     \u001b[0morder\u001b[0m \u001b[0;34m=\u001b[0m \u001b[0mpd\u001b[0m\u001b[0;34m.\u001b[0m\u001b[0munique\u001b[0m\u001b[0;34m(\u001b[0m\u001b[0mvector\u001b[0m\u001b[0;34m)\u001b[0m\u001b[0;34m\u001b[0m\u001b[0;34m\u001b[0m\u001b[0m\n\u001b[0m\u001b[1;32m   1463\u001b[0m \u001b[0;34m\u001b[0m\u001b[0m\n\u001b[1;32m   1464\u001b[0m                 \u001b[0;32mif\u001b[0m \u001b[0mvariable_type\u001b[0m\u001b[0;34m(\u001b[0m\u001b[0mvector\u001b[0m\u001b[0;34m)\u001b[0m \u001b[0;34m==\u001b[0m \u001b[0;34m\"numeric\"\u001b[0m\u001b[0;34m:\u001b[0m\u001b[0;34m\u001b[0m\u001b[0;34m\u001b[0m\u001b[0m\n",
            "\u001b[0;32m/Users/examsherpa/opt/anaconda3/envs/learn-env/lib/python3.6/site-packages/pandas/core/algorithms.py\u001b[0m in \u001b[0;36munique\u001b[0;34m(values)\u001b[0m\n\u001b[1;32m    393\u001b[0m     \"\"\"\n\u001b[1;32m    394\u001b[0m \u001b[0;34m\u001b[0m\u001b[0m\n\u001b[0;32m--> 395\u001b[0;31m     \u001b[0mvalues\u001b[0m \u001b[0;34m=\u001b[0m \u001b[0m_ensure_arraylike\u001b[0m\u001b[0;34m(\u001b[0m\u001b[0mvalues\u001b[0m\u001b[0;34m)\u001b[0m\u001b[0;34m\u001b[0m\u001b[0;34m\u001b[0m\u001b[0m\n\u001b[0m\u001b[1;32m    396\u001b[0m \u001b[0;34m\u001b[0m\u001b[0m\n\u001b[1;32m    397\u001b[0m     \u001b[0;32mif\u001b[0m \u001b[0mis_extension_array_dtype\u001b[0m\u001b[0;34m(\u001b[0m\u001b[0mvalues\u001b[0m\u001b[0;34m)\u001b[0m\u001b[0;34m:\u001b[0m\u001b[0;34m\u001b[0m\u001b[0;34m\u001b[0m\u001b[0m\n",
            "\u001b[0;32m/Users/examsherpa/opt/anaconda3/envs/learn-env/lib/python3.6/site-packages/pandas/core/algorithms.py\u001b[0m in \u001b[0;36m_ensure_arraylike\u001b[0;34m(values)\u001b[0m\n\u001b[1;32m    206\u001b[0m             \u001b[0;32mif\u001b[0m \u001b[0misinstance\u001b[0m\u001b[0;34m(\u001b[0m\u001b[0mvalues\u001b[0m\u001b[0;34m,\u001b[0m \u001b[0mtuple\u001b[0m\u001b[0;34m)\u001b[0m\u001b[0;34m:\u001b[0m\u001b[0;34m\u001b[0m\u001b[0;34m\u001b[0m\u001b[0m\n\u001b[1;32m    207\u001b[0m                 \u001b[0mvalues\u001b[0m \u001b[0;34m=\u001b[0m \u001b[0mlist\u001b[0m\u001b[0;34m(\u001b[0m\u001b[0mvalues\u001b[0m\u001b[0;34m)\u001b[0m\u001b[0;34m\u001b[0m\u001b[0;34m\u001b[0m\u001b[0m\n\u001b[0;32m--> 208\u001b[0;31m             \u001b[0mvalues\u001b[0m \u001b[0;34m=\u001b[0m \u001b[0mconstruct_1d_object_array_from_listlike\u001b[0m\u001b[0;34m(\u001b[0m\u001b[0mvalues\u001b[0m\u001b[0;34m)\u001b[0m\u001b[0;34m\u001b[0m\u001b[0;34m\u001b[0m\u001b[0m\n\u001b[0m\u001b[1;32m    209\u001b[0m         \u001b[0;32melse\u001b[0m\u001b[0;34m:\u001b[0m\u001b[0;34m\u001b[0m\u001b[0;34m\u001b[0m\u001b[0m\n\u001b[1;32m    210\u001b[0m             \u001b[0mvalues\u001b[0m \u001b[0;34m=\u001b[0m \u001b[0mnp\u001b[0m\u001b[0;34m.\u001b[0m\u001b[0masarray\u001b[0m\u001b[0;34m(\u001b[0m\u001b[0mvalues\u001b[0m\u001b[0;34m)\u001b[0m\u001b[0;34m\u001b[0m\u001b[0;34m\u001b[0m\u001b[0m\n",
            "\u001b[0;32m/Users/examsherpa/opt/anaconda3/envs/learn-env/lib/python3.6/site-packages/pandas/core/dtypes/cast.py\u001b[0m in \u001b[0;36mconstruct_1d_object_array_from_listlike\u001b[0;34m(values)\u001b[0m\n\u001b[1;32m   1258\u001b[0m     \u001b[0;31m# making a 1D array that contains list-likes is a bit tricky:\u001b[0m\u001b[0;34m\u001b[0m\u001b[0;34m\u001b[0m\u001b[0;34m\u001b[0m\u001b[0m\n\u001b[1;32m   1259\u001b[0m     \u001b[0mresult\u001b[0m \u001b[0;34m=\u001b[0m \u001b[0mnp\u001b[0m\u001b[0;34m.\u001b[0m\u001b[0mempty\u001b[0m\u001b[0;34m(\u001b[0m\u001b[0mlen\u001b[0m\u001b[0;34m(\u001b[0m\u001b[0mvalues\u001b[0m\u001b[0;34m)\u001b[0m\u001b[0;34m,\u001b[0m \u001b[0mdtype\u001b[0m\u001b[0;34m=\u001b[0m\u001b[0;34m\"object\"\u001b[0m\u001b[0;34m)\u001b[0m\u001b[0;34m\u001b[0m\u001b[0;34m\u001b[0m\u001b[0m\n\u001b[0;32m-> 1260\u001b[0;31m     \u001b[0mresult\u001b[0m\u001b[0;34m[\u001b[0m\u001b[0;34m:\u001b[0m\u001b[0;34m]\u001b[0m \u001b[0;34m=\u001b[0m \u001b[0mvalues\u001b[0m\u001b[0;34m\u001b[0m\u001b[0;34m\u001b[0m\u001b[0m\n\u001b[0m\u001b[1;32m   1261\u001b[0m     \u001b[0;32mreturn\u001b[0m \u001b[0mresult\u001b[0m\u001b[0;34m\u001b[0m\u001b[0;34m\u001b[0m\u001b[0m\n\u001b[1;32m   1262\u001b[0m \u001b[0;34m\u001b[0m\u001b[0m\n",
            "\u001b[0;31mValueError\u001b[0m: could not broadcast input array from shape (3364,4) into shape (3364)"
          ]
        }
      ]
    },
    {
      "cell_type": "code",
      "metadata": {
        "id": "2dArez5v0LuV",
        "colab": {
          "base_uri": "https://localhost:8080/",
          "height": 458
        },
        "outputId": "ec3d269b-c76a-4f8d-bd83-121ede59e544"
      },
      "source": [
        "#sns.jointplot(x='log_budget', y='log_gross', data=df3, kind='reg')"
      ],
      "execution_count": 74,
      "outputs": []
    },
    {
      "source": [
        "<img src=\"images/jointplot.png\">"
      ],
      "cell_type": "markdown",
      "metadata": {}
    },
    {
      "cell_type": "code",
      "metadata": {
        "id": "4Hc7UCCh0LuV",
        "colab": {
          "base_uri": "https://localhost:8080/",
          "height": 458
        },
        "outputId": "74390598-c762-4c25-b632-27202a4fc954"
      },
      "source": [
        "#sns.jointplot(x='imdb_score', y='gross', data=df3, kind='reg')"
      ],
      "execution_count": 75,
      "outputs": []
    },
    {
      "source": [
        "<img src=\"images/jointplot2.png\">"
      ],
      "cell_type": "markdown",
      "metadata": {}
    },
    {
      "cell_type": "code",
      "metadata": {
        "colab": {
          "base_uri": "https://localhost:8080/",
          "height": 458
        },
        "id": "BAEK9mm_J9ib",
        "outputId": "92b22fc9-75b5-4e53-841f-49232711e831"
      },
      "source": [
        "#sns.jointplot(x='log_act1_fb', y='log_gross', data=df3, kind='reg')"
      ],
      "execution_count": 76,
      "outputs": []
    },
    {
      "source": [
        "<img src=\"images/jointplot3.png\">"
      ],
      "cell_type": "markdown",
      "metadata": {}
    },
    {
      "cell_type": "code",
      "metadata": {
        "colab": {
          "base_uri": "https://localhost:8080/",
          "height": 458
        },
        "id": "KHlCYY-vJ9y6",
        "outputId": "ae206726-6206-43a2-9f22-973323d86876"
      },
      "source": [
        "#sns.jointplot(x='years_old', y='gross', data=df3, kind='reg')"
      ],
      "execution_count": 77,
      "outputs": []
    },
    {
      "source": [
        "<img src=\"images/jointplot4.png\">"
      ],
      "cell_type": "markdown",
      "metadata": {}
    },
    {
      "cell_type": "code",
      "metadata": {
        "id": "3FaOTe6hOhnc"
      },
      "source": [
        "df4 = df3.copy()"
      ],
      "execution_count": 78,
      "outputs": []
    },
    {
      "cell_type": "code",
      "metadata": {
        "id": "1F2QciYd0LuV",
        "colab": {
          "base_uri": "https://localhost:8080/",
          "height": 204
        },
        "outputId": "e981a68b-1f4e-4407-ef80-dd07dd3953de"
      },
      "source": [
        "imdb = df4.imdb_score\n",
        "scaled_imdb = (imdb - min(imdb)) / (max(imdb) - min(imdb))\n",
        "df4['scaled_imdb'] = scaled_imdb\n",
        "act1 = df4.log_act1_fb\n",
        "scaled_act1 = (act1 - np.mean(act1)) / np.sqrt(np.var(act1))\n",
        "df4['scaled_act1'] = scaled_act1\n",
        "df4.head()"
      ],
      "execution_count": 79,
      "outputs": [
        {
          "output_type": "execute_result",
          "data": {
            "text/plain": [
              "          gross       budget  years_old    genre_0  imdb_score  act1_fb_likes  \\\n",
              "2   200074175.0  245000000.0        6.0     Action         6.8        11000.0   \n",
              "4    73058679.0  263700000.0        9.0     Action         6.6          640.0   \n",
              "6   200807262.0  260000000.0       11.0  Adventure         7.8          799.0   \n",
              "10  200069408.0  209000000.0       15.0     Action         6.1        18000.0   \n",
              "11  168368427.0  200000000.0       13.0     Action         6.7          451.0   \n",
              "\n",
              "   language rating  log_gross  log_budget  log_act1_fb  log_score  \\\n",
              "2   English  PG-13  19.114199   19.316769     9.305651   1.916923   \n",
              "4   English  PG-13  18.106773   19.390323     6.461468   1.887070   \n",
              "6   English     PG  19.117856   19.376192     6.683361   2.054124   \n",
              "10  English  PG-13  19.114175   19.157845     9.798127   1.808289   \n",
              "11  English  PG-13  18.941665   19.113828     6.111467   1.902108   \n",
              "\n",
              "    log_years_old   recip_gross    sqrt_gross  scaled_imdb  scaled_act1  \n",
              "2        1.791759  4.998146e-09  14144.757863     0.675325     0.882794  \n",
              "4        2.197225  1.368763e-08   8547.436984     0.649351    -0.836510  \n",
              "6        2.397895  4.979900e-09  14170.647903     0.805195    -0.702376  \n",
              "10       2.708050  4.998265e-09  14144.589354     0.584416     1.180495  \n",
              "11       2.564949  5.939356e-09  12975.685993     0.662338    -1.048085  "
            ],
            "text/html": "<div>\n<style scoped>\n    .dataframe tbody tr th:only-of-type {\n        vertical-align: middle;\n    }\n\n    .dataframe tbody tr th {\n        vertical-align: top;\n    }\n\n    .dataframe thead th {\n        text-align: right;\n    }\n</style>\n<table border=\"1\" class=\"dataframe\">\n  <thead>\n    <tr style=\"text-align: right;\">\n      <th></th>\n      <th>gross</th>\n      <th>budget</th>\n      <th>years_old</th>\n      <th>genre_0</th>\n      <th>imdb_score</th>\n      <th>act1_fb_likes</th>\n      <th>language</th>\n      <th>rating</th>\n      <th>log_gross</th>\n      <th>log_budget</th>\n      <th>log_act1_fb</th>\n      <th>log_score</th>\n      <th>log_years_old</th>\n      <th>recip_gross</th>\n      <th>sqrt_gross</th>\n      <th>scaled_imdb</th>\n      <th>scaled_act1</th>\n    </tr>\n  </thead>\n  <tbody>\n    <tr>\n      <th>2</th>\n      <td>200074175.0</td>\n      <td>245000000.0</td>\n      <td>6.0</td>\n      <td>Action</td>\n      <td>6.8</td>\n      <td>11000.0</td>\n      <td>English</td>\n      <td>PG-13</td>\n      <td>19.114199</td>\n      <td>19.316769</td>\n      <td>9.305651</td>\n      <td>1.916923</td>\n      <td>1.791759</td>\n      <td>4.998146e-09</td>\n      <td>14144.757863</td>\n      <td>0.675325</td>\n      <td>0.882794</td>\n    </tr>\n    <tr>\n      <th>4</th>\n      <td>73058679.0</td>\n      <td>263700000.0</td>\n      <td>9.0</td>\n      <td>Action</td>\n      <td>6.6</td>\n      <td>640.0</td>\n      <td>English</td>\n      <td>PG-13</td>\n      <td>18.106773</td>\n      <td>19.390323</td>\n      <td>6.461468</td>\n      <td>1.887070</td>\n      <td>2.197225</td>\n      <td>1.368763e-08</td>\n      <td>8547.436984</td>\n      <td>0.649351</td>\n      <td>-0.836510</td>\n    </tr>\n    <tr>\n      <th>6</th>\n      <td>200807262.0</td>\n      <td>260000000.0</td>\n      <td>11.0</td>\n      <td>Adventure</td>\n      <td>7.8</td>\n      <td>799.0</td>\n      <td>English</td>\n      <td>PG</td>\n      <td>19.117856</td>\n      <td>19.376192</td>\n      <td>6.683361</td>\n      <td>2.054124</td>\n      <td>2.397895</td>\n      <td>4.979900e-09</td>\n      <td>14170.647903</td>\n      <td>0.805195</td>\n      <td>-0.702376</td>\n    </tr>\n    <tr>\n      <th>10</th>\n      <td>200069408.0</td>\n      <td>209000000.0</td>\n      <td>15.0</td>\n      <td>Action</td>\n      <td>6.1</td>\n      <td>18000.0</td>\n      <td>English</td>\n      <td>PG-13</td>\n      <td>19.114175</td>\n      <td>19.157845</td>\n      <td>9.798127</td>\n      <td>1.808289</td>\n      <td>2.708050</td>\n      <td>4.998265e-09</td>\n      <td>14144.589354</td>\n      <td>0.584416</td>\n      <td>1.180495</td>\n    </tr>\n    <tr>\n      <th>11</th>\n      <td>168368427.0</td>\n      <td>200000000.0</td>\n      <td>13.0</td>\n      <td>Action</td>\n      <td>6.7</td>\n      <td>451.0</td>\n      <td>English</td>\n      <td>PG-13</td>\n      <td>18.941665</td>\n      <td>19.113828</td>\n      <td>6.111467</td>\n      <td>1.902108</td>\n      <td>2.564949</td>\n      <td>5.939356e-09</td>\n      <td>12975.685993</td>\n      <td>0.662338</td>\n      <td>-1.048085</td>\n    </tr>\n  </tbody>\n</table>\n</div>"
          },
          "metadata": {},
          "execution_count": 79
        }
      ]
    },
    {
      "cell_type": "code",
      "metadata": {
        "id": "h0FIHWMLGMoC"
      },
      "source": [
        "df2 = df"
      ],
      "execution_count": 80,
      "outputs": []
    },
    {
      "cell_type": "code",
      "metadata": {
        "id": "ygIL3EFH0LuV",
        "colab": {
          "base_uri": "https://localhost:8080/",
          "height": 693
        },
        "outputId": "e6e83284-476b-447b-d320-c71de8c5091f"
      },
      "source": [
        "scaled = df2[['scaled_imdb', 'scaled_act1', 'scaled_cast']]\n",
        "scaled.hist(figsize=[10,10])"
      ],
      "execution_count": 82,
      "outputs": [
        {
          "output_type": "error",
          "ename": "KeyError",
          "evalue": "\"None of [Index(['scaled_imdb', 'scaled_act1', 'scaled_cast'], dtype='object')] are in the [columns]\"",
          "traceback": [
            "\u001b[0;31m---------------------------------------------------------------------------\u001b[0m",
            "\u001b[0;31mKeyError\u001b[0m                                  Traceback (most recent call last)",
            "\u001b[0;32m<ipython-input-82-5a9c1301f518>\u001b[0m in \u001b[0;36m<module>\u001b[0;34m()\u001b[0m\n\u001b[0;32m----> 1\u001b[0;31m \u001b[0mscaled\u001b[0m \u001b[0;34m=\u001b[0m \u001b[0mdf2\u001b[0m\u001b[0;34m[\u001b[0m\u001b[0;34m[\u001b[0m\u001b[0;34m'scaled_imdb'\u001b[0m\u001b[0;34m,\u001b[0m \u001b[0;34m'scaled_act1'\u001b[0m\u001b[0;34m,\u001b[0m \u001b[0;34m'scaled_cast'\u001b[0m\u001b[0;34m]\u001b[0m\u001b[0;34m]\u001b[0m\u001b[0;34m\u001b[0m\u001b[0;34m\u001b[0m\u001b[0m\n\u001b[0m\u001b[1;32m      2\u001b[0m \u001b[0mscaled\u001b[0m\u001b[0;34m.\u001b[0m\u001b[0mhist\u001b[0m\u001b[0;34m(\u001b[0m\u001b[0mfigsize\u001b[0m\u001b[0;34m=\u001b[0m\u001b[0;34m[\u001b[0m\u001b[0;36m10\u001b[0m\u001b[0;34m,\u001b[0m\u001b[0;36m10\u001b[0m\u001b[0;34m]\u001b[0m\u001b[0;34m)\u001b[0m\u001b[0;34m\u001b[0m\u001b[0;34m\u001b[0m\u001b[0m\n",
            "\u001b[0;32m/Users/examsherpa/opt/anaconda3/envs/learn-env/lib/python3.6/site-packages/pandas/core/frame.py\u001b[0m in \u001b[0;36m__getitem__\u001b[0;34m(self, key)\u001b[0m\n\u001b[1;32m   2999\u001b[0m             \u001b[0;32mif\u001b[0m \u001b[0mis_iterator\u001b[0m\u001b[0;34m(\u001b[0m\u001b[0mkey\u001b[0m\u001b[0;34m)\u001b[0m\u001b[0;34m:\u001b[0m\u001b[0;34m\u001b[0m\u001b[0;34m\u001b[0m\u001b[0m\n\u001b[1;32m   3000\u001b[0m                 \u001b[0mkey\u001b[0m \u001b[0;34m=\u001b[0m \u001b[0mlist\u001b[0m\u001b[0;34m(\u001b[0m\u001b[0mkey\u001b[0m\u001b[0;34m)\u001b[0m\u001b[0;34m\u001b[0m\u001b[0;34m\u001b[0m\u001b[0m\n\u001b[0;32m-> 3001\u001b[0;31m             \u001b[0mindexer\u001b[0m \u001b[0;34m=\u001b[0m \u001b[0mself\u001b[0m\u001b[0;34m.\u001b[0m\u001b[0mloc\u001b[0m\u001b[0;34m.\u001b[0m\u001b[0m_convert_to_indexer\u001b[0m\u001b[0;34m(\u001b[0m\u001b[0mkey\u001b[0m\u001b[0;34m,\u001b[0m \u001b[0maxis\u001b[0m\u001b[0;34m=\u001b[0m\u001b[0;36m1\u001b[0m\u001b[0;34m,\u001b[0m \u001b[0mraise_missing\u001b[0m\u001b[0;34m=\u001b[0m\u001b[0;32mTrue\u001b[0m\u001b[0;34m)\u001b[0m\u001b[0;34m\u001b[0m\u001b[0;34m\u001b[0m\u001b[0m\n\u001b[0m\u001b[1;32m   3002\u001b[0m \u001b[0;34m\u001b[0m\u001b[0m\n\u001b[1;32m   3003\u001b[0m         \u001b[0;31m# take() does not accept boolean indexers\u001b[0m\u001b[0;34m\u001b[0m\u001b[0;34m\u001b[0m\u001b[0;34m\u001b[0m\u001b[0m\n",
            "\u001b[0;32m/Users/examsherpa/opt/anaconda3/envs/learn-env/lib/python3.6/site-packages/pandas/core/indexing.py\u001b[0m in \u001b[0;36m_convert_to_indexer\u001b[0;34m(self, obj, axis, is_setter, raise_missing)\u001b[0m\n\u001b[1;32m   1283\u001b[0m                 \u001b[0;31m# When setting, missing keys are not allowed, even with .loc:\u001b[0m\u001b[0;34m\u001b[0m\u001b[0;34m\u001b[0m\u001b[0;34m\u001b[0m\u001b[0m\n\u001b[1;32m   1284\u001b[0m                 \u001b[0mkwargs\u001b[0m \u001b[0;34m=\u001b[0m \u001b[0;34m{\u001b[0m\u001b[0;34m\"raise_missing\"\u001b[0m\u001b[0;34m:\u001b[0m \u001b[0;32mTrue\u001b[0m \u001b[0;32mif\u001b[0m \u001b[0mis_setter\u001b[0m \u001b[0;32melse\u001b[0m \u001b[0mraise_missing\u001b[0m\u001b[0;34m}\u001b[0m\u001b[0;34m\u001b[0m\u001b[0;34m\u001b[0m\u001b[0m\n\u001b[0;32m-> 1285\u001b[0;31m                 \u001b[0;32mreturn\u001b[0m \u001b[0mself\u001b[0m\u001b[0;34m.\u001b[0m\u001b[0m_get_listlike_indexer\u001b[0m\u001b[0;34m(\u001b[0m\u001b[0mobj\u001b[0m\u001b[0;34m,\u001b[0m \u001b[0maxis\u001b[0m\u001b[0;34m,\u001b[0m \u001b[0;34m**\u001b[0m\u001b[0mkwargs\u001b[0m\u001b[0;34m)\u001b[0m\u001b[0;34m[\u001b[0m\u001b[0;36m1\u001b[0m\u001b[0;34m]\u001b[0m\u001b[0;34m\u001b[0m\u001b[0;34m\u001b[0m\u001b[0m\n\u001b[0m\u001b[1;32m   1286\u001b[0m         \u001b[0;32melse\u001b[0m\u001b[0;34m:\u001b[0m\u001b[0;34m\u001b[0m\u001b[0;34m\u001b[0m\u001b[0m\n\u001b[1;32m   1287\u001b[0m             \u001b[0;32mtry\u001b[0m\u001b[0;34m:\u001b[0m\u001b[0;34m\u001b[0m\u001b[0;34m\u001b[0m\u001b[0m\n",
            "\u001b[0;32m/Users/examsherpa/opt/anaconda3/envs/learn-env/lib/python3.6/site-packages/pandas/core/indexing.py\u001b[0m in \u001b[0;36m_get_listlike_indexer\u001b[0;34m(self, key, axis, raise_missing)\u001b[0m\n\u001b[1;32m   1090\u001b[0m \u001b[0;34m\u001b[0m\u001b[0m\n\u001b[1;32m   1091\u001b[0m         self._validate_read_indexer(\n\u001b[0;32m-> 1092\u001b[0;31m             \u001b[0mkeyarr\u001b[0m\u001b[0;34m,\u001b[0m \u001b[0mindexer\u001b[0m\u001b[0;34m,\u001b[0m \u001b[0mo\u001b[0m\u001b[0;34m.\u001b[0m\u001b[0m_get_axis_number\u001b[0m\u001b[0;34m(\u001b[0m\u001b[0maxis\u001b[0m\u001b[0;34m)\u001b[0m\u001b[0;34m,\u001b[0m \u001b[0mraise_missing\u001b[0m\u001b[0;34m=\u001b[0m\u001b[0mraise_missing\u001b[0m\u001b[0;34m\u001b[0m\u001b[0;34m\u001b[0m\u001b[0m\n\u001b[0m\u001b[1;32m   1093\u001b[0m         )\n\u001b[1;32m   1094\u001b[0m         \u001b[0;32mreturn\u001b[0m \u001b[0mkeyarr\u001b[0m\u001b[0;34m,\u001b[0m \u001b[0mindexer\u001b[0m\u001b[0;34m\u001b[0m\u001b[0;34m\u001b[0m\u001b[0m\n",
            "\u001b[0;32m/Users/examsherpa/opt/anaconda3/envs/learn-env/lib/python3.6/site-packages/pandas/core/indexing.py\u001b[0m in \u001b[0;36m_validate_read_indexer\u001b[0;34m(self, key, indexer, axis, raise_missing)\u001b[0m\n\u001b[1;32m   1175\u001b[0m                 raise KeyError(\n\u001b[1;32m   1176\u001b[0m                     \"None of [{key}] are in the [{axis}]\".format(\n\u001b[0;32m-> 1177\u001b[0;31m                         \u001b[0mkey\u001b[0m\u001b[0;34m=\u001b[0m\u001b[0mkey\u001b[0m\u001b[0;34m,\u001b[0m \u001b[0maxis\u001b[0m\u001b[0;34m=\u001b[0m\u001b[0mself\u001b[0m\u001b[0;34m.\u001b[0m\u001b[0mobj\u001b[0m\u001b[0;34m.\u001b[0m\u001b[0m_get_axis_name\u001b[0m\u001b[0;34m(\u001b[0m\u001b[0maxis\u001b[0m\u001b[0;34m)\u001b[0m\u001b[0;34m\u001b[0m\u001b[0;34m\u001b[0m\u001b[0m\n\u001b[0m\u001b[1;32m   1178\u001b[0m                     )\n\u001b[1;32m   1179\u001b[0m                 )\n",
            "\u001b[0;31mKeyError\u001b[0m: \"None of [Index(['scaled_imdb', 'scaled_act1', 'scaled_cast'], dtype='object')] are in the [columns]\""
          ]
        }
      ]
    },
    {
      "cell_type": "code",
      "metadata": {
        "id": "csLzhDdqGIIk"
      },
      "source": [],
      "execution_count": null,
      "outputs": []
    },
    {
      "cell_type": "code",
      "metadata": {
        "id": "-LlKcJGTGIWm"
      },
      "source": [],
      "execution_count": null,
      "outputs": []
    },
    {
      "cell_type": "markdown",
      "metadata": {
        "id": "hxxsNdTs0LuV"
      },
      "source": [
        "## Question 4a\n",
        "\n",
        "Create the following variables:\n",
        "\n",
        "- `years_old`: The number of years since the film was released.\n",
        "- Dummy categories for each of the following ratings:\n",
        "    - `G`\n",
        "    - `PG`\n",
        "    - `R`\n",
        "    \n",
        "Once you have those variables, create a summary output for the following OLS model:\n",
        "\n",
        "`gross~cast_total_facebook_likes+budget+years_old+G+PG+R`"
      ]
    },
    {
      "cell_type": "code",
      "metadata": {
        "id": "1ebJeGLU0LuV",
        "outputId": "b6aa952b-6393-4661-f64a-e71f932c1fa0"
      },
      "source": [
        "# your answer here\n",
        "df2.head()"
      ],
      "execution_count": 83,
      "outputs": [
        {
          "output_type": "execute_result",
          "data": {
            "text/plain": [
              "   color      director_name  num_crit_rev  duration  dir_fb_likes  \\\n",
              "0  Color      James Cameron         723.0     178.0           0.0   \n",
              "1  Color     Gore Verbinski         302.0     169.0         563.0   \n",
              "2  Color         Sam Mendes         602.0     148.0           0.0   \n",
              "3  Color  Christopher Nolan         813.0     164.0       22000.0   \n",
              "4    NaN        Doug Walker           NaN       NaN         131.0   \n",
              "\n",
              "   act3_fb_likes      actor_2_name  act1_fb_likes        gross  \\\n",
              "0          855.0  Joel David Moore         1000.0  760505847.0   \n",
              "1         1000.0     Orlando Bloom        40000.0  309404152.0   \n",
              "2          161.0      Rory Kinnear        11000.0  200074175.0   \n",
              "3        23000.0    Christian Bale        27000.0  448130642.0   \n",
              "4            NaN        Rob Walker          131.0          NaN   \n",
              "\n",
              "                                 genres     actor_1_name  \\\n",
              "0  [Action, Adventure, Fantasy, Sci-Fi]      CCH Pounder   \n",
              "1          [Action, Adventure, Fantasy]      Johnny Depp   \n",
              "2         [Action, Adventure, Thriller]  Christoph Waltz   \n",
              "3                    [Action, Thriller]        Tom Hardy   \n",
              "4                         [Documentary]      Doug Walker   \n",
              "\n",
              "                                         movie_title  num_voted_users  \\\n",
              "0                                            Avatar          886204.0   \n",
              "1          Pirates of the Caribbean: At World's End          471220.0   \n",
              "2                                           Spectre          275868.0   \n",
              "3                             The Dark Knight Rises         1144337.0   \n",
              "4  Star Wars: Episode VII - The Force Awakens    ...              8.0   \n",
              "\n",
              "   cast_fb_likes          actor_3_name  facenumber_in_poster  \\\n",
              "0         4834.0             Wes Studi                   0.0   \n",
              "1        48350.0        Jack Davenport                   0.0   \n",
              "2        11700.0      Stephanie Sigman                   1.0   \n",
              "3       106759.0  Joseph Gordon-Levitt                   0.0   \n",
              "4          143.0                   NaN                   0.0   \n",
              "\n",
              "                                       plot_keywords  \\\n",
              "0             avatar|future|marine|native|paraplegic   \n",
              "1  goddess|marriage ceremony|marriage proposal|pi...   \n",
              "2                bomb|espionage|sequel|spy|terrorist   \n",
              "3  deception|imprisonment|lawlessness|police offi...   \n",
              "4                                                NaN   \n",
              "\n",
              "                                     movie_imdb_link  num_user_rev language  \\\n",
              "0  http://www.imdb.com/title/tt0499549/?ref_=fn_t...        3054.0  English   \n",
              "1  http://www.imdb.com/title/tt0449088/?ref_=fn_t...        1238.0  English   \n",
              "2  http://www.imdb.com/title/tt2379713/?ref_=fn_t...         994.0  English   \n",
              "3  http://www.imdb.com/title/tt1345836/?ref_=fn_t...        2701.0  English   \n",
              "4  http://www.imdb.com/title/tt5289954/?ref_=fn_t...           NaN      NaN   \n",
              "\n",
              "  country content_rating       budget  title_year  act2_fb_likes  imdb_score  \\\n",
              "0     USA          PG-13  237000000.0      2009.0          936.0         7.9   \n",
              "1     USA          PG-13  300000000.0      2007.0         5000.0         7.1   \n",
              "2      UK          PG-13  245000000.0      2015.0          393.0         6.8   \n",
              "3     USA          PG-13  250000000.0      2012.0        23000.0         8.5   \n",
              "4     NaN            NaN          NaN         NaN           12.0         7.1   \n",
              "\n",
              "   aspect_ratio  mov_fb_likes   rating      genre_0    genre_1   genre_2  \\\n",
              "0          1.78       33000.0    PG-13       Action  Adventure   Fantasy   \n",
              "1          2.35           0.0    PG-13       Action  Adventure   Fantasy   \n",
              "2          2.35       85000.0    PG-13       Action  Adventure  Thriller   \n",
              "3          2.35      164000.0    PG-13       Action   Thriller      None   \n",
              "4           NaN           0.0  unrated  Documentary       None      None   \n",
              "\n",
              "   years_old  \n",
              "0       12.0  \n",
              "1       14.0  \n",
              "2        6.0  \n",
              "3        9.0  \n",
              "4        NaN  "
            ],
            "text/html": "<div>\n<style scoped>\n    .dataframe tbody tr th:only-of-type {\n        vertical-align: middle;\n    }\n\n    .dataframe tbody tr th {\n        vertical-align: top;\n    }\n\n    .dataframe thead th {\n        text-align: right;\n    }\n</style>\n<table border=\"1\" class=\"dataframe\">\n  <thead>\n    <tr style=\"text-align: right;\">\n      <th></th>\n      <th>color</th>\n      <th>director_name</th>\n      <th>num_crit_rev</th>\n      <th>duration</th>\n      <th>dir_fb_likes</th>\n      <th>act3_fb_likes</th>\n      <th>actor_2_name</th>\n      <th>act1_fb_likes</th>\n      <th>gross</th>\n      <th>genres</th>\n      <th>actor_1_name</th>\n      <th>movie_title</th>\n      <th>num_voted_users</th>\n      <th>cast_fb_likes</th>\n      <th>actor_3_name</th>\n      <th>facenumber_in_poster</th>\n      <th>plot_keywords</th>\n      <th>movie_imdb_link</th>\n      <th>num_user_rev</th>\n      <th>language</th>\n      <th>country</th>\n      <th>content_rating</th>\n      <th>budget</th>\n      <th>title_year</th>\n      <th>act2_fb_likes</th>\n      <th>imdb_score</th>\n      <th>aspect_ratio</th>\n      <th>mov_fb_likes</th>\n      <th>rating</th>\n      <th>genre_0</th>\n      <th>genre_1</th>\n      <th>genre_2</th>\n      <th>years_old</th>\n    </tr>\n  </thead>\n  <tbody>\n    <tr>\n      <th>0</th>\n      <td>Color</td>\n      <td>James Cameron</td>\n      <td>723.0</td>\n      <td>178.0</td>\n      <td>0.0</td>\n      <td>855.0</td>\n      <td>Joel David Moore</td>\n      <td>1000.0</td>\n      <td>760505847.0</td>\n      <td>[Action, Adventure, Fantasy, Sci-Fi]</td>\n      <td>CCH Pounder</td>\n      <td>Avatar</td>\n      <td>886204.0</td>\n      <td>4834.0</td>\n      <td>Wes Studi</td>\n      <td>0.0</td>\n      <td>avatar|future|marine|native|paraplegic</td>\n      <td>http://www.imdb.com/title/tt0499549/?ref_=fn_t...</td>\n      <td>3054.0</td>\n      <td>English</td>\n      <td>USA</td>\n      <td>PG-13</td>\n      <td>237000000.0</td>\n      <td>2009.0</td>\n      <td>936.0</td>\n      <td>7.9</td>\n      <td>1.78</td>\n      <td>33000.0</td>\n      <td>PG-13</td>\n      <td>Action</td>\n      <td>Adventure</td>\n      <td>Fantasy</td>\n      <td>12.0</td>\n    </tr>\n    <tr>\n      <th>1</th>\n      <td>Color</td>\n      <td>Gore Verbinski</td>\n      <td>302.0</td>\n      <td>169.0</td>\n      <td>563.0</td>\n      <td>1000.0</td>\n      <td>Orlando Bloom</td>\n      <td>40000.0</td>\n      <td>309404152.0</td>\n      <td>[Action, Adventure, Fantasy]</td>\n      <td>Johnny Depp</td>\n      <td>Pirates of the Caribbean: At World's End</td>\n      <td>471220.0</td>\n      <td>48350.0</td>\n      <td>Jack Davenport</td>\n      <td>0.0</td>\n      <td>goddess|marriage ceremony|marriage proposal|pi...</td>\n      <td>http://www.imdb.com/title/tt0449088/?ref_=fn_t...</td>\n      <td>1238.0</td>\n      <td>English</td>\n      <td>USA</td>\n      <td>PG-13</td>\n      <td>300000000.0</td>\n      <td>2007.0</td>\n      <td>5000.0</td>\n      <td>7.1</td>\n      <td>2.35</td>\n      <td>0.0</td>\n      <td>PG-13</td>\n      <td>Action</td>\n      <td>Adventure</td>\n      <td>Fantasy</td>\n      <td>14.0</td>\n    </tr>\n    <tr>\n      <th>2</th>\n      <td>Color</td>\n      <td>Sam Mendes</td>\n      <td>602.0</td>\n      <td>148.0</td>\n      <td>0.0</td>\n      <td>161.0</td>\n      <td>Rory Kinnear</td>\n      <td>11000.0</td>\n      <td>200074175.0</td>\n      <td>[Action, Adventure, Thriller]</td>\n      <td>Christoph Waltz</td>\n      <td>Spectre</td>\n      <td>275868.0</td>\n      <td>11700.0</td>\n      <td>Stephanie Sigman</td>\n      <td>1.0</td>\n      <td>bomb|espionage|sequel|spy|terrorist</td>\n      <td>http://www.imdb.com/title/tt2379713/?ref_=fn_t...</td>\n      <td>994.0</td>\n      <td>English</td>\n      <td>UK</td>\n      <td>PG-13</td>\n      <td>245000000.0</td>\n      <td>2015.0</td>\n      <td>393.0</td>\n      <td>6.8</td>\n      <td>2.35</td>\n      <td>85000.0</td>\n      <td>PG-13</td>\n      <td>Action</td>\n      <td>Adventure</td>\n      <td>Thriller</td>\n      <td>6.0</td>\n    </tr>\n    <tr>\n      <th>3</th>\n      <td>Color</td>\n      <td>Christopher Nolan</td>\n      <td>813.0</td>\n      <td>164.0</td>\n      <td>22000.0</td>\n      <td>23000.0</td>\n      <td>Christian Bale</td>\n      <td>27000.0</td>\n      <td>448130642.0</td>\n      <td>[Action, Thriller]</td>\n      <td>Tom Hardy</td>\n      <td>The Dark Knight Rises</td>\n      <td>1144337.0</td>\n      <td>106759.0</td>\n      <td>Joseph Gordon-Levitt</td>\n      <td>0.0</td>\n      <td>deception|imprisonment|lawlessness|police offi...</td>\n      <td>http://www.imdb.com/title/tt1345836/?ref_=fn_t...</td>\n      <td>2701.0</td>\n      <td>English</td>\n      <td>USA</td>\n      <td>PG-13</td>\n      <td>250000000.0</td>\n      <td>2012.0</td>\n      <td>23000.0</td>\n      <td>8.5</td>\n      <td>2.35</td>\n      <td>164000.0</td>\n      <td>PG-13</td>\n      <td>Action</td>\n      <td>Thriller</td>\n      <td>None</td>\n      <td>9.0</td>\n    </tr>\n    <tr>\n      <th>4</th>\n      <td>NaN</td>\n      <td>Doug Walker</td>\n      <td>NaN</td>\n      <td>NaN</td>\n      <td>131.0</td>\n      <td>NaN</td>\n      <td>Rob Walker</td>\n      <td>131.0</td>\n      <td>NaN</td>\n      <td>[Documentary]</td>\n      <td>Doug Walker</td>\n      <td>Star Wars: Episode VII - The Force Awakens    ...</td>\n      <td>8.0</td>\n      <td>143.0</td>\n      <td>NaN</td>\n      <td>0.0</td>\n      <td>NaN</td>\n      <td>http://www.imdb.com/title/tt5289954/?ref_=fn_t...</td>\n      <td>NaN</td>\n      <td>NaN</td>\n      <td>NaN</td>\n      <td>NaN</td>\n      <td>NaN</td>\n      <td>NaN</td>\n      <td>12.0</td>\n      <td>7.1</td>\n      <td>NaN</td>\n      <td>0.0</td>\n      <td>unrated</td>\n      <td>Documentary</td>\n      <td>None</td>\n      <td>None</td>\n      <td>NaN</td>\n    </tr>\n  </tbody>\n</table>\n</div>"
          },
          "metadata": {},
          "execution_count": 83
        }
      ]
    },
    {
      "cell_type": "code",
      "metadata": {
        "id": "K2lCkGom0LuV"
      },
      "source": [
        "df3 = df2[['gross', 'budget', 'duration', 'years_old', 'genre_0', 'imdb_score', 'act1_fb_likes', 'cast_fb_likes', 'rating']]"
      ],
      "execution_count": 84,
      "outputs": []
    },
    {
      "cell_type": "code",
      "metadata": {
        "id": "Hjt2Y6At0LuV"
      },
      "source": [
        "df3 = pd.get_dummies(df3, columns=['rating'])"
      ],
      "execution_count": 85,
      "outputs": []
    },
    {
      "cell_type": "code",
      "metadata": {
        "id": "9yhT2pHm0LuV"
      },
      "source": [
        "#df3 = pd.get_dummies(df3, columns=['genre_0'])"
      ],
      "execution_count": 86,
      "outputs": []
    },
    {
      "cell_type": "code",
      "metadata": {
        "id": "TVOCGg5I0LuV",
        "outputId": "cf6c5272-d164-4693-badf-3065332d6f0e"
      },
      "source": [
        "df3.head()"
      ],
      "execution_count": 87,
      "outputs": [
        {
          "output_type": "execute_result",
          "data": {
            "text/plain": [
              "         gross       budget  duration  years_old      genre_0  imdb_score  \\\n",
              "0  760505847.0  237000000.0     178.0       12.0       Action         7.9   \n",
              "1  309404152.0  300000000.0     169.0       14.0       Action         7.1   \n",
              "2  200074175.0  245000000.0     148.0        6.0       Action         6.8   \n",
              "3  448130642.0  250000000.0     164.0        9.0       Action         8.5   \n",
              "4          NaN          NaN       NaN        NaN  Documentary         7.1   \n",
              "\n",
              "   act1_fb_likes  cast_fb_likes  rating_G  rating_PG  rating_PG-13  rating_R  \\\n",
              "0         1000.0         4834.0         0          0             1         0   \n",
              "1        40000.0        48350.0         0          0             1         0   \n",
              "2        11000.0        11700.0         0          0             1         0   \n",
              "3        27000.0       106759.0         0          0             1         0   \n",
              "4          131.0          143.0         0          0             0         0   \n",
              "\n",
              "   rating_unrated  \n",
              "0               0  \n",
              "1               0  \n",
              "2               0  \n",
              "3               0  \n",
              "4               1  "
            ],
            "text/html": "<div>\n<style scoped>\n    .dataframe tbody tr th:only-of-type {\n        vertical-align: middle;\n    }\n\n    .dataframe tbody tr th {\n        vertical-align: top;\n    }\n\n    .dataframe thead th {\n        text-align: right;\n    }\n</style>\n<table border=\"1\" class=\"dataframe\">\n  <thead>\n    <tr style=\"text-align: right;\">\n      <th></th>\n      <th>gross</th>\n      <th>budget</th>\n      <th>duration</th>\n      <th>years_old</th>\n      <th>genre_0</th>\n      <th>imdb_score</th>\n      <th>act1_fb_likes</th>\n      <th>cast_fb_likes</th>\n      <th>rating_G</th>\n      <th>rating_PG</th>\n      <th>rating_PG-13</th>\n      <th>rating_R</th>\n      <th>rating_unrated</th>\n    </tr>\n  </thead>\n  <tbody>\n    <tr>\n      <th>0</th>\n      <td>760505847.0</td>\n      <td>237000000.0</td>\n      <td>178.0</td>\n      <td>12.0</td>\n      <td>Action</td>\n      <td>7.9</td>\n      <td>1000.0</td>\n      <td>4834.0</td>\n      <td>0</td>\n      <td>0</td>\n      <td>1</td>\n      <td>0</td>\n      <td>0</td>\n    </tr>\n    <tr>\n      <th>1</th>\n      <td>309404152.0</td>\n      <td>300000000.0</td>\n      <td>169.0</td>\n      <td>14.0</td>\n      <td>Action</td>\n      <td>7.1</td>\n      <td>40000.0</td>\n      <td>48350.0</td>\n      <td>0</td>\n      <td>0</td>\n      <td>1</td>\n      <td>0</td>\n      <td>0</td>\n    </tr>\n    <tr>\n      <th>2</th>\n      <td>200074175.0</td>\n      <td>245000000.0</td>\n      <td>148.0</td>\n      <td>6.0</td>\n      <td>Action</td>\n      <td>6.8</td>\n      <td>11000.0</td>\n      <td>11700.0</td>\n      <td>0</td>\n      <td>0</td>\n      <td>1</td>\n      <td>0</td>\n      <td>0</td>\n    </tr>\n    <tr>\n      <th>3</th>\n      <td>448130642.0</td>\n      <td>250000000.0</td>\n      <td>164.0</td>\n      <td>9.0</td>\n      <td>Action</td>\n      <td>8.5</td>\n      <td>27000.0</td>\n      <td>106759.0</td>\n      <td>0</td>\n      <td>0</td>\n      <td>1</td>\n      <td>0</td>\n      <td>0</td>\n    </tr>\n    <tr>\n      <th>4</th>\n      <td>NaN</td>\n      <td>NaN</td>\n      <td>NaN</td>\n      <td>NaN</td>\n      <td>Documentary</td>\n      <td>7.1</td>\n      <td>131.0</td>\n      <td>143.0</td>\n      <td>0</td>\n      <td>0</td>\n      <td>0</td>\n      <td>0</td>\n      <td>1</td>\n    </tr>\n  </tbody>\n</table>\n</div>"
          },
          "metadata": {},
          "execution_count": 87
        }
      ]
    },
    {
      "cell_type": "code",
      "metadata": {
        "id": "CuV_UUTR0LuV",
        "outputId": "22684ad6-48eb-426c-c11d-132475c37aa2"
      },
      "source": [
        "mlr_model = ols(formula='gross~cast_fb_likes+budget+years_old+rating_G+rating_PG+rating_R', data=df3).fit()\n",
        "mlr_model.summary()"
      ],
      "execution_count": 88,
      "outputs": [
        {
          "output_type": "execute_result",
          "data": {
            "text/plain": [
              "<class 'statsmodels.iolib.summary.Summary'>\n",
              "\"\"\"\n",
              "                            OLS Regression Results                            \n",
              "==============================================================================\n",
              "Dep. Variable:                  gross   R-squared:                       0.134\n",
              "Model:                            OLS   Adj. R-squared:                  0.133\n",
              "Method:                 Least Squares   F-statistic:                     99.92\n",
              "Date:                Mon, 14 Dec 2020   Prob (F-statistic):          3.25e-117\n",
              "Time:                        23:26:14   Log-Likelihood:                -75154.\n",
              "No. Observations:                3872   AIC:                         1.503e+05\n",
              "Df Residuals:                    3865   BIC:                         1.504e+05\n",
              "Df Model:                           6                                         \n",
              "Covariance Type:            nonrobust                                         \n",
              "=================================================================================\n",
              "                    coef    std err          t      P>|t|      [0.025      0.975]\n",
              "---------------------------------------------------------------------------------\n",
              "Intercept      5.245e+07   2.63e+06     19.969      0.000    4.73e+07    5.76e+07\n",
              "cast_fb_likes   865.6855     55.716     15.538      0.000     756.451     974.920\n",
              "budget            0.0269      0.005      5.712      0.000       0.018       0.036\n",
              "years_old     -1.213e+05   1.07e+05     -1.131      0.258   -3.31e+05     8.9e+04\n",
              "rating_G       2.829e+07   7.08e+06      3.997      0.000    1.44e+07    4.22e+07\n",
              "rating_PG      1.523e+07   3.21e+06      4.741      0.000    8.93e+06    2.15e+07\n",
              "rating_R      -2.898e+07   2.32e+06    -12.512      0.000   -3.35e+07   -2.44e+07\n",
              "==============================================================================\n",
              "Omnibus:                     2323.712   Durbin-Watson:                   1.062\n",
              "Prob(Omnibus):                  0.000   Jarque-Bera (JB):            39486.791\n",
              "Skew:                           2.537   Prob(JB):                         0.00\n",
              "Kurtosis:                      17.799   Cond. No.                     1.55e+09\n",
              "==============================================================================\n",
              "\n",
              "Notes:\n",
              "[1] Standard Errors assume that the covariance matrix of the errors is correctly specified.\n",
              "[2] The condition number is large, 1.55e+09. This might indicate that there are\n",
              "strong multicollinearity or other numerical problems.\n",
              "\"\"\""
            ],
            "text/html": "<table class=\"simpletable\">\n<caption>OLS Regression Results</caption>\n<tr>\n  <th>Dep. Variable:</th>          <td>gross</td>      <th>  R-squared:         </th> <td>   0.134</td> \n</tr>\n<tr>\n  <th>Model:</th>                   <td>OLS</td>       <th>  Adj. R-squared:    </th> <td>   0.133</td> \n</tr>\n<tr>\n  <th>Method:</th>             <td>Least Squares</td>  <th>  F-statistic:       </th> <td>   99.92</td> \n</tr>\n<tr>\n  <th>Date:</th>             <td>Mon, 14 Dec 2020</td> <th>  Prob (F-statistic):</th> <td>3.25e-117</td>\n</tr>\n<tr>\n  <th>Time:</th>                 <td>23:26:14</td>     <th>  Log-Likelihood:    </th> <td> -75154.</td> \n</tr>\n<tr>\n  <th>No. Observations:</th>      <td>  3872</td>      <th>  AIC:               </th> <td>1.503e+05</td>\n</tr>\n<tr>\n  <th>Df Residuals:</th>          <td>  3865</td>      <th>  BIC:               </th> <td>1.504e+05</td>\n</tr>\n<tr>\n  <th>Df Model:</th>              <td>     6</td>      <th>                     </th>     <td> </td>    \n</tr>\n<tr>\n  <th>Covariance Type:</th>      <td>nonrobust</td>    <th>                     </th>     <td> </td>    \n</tr>\n</table>\n<table class=\"simpletable\">\n<tr>\n        <td></td>           <th>coef</th>     <th>std err</th>      <th>t</th>      <th>P>|t|</th>  <th>[0.025</th>    <th>0.975]</th>  \n</tr>\n<tr>\n  <th>Intercept</th>     <td> 5.245e+07</td> <td> 2.63e+06</td> <td>   19.969</td> <td> 0.000</td> <td> 4.73e+07</td> <td> 5.76e+07</td>\n</tr>\n<tr>\n  <th>cast_fb_likes</th> <td>  865.6855</td> <td>   55.716</td> <td>   15.538</td> <td> 0.000</td> <td>  756.451</td> <td>  974.920</td>\n</tr>\n<tr>\n  <th>budget</th>        <td>    0.0269</td> <td>    0.005</td> <td>    5.712</td> <td> 0.000</td> <td>    0.018</td> <td>    0.036</td>\n</tr>\n<tr>\n  <th>years_old</th>     <td>-1.213e+05</td> <td> 1.07e+05</td> <td>   -1.131</td> <td> 0.258</td> <td>-3.31e+05</td> <td>  8.9e+04</td>\n</tr>\n<tr>\n  <th>rating_G</th>      <td> 2.829e+07</td> <td> 7.08e+06</td> <td>    3.997</td> <td> 0.000</td> <td> 1.44e+07</td> <td> 4.22e+07</td>\n</tr>\n<tr>\n  <th>rating_PG</th>     <td> 1.523e+07</td> <td> 3.21e+06</td> <td>    4.741</td> <td> 0.000</td> <td> 8.93e+06</td> <td> 2.15e+07</td>\n</tr>\n<tr>\n  <th>rating_R</th>      <td>-2.898e+07</td> <td> 2.32e+06</td> <td>  -12.512</td> <td> 0.000</td> <td>-3.35e+07</td> <td>-2.44e+07</td>\n</tr>\n</table>\n<table class=\"simpletable\">\n<tr>\n  <th>Omnibus:</th>       <td>2323.712</td> <th>  Durbin-Watson:     </th> <td>   1.062</td> \n</tr>\n<tr>\n  <th>Prob(Omnibus):</th>  <td> 0.000</td>  <th>  Jarque-Bera (JB):  </th> <td>39486.791</td>\n</tr>\n<tr>\n  <th>Skew:</th>           <td> 2.537</td>  <th>  Prob(JB):          </th> <td>    0.00</td> \n</tr>\n<tr>\n  <th>Kurtosis:</th>       <td>17.799</td>  <th>  Cond. No.          </th> <td>1.55e+09</td> \n</tr>\n</table><br/><br/>Notes:<br/>[1] Standard Errors assume that the covariance matrix of the errors is correctly specified.<br/>[2] The condition number is large, 1.55e+09. This might indicate that there are<br/>strong multicollinearity or other numerical problems."
          },
          "metadata": {},
          "execution_count": 88
        }
      ]
    },
    {
      "cell_type": "markdown",
      "metadata": {
        "id": "89pIX5U60LuV"
      },
      "source": [
        "## Question 4b\n",
        "\n",
        "Below is the summary output you should have gotten above. Identify any key takeaways from it.\n",
        "- How ‘good’ is this model?\n",
        "- Which features help to explain the variance in the target variable? \n",
        "    - Which do not? \n"
      ]
    },
    {
      "cell_type": "markdown",
      "metadata": {
        "id": "Uij6GWOF0LuV"
      },
      "source": [
        "# <img src=\"ols_summary.png\" style=\"withd:300px;\">![ols_summary.png](data:image/png;base64,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)"
      ]
    },
    {
      "cell_type": "code",
      "metadata": {
        "id": "t72A661r0LuV"
      },
      "source": [
        "# your answer here\n"
      ],
      "execution_count": 89,
      "outputs": []
    },
    {
      "cell_type": "markdown",
      "metadata": {
        "id": "IjyzVrfp0LuV"
      },
      "source": [
        "## Question 5\n",
        "\n",
        "**Bayes Theorem**\n",
        "\n",
        "An advertising executive is studying television viewing habits of married men and women during prime time hours. Based on the past viewing records he has determined that during prime time wives are watching television 60% of the time. It has also been determined that when the wife is watching television, 40% of the time the husband is also watching. When the wife is not watching the television, 30% of the time the husband is watching the television. Find the probability that if the husband is watching the television, the wife is also watching the television."
      ]
    },
    {
      "cell_type": "markdown",
      "metadata": {
        "id": "jKHq9QeP0LuV"
      },
      "source": [
        "Given:<br />\n",
        "P(W) = 60% so P(NW) = 40%<br />\n",
        "P(W) = P(W|H) + P(W|NH)<br />\n",
        "P(H and W) = 40%<br />\n",
        "P(H and NW) = 30%<br />\n",
        "\n",
        "<table>         \n",
        "<tr>\n",
        "<th></th>\n",
        "<th>W(60%)</th>      \n",
        "<th>NW(40%)</th>\n",
        "</tr>\n",
        "<tr>\n",
        "<th>H</th>\n",
        "<th>40%=0.24</th>    \n",
        "<th>30%=0.12</th>\n",
        "</tr>\n",
        "<tr>\n",
        "<th>NH</th>\n",
        "<th>60%=0.36</th>\n",
        "<th>70%=0.28</th>\n",
        "</tr>\n",
        "</table>\n",
        "\n",
        "P(W|H) = 0.24"
      ]
    },
    {
      "cell_type": "markdown",
      "metadata": {
        "id": "uZMnHyau0LuV"
      },
      "source": [
        "## Question 6\n",
        "\n",
        "Explain what a Type I error is and how it relates to the significance level when doing a statistical test. "
      ]
    },
    {
      "cell_type": "markdown",
      "metadata": {
        "id": "nJZjQKKj0LuV"
      },
      "source": [
        "## Alpha and Type I Errors\n",
        "\n",
        "- chance of accidentally rejecting a null hypothesis when it should not have been rejected. \n",
        "- Having a positive test for cancer or disease when you are negative is an example of a type I error.\n",
        "- confidence level is inversely related to probability of type I error: when you increase one, you decrease the other.\n",
        "\n"
      ]
    },
    {
      "cell_type": "code",
      "metadata": {
        "id": "jQQVpSak0LuV"
      },
      "source": [],
      "execution_count": null,
      "outputs": []
    }
  ]
}