{
  "nbformat": 4,
  "nbformat_minor": 0,
  "metadata": {
    "colab": {
      "name": "Housing_Data_Analysis_and_Prediction_jpynb.ipynb",
      "provenance": [],
      "collapsed_sections": [
        "Pc4bI8ZY41kQ",
        "IdkIjAZsjRVj",
        "obC7MlVYxJbt",
        "xryxIncCptrZ"
      ]
    },
    "kernelspec": {
      "display_name": "Python 3",
      "name": "python3"
    }
  },
  "cells": [
    {
      "cell_type": "markdown",
      "metadata": {
        "id": "TKQF92x-v9o-"
      },
      "source": [
        "# **Business Questions**"
      ]
    },
    {
      "cell_type": "markdown",
      "metadata": {
        "id": "r1M7Rvplp5pI"
      },
      "source": [
        "# **Exploratory Data Analysis**"
      ]
    },
    {
      "cell_type": "code",
      "metadata": {
        "colab": {
          "base_uri": "https://localhost:8080/"
        },
        "id": "5q8TWWPi0LuR",
        "outputId": "9815449f-dfed-45cf-d166-7f6a26d830e9"
      },
      "source": [
        "# import packages for data cleaning and processing  \n",
        "import pandas as pd\n",
        "import numpy as np\n",
        "from datetime import datetime\n",
        "\n",
        "from sklearn.preprocessing import StandardScaler\n",
        "from sklearn.preprocessing import LabelBinarizer\n",
        "from sklearn.preprocessing import LabelEncoder\n",
        "\n",
        "\n",
        "import statsmodels.api as sm\n",
        "import statsmodels.formula.api as smf\n",
        "from statsmodels.formula.api import ols\n",
        "import scipy.stats as scs\n",
        "\n",
        "# import visualization modules\n",
        "import seaborn as sns\n",
        "import matplotlib.pyplot as plt\n",
        "\n",
        "# set display options for Pandas dataframes\n",
        "pd.set_option('display.max_rows', 200)\n",
        "pd.set_option('display.max_columns', 200)"
      ],
      "execution_count": 1,
      "outputs": []
    },
    {
      "cell_type": "code",
      "metadata": {
        "id": "Ay8dvsFCPoq-"
      },
      "source": [
        "from sklearn.model_selection import train_test_split\n",
        "from sklearn.linear_model import LinearRegression\n",
        "from sklearn.preprocessing import PolynomialFeatures\n",
        "from sklearn import metrics\n",
        "from sklearn import linear_model\n",
        "from sklearn.feature_selection import SelectKBest, f_regression,mutual_info_regression\n",
        "from sklearn.feature_selection import RFECV\n",
        "import pickle"
      ],
      "execution_count": 2,
      "outputs": []
    },
    {
      "cell_type": "code",
      "metadata": {
        "colab": {
          "resources": {
            "http://localhost:8080/nbextensions/google.colab/files.js": {
              "data": "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",
              "ok": true,
              "headers": [
                [
                  "content-type",
                  "application/javascript"
                ]
              ],
              "status": 200,
              "status_text": ""
            }
          },
          "base_uri": "https://localhost:8080/",
          "height": 72
        },
        "id": "aAJqumsakq65",
        "outputId": "185e24b7-7554-401a-c28b-74422cd88b67"
      },
      "source": [
        "from google.colab import files\n",
        "uploaded = files.upload()"
      ],
      "execution_count": 3,
      "outputs": [
        {
          "output_type": "error",
          "ename": "ModuleNotFoundError",
          "evalue": "No module named 'google'",
          "traceback": [
            "\u001b[0;31m---------------------------------------------------------------------------\u001b[0m",
            "\u001b[0;31mModuleNotFoundError\u001b[0m                       Traceback (most recent call last)",
            "\u001b[0;32m<ipython-input-3-21dc3c638f66>\u001b[0m in \u001b[0;36m<module>\u001b[0;34m\u001b[0m\n\u001b[0;32m----> 1\u001b[0;31m \u001b[0;32mfrom\u001b[0m \u001b[0mgoogle\u001b[0m\u001b[0;34m.\u001b[0m\u001b[0mcolab\u001b[0m \u001b[0;32mimport\u001b[0m \u001b[0mfiles\u001b[0m\u001b[0;34m\u001b[0m\u001b[0;34m\u001b[0m\u001b[0m\n\u001b[0m\u001b[1;32m      2\u001b[0m \u001b[0muploaded\u001b[0m \u001b[0;34m=\u001b[0m \u001b[0mfiles\u001b[0m\u001b[0;34m.\u001b[0m\u001b[0mupload\u001b[0m\u001b[0;34m(\u001b[0m\u001b[0;34m)\u001b[0m\u001b[0;34m\u001b[0m\u001b[0;34m\u001b[0m\u001b[0m\n",
            "\u001b[0;31mModuleNotFoundError\u001b[0m: No module named 'google'"
          ]
        }
      ]
    },
    {
      "cell_type": "code",
      "metadata": {
        "id": "YIxRo8GzWb3e"
      },
      "source": [
        "# Read CSV file into notebook\n",
        "df = pd.read_csv('kc_house_data_train.csv', index_col=0)"
      ],
      "execution_count": 4,
      "outputs": []
    },
    {
      "cell_type": "code",
      "metadata": {
        "colab": {
          "base_uri": "https://localhost:8080/"
        },
        "id": "hO1eum4xHmnO",
        "outputId": "95b00b36-b49a-4f30-a01d-113a3c3cee7f"
      },
      "source": [
        "df.shape"
      ],
      "execution_count": 5,
      "outputs": [
        {
          "output_type": "execute_result",
          "data": {
            "text/plain": [
              "(17290, 21)"
            ]
          },
          "metadata": {},
          "execution_count": 5
        }
      ]
    },
    {
      "cell_type": "code",
      "metadata": {
        "colab": {
          "base_uri": "https://localhost:8080/",
          "height": 224
        },
        "id": "Mre5lP88XDg_",
        "outputId": "cd715478-f23c-4f23-ca7d-1248d9cd0803"
      },
      "source": [
        "# Display first 5 rows of dataset\n",
        "df.head()"
      ],
      "execution_count": 6,
      "outputs": [
        {
          "output_type": "execute_result",
          "data": {
            "text/plain": [
              "           id             date      price  bedrooms  bathrooms  sqft_living  \\\n",
              "0  2591820310  20141006T000000   365000.0         4       2.25         2070   \n",
              "1  7974200820  20140821T000000   865000.0         5       3.00         2900   \n",
              "2  7701450110  20140815T000000  1038000.0         4       2.50         3770   \n",
              "3  9522300010  20150331T000000  1490000.0         3       3.50         4560   \n",
              "4  9510861140  20140714T000000   711000.0         3       2.50         2550   \n",
              "\n",
              "   sqft_lot  floors  waterfront  view  condition  grade  sqft_above  \\\n",
              "0      8893     2.0           0     0          4      8        2070   \n",
              "1      6730     1.0           0     0          5      8        1830   \n",
              "2     10893     2.0           0     2          3     11        3770   \n",
              "3     14608     2.0           0     2          3     12        4560   \n",
              "4      5376     2.0           0     0          3      9        2550   \n",
              "\n",
              "   sqft_basement  yr_built  yr_renovated  zipcode      lat     long  \\\n",
              "0              0      1986             0    98058  47.4388 -122.162   \n",
              "1           1070      1977             0    98115  47.6784 -122.285   \n",
              "2              0      1997             0    98006  47.5646 -122.129   \n",
              "3              0      1990             0    98034  47.6995 -122.228   \n",
              "4              0      2004             0    98052  47.6647 -122.083   \n",
              "\n",
              "   sqft_living15  sqft_lot15  \n",
              "0           2390        7700  \n",
              "1           2370        6283  \n",
              "2           3710        9685  \n",
              "3           4050       14226  \n",
              "4           2250        4050  "
            ],
            "text/html": "<div>\n<style scoped>\n    .dataframe tbody tr th:only-of-type {\n        vertical-align: middle;\n    }\n\n    .dataframe tbody tr th {\n        vertical-align: top;\n    }\n\n    .dataframe thead th {\n        text-align: right;\n    }\n</style>\n<table border=\"1\" class=\"dataframe\">\n  <thead>\n    <tr style=\"text-align: right;\">\n      <th></th>\n      <th>id</th>\n      <th>date</th>\n      <th>price</th>\n      <th>bedrooms</th>\n      <th>bathrooms</th>\n      <th>sqft_living</th>\n      <th>sqft_lot</th>\n      <th>floors</th>\n      <th>waterfront</th>\n      <th>view</th>\n      <th>condition</th>\n      <th>grade</th>\n      <th>sqft_above</th>\n      <th>sqft_basement</th>\n      <th>yr_built</th>\n      <th>yr_renovated</th>\n      <th>zipcode</th>\n      <th>lat</th>\n      <th>long</th>\n      <th>sqft_living15</th>\n      <th>sqft_lot15</th>\n    </tr>\n  </thead>\n  <tbody>\n    <tr>\n      <th>0</th>\n      <td>2591820310</td>\n      <td>20141006T000000</td>\n      <td>365000.0</td>\n      <td>4</td>\n      <td>2.25</td>\n      <td>2070</td>\n      <td>8893</td>\n      <td>2.0</td>\n      <td>0</td>\n      <td>0</td>\n      <td>4</td>\n      <td>8</td>\n      <td>2070</td>\n      <td>0</td>\n      <td>1986</td>\n      <td>0</td>\n      <td>98058</td>\n      <td>47.4388</td>\n      <td>-122.162</td>\n      <td>2390</td>\n      <td>7700</td>\n    </tr>\n    <tr>\n      <th>1</th>\n      <td>7974200820</td>\n      <td>20140821T000000</td>\n      <td>865000.0</td>\n      <td>5</td>\n      <td>3.00</td>\n      <td>2900</td>\n      <td>6730</td>\n      <td>1.0</td>\n      <td>0</td>\n      <td>0</td>\n      <td>5</td>\n      <td>8</td>\n      <td>1830</td>\n      <td>1070</td>\n      <td>1977</td>\n      <td>0</td>\n      <td>98115</td>\n      <td>47.6784</td>\n      <td>-122.285</td>\n      <td>2370</td>\n      <td>6283</td>\n    </tr>\n    <tr>\n      <th>2</th>\n      <td>7701450110</td>\n      <td>20140815T000000</td>\n      <td>1038000.0</td>\n      <td>4</td>\n      <td>2.50</td>\n      <td>3770</td>\n      <td>10893</td>\n      <td>2.0</td>\n      <td>0</td>\n      <td>2</td>\n      <td>3</td>\n      <td>11</td>\n      <td>3770</td>\n      <td>0</td>\n      <td>1997</td>\n      <td>0</td>\n      <td>98006</td>\n      <td>47.5646</td>\n      <td>-122.129</td>\n      <td>3710</td>\n      <td>9685</td>\n    </tr>\n    <tr>\n      <th>3</th>\n      <td>9522300010</td>\n      <td>20150331T000000</td>\n      <td>1490000.0</td>\n      <td>3</td>\n      <td>3.50</td>\n      <td>4560</td>\n      <td>14608</td>\n      <td>2.0</td>\n      <td>0</td>\n      <td>2</td>\n      <td>3</td>\n      <td>12</td>\n      <td>4560</td>\n      <td>0</td>\n      <td>1990</td>\n      <td>0</td>\n      <td>98034</td>\n      <td>47.6995</td>\n      <td>-122.228</td>\n      <td>4050</td>\n      <td>14226</td>\n    </tr>\n    <tr>\n      <th>4</th>\n      <td>9510861140</td>\n      <td>20140714T000000</td>\n      <td>711000.0</td>\n      <td>3</td>\n      <td>2.50</td>\n      <td>2550</td>\n      <td>5376</td>\n      <td>2.0</td>\n      <td>0</td>\n      <td>0</td>\n      <td>3</td>\n      <td>9</td>\n      <td>2550</td>\n      <td>0</td>\n      <td>2004</td>\n      <td>0</td>\n      <td>98052</td>\n      <td>47.6647</td>\n      <td>-122.083</td>\n      <td>2250</td>\n      <td>4050</td>\n    </tr>\n  </tbody>\n</table>\n</div>"
          },
          "metadata": {},
          "execution_count": 6
        }
      ]
    },
    {
      "cell_type": "code",
      "execution_count": 7,
      "metadata": {},
      "outputs": [
        {
          "output_type": "execute_result",
          "data": {
            "text/plain": [
              "               id             date     price  bedrooms  bathrooms  \\\n",
              "17285   627300195  20150303T000000  750000.0         5       2.50   \n",
              "17286  8819900270  20140520T000000  440000.0         2       1.75   \n",
              "17287  3816300095  20140514T000000  310000.0         3       1.00   \n",
              "17288   122069107  20141204T000000  427500.0         3       1.50   \n",
              "17289  6703100135  20150116T000000  348000.0         3       1.50   \n",
              "\n",
              "       sqft_living  sqft_lot  floors  waterfront  view  condition  grade  \\\n",
              "17285         3240      9960     1.0           0     1          3      8   \n",
              "17286         1300      4000     2.0           0     0          3      7   \n",
              "17287         1050      9876     1.0           0     0          3      7   \n",
              "17288         1900     43186     1.5           0     0          4      7   \n",
              "17289         1330      6768     1.0           0     0          4      7   \n",
              "\n",
              "       sqft_above  sqft_basement  yr_built  yr_renovated  zipcode      lat  \\\n",
              "17285        2020           1220      1958             0    98008  47.5858   \n",
              "17286        1300              0      1948             0    98105  47.6687   \n",
              "17287        1050              0      1953             0    98028  47.7635   \n",
              "17288        1300            600      1971             0    98038  47.4199   \n",
              "17289        1330              0      1952             0    98155  47.7366   \n",
              "\n",
              "          long  sqft_living15  sqft_lot15  \n",
              "17285 -122.112           2730       10400  \n",
              "17286 -122.288           1350        4013  \n",
              "17287 -122.262           1760        9403  \n",
              "17288 -121.990           2080      108028  \n",
              "17289 -122.319           1320        6910  "
            ],
            "text/html": "<div>\n<style scoped>\n    .dataframe tbody tr th:only-of-type {\n        vertical-align: middle;\n    }\n\n    .dataframe tbody tr th {\n        vertical-align: top;\n    }\n\n    .dataframe thead th {\n        text-align: right;\n    }\n</style>\n<table border=\"1\" class=\"dataframe\">\n  <thead>\n    <tr style=\"text-align: right;\">\n      <th></th>\n      <th>id</th>\n      <th>date</th>\n      <th>price</th>\n      <th>bedrooms</th>\n      <th>bathrooms</th>\n      <th>sqft_living</th>\n      <th>sqft_lot</th>\n      <th>floors</th>\n      <th>waterfront</th>\n      <th>view</th>\n      <th>condition</th>\n      <th>grade</th>\n      <th>sqft_above</th>\n      <th>sqft_basement</th>\n      <th>yr_built</th>\n      <th>yr_renovated</th>\n      <th>zipcode</th>\n      <th>lat</th>\n      <th>long</th>\n      <th>sqft_living15</th>\n      <th>sqft_lot15</th>\n    </tr>\n  </thead>\n  <tbody>\n    <tr>\n      <th>17285</th>\n      <td>627300195</td>\n      <td>20150303T000000</td>\n      <td>750000.0</td>\n      <td>5</td>\n      <td>2.50</td>\n      <td>3240</td>\n      <td>9960</td>\n      <td>1.0</td>\n      <td>0</td>\n      <td>1</td>\n      <td>3</td>\n      <td>8</td>\n      <td>2020</td>\n      <td>1220</td>\n      <td>1958</td>\n      <td>0</td>\n      <td>98008</td>\n      <td>47.5858</td>\n      <td>-122.112</td>\n      <td>2730</td>\n      <td>10400</td>\n    </tr>\n    <tr>\n      <th>17286</th>\n      <td>8819900270</td>\n      <td>20140520T000000</td>\n      <td>440000.0</td>\n      <td>2</td>\n      <td>1.75</td>\n      <td>1300</td>\n      <td>4000</td>\n      <td>2.0</td>\n      <td>0</td>\n      <td>0</td>\n      <td>3</td>\n      <td>7</td>\n      <td>1300</td>\n      <td>0</td>\n      <td>1948</td>\n      <td>0</td>\n      <td>98105</td>\n      <td>47.6687</td>\n      <td>-122.288</td>\n      <td>1350</td>\n      <td>4013</td>\n    </tr>\n    <tr>\n      <th>17287</th>\n      <td>3816300095</td>\n      <td>20140514T000000</td>\n      <td>310000.0</td>\n      <td>3</td>\n      <td>1.00</td>\n      <td>1050</td>\n      <td>9876</td>\n      <td>1.0</td>\n      <td>0</td>\n      <td>0</td>\n      <td>3</td>\n      <td>7</td>\n      <td>1050</td>\n      <td>0</td>\n      <td>1953</td>\n      <td>0</td>\n      <td>98028</td>\n      <td>47.7635</td>\n      <td>-122.262</td>\n      <td>1760</td>\n      <td>9403</td>\n    </tr>\n    <tr>\n      <th>17288</th>\n      <td>122069107</td>\n      <td>20141204T000000</td>\n      <td>427500.0</td>\n      <td>3</td>\n      <td>1.50</td>\n      <td>1900</td>\n      <td>43186</td>\n      <td>1.5</td>\n      <td>0</td>\n      <td>0</td>\n      <td>4</td>\n      <td>7</td>\n      <td>1300</td>\n      <td>600</td>\n      <td>1971</td>\n      <td>0</td>\n      <td>98038</td>\n      <td>47.4199</td>\n      <td>-121.990</td>\n      <td>2080</td>\n      <td>108028</td>\n    </tr>\n    <tr>\n      <th>17289</th>\n      <td>6703100135</td>\n      <td>20150116T000000</td>\n      <td>348000.0</td>\n      <td>3</td>\n      <td>1.50</td>\n      <td>1330</td>\n      <td>6768</td>\n      <td>1.0</td>\n      <td>0</td>\n      <td>0</td>\n      <td>4</td>\n      <td>7</td>\n      <td>1330</td>\n      <td>0</td>\n      <td>1952</td>\n      <td>0</td>\n      <td>98155</td>\n      <td>47.7366</td>\n      <td>-122.319</td>\n      <td>1320</td>\n      <td>6910</td>\n    </tr>\n  </tbody>\n</table>\n</div>"
          },
          "metadata": {},
          "execution_count": 7
        }
      ],
      "source": [
        "df.tail()"
      ]
    },
    {
      "cell_type": "code",
      "metadata": {
        "colab": {
          "base_uri": "https://localhost:8080/",
          "height": 317
        },
        "id": "rYTyqfN7XtTe",
        "outputId": "e5b9be02-b46f-4c63-e59d-4d2716370b86"
      },
      "source": [
        "# Get descriptive analytics of dataset\n",
        "df.describe()"
      ],
      "execution_count": 8,
      "outputs": [
        {
          "output_type": "execute_result",
          "data": {
            "text/plain": [
              "00   \n",
              "mean   1.524340e+04      1.490312      0.007981      0.238519      3.408502   \n",
              "std    4.230462e+04      0.538909      0.088985      0.775229      0.651296   \n",
              "min    5.720000e+02      1.000000      0.000000      0.000000      1.000000   \n",
              "25%    5.081250e+03      1.000000      0.000000      0.000000      3.000000   \n",
              "50%    7.642000e+03      1.500000      0.000000      0.000000      3.000000   \n",
              "75%    1.072575e+04      2.000000      0.000000      0.000000      4.000000   \n",
              "max    1.651359e+06      3.500000      1.000000      4.000000      5.000000   \n",
              "\n",
              "              grade    sqft_above  sqft_basement      yr_built  yr_renovated  \\\n",
              "count  17290.000000  17290.000000   17290.000000  17290.000000  17290.000000   \n",
              "mean       7.654425   1789.306015     292.158589   1970.792019     83.806304   \n",
              "std        1.174718    829.265107     443.151874     29.343516    400.329376   \n",
              "min        1.000000    290.000000       0.000000   1900.000000      0.000000   \n",
              "25%        7.000000   1200.000000       0.000000   1951.000000      0.000000   \n",
              "50%        7.000000   1560.000000       0.000000   1974.000000      0.000000   \n",
              "75%        8.000000   2214.500000     560.000000   1996.000000      0.000000   \n",
              "max       13.000000   9410.000000    4820.000000   2015.000000   2015.000000   \n",
              "\n",
              "            zipcode           lat          long  sqft_living15     sqft_lot15  \n",
              "count  17290.000000  17290.000000  17290.000000   17290.000000   17290.000000  \n",
              "mean   98078.193175     47.560058   -122.214258    1987.986698   12873.475824  \n",
              "std       53.607949      0.138412      0.140857     684.802635   27227.437583  \n",
              "min    98001.000000     47.155900   -122.519000     399.000000     659.000000  \n",
              "25%    98033.000000     47.471200   -122.329000    1490.000000    5111.250000  \n",
              "50%    98065.000000     47.571600   -122.230000    1840.000000    7622.500000  \n",
              "75%    98118.000000     47.677900   -122.126000    2360.000000   10101.750000  \n",
              "max    98199.000000     47.777600   -121.315000    6210.000000  858132.000000  "
            ],
            "text/html": "<div>\n<style scoped>\n    .dataframe tbody tr th:only-of-type {\n        vertical-align: middle;\n    }\n\n    .dataframe tbody tr th {\n        vertical-align: top;\n    }\n\n    .dataframe thead th {\n        text-align: right;\n    }\n</style>\n<table border=\"1\" class=\"dataframe\">\n  <thead>\n    <tr style=\"text-align: right;\">\n      <th></th>\n      <th>id</th>\n      <th>price</th>\n      <th>bedrooms</th>\n      <th>bathrooms</th>\n      <th>sqft_living</th>\n      <th>sqft_lot</th>\n      <th>floors</th>\n      <th>waterfront</th>\n      <th>view</th>\n      <th>condition</th>\n      <th>grade</th>\n      <th>sqft_above</th>\n      <th>sqft_basement</th>\n      <th>yr_built</th>\n      <th>yr_renovated</th>\n      <th>zipcode</th>\n      <th>lat</th>\n      <th>long</th>\n      <th>sqft_living15</th>\n      <th>sqft_lot15</th>\n    </tr>\n  </thead>\n  <tbody>\n    <tr>\n      <th>count</th>\n      <td>1.729000e+04</td>\n      <td>1.729000e+04</td>\n      <td>17290.000000</td>\n      <td>17290.000000</td>\n      <td>17290.000000</td>\n      <td>1.729000e+04</td>\n      <td>17290.000000</td>\n      <td>17290.000000</td>\n      <td>17290.000000</td>\n      <td>17290.000000</td>\n      <td>17290.000000</td>\n      <td>17290.000000</td>\n      <td>17290.000000</td>\n      <td>17290.000000</td>\n      <td>17290.000000</td>\n      <td>17290.000000</td>\n      <td>17290.000000</td>\n      <td>17290.000000</td>\n      <td>17290.000000</td>\n      <td>17290.000000</td>\n    </tr>\n    <tr>\n      <th>mean</th>\n      <td>4.565502e+09</td>\n      <td>5.407395e+05</td>\n      <td>3.372470</td>\n      <td>2.111943</td>\n      <td>2081.464604</td>\n      <td>1.524340e+04</td>\n      <td>1.490312</td>\n      <td>0.007981</td>\n      <td>0.238519</td>\n      <td>3.408502</td>\n      <td>7.654425</td>\n      <td>1789.306015</td>\n      <td>292.158589</td>\n      <td>1970.792019</td>\n      <td>83.806304</td>\n      <td>98078.193175</td>\n      <td>47.560058</td>\n      <td>-122.214258</td>\n      <td>1987.986698</td>\n      <td>12873.475824</td>\n    </tr>\n    <tr>\n      <th>std</th>\n      <td>2.874656e+09</td>\n      <td>3.733190e+05</td>\n      <td>0.939346</td>\n      <td>0.770476</td>\n      <td>920.018539</td>\n      <td>4.230462e+04</td>\n      <td>0.538909</td>\n      <td>0.088985</td>\n      <td>0.775229</td>\n      <td>0.651296</td>\n      <td>1.174718</td>\n      <td>829.265107</td>\n      <td>443.151874</td>\n      <td>29.343516</td>\n      <td>400.329376</td>\n      <td>53.607949</td>\n      <td>0.138412</td>\n      <td>0.140857</td>\n      <td>684.802635</td>\n      <td>27227.437583</td>\n    </tr>\n    <tr>\n      <th>min</th>\n      <td>1.000102e+06</td>\n      <td>7.500000e+04</td>\n      <td>0.000000</td>\n      <td>0.000000</td>\n      <td>290.000000</td>\n      <td>5.720000e+02</td>\n      <td>1.000000</td>\n      <td>0.000000</td>\n      <td>0.000000</td>\n      <td>1.000000</td>\n      <td>1.000000</td>\n      <td>290.000000</td>\n      <td>0.000000</td>\n      <td>1900.000000</td>\n      <td>0.000000</td>\n      <td>98001.000000</td>\n      <td>47.155900</td>\n      <td>-122.519000</td>\n      <td>399.000000</td>\n      <td>659.000000</td>\n    </tr>\n    <tr>\n      <th>25%</th>\n      <td>2.114701e+09</td>\n      <td>3.210000e+05</td>\n      <td>3.000000</td>\n      <td>1.500000</td>\n      <td>1430.000000</td>\n      <td>5.081250e+03</td>\n      <td>1.000000</td>\n      <td>0.000000</td>\n      <td>0.000000</td>\n      <td>3.000000</td>\n      <td>7.000000</td>\n      <td>1200.000000</td>\n      <td>0.000000</td>\n      <td>1951.000000</td>\n      <td>0.000000</td>\n      <td>98033.000000</td>\n      <td>47.471200</td>\n      <td>-122.329000</td>\n      <td>1490.000000</td>\n      <td>5111.250000</td>\n    </tr>\n    <tr>\n      <th>50%</th>\n      <td>3.903650e+09</td>\n      <td>4.500000e+05</td>\n      <td>3.000000</td>\n      <td>2.250000</td>\n      <td>1920.000000</td>\n      <td>7.642000e+03</td>\n      <td>1.500000</td>\n      <td>0.000000</td>\n      <td>0.000000</td>\n      <td>3.000000</td>\n      <td>7.000000</td>\n      <td>1560.000000</td>\n      <td>0.000000</td>\n      <td>1974.000000</td>\n      <td>0.000000</td>\n      <td>98065.000000</td>\n      <td>47.571600</td>\n      <td>-122.230000</td>\n      <td>1840.000000</td>\n      <td>7622.500000</td>\n    </tr>\n    <tr>\n      <th>75%</th>\n      <td>7.301150e+09</td>\n      <td>6.450000e+05</td>\n      <td>4.000000</td>\n      <td>2.500000</td>\n      <td>2550.000000</td>\n      <td>1.072575e+04</td>\n      <td>2.000000</td>\n      <td>0.000000</td>\n      <td>0.000000</td>\n      <td>4.000000</td>\n      <td>8.000000</td>\n      <td>2214.500000</td>\n      <td>560.000000</td>\n      <td>1996.000000</td>\n      <td>0.000000</td>\n      <td>98118.000000</td>\n      <td>47.677900</td>\n      <td>-122.126000</td>\n      <td>2360.000000</td>\n      <td>10101.750000</td>\n    </tr>\n    <tr>\n      <th>max</th>\n      <td>9.900000e+09</td>\n      <td>7.700000e+06</td>\n      <td>33.000000</td>\n      <td>8.000000</td>\n      <td>13540.000000</td>\n      <td>1.651359e+06</td>\n      <td>3.500000</td>\n      <td>1.000000</td>\n      <td>4.000000</td>\n      <td>5.000000</td>\n      <td>13.000000</td>\n      <td>9410.000000</td>\n      <td>4820.000000</td>\n      <td>2015.000000</td>\n      <td>2015.000000</td>\n      <td>98199.000000</td>\n      <td>47.777600</td>\n      <td>-121.315000</td>\n      <td>6210.000000</td>\n      <td>858132.000000</td>\n    </tr>\n  </tbody>\n</table>\n</div>"
          },
          "metadata": {},
          "execution_count": 8
        }
      ]
    },
    {
      "cell_type": "markdown",
      "metadata": {
        "id": "VLL74ohZ3OqO"
      },
      "source": [
        "**Initial Observations:**\n",
        "\n",
        "- waterfront is a binary discrete variable\n",
        "- sqft_above + sqft_basement = sqft_living\n",
        "- sqft_basement and yr_renovated have many null values, potentially express them as binary variables\n",
        "- categorical variables:  floors, view, grade, zipcode, bathrooms, bedrooms, condition\n",
        "- continuous variables: price, sqft_living, sqft_lot, sqft_above, sqft_basement, yr_built, yr_renovated, lat, long, sqft_living15, sqft_lot15"
      ]
    },
    {
      "cell_type": "code",
      "metadata": {
        "colab": {
          "base_uri": "https://localhost:8080/"
        },
        "id": "8dDmMhQRjoDR",
        "outputId": "ce47f5ee-7830-410f-e725-6cae2732f6f6"
      },
      "source": [
        "# Look for any column types that need conversion\n",
        "df.dtypes"
      ],
      "execution_count": null,
      "outputs": [
        {
          "output_type": "execute_result",
          "data": {
            "text/plain": [
              "id                 int64\n",
              "date              object\n",
              "price            float64\n",
              "bedrooms           int64\n",
              "bathrooms        float64\n",
              "sqft_living        int64\n",
              "sqft_lot           int64\n",
              "floors           float64\n",
              "waterfront         int64\n",
              "view               int64\n",
              "condition          int64\n",
              "grade              int64\n",
              "sqft_above         int64\n",
              "sqft_basement      int64\n",
              "yr_built           int64\n",
              "yr_renovated       int64\n",
              "zipcode            int64\n",
              "lat              float64\n",
              "long             float64\n",
              "sqft_living15      int64\n",
              "sqft_lot15         int64\n",
              "dtype: object"
            ]
          },
          "metadata": {
            "tags": []
          },
          "execution_count": 7
        }
      ]
    },
    {
      "cell_type": "markdown",
      "metadata": {
        "id": "Fc1HFWOR0ixs"
      },
      "source": [
        "## **Initial Data Cleaning**"
      ]
    },
    {
      "cell_type": "code",
      "metadata": {
        "colab": {
          "base_uri": "https://localhost:8080/"
        },
        "id": "cZ3zJN2mnFbO",
        "outputId": "70fb8326-04f3-4d47-cc7d-1ec9f82a0ccc"
      },
      "source": [
        "# Check for the unique number of non-null values in 'id' subset\n",
        "df['id'].nunique()\n"
      ],
      "execution_count": 9,
      "outputs": [
        {
          "output_type": "execute_result",
          "data": {
            "text/plain": [
              "17176"
            ]
          },
          "metadata": {},
          "execution_count": 9
        }
      ]
    },
    {
      "cell_type": "code",
      "metadata": {
        "id": "wHeYkrP6vcuw"
      },
      "source": [
        "# Drop duplicates from 'id' column \n",
        "df = df.drop_duplicates(subset='id')"
      ],
      "execution_count": 10,
      "outputs": []
    },
    {
      "cell_type": "code",
      "metadata": {
        "colab": {
          "base_uri": "https://localhost:8080/"
        },
        "id": "IeitrrpEo9N9",
        "outputId": "04e8ed91-443c-4d44-8835-30e16959844c"
      },
      "source": [
        "# Check for any null values in the dataset\n",
        "df.isna().sum()"
      ],
      "execution_count": 11,
      "outputs": [
        {
          "output_type": "execute_result",
          "data": {
            "text/plain": [
              "id               0\n",
              "date             0\n",
              "price            0\n",
              "bedrooms         0\n",
              "bathrooms        0\n",
              "sqft_living      0\n",
              "sqft_lot         0\n",
              "floors           0\n",
              "waterfront       0\n",
              "view             0\n",
              "condition        0\n",
              "grade            0\n",
              "sqft_above       0\n",
              "sqft_basement    0\n",
              "yr_built         0\n",
              "yr_renovated     0\n",
              "zipcode          0\n",
              "lat              0\n",
              "long             0\n",
              "sqft_living15    0\n",
              "sqft_lot15       0\n",
              "dtype: int64"
            ]
          },
          "metadata": {},
          "execution_count": 11
        }
      ]
    },
    {
      "cell_type": "code",
      "metadata": {
        "id": "msToos6WjRVi"
      },
      "source": [
        "# Put features into categorical and continuous subsets\n",
        "feat_cat = df[['view', 'condition', 'grade', 'waterfront', 'floors', 'bedrooms', 'bathrooms', 'zipcode']]\n",
        "feat_con = df[['sqft_living', 'sqft_lot', 'sqft_above', 'sqft_basement', 'sqft_living15', 'sqft_lot15', 'yr_built', 'yr_renovated', 'lat', 'long']]"
      ],
      "execution_count": 12,
      "outputs": []
    },
    {
      "cell_type": "code",
      "metadata": {
        "id": "SQzBgZhijRVi"
      },
      "source": [
        "# Get indices of the subsetted columns\n",
        "col_con = feat_con.columns\n",
        "col_cat = feat_cat.columns"
      ],
      "execution_count": 13,
      "outputs": []
    },
    {
      "cell_type": "markdown",
      "metadata": {
        "id": "Pc4bI8ZY41kQ"
      },
      "source": [
        "## **Continuous variables**"
      ]
    },
    {
      "cell_type": "code",
      "metadata": {
        "colab": {
          "base_uri": "https://localhost:8080/",
          "height": 1000
        },
        "id": "cWI2HPFOjRVi",
        "outputId": "7ec2855d-3385-41c1-9946-9e321cbd59c1"
      },
      "source": [
        "# Display distribution plots of continuous\n",
        "con_1 = pd.melt(df, value_vars = col_con)\n",
        "g = sns.FacetGrid(con_1, col='variable', col_wrap=3, sharex=False, sharey=False, height=4)\n",
        "g = g.map(sns.distplot, 'value', color='r')\n",
        "g.set_xticklabels(rotation=45)\n",
        "plt.savefig('df_distplot.jpg')"
      ],
      "execution_count": 1,
      "outputs": [
        {
          "output_type": "error",
          "ename": "NameError",
          "evalue": "name 'pd' is not defined",
          "traceback": [
            "\u001b[0;31m---------------------------------------------------------------------------\u001b[0m",
            "\u001b[0;31mNameError\u001b[0m                                 Traceback (most recent call last)",
            "\u001b[0;32m<ipython-input-1-d75b9a7fbc9a>\u001b[0m in \u001b[0;36m<module>\u001b[0;34m\u001b[0m\n\u001b[1;32m      1\u001b[0m \u001b[0;31m# Display distribution plots of continuous\u001b[0m\u001b[0;34m\u001b[0m\u001b[0;34m\u001b[0m\u001b[0;34m\u001b[0m\u001b[0m\n\u001b[0;32m----> 2\u001b[0;31m \u001b[0mcon_1\u001b[0m \u001b[0;34m=\u001b[0m \u001b[0mpd\u001b[0m\u001b[0;34m.\u001b[0m\u001b[0mmelt\u001b[0m\u001b[0;34m(\u001b[0m\u001b[0mdf\u001b[0m\u001b[0;34m,\u001b[0m \u001b[0mvalue_vars\u001b[0m \u001b[0;34m=\u001b[0m \u001b[0mcol_con\u001b[0m\u001b[0;34m)\u001b[0m\u001b[0;34m\u001b[0m\u001b[0;34m\u001b[0m\u001b[0m\n\u001b[0m\u001b[1;32m      3\u001b[0m \u001b[0mg\u001b[0m \u001b[0;34m=\u001b[0m \u001b[0msns\u001b[0m\u001b[0;34m.\u001b[0m\u001b[0mFacetGrid\u001b[0m\u001b[0;34m(\u001b[0m\u001b[0mcon_1\u001b[0m\u001b[0;34m,\u001b[0m \u001b[0mcol\u001b[0m\u001b[0;34m=\u001b[0m\u001b[0;34m'variable'\u001b[0m\u001b[0;34m,\u001b[0m \u001b[0mcol_wrap\u001b[0m\u001b[0;34m=\u001b[0m\u001b[0;36m3\u001b[0m\u001b[0;34m,\u001b[0m \u001b[0msharex\u001b[0m\u001b[0;34m=\u001b[0m\u001b[0;32mFalse\u001b[0m\u001b[0;34m,\u001b[0m \u001b[0msharey\u001b[0m\u001b[0;34m=\u001b[0m\u001b[0;32mFalse\u001b[0m\u001b[0;34m,\u001b[0m \u001b[0mheight\u001b[0m\u001b[0;34m=\u001b[0m\u001b[0;36m4\u001b[0m\u001b[0;34m)\u001b[0m\u001b[0;34m\u001b[0m\u001b[0;34m\u001b[0m\u001b[0m\n\u001b[1;32m      4\u001b[0m \u001b[0mg\u001b[0m \u001b[0;34m=\u001b[0m \u001b[0mg\u001b[0m\u001b[0;34m.\u001b[0m\u001b[0mmap\u001b[0m\u001b[0;34m(\u001b[0m\u001b[0msns\u001b[0m\u001b[0;34m.\u001b[0m\u001b[0mdistplot\u001b[0m\u001b[0;34m,\u001b[0m \u001b[0;34m'value'\u001b[0m\u001b[0;34m,\u001b[0m \u001b[0mcolor\u001b[0m\u001b[0;34m=\u001b[0m\u001b[0;34m'r'\u001b[0m\u001b[0;34m)\u001b[0m\u001b[0;34m\u001b[0m\u001b[0;34m\u001b[0m\u001b[0m\n\u001b[1;32m      5\u001b[0m \u001b[0mg\u001b[0m\u001b[0;34m.\u001b[0m\u001b[0mset_xticklabels\u001b[0m\u001b[0;34m(\u001b[0m\u001b[0mrotation\u001b[0m\u001b[0;34m=\u001b[0m\u001b[0;36m45\u001b[0m\u001b[0;34m)\u001b[0m\u001b[0;34m\u001b[0m\u001b[0;34m\u001b[0m\u001b[0m\n",
            "\u001b[0;31mNameError\u001b[0m: name 'pd' is not defined"
          ]
        }
      ]
    },
    {
      "cell_type": "markdown",
      "metadata": {
        "id": "GIj9wd-m2XKS"
      },
      "source": [
        "**Observations:**\n",
        "\n",
        "- sqft_living, sqft_basement, sqft_living15 are skewed to the right"
      ]
    },
    {
      "cell_type": "code",
      "metadata": {
        "colab": {
          "base_uri": "https://localhost:8080/",
          "height": 1000
        },
        "id": "TWjsI1M-jRVj",
        "outputId": "bb497505-fff3-4f5e-83e1-ab086f89367e"
      },
      "source": [
        "# Scatterplots of continuous variables\n",
        "con_2 = pd.melt(df, id_vars='price', value_vars=col_con)\n",
        "g = sns.FacetGrid(con_2, col='variable', col_wrap=3, sharex=False, sharey=False, height=4)\n",
        "g = g.map(sns.regplot, 'value', 'price', color='darkorange')\n",
        "g.set_xticklabels(rotation=45)\n",
        "plt.savefig('df_scatter.png')"
      ],
      "execution_count": 2,
      "outputs": [
        {
          "output_type": "error",
          "ename": "NameError",
          "evalue": "name 'pd' is not defined",
          "traceback": [
            "\u001b[0;31m---------------------------------------------------------------------------\u001b[0m",
            "\u001b[0;31mNameError\u001b[0m                                 Traceback (most recent call last)",
            "\u001b[0;32m<ipython-input-2-bdf3ff4f28b2>\u001b[0m in \u001b[0;36m<module>\u001b[0;34m\u001b[0m\n\u001b[1;32m      1\u001b[0m \u001b[0;31m# Scatterplots of continuous variables\u001b[0m\u001b[0;34m\u001b[0m\u001b[0;34m\u001b[0m\u001b[0;34m\u001b[0m\u001b[0m\n\u001b[0;32m----> 2\u001b[0;31m \u001b[0mcon_2\u001b[0m \u001b[0;34m=\u001b[0m \u001b[0mpd\u001b[0m\u001b[0;34m.\u001b[0m\u001b[0mmelt\u001b[0m\u001b[0;34m(\u001b[0m\u001b[0mdf\u001b[0m\u001b[0;34m,\u001b[0m \u001b[0mid_vars\u001b[0m\u001b[0;34m=\u001b[0m\u001b[0;34m'price'\u001b[0m\u001b[0;34m,\u001b[0m \u001b[0mvalue_vars\u001b[0m\u001b[0;34m=\u001b[0m\u001b[0mcol_con\u001b[0m\u001b[0;34m)\u001b[0m\u001b[0;34m\u001b[0m\u001b[0;34m\u001b[0m\u001b[0m\n\u001b[0m\u001b[1;32m      3\u001b[0m \u001b[0mg\u001b[0m \u001b[0;34m=\u001b[0m \u001b[0msns\u001b[0m\u001b[0;34m.\u001b[0m\u001b[0mFacetGrid\u001b[0m\u001b[0;34m(\u001b[0m\u001b[0mcon_2\u001b[0m\u001b[0;34m,\u001b[0m \u001b[0mcol\u001b[0m\u001b[0;34m=\u001b[0m\u001b[0;34m'variable'\u001b[0m\u001b[0;34m,\u001b[0m \u001b[0mcol_wrap\u001b[0m\u001b[0;34m=\u001b[0m\u001b[0;36m3\u001b[0m\u001b[0;34m,\u001b[0m \u001b[0msharex\u001b[0m\u001b[0;34m=\u001b[0m\u001b[0;32mFalse\u001b[0m\u001b[0;34m,\u001b[0m \u001b[0msharey\u001b[0m\u001b[0;34m=\u001b[0m\u001b[0;32mFalse\u001b[0m\u001b[0;34m,\u001b[0m \u001b[0mheight\u001b[0m\u001b[0;34m=\u001b[0m\u001b[0;36m4\u001b[0m\u001b[0;34m)\u001b[0m\u001b[0;34m\u001b[0m\u001b[0;34m\u001b[0m\u001b[0m\n\u001b[1;32m      4\u001b[0m \u001b[0mg\u001b[0m \u001b[0;34m=\u001b[0m \u001b[0mg\u001b[0m\u001b[0;34m.\u001b[0m\u001b[0mmap\u001b[0m\u001b[0;34m(\u001b[0m\u001b[0msns\u001b[0m\u001b[0;34m.\u001b[0m\u001b[0mregplot\u001b[0m\u001b[0;34m,\u001b[0m \u001b[0;34m'value'\u001b[0m\u001b[0;34m,\u001b[0m \u001b[0;34m'price'\u001b[0m\u001b[0;34m,\u001b[0m \u001b[0mcolor\u001b[0m\u001b[0;34m=\u001b[0m\u001b[0;34m'darkorange'\u001b[0m\u001b[0;34m)\u001b[0m\u001b[0;34m\u001b[0m\u001b[0;34m\u001b[0m\u001b[0m\n\u001b[1;32m      5\u001b[0m \u001b[0mg\u001b[0m\u001b[0;34m.\u001b[0m\u001b[0mset_xticklabels\u001b[0m\u001b[0;34m(\u001b[0m\u001b[0mrotation\u001b[0m\u001b[0;34m=\u001b[0m\u001b[0;36m45\u001b[0m\u001b[0;34m)\u001b[0m\u001b[0;34m\u001b[0m\u001b[0;34m\u001b[0m\u001b[0m\n",
            "\u001b[0;31mNameError\u001b[0m: name 'pd' is not defined"
          ]
        }
      ]
    },
    {
      "cell_type": "markdown",
      "metadata": {
        "id": "IdkIjAZsjRVj"
      },
      "source": [
        "### Correlation and Colinearity"
      ]
    },
    {
      "cell_type": "code",
      "metadata": {
        "colab": {
          "base_uri": "https://localhost:8080/",
          "height": 868
        },
        "id": "lhsOCeghjRVj",
        "outputId": "9f561b16-ee9b-4efd-aa8f-6d9575a3bd2d"
      },
      "source": [
        "# Correlation Matrix of continuous variables\n",
        "feat_cont = df[['price', 'sqft_living', 'sqft_lot', 'sqft_above', 'sqft_basement', 'sqft_living15', 'sqft_lot15', 'yr_built', 'yr_renovated', 'lat', 'long']]\n",
        "corr_matrix = feat_cont.corr()\n",
        "plt.figure(figsize=(20,15))\n",
        "sns.heatmap(corr_matrix, annot=True, cmap='coolwarm', linecolor='black', linewidths=1.0, xticklabels=True, yticklabels=True)\n",
        "plt.show()\n"
      ],
      "execution_count": 3,
      "outputs": [
        {
          "output_type": "error",
          "ename": "NameError",
          "evalue": "name 'df' is not defined",
          "traceback": [
            "\u001b[0;31m---------------------------------------------------------------------------\u001b[0m",
            "\u001b[0;31mNameError\u001b[0m                                 Traceback (most recent call last)",
            "\u001b[0;32m<ipython-input-3-1a1fe3a860ee>\u001b[0m in \u001b[0;36m<module>\u001b[0;34m\u001b[0m\n\u001b[1;32m      1\u001b[0m \u001b[0;31m# Correlation Matrix of continuous variables\u001b[0m\u001b[0;34m\u001b[0m\u001b[0;34m\u001b[0m\u001b[0;34m\u001b[0m\u001b[0m\n\u001b[0;32m----> 2\u001b[0;31m \u001b[0mfeat_cont\u001b[0m \u001b[0;34m=\u001b[0m \u001b[0mdf\u001b[0m\u001b[0;34m[\u001b[0m\u001b[0;34m[\u001b[0m\u001b[0;34m'price'\u001b[0m\u001b[0;34m,\u001b[0m \u001b[0;34m'sqft_living'\u001b[0m\u001b[0;34m,\u001b[0m \u001b[0;34m'sqft_lot'\u001b[0m\u001b[0;34m,\u001b[0m \u001b[0;34m'sqft_above'\u001b[0m\u001b[0;34m,\u001b[0m \u001b[0;34m'sqft_basement'\u001b[0m\u001b[0;34m,\u001b[0m \u001b[0;34m'sqft_living15'\u001b[0m\u001b[0;34m,\u001b[0m \u001b[0;34m'sqft_lot15'\u001b[0m\u001b[0;34m,\u001b[0m \u001b[0;34m'yr_built'\u001b[0m\u001b[0;34m,\u001b[0m \u001b[0;34m'yr_renovated'\u001b[0m\u001b[0;34m,\u001b[0m \u001b[0;34m'lat'\u001b[0m\u001b[0;34m,\u001b[0m \u001b[0;34m'long'\u001b[0m\u001b[0;34m]\u001b[0m\u001b[0;34m]\u001b[0m\u001b[0;34m\u001b[0m\u001b[0;34m\u001b[0m\u001b[0m\n\u001b[0m\u001b[1;32m      3\u001b[0m \u001b[0mcorr_matrix\u001b[0m \u001b[0;34m=\u001b[0m \u001b[0mfeat_cont\u001b[0m\u001b[0;34m.\u001b[0m\u001b[0mcorr\u001b[0m\u001b[0;34m(\u001b[0m\u001b[0;34m)\u001b[0m\u001b[0;34m\u001b[0m\u001b[0;34m\u001b[0m\u001b[0m\n\u001b[1;32m      4\u001b[0m \u001b[0mplt\u001b[0m\u001b[0;34m.\u001b[0m\u001b[0mfigure\u001b[0m\u001b[0;34m(\u001b[0m\u001b[0mfigsize\u001b[0m\u001b[0;34m=\u001b[0m\u001b[0;34m(\u001b[0m\u001b[0;36m20\u001b[0m\u001b[0;34m,\u001b[0m\u001b[0;36m15\u001b[0m\u001b[0;34m)\u001b[0m\u001b[0;34m)\u001b[0m\u001b[0;34m\u001b[0m\u001b[0;34m\u001b[0m\u001b[0m\n\u001b[1;32m      5\u001b[0m \u001b[0msns\u001b[0m\u001b[0;34m.\u001b[0m\u001b[0mheatmap\u001b[0m\u001b[0;34m(\u001b[0m\u001b[0mcorr_matrix\u001b[0m\u001b[0;34m,\u001b[0m \u001b[0mannot\u001b[0m\u001b[0;34m=\u001b[0m\u001b[0;32mTrue\u001b[0m\u001b[0;34m,\u001b[0m \u001b[0mcmap\u001b[0m\u001b[0;34m=\u001b[0m\u001b[0;34m'coolwarm'\u001b[0m\u001b[0;34m,\u001b[0m \u001b[0mlinecolor\u001b[0m\u001b[0;34m=\u001b[0m\u001b[0;34m'black'\u001b[0m\u001b[0;34m,\u001b[0m \u001b[0mlinewidths\u001b[0m\u001b[0;34m=\u001b[0m\u001b[0;36m1.0\u001b[0m\u001b[0;34m,\u001b[0m \u001b[0mxticklabels\u001b[0m\u001b[0;34m=\u001b[0m\u001b[0;32mTrue\u001b[0m\u001b[0;34m,\u001b[0m \u001b[0myticklabels\u001b[0m\u001b[0;34m=\u001b[0m\u001b[0;32mTrue\u001b[0m\u001b[0;34m)\u001b[0m\u001b[0;34m\u001b[0m\u001b[0;34m\u001b[0m\u001b[0m\n",
            "\u001b[0;31mNameError\u001b[0m: name 'df' is not defined"
          ]
        }
      ]
    },
    {
      "cell_type": "markdown",
      "metadata": {
        "id": "KCb5Rqqk4VOd"
      },
      "source": [
        "**Observations:**\n",
        "- strong correlation between price and sqft_living, sqft_above, sqft_living15\n",
        "- sqft_living, sqft_above, sqft_basement must be related since sqft_above + sqft_basement = sqft_living\n",
        "- perhaps colinearity with sqrt_living and sqft_above\n",
        "- stronger correlation with latitude than longitude\n",
        "- little correlation with yr_renovated, yr_built, sqft_basement, sqft_lot, sqft_lot15"
      ]
    },
    {
      "cell_type": "markdown",
      "metadata": {
        "id": "KNxCSyAGk4DS"
      },
      "source": [
        "## **Categorical Variables**"
      ]
    },
    {
      "cell_type": "code",
      "metadata": {
        "colab": {
          "base_uri": "https://localhost:8080/",
          "height": 922
        },
        "id": "6oNmRdXiYYbM",
        "outputId": "e71e6e7a-7685-4274-a783-a3909dbc1867"
      },
      "source": [
        "# Display bar graphs of categorical variables to see distribution of data\n",
        "cat_1 = pd.melt(df, value_vars=col_cat)\n",
        "g = sns.FacetGrid(cat_1, col='variable', col_wrap=3, sharex=False, sharey=False, height=4)\n",
        "g = g.map(sns.countplot, 'value', color='g')\n",
        "g.set_xticklabels(rotation=90)"
      ],
      "execution_count": 4,
      "outputs": [
        {
          "output_type": "error",
          "ename": "NameError",
          "evalue": "name 'pd' is not defined",
          "traceback": [
            "\u001b[0;31m---------------------------------------------------------------------------\u001b[0m",
            "\u001b[0;31mNameError\u001b[0m                                 Traceback (most recent call last)",
            "\u001b[0;32m<ipython-input-4-7f6bab864632>\u001b[0m in \u001b[0;36m<module>\u001b[0;34m\u001b[0m\n\u001b[1;32m      1\u001b[0m \u001b[0;31m# Display bar graphs of categorical variables to see distribution of data\u001b[0m\u001b[0;34m\u001b[0m\u001b[0;34m\u001b[0m\u001b[0;34m\u001b[0m\u001b[0m\n\u001b[0;32m----> 2\u001b[0;31m \u001b[0mcat_1\u001b[0m \u001b[0;34m=\u001b[0m \u001b[0mpd\u001b[0m\u001b[0;34m.\u001b[0m\u001b[0mmelt\u001b[0m\u001b[0;34m(\u001b[0m\u001b[0mdf\u001b[0m\u001b[0;34m,\u001b[0m \u001b[0mvalue_vars\u001b[0m\u001b[0;34m=\u001b[0m\u001b[0mcol_cat\u001b[0m\u001b[0;34m)\u001b[0m\u001b[0;34m\u001b[0m\u001b[0;34m\u001b[0m\u001b[0m\n\u001b[0m\u001b[1;32m      3\u001b[0m \u001b[0mg\u001b[0m \u001b[0;34m=\u001b[0m \u001b[0msns\u001b[0m\u001b[0;34m.\u001b[0m\u001b[0mFacetGrid\u001b[0m\u001b[0;34m(\u001b[0m\u001b[0mcat_1\u001b[0m\u001b[0;34m,\u001b[0m \u001b[0mcol\u001b[0m\u001b[0;34m=\u001b[0m\u001b[0;34m'variable'\u001b[0m\u001b[0;34m,\u001b[0m \u001b[0mcol_wrap\u001b[0m\u001b[0;34m=\u001b[0m\u001b[0;36m3\u001b[0m\u001b[0;34m,\u001b[0m \u001b[0msharex\u001b[0m\u001b[0;34m=\u001b[0m\u001b[0;32mFalse\u001b[0m\u001b[0;34m,\u001b[0m \u001b[0msharey\u001b[0m\u001b[0;34m=\u001b[0m\u001b[0;32mFalse\u001b[0m\u001b[0;34m,\u001b[0m \u001b[0mheight\u001b[0m\u001b[0;34m=\u001b[0m\u001b[0;36m4\u001b[0m\u001b[0;34m)\u001b[0m\u001b[0;34m\u001b[0m\u001b[0;34m\u001b[0m\u001b[0m\n\u001b[1;32m      4\u001b[0m \u001b[0mg\u001b[0m \u001b[0;34m=\u001b[0m \u001b[0mg\u001b[0m\u001b[0;34m.\u001b[0m\u001b[0mmap\u001b[0m\u001b[0;34m(\u001b[0m\u001b[0msns\u001b[0m\u001b[0;34m.\u001b[0m\u001b[0mcountplot\u001b[0m\u001b[0;34m,\u001b[0m \u001b[0;34m'value'\u001b[0m\u001b[0;34m,\u001b[0m \u001b[0mcolor\u001b[0m\u001b[0;34m=\u001b[0m\u001b[0;34m'g'\u001b[0m\u001b[0;34m)\u001b[0m\u001b[0;34m\u001b[0m\u001b[0;34m\u001b[0m\u001b[0m\n\u001b[1;32m      5\u001b[0m \u001b[0mg\u001b[0m\u001b[0;34m.\u001b[0m\u001b[0mset_xticklabels\u001b[0m\u001b[0;34m(\u001b[0m\u001b[0mrotation\u001b[0m\u001b[0;34m=\u001b[0m\u001b[0;36m90\u001b[0m\u001b[0;34m)\u001b[0m\u001b[0;34m\u001b[0m\u001b[0;34m\u001b[0m\u001b[0m\n",
            "\u001b[0;31mNameError\u001b[0m: name 'pd' is not defined"
          ]
        }
      ]
    },
    {
      "cell_type": "code",
      "metadata": {
        "colab": {
          "base_uri": "https://localhost:8080/",
          "height": 912
        },
        "id": "NABcXtQS9LXI",
        "outputId": "94b06d71-701c-464f-bf22-6f7b1ead4987"
      },
      "source": [
        "# Create scatterplots for categorical variables to observe any relationships\n",
        "cat_2 = pd.melt(df,id_vars='price', value_vars=col_cat)\n",
        "g = sns.FacetGrid(cat_2, col='variable', col_wrap=3, sharex=False, sharey=False, height=4)\n",
        "g = g.map(sns.regplot, 'value', 'price', color='dodgerblue')\n",
        "g.set_xticklabels(rotation=90)"
      ],
      "execution_count": 5,
      "outputs": [
        {
          "output_type": "error",
          "ename": "NameError",
          "evalue": "name 'pd' is not defined",
          "traceback": [
            "\u001b[0;31m---------------------------------------------------------------------------\u001b[0m",
            "\u001b[0;31mNameError\u001b[0m                                 Traceback (most recent call last)",
            "\u001b[0;32m<ipython-input-5-7c6ceee2e955>\u001b[0m in \u001b[0;36m<module>\u001b[0;34m\u001b[0m\n\u001b[1;32m      1\u001b[0m \u001b[0;31m# Create scatterplots for categorical variables to observe any relationships\u001b[0m\u001b[0;34m\u001b[0m\u001b[0;34m\u001b[0m\u001b[0;34m\u001b[0m\u001b[0m\n\u001b[0;32m----> 2\u001b[0;31m \u001b[0mcat_2\u001b[0m \u001b[0;34m=\u001b[0m \u001b[0mpd\u001b[0m\u001b[0;34m.\u001b[0m\u001b[0mmelt\u001b[0m\u001b[0;34m(\u001b[0m\u001b[0mdf\u001b[0m\u001b[0;34m,\u001b[0m\u001b[0mid_vars\u001b[0m\u001b[0;34m=\u001b[0m\u001b[0;34m'price'\u001b[0m\u001b[0;34m,\u001b[0m \u001b[0mvalue_vars\u001b[0m\u001b[0;34m=\u001b[0m\u001b[0mcol_cat\u001b[0m\u001b[0;34m)\u001b[0m\u001b[0;34m\u001b[0m\u001b[0;34m\u001b[0m\u001b[0m\n\u001b[0m\u001b[1;32m      3\u001b[0m \u001b[0mg\u001b[0m \u001b[0;34m=\u001b[0m \u001b[0msns\u001b[0m\u001b[0;34m.\u001b[0m\u001b[0mFacetGrid\u001b[0m\u001b[0;34m(\u001b[0m\u001b[0mcat_2\u001b[0m\u001b[0;34m,\u001b[0m \u001b[0mcol\u001b[0m\u001b[0;34m=\u001b[0m\u001b[0;34m'variable'\u001b[0m\u001b[0;34m,\u001b[0m \u001b[0mcol_wrap\u001b[0m\u001b[0;34m=\u001b[0m\u001b[0;36m3\u001b[0m\u001b[0;34m,\u001b[0m \u001b[0msharex\u001b[0m\u001b[0;34m=\u001b[0m\u001b[0;32mFalse\u001b[0m\u001b[0;34m,\u001b[0m \u001b[0msharey\u001b[0m\u001b[0;34m=\u001b[0m\u001b[0;32mFalse\u001b[0m\u001b[0;34m,\u001b[0m \u001b[0mheight\u001b[0m\u001b[0;34m=\u001b[0m\u001b[0;36m4\u001b[0m\u001b[0;34m)\u001b[0m\u001b[0;34m\u001b[0m\u001b[0;34m\u001b[0m\u001b[0m\n\u001b[1;32m      4\u001b[0m \u001b[0mg\u001b[0m \u001b[0;34m=\u001b[0m \u001b[0mg\u001b[0m\u001b[0;34m.\u001b[0m\u001b[0mmap\u001b[0m\u001b[0;34m(\u001b[0m\u001b[0msns\u001b[0m\u001b[0;34m.\u001b[0m\u001b[0mregplot\u001b[0m\u001b[0;34m,\u001b[0m \u001b[0;34m'value'\u001b[0m\u001b[0;34m,\u001b[0m \u001b[0;34m'price'\u001b[0m\u001b[0;34m,\u001b[0m \u001b[0mcolor\u001b[0m\u001b[0;34m=\u001b[0m\u001b[0;34m'dodgerblue'\u001b[0m\u001b[0;34m)\u001b[0m\u001b[0;34m\u001b[0m\u001b[0;34m\u001b[0m\u001b[0m\n\u001b[1;32m      5\u001b[0m \u001b[0mg\u001b[0m\u001b[0;34m.\u001b[0m\u001b[0mset_xticklabels\u001b[0m\u001b[0;34m(\u001b[0m\u001b[0mrotation\u001b[0m\u001b[0;34m=\u001b[0m\u001b[0;36m90\u001b[0m\u001b[0;34m)\u001b[0m\u001b[0;34m\u001b[0m\u001b[0;34m\u001b[0m\u001b[0m\n",
            "\u001b[0;31mNameError\u001b[0m: name 'pd' is not defined"
          ]
        }
      ]
    },
    {
      "cell_type": "code",
      "metadata": {
        "colab": {
          "base_uri": "https://localhost:8080/",
          "height": 922
        },
        "id": "Ek4m4bQjramC",
        "outputId": "a01fdf00-03f8-4e4b-a40c-95e3e682a037"
      },
      "source": [
        "# Display boxplots of categorical variables to observe any trends in the mean values of each category\n",
        "cat_3 = pd.melt(df, id_vars='price', value_vars=col_cat)\n",
        "g = sns.FacetGrid(cat_3, col='variable', col_wrap=3, sharex=False, sharey=False, height=4)\n",
        "g = g.map(sns.boxplot, 'value', 'price', color='mediumslateblue')\n",
        "g.set_xticklabels(rotation=90)"
      ],
      "execution_count": 6,
      "outputs": [
        {
          "output_type": "error",
          "ename": "NameError",
          "evalue": "name 'pd' is not defined",
          "traceback": [
            "\u001b[0;31m---------------------------------------------------------------------------\u001b[0m",
            "\u001b[0;31mNameError\u001b[0m                                 Traceback (most recent call last)",
            "\u001b[0;32m<ipython-input-6-c5b9e606f23a>\u001b[0m in \u001b[0;36m<module>\u001b[0;34m\u001b[0m\n\u001b[1;32m      1\u001b[0m \u001b[0;31m# Display boxplots of categorical variables to observe any trends in the mean values of each category\u001b[0m\u001b[0;34m\u001b[0m\u001b[0;34m\u001b[0m\u001b[0;34m\u001b[0m\u001b[0m\n\u001b[0;32m----> 2\u001b[0;31m \u001b[0mcat_3\u001b[0m \u001b[0;34m=\u001b[0m \u001b[0mpd\u001b[0m\u001b[0;34m.\u001b[0m\u001b[0mmelt\u001b[0m\u001b[0;34m(\u001b[0m\u001b[0mdf\u001b[0m\u001b[0;34m,\u001b[0m \u001b[0mid_vars\u001b[0m\u001b[0;34m=\u001b[0m\u001b[0;34m'price'\u001b[0m\u001b[0;34m,\u001b[0m \u001b[0mvalue_vars\u001b[0m\u001b[0;34m=\u001b[0m\u001b[0mcol_cat\u001b[0m\u001b[0;34m)\u001b[0m\u001b[0;34m\u001b[0m\u001b[0;34m\u001b[0m\u001b[0m\n\u001b[0m\u001b[1;32m      3\u001b[0m \u001b[0mg\u001b[0m \u001b[0;34m=\u001b[0m \u001b[0msns\u001b[0m\u001b[0;34m.\u001b[0m\u001b[0mFacetGrid\u001b[0m\u001b[0;34m(\u001b[0m\u001b[0mcat_3\u001b[0m\u001b[0;34m,\u001b[0m \u001b[0mcol\u001b[0m\u001b[0;34m=\u001b[0m\u001b[0;34m'variable'\u001b[0m\u001b[0;34m,\u001b[0m \u001b[0mcol_wrap\u001b[0m\u001b[0;34m=\u001b[0m\u001b[0;36m3\u001b[0m\u001b[0;34m,\u001b[0m \u001b[0msharex\u001b[0m\u001b[0;34m=\u001b[0m\u001b[0;32mFalse\u001b[0m\u001b[0;34m,\u001b[0m \u001b[0msharey\u001b[0m\u001b[0;34m=\u001b[0m\u001b[0;32mFalse\u001b[0m\u001b[0;34m,\u001b[0m \u001b[0mheight\u001b[0m\u001b[0;34m=\u001b[0m\u001b[0;36m4\u001b[0m\u001b[0;34m)\u001b[0m\u001b[0;34m\u001b[0m\u001b[0;34m\u001b[0m\u001b[0m\n\u001b[1;32m      4\u001b[0m \u001b[0mg\u001b[0m \u001b[0;34m=\u001b[0m \u001b[0mg\u001b[0m\u001b[0;34m.\u001b[0m\u001b[0mmap\u001b[0m\u001b[0;34m(\u001b[0m\u001b[0msns\u001b[0m\u001b[0;34m.\u001b[0m\u001b[0mboxplot\u001b[0m\u001b[0;34m,\u001b[0m \u001b[0;34m'value'\u001b[0m\u001b[0;34m,\u001b[0m \u001b[0;34m'price'\u001b[0m\u001b[0;34m,\u001b[0m \u001b[0mcolor\u001b[0m\u001b[0;34m=\u001b[0m\u001b[0;34m'mediumslateblue'\u001b[0m\u001b[0;34m)\u001b[0m\u001b[0;34m\u001b[0m\u001b[0;34m\u001b[0m\u001b[0m\n\u001b[1;32m      5\u001b[0m \u001b[0mg\u001b[0m\u001b[0;34m.\u001b[0m\u001b[0mset_xticklabels\u001b[0m\u001b[0;34m(\u001b[0m\u001b[0mrotation\u001b[0m\u001b[0;34m=\u001b[0m\u001b[0;36m90\u001b[0m\u001b[0;34m)\u001b[0m\u001b[0;34m\u001b[0m\u001b[0;34m\u001b[0m\u001b[0m\n",
            "\u001b[0;31mNameError\u001b[0m: name 'pd' is not defined"
          ]
        }
      ]
    },
    {
      "cell_type": "markdown",
      "metadata": {
        "id": "n13kz92p7ZYS"
      },
      "source": [
        "**Obseervations:**\n",
        "\n",
        "- 33 bedrooms is an outlier, potentially replace with 3 bedrooms\n",
        "- 11 bedrooms may or may not be inputted incorrectly\n",
        "- strong exponential relationship in the mean values for number of bathrooms and grade\n",
        "- little correlation with mean views, perhaps express as binary variable\n",
        "- potentially replace outliers with the mean for grade and bathrooms"
      ]
    },
    {
      "cell_type": "markdown",
      "metadata": {
        "id": "VRKVdK9Nw8i3"
      },
      "source": [
        "## **Data Cleaning**"
      ]
    },
    {
      "cell_type": "code",
      "metadata": {
        "id": "OSTihYCgxb8d",
        "colab": {
          "base_uri": "https://localhost:8080/",
          "height": 224
        },
        "outputId": "08e54993-7e21-4129-c930-49bac937f90a"
      },
      "source": [
        "# Convert 'date' column to datetime format, rename to 'sale_date', and drop original column\n",
        "df['sale_date'] = [x[:8] for x in df.date]\n",
        "df.sale_date = df.sale_date.apply(lambda x: datetime.strptime(x, '%Y%m%d'))\n",
        "df.drop(columns='date', inplace=True)\n",
        "df.head()"
      ],
      "execution_count": 20,
      "outputs": [
        {
          "output_type": "execute_result",
          "data": {
            "text/plain": [
              "           id      price  bedrooms  bathrooms  sqft_living  sqft_lot  floors  \\\n",
              "0  2591820310   365000.0         4       2.25         2070      8893     2.0   \n",
              "1  7974200820   865000.0         5       3.00         2900      6730     1.0   \n",
              "2  7701450110  1038000.0         4       2.50         3770     10893     2.0   \n",
              "3  9522300010  1490000.0         3       3.50         4560     14608     2.0   \n",
              "4  9510861140   711000.0         3       2.50         2550      5376     2.0   \n",
              "\n",
              "   waterfront  view  condition  grade  sqft_above  sqft_basement  yr_built  \\\n",
              "0           0     0          4      8        2070              0      1986   \n",
              "1           0     0          5      8        1830           1070      1977   \n",
              "2           0     2          3     11        3770              0      1997   \n",
              "3           0     2          3     12        4560              0      1990   \n",
              "4           0     0          3      9        2550              0      2004   \n",
              "\n",
              "   yr_renovated  zipcode      lat     long  sqft_living15  sqft_lot15  \\\n",
              "0             0    98058  47.4388 -122.162           2390        7700   \n",
              "1             0    98115  47.6784 -122.285           2370        6283   \n",
              "2             0    98006  47.5646 -122.129           3710        9685   \n",
              "3             0    98034  47.6995 -122.228           4050       14226   \n",
              "4             0    98052  47.6647 -122.083           2250        4050   \n",
              "\n",
              "   sale_date  \n",
              "0 2014-10-06  \n",
              "1 2014-08-21  \n",
              "2 2014-08-15  \n",
              "3 2015-03-31  \n",
              "4 2014-07-14  "
            ],
            "text/html": "<div>\n<style scoped>\n    .dataframe tbody tr th:only-of-type {\n        vertical-align: middle;\n    }\n\n    .dataframe tbody tr th {\n        vertical-align: top;\n    }\n\n    .dataframe thead th {\n        text-align: right;\n    }\n</style>\n<table border=\"1\" class=\"dataframe\">\n  <thead>\n    <tr style=\"text-align: right;\">\n      <th></th>\n      <th>id</th>\n      <th>price</th>\n      <th>bedrooms</th>\n      <th>bathrooms</th>\n      <th>sqft_living</th>\n      <th>sqft_lot</th>\n      <th>floors</th>\n      <th>waterfront</th>\n      <th>view</th>\n      <th>condition</th>\n      <th>grade</th>\n      <th>sqft_above</th>\n      <th>sqft_basement</th>\n      <th>yr_built</th>\n      <th>yr_renovated</th>\n      <th>zipcode</th>\n      <th>lat</th>\n      <th>long</th>\n      <th>sqft_living15</th>\n      <th>sqft_lot15</th>\n      <th>sale_date</th>\n    </tr>\n  </thead>\n  <tbody>\n    <tr>\n      <th>0</th>\n      <td>2591820310</td>\n      <td>365000.0</td>\n      <td>4</td>\n      <td>2.25</td>\n      <td>2070</td>\n      <td>8893</td>\n      <td>2.0</td>\n      <td>0</td>\n      <td>0</td>\n      <td>4</td>\n      <td>8</td>\n      <td>2070</td>\n      <td>0</td>\n      <td>1986</td>\n      <td>0</td>\n      <td>98058</td>\n      <td>47.4388</td>\n      <td>-122.162</td>\n      <td>2390</td>\n      <td>7700</td>\n      <td>2014-10-06</td>\n    </tr>\n    <tr>\n      <th>1</th>\n      <td>7974200820</td>\n      <td>865000.0</td>\n      <td>5</td>\n      <td>3.00</td>\n      <td>2900</td>\n      <td>6730</td>\n      <td>1.0</td>\n      <td>0</td>\n      <td>0</td>\n      <td>5</td>\n      <td>8</td>\n      <td>1830</td>\n      <td>1070</td>\n      <td>1977</td>\n      <td>0</td>\n      <td>98115</td>\n      <td>47.6784</td>\n      <td>-122.285</td>\n      <td>2370</td>\n      <td>6283</td>\n      <td>2014-08-21</td>\n    </tr>\n    <tr>\n      <th>2</th>\n      <td>7701450110</td>\n      <td>1038000.0</td>\n      <td>4</td>\n      <td>2.50</td>\n      <td>3770</td>\n      <td>10893</td>\n      <td>2.0</td>\n      <td>0</td>\n      <td>2</td>\n      <td>3</td>\n      <td>11</td>\n      <td>3770</td>\n      <td>0</td>\n      <td>1997</td>\n      <td>0</td>\n      <td>98006</td>\n      <td>47.5646</td>\n      <td>-122.129</td>\n      <td>3710</td>\n      <td>9685</td>\n      <td>2014-08-15</td>\n    </tr>\n    <tr>\n      <th>3</th>\n      <td>9522300010</td>\n      <td>1490000.0</td>\n      <td>3</td>\n      <td>3.50</td>\n      <td>4560</td>\n      <td>14608</td>\n      <td>2.0</td>\n      <td>0</td>\n      <td>2</td>\n      <td>3</td>\n      <td>12</td>\n      <td>4560</td>\n      <td>0</td>\n      <td>1990</td>\n      <td>0</td>\n      <td>98034</td>\n      <td>47.6995</td>\n      <td>-122.228</td>\n      <td>4050</td>\n      <td>14226</td>\n      <td>2015-03-31</td>\n    </tr>\n    <tr>\n      <th>4</th>\n      <td>9510861140</td>\n      <td>711000.0</td>\n      <td>3</td>\n      <td>2.50</td>\n      <td>2550</td>\n      <td>5376</td>\n      <td>2.0</td>\n      <td>0</td>\n      <td>0</td>\n      <td>3</td>\n      <td>9</td>\n      <td>2550</td>\n      <td>0</td>\n      <td>2004</td>\n      <td>0</td>\n      <td>98052</td>\n      <td>47.6647</td>\n      <td>-122.083</td>\n      <td>2250</td>\n      <td>4050</td>\n      <td>2014-07-14</td>\n    </tr>\n  </tbody>\n</table>\n</div>"
          },
          "metadata": {},
          "execution_count": 20
        }
      ]
    },
    {
      "cell_type": "code",
      "metadata": {
        "id": "gaFWS0sMGyK4",
        "colab": {
          "base_uri": "https://localhost:8080/",
          "height": 204
        },
        "outputId": "a7cbf825-3e09-48cf-b3e3-fb57d1136439"
      },
      "source": [
        "# Drop 'id' column and check dataframe\n",
        "df.drop(['id'], inplace=True, axis=1)\n",
        "df.head()"
      ],
      "execution_count": 21,
      "outputs": [
        {
          "output_type": "execute_result",
          "data": {
            "text/plain": [
              "       price  bedrooms  bathrooms  sqft_living  sqft_lot  floors  waterfront  \\\n",
              "0   365000.0         4       2.25         2070      8893     2.0           0   \n",
              "1   865000.0         5       3.00         2900      6730     1.0           0   \n",
              "2  1038000.0         4       2.50         3770     10893     2.0           0   \n",
              "3  1490000.0         3       3.50         4560     14608     2.0           0   \n",
              "4   711000.0         3       2.50         2550      5376     2.0           0   \n",
              "\n",
              "   view  condition  grade  sqft_above  sqft_basement  yr_built  yr_renovated  \\\n",
              "0     0          4      8        2070              0      1986             0   \n",
              "1     0          5      8        1830           1070      1977             0   \n",
              "2     2          3     11        3770              0      1997             0   \n",
              "3     2          3     12        4560              0      1990             0   \n",
              "4     0          3      9        2550              0      2004             0   \n",
              "\n",
              "   zipcode      lat     long  sqft_living15  sqft_lot15  sale_date  \n",
              "0    98058  47.4388 -122.162           2390        7700 2014-10-06  \n",
              "1    98115  47.6784 -122.285           2370        6283 2014-08-21  \n",
              "2    98006  47.5646 -122.129           3710        9685 2014-08-15  \n",
              "3    98034  47.6995 -122.228           4050       14226 2015-03-31  \n",
              "4    98052  47.6647 -122.083           2250        4050 2014-07-14  "
            ],
            "text/html": "<div>\n<style scoped>\n    .dataframe tbody tr th:only-of-type {\n        vertical-align: middle;\n    }\n\n    .dataframe tbody tr th {\n        vertical-align: top;\n    }\n\n    .dataframe thead th {\n        text-align: right;\n    }\n</style>\n<table border=\"1\" class=\"dataframe\">\n  <thead>\n    <tr style=\"text-align: right;\">\n      <th></th>\n      <th>price</th>\n      <th>bedrooms</th>\n      <th>bathrooms</th>\n      <th>sqft_living</th>\n      <th>sqft_lot</th>\n      <th>floors</th>\n      <th>waterfront</th>\n      <th>view</th>\n      <th>condition</th>\n      <th>grade</th>\n      <th>sqft_above</th>\n      <th>sqft_basement</th>\n      <th>yr_built</th>\n      <th>yr_renovated</th>\n      <th>zipcode</th>\n      <th>lat</th>\n      <th>long</th>\n      <th>sqft_living15</th>\n      <th>sqft_lot15</th>\n      <th>sale_date</th>\n    </tr>\n  </thead>\n  <tbody>\n    <tr>\n      <th>0</th>\n      <td>365000.0</td>\n      <td>4</td>\n      <td>2.25</td>\n      <td>2070</td>\n      <td>8893</td>\n      <td>2.0</td>\n      <td>0</td>\n      <td>0</td>\n      <td>4</td>\n      <td>8</td>\n      <td>2070</td>\n      <td>0</td>\n      <td>1986</td>\n      <td>0</td>\n      <td>98058</td>\n      <td>47.4388</td>\n      <td>-122.162</td>\n      <td>2390</td>\n      <td>7700</td>\n      <td>2014-10-06</td>\n    </tr>\n    <tr>\n      <th>1</th>\n      <td>865000.0</td>\n      <td>5</td>\n      <td>3.00</td>\n      <td>2900</td>\n      <td>6730</td>\n      <td>1.0</td>\n      <td>0</td>\n      <td>0</td>\n      <td>5</td>\n      <td>8</td>\n      <td>1830</td>\n      <td>1070</td>\n      <td>1977</td>\n      <td>0</td>\n      <td>98115</td>\n      <td>47.6784</td>\n      <td>-122.285</td>\n      <td>2370</td>\n      <td>6283</td>\n      <td>2014-08-21</td>\n    </tr>\n    <tr>\n      <th>2</th>\n      <td>1038000.0</td>\n      <td>4</td>\n      <td>2.50</td>\n      <td>3770</td>\n      <td>10893</td>\n      <td>2.0</td>\n      <td>0</td>\n      <td>2</td>\n      <td>3</td>\n      <td>11</td>\n      <td>3770</td>\n      <td>0</td>\n      <td>1997</td>\n      <td>0</td>\n      <td>98006</td>\n      <td>47.5646</td>\n      <td>-122.129</td>\n      <td>3710</td>\n      <td>9685</td>\n      <td>2014-08-15</td>\n    </tr>\n    <tr>\n      <th>3</th>\n      <td>1490000.0</td>\n      <td>3</td>\n      <td>3.50</td>\n      <td>4560</td>\n      <td>14608</td>\n      <td>2.0</td>\n      <td>0</td>\n      <td>2</td>\n      <td>3</td>\n      <td>12</td>\n      <td>4560</td>\n      <td>0</td>\n      <td>1990</td>\n      <td>0</td>\n      <td>98034</td>\n      <td>47.6995</td>\n      <td>-122.228</td>\n      <td>4050</td>\n      <td>14226</td>\n      <td>2015-03-31</td>\n    </tr>\n    <tr>\n      <th>4</th>\n      <td>711000.0</td>\n      <td>3</td>\n      <td>2.50</td>\n      <td>2550</td>\n      <td>5376</td>\n      <td>2.0</td>\n      <td>0</td>\n      <td>0</td>\n      <td>3</td>\n      <td>9</td>\n      <td>2550</td>\n      <td>0</td>\n      <td>2004</td>\n      <td>0</td>\n      <td>98052</td>\n      <td>47.6647</td>\n      <td>-122.083</td>\n      <td>2250</td>\n      <td>4050</td>\n      <td>2014-07-14</td>\n    </tr>\n  </tbody>\n</table>\n</div>"
          },
          "metadata": {},
          "execution_count": 21
        }
      ]
    },
    {
      "cell_type": "code",
      "metadata": {
        "colab": {
          "base_uri": "https://localhost:8080/"
        },
        "id": "8zCddw5qEPRG",
        "outputId": "e40382e1-de65-49cb-9cad-d559141219a8"
      },
      "source": [
        "# Replace anomalous bedroom values and check values in column\n",
        "df.replace({'bedrooms': {33: 3}}, inplace=True)\n",
        "df.replace({'bedrooms': {11: 1}}, inplace=True)\n",
        "df.bedrooms.value_counts()"
      ],
      "execution_count": 22,
      "outputs": [
        {
          "output_type": "execute_result",
          "data": {
            "text/plain": [
              "3     7804\n",
              "4     5470\n",
              "2     2186\n",
              "5     1271\n",
              "6      224\n",
              "1      161\n",
              "7       30\n",
              "0       12\n",
              "8       10\n",
              "9        5\n",
              "10       3\n",
              "Name: bedrooms, dtype: int64"
            ]
          },
          "metadata": {},
          "execution_count": 22
        }
      ]
    },
    {
      "cell_type": "code",
      "execution_count": 28,
      "metadata": {},
      "outputs": [
        {
          "output_type": "execute_result",
          "data": {
            "text/plain": [
              "    4          4     11        5770              0   \n",
              "260             1     4          5     11        3910           1570   \n",
              "1020            1     4          4     11        4830              0   \n",
              "10286           0     0          3     11        5450              0   \n",
              "...           ...   ...        ...    ...         ...            ...   \n",
              "8344            0     0          3     11        4150              0   \n",
              "13984           0     0          3     11        3630              0   \n",
              "2905            0     0          4     11        4620              0   \n",
              "5668            0     0          3     11        3840              0   \n",
              "3107            0     0          3     11        4180              0   \n",
              "\n",
              "       yr_built  yr_renovated  zipcode      lat     long  sqft_living15  \\\n",
              "6903       1940          2001    98004  47.6500 -122.214           3930   \n",
              "3903       1980             0    98040  47.5850 -122.222           4620   \n",
              "260        1936             0    98105  47.6515 -122.277           3510   \n",
              "1020       1990             0    98039  47.6409 -122.241           3820   \n",
              "10286      2014             0    98039  47.6209 -122.237           3160   \n",
              "...         ...           ...      ...      ...      ...            ...   \n",
              "8344       2006             0    98003  47.3417 -122.182           3840   \n",
              "13984      2000             0    98058  47.4243 -122.097           3620   \n",
              "2905       1991             0    98023  47.2929 -122.342           3640   \n",
              "5668       1991             0    98023  47.2996 -122.342           3270   \n",
              "3107       1986          1998    98038  47.4000 -122.027           3010   \n",
              "\n",
              "       sqft_lot15  sale_date  \n",
              "6903        25449 2014-06-11  \n",
              "3903        22748 2014-11-14  \n",
              "260         15810 2015-04-21  \n",
              "1020        25582 2014-09-11  \n",
              "10286       17825 2014-10-07  \n",
              "...           ...        ...  \n",
              "8344        15121 2015-02-06  \n",
              "13984       41965 2014-12-19  \n",
              "2905        20793 2014-06-24  \n",
              "5668        12133 2014-05-23  \n",
              "3107        35190 2014-09-24  \n",
              "\n",
              "[319 rows x 20 columns]"
            ],
            "text/html": "<div>\n<style scoped>\n    .dataframe tbody tr th:only-of-type {\n        vertical-align: middle;\n    }\n\n    .dataframe tbody tr th {\n        vertical-align: top;\n    }\n\n    .dataframe thead th {\n        text-align: right;\n    }\n</style>\n<table border=\"1\" class=\"dataframe\">\n  <thead>\n    <tr style=\"text-align: right;\">\n      <th></th>\n      <th>price</th>\n      <th>bedrooms</th>\n      <th>bathrooms</th>\n      <th>sqft_living</th>\n      <th>sqft_lot</th>\n      <th>floors</th>\n      <th>waterfront</th>\n      <th>view</th>\n      <th>condition</th>\n      <th>grade</th>\n      <th>sqft_above</th>\n      <th>sqft_basement</th>\n      <th>yr_built</th>\n      <th>yr_renovated</th>\n      <th>zipcode</th>\n      <th>lat</th>\n      <th>long</th>\n      <th>sqft_living15</th>\n      <th>sqft_lot15</th>\n      <th>sale_date</th>\n    </tr>\n  </thead>\n  <tbody>\n    <tr>\n      <th>6903</th>\n      <td>7062500.0</td>\n      <td>5</td>\n      <td>4.50</td>\n      <td>10040</td>\n      <td>37325</td>\n      <td>2.0</td>\n      <td>1</td>\n      <td>2</td>\n      <td>3</td>\n      <td>11</td>\n      <td>7680</td>\n      <td>2360</td>\n      <td>1940</td>\n      <td>2001</td>\n      <td>98004</td>\n      <td>47.6500</td>\n      <td>-122.214</td>\n      <td>3930</td>\n      <td>25449</td>\n      <td>2014-06-11</td>\n    </tr>\n    <tr>\n      <th>3903</th>\n      <td>3850000.0</td>\n      <td>4</td>\n      <td>4.25</td>\n      <td>5770</td>\n      <td>21300</td>\n      <td>2.0</td>\n      <td>1</td>\n      <td>4</td>\n      <td>4</td>\n      <td>11</td>\n      <td>5770</td>\n      <td>0</td>\n      <td>1980</td>\n      <td>0</td>\n      <td>98040</td>\n      <td>47.5850</td>\n      <td>-122.222</td>\n      <td>4620</td>\n      <td>22748</td>\n      <td>2014-11-14</td>\n    </tr>\n    <tr>\n      <th>260</th>\n      <td>3650000.0</td>\n      <td>6</td>\n      <td>4.75</td>\n      <td>5480</td>\n      <td>19401</td>\n      <td>1.5</td>\n      <td>1</td>\n      <td>4</td>\n      <td>5</td>\n      <td>11</td>\n      <td>3910</td>\n      <td>1570</td>\n      <td>1936</td>\n      <td>0</td>\n      <td>98105</td>\n      <td>47.6515</td>\n      <td>-122.277</td>\n      <td>3510</td>\n      <td>15810</td>\n      <td>2015-04-21</td>\n    </tr>\n    <tr>\n      <th>1020</th>\n      <td>3640900.0</td>\n      <td>4</td>\n      <td>3.25</td>\n      <td>4830</td>\n      <td>22257</td>\n      <td>2.0</td>\n      <td>1</td>\n      <td>4</td>\n      <td>4</td>\n      <td>11</td>\n      <td>4830</td>\n      <td>0</td>\n      <td>1990</td>\n      <td>0</td>\n      <td>98039</td>\n      <td>47.6409</td>\n      <td>-122.241</td>\n      <td>3820</td>\n      <td>25582</td>\n      <td>2014-09-11</td>\n    </tr>\n    <tr>\n      <th>10286</th>\n      <td>3418800.0</td>\n      <td>5</td>\n      <td>5.00</td>\n      <td>5450</td>\n      <td>20412</td>\n      <td>2.0</td>\n      <td>0</td>\n      <td>0</td>\n      <td>3</td>\n      <td>11</td>\n      <td>5450</td>\n      <td>0</td>\n      <td>2014</td>\n      <td>0</td>\n      <td>98039</td>\n      <td>47.6209</td>\n      <td>-122.237</td>\n      <td>3160</td>\n      <td>17825</td>\n      <td>2014-10-07</td>\n    </tr>\n    <tr>\n      <th>...</th>\n      <td>...</td>\n      <td>...</td>\n      <td>...</td>\n      <td>...</td>\n      <td>...</td>\n      <td>...</td>\n      <td>...</td>\n      <td>...</td>\n      <td>...</td>\n      <td>...</td>\n      <td>...</td>\n      <td>...</td>\n      <td>...</td>\n      <td>...</td>\n      <td>...</td>\n      <td>...</td>\n      <td>...</td>\n      <td>...</td>\n      <td>...</td>\n      <td>...</td>\n    </tr>\n    <tr>\n      <th>8344</th>\n      <td>635000.0</td>\n      <td>5</td>\n      <td>3.50</td>\n      <td>4150</td>\n      <td>13232</td>\n      <td>2.0</td>\n      <td>0</td>\n      <td>0</td>\n      <td>3</td>\n      <td>11</td>\n      <td>4150</td>\n      <td>0</td>\n      <td>2006</td>\n      <td>0</td>\n      <td>98003</td>\n      <td>47.3417</td>\n      <td>-122.182</td>\n      <td>3840</td>\n      <td>15121</td>\n      <td>2015-02-06</td>\n    </tr>\n    <tr>\n      <th>13984</th>\n      <td>633000.0</td>\n      <td>5</td>\n      <td>2.75</td>\n      <td>3630</td>\n      <td>30570</td>\n      <td>2.0</td>\n      <td>0</td>\n      <td>0</td>\n      <td>3</td>\n      <td>11</td>\n      <td>3630</td>\n      <td>0</td>\n      <td>2000</td>\n      <td>0</td>\n      <td>98058</td>\n      <td>47.4243</td>\n      <td>-122.097</td>\n      <td>3620</td>\n      <td>41965</td>\n      <td>2014-12-19</td>\n    </tr>\n    <tr>\n      <th>2905</th>\n      <td>575000.0</td>\n      <td>4</td>\n      <td>2.50</td>\n      <td>4620</td>\n      <td>20793</td>\n      <td>2.0</td>\n      <td>0</td>\n      <td>0</td>\n      <td>4</td>\n      <td>11</td>\n      <td>4620</td>\n      <td>0</td>\n      <td>1991</td>\n      <td>0</td>\n      <td>98023</td>\n      <td>47.2929</td>\n      <td>-122.342</td>\n      <td>3640</td>\n      <td>20793</td>\n      <td>2014-06-24</td>\n    </tr>\n    <tr>\n      <th>5668</th>\n      <td>556000.0</td>\n      <td>5</td>\n      <td>2.50</td>\n      <td>3840</td>\n      <td>16905</td>\n      <td>2.0</td>\n      <td>0</td>\n      <td>0</td>\n      <td>3</td>\n      <td>11</td>\n      <td>3840</td>\n      <td>0</td>\n      <td>1991</td>\n      <td>0</td>\n      <td>98023</td>\n      <td>47.2996</td>\n      <td>-122.342</td>\n      <td>3270</td>\n      <td>12133</td>\n      <td>2014-05-23</td>\n    </tr>\n    <tr>\n      <th>3107</th>\n      <td>550000.0</td>\n      <td>4</td>\n      <td>3.00</td>\n      <td>4180</td>\n      <td>35169</td>\n      <td>2.0</td>\n      <td>0</td>\n      <td>0</td>\n      <td>3</td>\n      <td>11</td>\n      <td>4180</td>\n      <td>0</td>\n      <td>1986</td>\n      <td>1998</td>\n      <td>98038</td>\n      <td>47.4000</td>\n      <td>-122.027</td>\n      <td>3010</td>\n      <td>35190</td>\n      <td>2014-09-24</td>\n    </tr>\n  </tbody>\n</table>\n<p>319 rows × 20 columns</p>\n</div>"
          },
          "metadata": {},
          "execution_count": 28
        }
      ],
      "source": [
        "df[df.grade==11].sort_values('price', ascending=False)"
      ]
    },
    {
      "cell_type": "code",
      "execution_count": 29,
      "metadata": {},
      "outputs": [
        {
          "output_type": "execute_result",
          "data": {
            "text/plain": [
              "486 2014-10-15  \n",
              "12573        5281 2014-12-05  \n",
              "12362       44315 2015-05-05  \n",
              "9340         7113 2014-10-09  \n",
              "5153        68625 2014-06-27  \n",
              "15510        8400 2014-07-14  \n",
              "2205         9486 2014-05-27  \n",
              "13887       14790 2014-09-22  \n",
              "7577        16488 2015-05-01  \n",
              "275        128457 2014-08-28  \n",
              "11602       43560 2014-10-03  \n",
              "11139       13404 2014-11-10  \n",
              "4572        40609 2014-11-18  \n",
              "10187        6700 2014-11-14  \n",
              "9640        10631 2014-05-07  \n",
              "4988         4085 2014-07-09  \n",
              "3274        13838 2015-05-02  \n",
              "10271       10550 2014-10-31  \n",
              "16709       32700 2015-04-21  \n",
              "10579        7208 2014-12-24  \n",
              "16094        7784 2014-11-13  \n",
              "5528        22124 2014-06-19  \n",
              "3198        82764 2014-12-08  \n",
              "4434         4000 2014-09-10  \n",
              "7866       101930 2014-05-12  \n",
              "14674       13810 2015-02-22  \n",
              "11879        5323 2014-08-13  \n",
              "4148       260924 2014-12-23  \n",
              "13938       14576 2014-06-25  \n",
              "12173       11531 2014-08-26  \n",
              "1091        18512 2014-06-25  \n",
              "9800         4800 2014-07-02  \n",
              "7579        12250 2014-07-11  \n",
              "10568        6052 2014-07-28  \n",
              "192          7713 2014-05-14  \n",
              "10670       83729 2015-02-02  \n",
              "11107       12253 2014-10-27  \n",
              "4835        11505 2014-12-15  \n",
              "5203         5750 2015-04-01  \n",
              "10458       48352 2015-04-23  \n",
              "10601       46609 2014-07-02  \n",
              "5117         4400 2014-08-19  \n",
              "8892         8400 2014-10-07  \n",
              "1987        40510 2014-05-30  \n",
              "896          6790 2014-05-12  \n",
              "1565         6324 2014-11-14  \n",
              "7031         6600 2015-05-05  \n",
              "14850        6298 2014-09-24  \n",
              "14934        5800 2015-04-10  \n",
              "13888       12040 2015-01-05  \n",
              "1280         8460 2015-01-21  \n",
              "5888         9216 2014-10-07  \n",
              "6458        10080 2014-09-24  \n",
              "8624         6291 2014-05-07  \n",
              "6440        35366 2014-06-10  \n",
              "8650        13503 2014-05-27  \n",
              "6725        13068 2015-03-18  \n",
              "209          9768 2015-01-24  \n",
              "5630         7561 2014-07-22  \n",
              "5038         7561 2014-07-23  \n",
              "8924         9000 2014-11-25  \n",
              "1835         7500 2014-09-05  \n",
              "14681        7700 2015-02-25  \n",
              "13472       11116 2015-05-06  \n",
              "9224         8349 2014-07-31  "
            ],
            "text/html": "<div>\n<style scoped>\n    .dataframe tbody tr th:only-of-type {\n        vertical-align: middle;\n    }\n\n    .dataframe tbody tr th {\n        vertical-align: top;\n    }\n\n    .dataframe thead th {\n        text-align: right;\n    }\n</style>\n<table border=\"1\" class=\"dataframe\">\n  <thead>\n    <tr style=\"text-align: right;\">\n      <th></th>\n      <th>price</th>\n      <th>bedrooms</th>\n      <th>bathrooms</th>\n      <th>sqft_living</th>\n      <th>sqft_lot</th>\n      <th>floors</th>\n      <th>waterfront</th>\n      <th>view</th>\n      <th>condition</th>\n      <th>grade</th>\n      <th>sqft_above</th>\n      <th>sqft_basement</th>\n      <th>yr_built</th>\n      <th>yr_renovated</th>\n      <th>zipcode</th>\n      <th>lat</th>\n      <th>long</th>\n      <th>sqft_living15</th>\n      <th>sqft_lot15</th>\n      <th>sale_date</th>\n    </tr>\n  </thead>\n  <tbody>\n    <tr>\n      <th>6903</th>\n      <td>7062500.0</td>\n      <td>5</td>\n      <td>4.5</td>\n      <td>10040</td>\n      <td>37325</td>\n      <td>2.0</td>\n      <td>1</td>\n      <td>2</td>\n      <td>3</td>\n      <td>11</td>\n      <td>7680</td>\n      <td>2360</td>\n      <td>1940</td>\n      <td>2001</td>\n      <td>98004</td>\n      <td>47.6500</td>\n      <td>-122.214</td>\n      <td>3930</td>\n      <td>25449</td>\n      <td>2014-06-11</td>\n    </tr>\n    <tr>\n      <th>7823</th>\n      <td>3567000.0</td>\n      <td>5</td>\n      <td>4.5</td>\n      <td>4850</td>\n      <td>10584</td>\n      <td>2.0</td>\n      <td>1</td>\n      <td>4</td>\n      <td>3</td>\n      <td>10</td>\n      <td>3540</td>\n      <td>1310</td>\n      <td>2007</td>\n      <td>0</td>\n      <td>98008</td>\n      <td>47.5943</td>\n      <td>-122.110</td>\n      <td>3470</td>\n      <td>18270</td>\n      <td>2015-01-07</td>\n    </tr>\n    <tr>\n      <th>5293</th>\n      <td>3200000.0</td>\n      <td>7</td>\n      <td>4.5</td>\n      <td>6210</td>\n      <td>8856</td>\n      <td>2.5</td>\n      <td>0</td>\n      <td>2</td>\n      <td>5</td>\n      <td>11</td>\n      <td>4760</td>\n      <td>1450</td>\n      <td>1910</td>\n      <td>0</td>\n      <td>98109</td>\n      <td>47.6307</td>\n      <td>-122.354</td>\n      <td>2940</td>\n      <td>5400</td>\n      <td>2014-05-07</td>\n    </tr>\n    <tr>\n      <th>16000</th>\n      <td>2945000.0</td>\n      <td>5</td>\n      <td>4.5</td>\n      <td>4340</td>\n      <td>5722</td>\n      <td>3.0</td>\n      <td>0</td>\n      <td>4</td>\n      <td>3</td>\n      <td>10</td>\n      <td>4340</td>\n      <td>0</td>\n      <td>2010</td>\n      <td>0</td>\n      <td>98107</td>\n      <td>47.6715</td>\n      <td>-122.406</td>\n      <td>1770</td>\n      <td>5250</td>\n      <td>2015-03-04</td>\n    </tr>\n    <tr>\n      <th>3181</th>\n      <td>2600000.0</td>\n      <td>4</td>\n      <td>4.5</td>\n      <td>5270</td>\n      <td>12195</td>\n      <td>2.0</td>\n      <td>1</td>\n      <td>4</td>\n      <td>3</td>\n      <td>11</td>\n      <td>3400</td>\n      <td>1870</td>\n      <td>1979</td>\n      <td>0</td>\n      <td>98027</td>\n      <td>47.5696</td>\n      <td>-122.090</td>\n      <td>3390</td>\n      <td>9905</td>\n      <td>2014-12-16</td>\n    </tr>\n    <tr>\n      <th>1468</th>\n      <td>2500000.0</td>\n      <td>4</td>\n      <td>4.5</td>\n      <td>4300</td>\n      <td>19844</td>\n      <td>2.0</td>\n      <td>0</td>\n      <td>0</td>\n      <td>3</td>\n      <td>11</td>\n      <td>4300</td>\n      <td>0</td>\n      <td>1985</td>\n      <td>1999</td>\n      <td>98039</td>\n      <td>47.6218</td>\n      <td>-122.237</td>\n      <td>3070</td>\n      <td>19845</td>\n      <td>2014-10-09</td>\n    </tr>\n    <tr>\n      <th>6135</th>\n      <td>2450000.0</td>\n      <td>4</td>\n      <td>4.5</td>\n      <td>5030</td>\n      <td>11023</td>\n      <td>2.0</td>\n      <td>0</td>\n      <td>2</td>\n      <td>3</td>\n      <td>11</td>\n      <td>3250</td>\n      <td>1780</td>\n      <td>2008</td>\n      <td>0</td>\n      <td>98040</td>\n      <td>47.5722</td>\n      <td>-122.236</td>\n      <td>3640</td>\n      <td>11490</td>\n      <td>2014-05-13</td>\n    </tr>\n    <tr>\n      <th>3082</th>\n      <td>2400000.0</td>\n      <td>6</td>\n      <td>4.5</td>\n      <td>5480</td>\n      <td>10800</td>\n      <td>2.0</td>\n      <td>0</td>\n      <td>3</td>\n      <td>4</td>\n      <td>9</td>\n      <td>4430</td>\n      <td>1050</td>\n      <td>1999</td>\n      <td>0</td>\n      <td>98119</td>\n      <td>47.6307</td>\n      <td>-122.367</td>\n      <td>2970</td>\n      <td>7200</td>\n      <td>2014-06-20</td>\n    </tr>\n    <tr>\n      <th>5656</th>\n      <td>2187730.0</td>\n      <td>4</td>\n      <td>4.5</td>\n      <td>4240</td>\n      <td>13162</td>\n      <td>2.0</td>\n      <td>0</td>\n      <td>0</td>\n      <td>3</td>\n      <td>10</td>\n      <td>4240</td>\n      <td>0</td>\n      <td>2004</td>\n      <td>0</td>\n      <td>98039</td>\n      <td>47.6193</td>\n      <td>-122.229</td>\n      <td>3010</td>\n      <td>12163</td>\n      <td>2014-08-12</td>\n    </tr>\n    <tr>\n      <th>17134</th>\n      <td>2005000.0</td>\n      <td>6</td>\n      <td>4.5</td>\n      <td>3810</td>\n      <td>28176</td>\n      <td>1.0</td>\n      <td>0</td>\n      <td>4</td>\n      <td>5</td>\n      <td>10</td>\n      <td>3810</td>\n      <td>0</td>\n      <td>1969</td>\n      <td>0</td>\n      <td>98177</td>\n      <td>47.7612</td>\n      <td>-122.381</td>\n      <td>3810</td>\n      <td>26400</td>\n      <td>2014-06-04</td>\n    </tr>\n    <tr>\n      <th>9937</th>\n      <td>1959000.0</td>\n      <td>5</td>\n      <td>4.5</td>\n      <td>6200</td>\n      <td>23373</td>\n      <td>3.0</td>\n      <td>0</td>\n      <td>1</td>\n      <td>4</td>\n      <td>11</td>\n      <td>5050</td>\n      <td>1150</td>\n      <td>1988</td>\n      <td>0</td>\n      <td>98040</td>\n      <td>47.5632</td>\n      <td>-122.215</td>\n      <td>3700</td>\n      <td>14486</td>\n      <td>2014-10-15</td>\n    </tr>\n    <tr>\n      <th>12573</th>\n      <td>1925000.0</td>\n      <td>3</td>\n      <td>4.5</td>\n      <td>3950</td>\n      <td>6134</td>\n      <td>2.0</td>\n      <td>0</td>\n      <td>3</td>\n      <td>3</td>\n      <td>11</td>\n      <td>2880</td>\n      <td>1070</td>\n      <td>1998</td>\n      <td>0</td>\n      <td>98199</td>\n      <td>47.6413</td>\n      <td>-122.405</td>\n      <td>3050</td>\n      <td>5281</td>\n      <td>2014-12-05</td>\n    </tr>\n    <tr>\n      <th>12362</th>\n      <td>1900000.0</td>\n      <td>5</td>\n      <td>4.5</td>\n      <td>5160</td>\n      <td>44315</td>\n      <td>2.0</td>\n      <td>0</td>\n      <td>0</td>\n      <td>3</td>\n      <td>12</td>\n      <td>5160</td>\n      <td>0</td>\n      <td>1996</td>\n      <td>0</td>\n      <td>98005</td>\n      <td>47.6568</td>\n      <td>-122.154</td>\n      <td>4760</td>\n      <td>44315</td>\n      <td>2015-05-05</td>\n    </tr>\n    <tr>\n      <th>9340</th>\n      <td>1822500.0</td>\n      <td>4</td>\n      <td>4.5</td>\n      <td>6380</td>\n      <td>88714</td>\n      <td>2.0</td>\n      <td>0</td>\n      <td>0</td>\n      <td>3</td>\n      <td>12</td>\n      <td>6380</td>\n      <td>0</td>\n      <td>2006</td>\n      <td>0</td>\n      <td>98029</td>\n      <td>47.5592</td>\n      <td>-122.015</td>\n      <td>3040</td>\n      <td>7113</td>\n      <td>2014-10-09</td>\n    </tr>\n    <tr>\n      <th>5153</th>\n      <td>1820000.0</td>\n      <td>4</td>\n      <td>4.5</td>\n      <td>6640</td>\n      <td>53330</td>\n      <td>2.0</td>\n      <td>0</td>\n      <td>0</td>\n      <td>3</td>\n      <td>12</td>\n      <td>6640</td>\n      <td>0</td>\n      <td>1993</td>\n      <td>0</td>\n      <td>98077</td>\n      <td>47.7283</td>\n      <td>-122.046</td>\n      <td>4620</td>\n      <td>68625</td>\n      <td>2014-06-27</td>\n    </tr>\n    <tr>\n      <th>15510</th>\n      <td>1750000.0</td>\n      <td>4</td>\n      <td>4.5</td>\n      <td>4650</td>\n      <td>7660</td>\n      <td>2.0</td>\n      <td>0</td>\n      <td>0</td>\n      <td>3</td>\n      <td>11</td>\n      <td>3640</td>\n      <td>1010</td>\n      <td>2008</td>\n      <td>0</td>\n      <td>98004</td>\n      <td>47.6349</td>\n      <td>-122.198</td>\n      <td>1710</td>\n      <td>8400</td>\n      <td>2014-07-14</td>\n    </tr>\n    <tr>\n      <th>2205</th>\n      <td>1710000.0</td>\n      <td>5</td>\n      <td>4.5</td>\n      <td>4590</td>\n      <td>14685</td>\n      <td>2.0</td>\n      <td>0</td>\n      <td>0</td>\n      <td>3</td>\n      <td>10</td>\n      <td>4590</td>\n      <td>0</td>\n      <td>2009</td>\n      <td>0</td>\n      <td>98033</td>\n      <td>47.6640</td>\n      <td>-122.200</td>\n      <td>3030</td>\n      <td>9486</td>\n      <td>2014-05-27</td>\n    </tr>\n    <tr>\n      <th>13887</th>\n      <td>1698890.0</td>\n      <td>4</td>\n      <td>4.5</td>\n      <td>3860</td>\n      <td>15246</td>\n      <td>2.0</td>\n      <td>0</td>\n      <td>4</td>\n      <td>3</td>\n      <td>11</td>\n      <td>2940</td>\n      <td>920</td>\n      <td>2004</td>\n      <td>0</td>\n      <td>98006</td>\n      <td>47.5600</td>\n      <td>-122.161</td>\n      <td>3750</td>\n      <td>14790</td>\n      <td>2014-09-22</td>\n    </tr>\n    <tr>\n      <th>7577</th>\n      <td>1650000.0</td>\n      <td>4</td>\n      <td>4.5</td>\n      <td>5550</td>\n      <td>16065</td>\n      <td>2.0</td>\n      <td>0</td>\n      <td>0</td>\n      <td>3</td>\n      <td>9</td>\n      <td>3880</td>\n      <td>1670</td>\n      <td>2003</td>\n      <td>0</td>\n      <td>98040</td>\n      <td>47.5455</td>\n      <td>-122.214</td>\n      <td>3470</td>\n      <td>16488</td>\n      <td>2015-05-01</td>\n    </tr>\n    <tr>\n      <th>275</th>\n      <td>1610000.0</td>\n      <td>5</td>\n      <td>4.5</td>\n      <td>6085</td>\n      <td>142725</td>\n      <td>3.0</td>\n      <td>0</td>\n      <td>0</td>\n      <td>3</td>\n      <td>11</td>\n      <td>6085</td>\n      <td>0</td>\n      <td>2000</td>\n      <td>0</td>\n      <td>98014</td>\n      <td>47.6085</td>\n      <td>-121.952</td>\n      <td>4830</td>\n      <td>128457</td>\n      <td>2014-08-28</td>\n    </tr>\n    <tr>\n      <th>11602</th>\n      <td>1599950.0</td>\n      <td>5</td>\n      <td>4.5</td>\n      <td>5130</td>\n      <td>43123</td>\n      <td>2.0</td>\n      <td>0</td>\n      <td>0</td>\n      <td>3</td>\n      <td>11</td>\n      <td>5130</td>\n      <td>0</td>\n      <td>1996</td>\n      <td>0</td>\n      <td>98006</td>\n      <td>47.5440</td>\n      <td>-122.126</td>\n      <td>4670</td>\n      <td>43560</td>\n      <td>2014-10-03</td>\n    </tr>\n    <tr>\n      <th>11139</th>\n      <td>1570000.0</td>\n      <td>5</td>\n      <td>4.5</td>\n      <td>6070</td>\n      <td>14731</td>\n      <td>2.0</td>\n      <td>0</td>\n      <td>0</td>\n      <td>3</td>\n      <td>11</td>\n      <td>6070</td>\n      <td>0</td>\n      <td>2004</td>\n      <td>0</td>\n      <td>98059</td>\n      <td>47.5306</td>\n      <td>-122.134</td>\n      <td>4750</td>\n      <td>13404</td>\n      <td>2014-11-10</td>\n    </tr>\n    <tr>\n      <th>4572</th>\n      <td>1565000.0</td>\n      <td>5</td>\n      <td>4.5</td>\n      <td>5220</td>\n      <td>67319</td>\n      <td>2.0</td>\n      <td>0</td>\n      <td>0</td>\n      <td>3</td>\n      <td>11</td>\n      <td>5220</td>\n      <td>0</td>\n      <td>2001</td>\n      <td>0</td>\n      <td>98072</td>\n      <td>47.7666</td>\n      <td>-122.128</td>\n      <td>4190</td>\n      <td>40609</td>\n      <td>2014-11-18</td>\n    </tr>\n    <tr>\n      <th>10187</th>\n      <td>1535000.0</td>\n      <td>4</td>\n      <td>4.5</td>\n      <td>5770</td>\n      <td>10050</td>\n      <td>1.0</td>\n      <td>0</td>\n      <td>3</td>\n      <td>5</td>\n      <td>9</td>\n      <td>3160</td>\n      <td>2610</td>\n      <td>1949</td>\n      <td>0</td>\n      <td>98115</td>\n      <td>47.6770</td>\n      <td>-122.275</td>\n      <td>2950</td>\n      <td>6700</td>\n      <td>2014-11-14</td>\n    </tr>\n    <tr>\n      <th>9640</th>\n      <td>1532500.0</td>\n      <td>5</td>\n      <td>4.5</td>\n      <td>4270</td>\n      <td>8076</td>\n      <td>2.0</td>\n      <td>0</td>\n      <td>0</td>\n      <td>3</td>\n      <td>11</td>\n      <td>3400</td>\n      <td>870</td>\n      <td>2007</td>\n      <td>0</td>\n      <td>98033</td>\n      <td>47.6990</td>\n      <td>-122.206</td>\n      <td>4100</td>\n      <td>10631</td>\n      <td>2014-05-07</td>\n    </tr>\n    <tr>\n      <th>4988</th>\n      <td>1465000.0</td>\n      <td>6</td>\n      <td>4.5</td>\n      <td>4230</td>\n      <td>6420</td>\n      <td>2.0</td>\n      <td>0</td>\n      <td>3</td>\n      <td>4</td>\n      <td>8</td>\n      <td>2360</td>\n      <td>1870</td>\n      <td>1916</td>\n      <td>0</td>\n      <td>98119</td>\n      <td>47.6301</td>\n      <td>-122.369</td>\n      <td>3450</td>\n      <td>4085</td>\n      <td>2014-07-09</td>\n    </tr>\n    <tr>\n      <th>3274</th>\n      <td>1450000.0</td>\n      <td>3</td>\n      <td>4.5</td>\n      <td>3970</td>\n      <td>24920</td>\n      <td>2.0</td>\n      <td>0</td>\n      <td>2</td>\n      <td>3</td>\n      <td>10</td>\n      <td>3260</td>\n      <td>710</td>\n      <td>1977</td>\n      <td>1999</td>\n      <td>98034</td>\n      <td>47.7183</td>\n      <td>-122.258</td>\n      <td>2610</td>\n      <td>13838</td>\n      <td>2015-05-02</td>\n    </tr>\n    <tr>\n      <th>10271</th>\n      <td>1400000.0</td>\n      <td>4</td>\n      <td>4.5</td>\n      <td>3080</td>\n      <td>10550</td>\n      <td>2.0</td>\n      <td>0</td>\n      <td>3</td>\n      <td>3</td>\n      <td>8</td>\n      <td>1940</td>\n      <td>1140</td>\n      <td>1976</td>\n      <td>2007</td>\n      <td>98040</td>\n      <td>47.5806</td>\n      <td>-122.244</td>\n      <td>2780</td>\n      <td>10550</td>\n      <td>2014-10-31</td>\n    </tr>\n    <tr>\n      <th>16709</th>\n      <td>1387000.0</td>\n      <td>4</td>\n      <td>4.5</td>\n      <td>4490</td>\n      <td>24767</td>\n      <td>2.0</td>\n      <td>0</td>\n      <td>2</td>\n      <td>3</td>\n      <td>11</td>\n      <td>3800</td>\n      <td>690</td>\n      <td>1998</td>\n      <td>0</td>\n      <td>98006</td>\n      <td>47.5544</td>\n      <td>-122.147</td>\n      <td>3370</td>\n      <td>32700</td>\n      <td>2015-04-21</td>\n    </tr>\n    <tr>\n      <th>10579</th>\n      <td>1375000.0</td>\n      <td>5</td>\n      <td>4.5</td>\n      <td>4350</td>\n      <td>13405</td>\n      <td>2.0</td>\n      <td>0</td>\n      <td>0</td>\n      <td>3</td>\n      <td>11</td>\n      <td>4350</td>\n      <td>0</td>\n      <td>2014</td>\n      <td>0</td>\n      <td>98074</td>\n      <td>47.6018</td>\n      <td>-122.060</td>\n      <td>3990</td>\n      <td>7208</td>\n      <td>2014-12-24</td>\n    </tr>\n    <tr>\n      <th>16094</th>\n      <td>1333000.0</td>\n      <td>4</td>\n      <td>4.5</td>\n      <td>3130</td>\n      <td>5126</td>\n      <td>3.0</td>\n      <td>0</td>\n      <td>0</td>\n      <td>3</td>\n      <td>10</td>\n      <td>2450</td>\n      <td>680</td>\n      <td>2014</td>\n      <td>0</td>\n      <td>98112</td>\n      <td>47.6239</td>\n      <td>-122.290</td>\n      <td>2540</td>\n      <td>7784</td>\n      <td>2014-11-13</td>\n    </tr>\n    <tr>\n      <th>5528</th>\n      <td>1309500.0</td>\n      <td>4</td>\n      <td>4.5</td>\n      <td>4750</td>\n      <td>13912</td>\n      <td>2.0</td>\n      <td>0</td>\n      <td>2</td>\n      <td>3</td>\n      <td>10</td>\n      <td>3600</td>\n      <td>1150</td>\n      <td>2005</td>\n      <td>0</td>\n      <td>98118</td>\n      <td>47.5332</td>\n      <td>-122.265</td>\n      <td>3600</td>\n      <td>22124</td>\n      <td>2014-06-19</td>\n    </tr>\n    <tr>\n      <th>3198</th>\n      <td>1237500.0</td>\n      <td>4</td>\n      <td>4.5</td>\n      <td>5120</td>\n      <td>41327</td>\n      <td>2.0</td>\n      <td>0</td>\n      <td>0</td>\n      <td>3</td>\n      <td>10</td>\n      <td>3290</td>\n      <td>1830</td>\n      <td>2008</td>\n      <td>0</td>\n      <td>98053</td>\n      <td>47.7009</td>\n      <td>-122.059</td>\n      <td>3360</td>\n      <td>82764</td>\n      <td>2014-12-08</td>\n    </tr>\n    <tr>\n      <th>4434</th>\n      <td>1225000.0</td>\n      <td>5</td>\n      <td>4.5</td>\n      <td>3732</td>\n      <td>4426</td>\n      <td>2.5</td>\n      <td>0</td>\n      <td>0</td>\n      <td>3</td>\n      <td>10</td>\n      <td>2932</td>\n      <td>800</td>\n      <td>2001</td>\n      <td>0</td>\n      <td>98112</td>\n      <td>47.6189</td>\n      <td>-122.288</td>\n      <td>2950</td>\n      <td>4000</td>\n      <td>2014-09-10</td>\n    </tr>\n    <tr>\n      <th>7866</th>\n      <td>1225000.0</td>\n      <td>4</td>\n      <td>4.5</td>\n      <td>5420</td>\n      <td>101930</td>\n      <td>1.0</td>\n      <td>0</td>\n      <td>0</td>\n      <td>3</td>\n      <td>11</td>\n      <td>3890</td>\n      <td>1530</td>\n      <td>2001</td>\n      <td>0</td>\n      <td>98053</td>\n      <td>47.6561</td>\n      <td>-122.005</td>\n      <td>4760</td>\n      <td>101930</td>\n      <td>2014-05-12</td>\n    </tr>\n    <tr>\n      <th>14674</th>\n      <td>1063000.0</td>\n      <td>5</td>\n      <td>4.5</td>\n      <td>4820</td>\n      <td>13165</td>\n      <td>2.0</td>\n      <td>0</td>\n      <td>0</td>\n      <td>4</td>\n      <td>11</td>\n      <td>3950</td>\n      <td>870</td>\n      <td>1990</td>\n      <td>0</td>\n      <td>98077</td>\n      <td>47.7295</td>\n      <td>-122.057</td>\n      <td>3880</td>\n      <td>13810</td>\n      <td>2015-02-22</td>\n    </tr>\n    <tr>\n      <th>11879</th>\n      <td>1050000.0</td>\n      <td>4</td>\n      <td>4.5</td>\n      <td>3180</td>\n      <td>4606</td>\n      <td>2.0</td>\n      <td>0</td>\n      <td>3</td>\n      <td>4</td>\n      <td>9</td>\n      <td>1990</td>\n      <td>1190</td>\n      <td>1929</td>\n      <td>0</td>\n      <td>98199</td>\n      <td>47.6402</td>\n      <td>-122.405</td>\n      <td>2110</td>\n      <td>5323</td>\n      <td>2014-08-13</td>\n    </tr>\n    <tr>\n      <th>4148</th>\n      <td>1042000.0</td>\n      <td>4</td>\n      <td>4.5</td>\n      <td>4920</td>\n      <td>270236</td>\n      <td>2.0</td>\n      <td>0</td>\n      <td>3</td>\n      <td>3</td>\n      <td>10</td>\n      <td>3820</td>\n      <td>1100</td>\n      <td>2006</td>\n      <td>0</td>\n      <td>98045</td>\n      <td>47.4695</td>\n      <td>-121.775</td>\n      <td>4920</td>\n      <td>260924</td>\n      <td>2014-12-23</td>\n    </tr>\n    <tr>\n      <th>13938</th>\n      <td>1005000.0</td>\n      <td>4</td>\n      <td>4.5</td>\n      <td>4225</td>\n      <td>284011</td>\n      <td>2.0</td>\n      <td>0</td>\n      <td>0</td>\n      <td>4</td>\n      <td>11</td>\n      <td>4225</td>\n      <td>0</td>\n      <td>1985</td>\n      <td>0</td>\n      <td>98074</td>\n      <td>47.6118</td>\n      <td>-122.024</td>\n      <td>2870</td>\n      <td>14576</td>\n      <td>2014-06-25</td>\n    </tr>\n    <tr>\n      <th>12173</th>\n      <td>998000.0</td>\n      <td>5</td>\n      <td>4.5</td>\n      <td>4130</td>\n      <td>10404</td>\n      <td>2.0</td>\n      <td>0</td>\n      <td>0</td>\n      <td>3</td>\n      <td>10</td>\n      <td>4130</td>\n      <td>0</td>\n      <td>2004</td>\n      <td>0</td>\n      <td>98029</td>\n      <td>47.5556</td>\n      <td>-122.030</td>\n      <td>3890</td>\n      <td>11531</td>\n      <td>2014-08-26</td>\n    </tr>\n    <tr>\n      <th>1091</th>\n      <td>995000.0</td>\n      <td>3</td>\n      <td>4.5</td>\n      <td>4380</td>\n      <td>47044</td>\n      <td>2.0</td>\n      <td>1</td>\n      <td>3</td>\n      <td>3</td>\n      <td>9</td>\n      <td>3720</td>\n      <td>660</td>\n      <td>1968</td>\n      <td>1990</td>\n      <td>98166</td>\n      <td>47.4734</td>\n      <td>-122.365</td>\n      <td>2460</td>\n      <td>18512</td>\n      <td>2014-06-25</td>\n    </tr>\n    <tr>\n      <th>9800</th>\n      <td>989000.0</td>\n      <td>6</td>\n      <td>4.5</td>\n      <td>3830</td>\n      <td>4800</td>\n      <td>3.0</td>\n      <td>0</td>\n      <td>0</td>\n      <td>3</td>\n      <td>9</td>\n      <td>3050</td>\n      <td>780</td>\n      <td>1919</td>\n      <td>2004</td>\n      <td>98119</td>\n      <td>47.6404</td>\n      <td>-122.361</td>\n      <td>1990</td>\n      <td>4800</td>\n      <td>2014-07-02</td>\n    </tr>\n    <tr>\n      <th>7579</th>\n      <td>975000.0</td>\n      <td>5</td>\n      <td>4.5</td>\n      <td>4300</td>\n      <td>12250</td>\n      <td>2.0</td>\n      <td>0</td>\n      <td>0</td>\n      <td>3</td>\n      <td>10</td>\n      <td>4300</td>\n      <td>0</td>\n      <td>2004</td>\n      <td>0</td>\n      <td>98029</td>\n      <td>47.5557</td>\n      <td>-122.027</td>\n      <td>3950</td>\n      <td>12250</td>\n      <td>2014-07-11</td>\n    </tr>\n    <tr>\n      <th>10568</th>\n      <td>970000.0</td>\n      <td>4</td>\n      <td>4.5</td>\n      <td>3890</td>\n      <td>5906</td>\n      <td>2.0</td>\n      <td>0</td>\n      <td>3</td>\n      <td>3</td>\n      <td>11</td>\n      <td>3060</td>\n      <td>830</td>\n      <td>2004</td>\n      <td>0</td>\n      <td>98029</td>\n      <td>47.5426</td>\n      <td>-121.995</td>\n      <td>4170</td>\n      <td>6052</td>\n      <td>2014-07-28</td>\n    </tr>\n    <tr>\n      <th>192</th>\n      <td>966000.0</td>\n      <td>5</td>\n      <td>4.5</td>\n      <td>3810</td>\n      <td>8019</td>\n      <td>2.0</td>\n      <td>0</td>\n      <td>0</td>\n      <td>3</td>\n      <td>10</td>\n      <td>3810</td>\n      <td>0</td>\n      <td>2008</td>\n      <td>0</td>\n      <td>98074</td>\n      <td>47.5915</td>\n      <td>-122.058</td>\n      <td>3390</td>\n      <td>7713</td>\n      <td>2014-05-14</td>\n    </tr>\n    <tr>\n      <th>10670</th>\n      <td>935000.0</td>\n      <td>4</td>\n      <td>4.5</td>\n      <td>5670</td>\n      <td>84267</td>\n      <td>2.0</td>\n      <td>0</td>\n      <td>2</td>\n      <td>3</td>\n      <td>11</td>\n      <td>5670</td>\n      <td>0</td>\n      <td>2008</td>\n      <td>0</td>\n      <td>98010</td>\n      <td>47.3230</td>\n      <td>-122.044</td>\n      <td>4100</td>\n      <td>83729</td>\n      <td>2015-02-02</td>\n    </tr>\n    <tr>\n      <th>11107</th>\n      <td>935000.0</td>\n      <td>5</td>\n      <td>4.5</td>\n      <td>4230</td>\n      <td>9701</td>\n      <td>2.0</td>\n      <td>0</td>\n      <td>0</td>\n      <td>3</td>\n      <td>10</td>\n      <td>4230</td>\n      <td>0</td>\n      <td>1999</td>\n      <td>0</td>\n      <td>98006</td>\n      <td>47.5444</td>\n      <td>-122.131</td>\n      <td>4130</td>\n      <td>12253</td>\n      <td>2014-10-27</td>\n    </tr>\n    <tr>\n      <th>4835</th>\n      <td>932808.0</td>\n      <td>5</td>\n      <td>4.5</td>\n      <td>4690</td>\n      <td>6705</td>\n      <td>2.0</td>\n      <td>0</td>\n      <td>0</td>\n      <td>3</td>\n      <td>10</td>\n      <td>3450</td>\n      <td>1240</td>\n      <td>1995</td>\n      <td>0</td>\n      <td>98006</td>\n      <td>47.5539</td>\n      <td>-122.108</td>\n      <td>4070</td>\n      <td>11505</td>\n      <td>2014-12-15</td>\n    </tr>\n    <tr>\n      <th>5203</th>\n      <td>920000.0</td>\n      <td>5</td>\n      <td>4.5</td>\n      <td>3820</td>\n      <td>5750</td>\n      <td>2.0</td>\n      <td>0</td>\n      <td>3</td>\n      <td>3</td>\n      <td>9</td>\n      <td>2830</td>\n      <td>990</td>\n      <td>2000</td>\n      <td>0</td>\n      <td>98116</td>\n      <td>47.5581</td>\n      <td>-122.385</td>\n      <td>1750</td>\n      <td>5750</td>\n      <td>2015-04-01</td>\n    </tr>\n    <tr>\n      <th>10458</th>\n      <td>915000.0</td>\n      <td>4</td>\n      <td>4.5</td>\n      <td>5250</td>\n      <td>48352</td>\n      <td>2.0</td>\n      <td>0</td>\n      <td>0</td>\n      <td>3</td>\n      <td>10</td>\n      <td>5250</td>\n      <td>0</td>\n      <td>1998</td>\n      <td>0</td>\n      <td>98059</td>\n      <td>47.4858</td>\n      <td>-122.111</td>\n      <td>2500</td>\n      <td>48352</td>\n      <td>2015-04-23</td>\n    </tr>\n    <tr>\n      <th>10601</th>\n      <td>915000.0</td>\n      <td>3</td>\n      <td>4.5</td>\n      <td>3850</td>\n      <td>62726</td>\n      <td>2.0</td>\n      <td>0</td>\n      <td>0</td>\n      <td>3</td>\n      <td>10</td>\n      <td>3120</td>\n      <td>730</td>\n      <td>2013</td>\n      <td>0</td>\n      <td>98053</td>\n      <td>47.6735</td>\n      <td>-122.058</td>\n      <td>2630</td>\n      <td>46609</td>\n      <td>2014-07-02</td>\n    </tr>\n    <tr>\n      <th>5117</th>\n      <td>869900.0</td>\n      <td>6</td>\n      <td>4.5</td>\n      <td>2750</td>\n      <td>4400</td>\n      <td>2.0</td>\n      <td>0</td>\n      <td>0</td>\n      <td>3</td>\n      <td>8</td>\n      <td>1770</td>\n      <td>980</td>\n      <td>1987</td>\n      <td>0</td>\n      <td>98103</td>\n      <td>47.6883</td>\n      <td>-122.335</td>\n      <td>1860</td>\n      <td>4400</td>\n      <td>2014-08-19</td>\n    </tr>\n    <tr>\n      <th>8892</th>\n      <td>860000.0</td>\n      <td>4</td>\n      <td>4.5</td>\n      <td>4040</td>\n      <td>8400</td>\n      <td>2.0</td>\n      <td>0</td>\n      <td>0</td>\n      <td>3</td>\n      <td>9</td>\n      <td>3220</td>\n      <td>820</td>\n      <td>2006</td>\n      <td>0</td>\n      <td>98052</td>\n      <td>47.7067</td>\n      <td>-122.131</td>\n      <td>3940</td>\n      <td>8400</td>\n      <td>2014-10-07</td>\n    </tr>\n    <tr>\n      <th>1987</th>\n      <td>840000.0</td>\n      <td>7</td>\n      <td>4.5</td>\n      <td>4290</td>\n      <td>37607</td>\n      <td>1.5</td>\n      <td>0</td>\n      <td>0</td>\n      <td>5</td>\n      <td>10</td>\n      <td>4290</td>\n      <td>0</td>\n      <td>1982</td>\n      <td>0</td>\n      <td>98027</td>\n      <td>47.4812</td>\n      <td>-122.033</td>\n      <td>2810</td>\n      <td>40510</td>\n      <td>2014-05-30</td>\n    </tr>\n    <tr>\n      <th>896</th>\n      <td>809000.0</td>\n      <td>5</td>\n      <td>4.5</td>\n      <td>4630</td>\n      <td>6324</td>\n      <td>2.0</td>\n      <td>0</td>\n      <td>0</td>\n      <td>3</td>\n      <td>9</td>\n      <td>3210</td>\n      <td>1420</td>\n      <td>2006</td>\n      <td>0</td>\n      <td>98065</td>\n      <td>47.5382</td>\n      <td>-121.860</td>\n      <td>4420</td>\n      <td>6790</td>\n      <td>2014-05-12</td>\n    </tr>\n    <tr>\n      <th>1565</th>\n      <td>805000.0</td>\n      <td>5</td>\n      <td>4.5</td>\n      <td>4600</td>\n      <td>7810</td>\n      <td>2.0</td>\n      <td>0</td>\n      <td>0</td>\n      <td>3</td>\n      <td>9</td>\n      <td>3200</td>\n      <td>1400</td>\n      <td>2006</td>\n      <td>0</td>\n      <td>98065</td>\n      <td>47.5381</td>\n      <td>-121.860</td>\n      <td>4480</td>\n      <td>6324</td>\n      <td>2014-11-14</td>\n    </tr>\n    <tr>\n      <th>7031</th>\n      <td>771005.0</td>\n      <td>5</td>\n      <td>4.5</td>\n      <td>4000</td>\n      <td>6713</td>\n      <td>2.0</td>\n      <td>0</td>\n      <td>0</td>\n      <td>3</td>\n      <td>9</td>\n      <td>4000</td>\n      <td>0</td>\n      <td>2015</td>\n      <td>0</td>\n      <td>98024</td>\n      <td>47.5254</td>\n      <td>-121.886</td>\n      <td>3690</td>\n      <td>6600</td>\n      <td>2015-05-05</td>\n    </tr>\n    <tr>\n      <th>14850</th>\n      <td>739000.0</td>\n      <td>6</td>\n      <td>4.5</td>\n      <td>4000</td>\n      <td>7500</td>\n      <td>2.0</td>\n      <td>0</td>\n      <td>0</td>\n      <td>3</td>\n      <td>7</td>\n      <td>4000</td>\n      <td>0</td>\n      <td>1978</td>\n      <td>0</td>\n      <td>98122</td>\n      <td>47.6146</td>\n      <td>-122.306</td>\n      <td>1380</td>\n      <td>6298</td>\n      <td>2014-09-24</td>\n    </tr>\n    <tr>\n      <th>14934</th>\n      <td>729999.0</td>\n      <td>6</td>\n      <td>4.5</td>\n      <td>3600</td>\n      <td>6110</td>\n      <td>2.0</td>\n      <td>0</td>\n      <td>0</td>\n      <td>3</td>\n      <td>9</td>\n      <td>2510</td>\n      <td>1090</td>\n      <td>2012</td>\n      <td>0</td>\n      <td>98118</td>\n      <td>47.5687</td>\n      <td>-122.291</td>\n      <td>1360</td>\n      <td>5800</td>\n      <td>2015-04-10</td>\n    </tr>\n    <tr>\n      <th>13888</th>\n      <td>707000.0</td>\n      <td>5</td>\n      <td>4.5</td>\n      <td>3540</td>\n      <td>21217</td>\n      <td>2.0</td>\n      <td>0</td>\n      <td>0</td>\n      <td>4</td>\n      <td>8</td>\n      <td>2940</td>\n      <td>600</td>\n      <td>1926</td>\n      <td>0</td>\n      <td>98188</td>\n      <td>47.4274</td>\n      <td>-122.280</td>\n      <td>1290</td>\n      <td>12040</td>\n      <td>2015-01-05</td>\n    </tr>\n    <tr>\n      <th>1280</th>\n      <td>682500.0</td>\n      <td>6</td>\n      <td>4.5</td>\n      <td>3500</td>\n      <td>8504</td>\n      <td>2.0</td>\n      <td>0</td>\n      <td>0</td>\n      <td>3</td>\n      <td>7</td>\n      <td>3500</td>\n      <td>0</td>\n      <td>1980</td>\n      <td>0</td>\n      <td>98155</td>\n      <td>47.7351</td>\n      <td>-122.295</td>\n      <td>1550</td>\n      <td>8460</td>\n      <td>2015-01-21</td>\n    </tr>\n    <tr>\n      <th>5888</th>\n      <td>650000.0</td>\n      <td>6</td>\n      <td>4.5</td>\n      <td>3900</td>\n      <td>9100</td>\n      <td>2.0</td>\n      <td>0</td>\n      <td>0</td>\n      <td>3</td>\n      <td>8</td>\n      <td>2870</td>\n      <td>1030</td>\n      <td>1979</td>\n      <td>0</td>\n      <td>98052</td>\n      <td>47.6612</td>\n      <td>-122.137</td>\n      <td>2080</td>\n      <td>9216</td>\n      <td>2014-10-07</td>\n    </tr>\n    <tr>\n      <th>6458</th>\n      <td>600000.0</td>\n      <td>5</td>\n      <td>4.5</td>\n      <td>4440</td>\n      <td>9784</td>\n      <td>2.0</td>\n      <td>0</td>\n      <td>0</td>\n      <td>3</td>\n      <td>10</td>\n      <td>4440</td>\n      <td>0</td>\n      <td>2012</td>\n      <td>0</td>\n      <td>98168</td>\n      <td>47.4702</td>\n      <td>-122.275</td>\n      <td>2720</td>\n      <td>10080</td>\n      <td>2014-09-24</td>\n    </tr>\n    <tr>\n      <th>8624</th>\n      <td>599999.0</td>\n      <td>9</td>\n      <td>4.5</td>\n      <td>3830</td>\n      <td>6988</td>\n      <td>2.5</td>\n      <td>0</td>\n      <td>0</td>\n      <td>3</td>\n      <td>7</td>\n      <td>2450</td>\n      <td>1380</td>\n      <td>1938</td>\n      <td>0</td>\n      <td>98103</td>\n      <td>47.6927</td>\n      <td>-122.338</td>\n      <td>1460</td>\n      <td>6291</td>\n      <td>2014-05-07</td>\n    </tr>\n    <tr>\n      <th>6440</th>\n      <td>589900.0</td>\n      <td>4</td>\n      <td>4.5</td>\n      <td>3870</td>\n      <td>35889</td>\n      <td>2.0</td>\n      <td>0</td>\n      <td>0</td>\n      <td>3</td>\n      <td>10</td>\n      <td>2530</td>\n      <td>1340</td>\n      <td>2001</td>\n      <td>0</td>\n      <td>98027</td>\n      <td>47.4677</td>\n      <td>-122.010</td>\n      <td>3020</td>\n      <td>35366</td>\n      <td>2014-06-10</td>\n    </tr>\n    <tr>\n      <th>8650</th>\n      <td>569950.0</td>\n      <td>5</td>\n      <td>4.5</td>\n      <td>4850</td>\n      <td>40902</td>\n      <td>2.0</td>\n      <td>0</td>\n      <td>0</td>\n      <td>3</td>\n      <td>10</td>\n      <td>4850</td>\n      <td>0</td>\n      <td>2001</td>\n      <td>0</td>\n      <td>98023</td>\n      <td>47.3181</td>\n      <td>-122.344</td>\n      <td>1640</td>\n      <td>13503</td>\n      <td>2014-05-27</td>\n    </tr>\n    <tr>\n      <th>6725</th>\n      <td>550000.0</td>\n      <td>6</td>\n      <td>4.5</td>\n      <td>4520</td>\n      <td>40164</td>\n      <td>2.0</td>\n      <td>0</td>\n      <td>0</td>\n      <td>3</td>\n      <td>9</td>\n      <td>3580</td>\n      <td>940</td>\n      <td>1953</td>\n      <td>2008</td>\n      <td>98031</td>\n      <td>47.4070</td>\n      <td>-122.216</td>\n      <td>2870</td>\n      <td>13068</td>\n      <td>2015-03-18</td>\n    </tr>\n    <tr>\n      <th>209</th>\n      <td>530000.0</td>\n      <td>4</td>\n      <td>4.5</td>\n      <td>4060</td>\n      <td>10800</td>\n      <td>2.0</td>\n      <td>0</td>\n      <td>0</td>\n      <td>3</td>\n      <td>10</td>\n      <td>4060</td>\n      <td>0</td>\n      <td>2007</td>\n      <td>0</td>\n      <td>98188</td>\n      <td>47.4241</td>\n      <td>-122.290</td>\n      <td>1830</td>\n      <td>9768</td>\n      <td>2015-01-24</td>\n    </tr>\n    <tr>\n      <th>5630</th>\n      <td>510000.0</td>\n      <td>6</td>\n      <td>4.5</td>\n      <td>3300</td>\n      <td>7480</td>\n      <td>2.0</td>\n      <td>0</td>\n      <td>0</td>\n      <td>3</td>\n      <td>8</td>\n      <td>3300</td>\n      <td>0</td>\n      <td>1980</td>\n      <td>0</td>\n      <td>98052</td>\n      <td>47.6796</td>\n      <td>-122.104</td>\n      <td>2470</td>\n      <td>7561</td>\n      <td>2014-07-22</td>\n    </tr>\n    <tr>\n      <th>5038</th>\n      <td>510000.0</td>\n      <td>6</td>\n      <td>4.5</td>\n      <td>3300</td>\n      <td>7200</td>\n      <td>2.0</td>\n      <td>0</td>\n      <td>0</td>\n      <td>3</td>\n      <td>8</td>\n      <td>3300</td>\n      <td>0</td>\n      <td>1980</td>\n      <td>0</td>\n      <td>98052</td>\n      <td>47.6798</td>\n      <td>-122.104</td>\n      <td>2470</td>\n      <td>7561</td>\n      <td>2014-07-23</td>\n    </tr>\n    <tr>\n      <th>8924</th>\n      <td>500000.0</td>\n      <td>4</td>\n      <td>4.5</td>\n      <td>2690</td>\n      <td>7350</td>\n      <td>1.5</td>\n      <td>0</td>\n      <td>0</td>\n      <td>5</td>\n      <td>7</td>\n      <td>2690</td>\n      <td>0</td>\n      <td>1949</td>\n      <td>0</td>\n      <td>98125</td>\n      <td>47.7062</td>\n      <td>-122.311</td>\n      <td>1660</td>\n      <td>9000</td>\n      <td>2014-11-25</td>\n    </tr>\n    <tr>\n      <th>1835</th>\n      <td>482500.0</td>\n      <td>6</td>\n      <td>4.5</td>\n      <td>2940</td>\n      <td>7500</td>\n      <td>1.5</td>\n      <td>0</td>\n      <td>0</td>\n      <td>4</td>\n      <td>8</td>\n      <td>2940</td>\n      <td>0</td>\n      <td>1966</td>\n      <td>0</td>\n      <td>98034</td>\n      <td>47.7208</td>\n      <td>-122.182</td>\n      <td>2010</td>\n      <td>7500</td>\n      <td>2014-09-05</td>\n    </tr>\n    <tr>\n      <th>14681</th>\n      <td>460000.0</td>\n      <td>5</td>\n      <td>4.5</td>\n      <td>3100</td>\n      <td>7260</td>\n      <td>2.0</td>\n      <td>0</td>\n      <td>0</td>\n      <td>3</td>\n      <td>8</td>\n      <td>3100</td>\n      <td>0</td>\n      <td>1963</td>\n      <td>2000</td>\n      <td>98059</td>\n      <td>47.5004</td>\n      <td>-122.162</td>\n      <td>1650</td>\n      <td>7700</td>\n      <td>2015-02-25</td>\n    </tr>\n    <tr>\n      <th>13472</th>\n      <td>389000.0</td>\n      <td>6</td>\n      <td>4.5</td>\n      <td>3560</td>\n      <td>14010</td>\n      <td>2.0</td>\n      <td>0</td>\n      <td>0</td>\n      <td>3</td>\n      <td>7</td>\n      <td>3560</td>\n      <td>0</td>\n      <td>1989</td>\n      <td>0</td>\n      <td>98002</td>\n      <td>47.3244</td>\n      <td>-122.217</td>\n      <td>1710</td>\n      <td>11116</td>\n      <td>2015-05-06</td>\n    </tr>\n    <tr>\n      <th>9224</th>\n      <td>290000.0</td>\n      <td>6</td>\n      <td>4.5</td>\n      <td>2810</td>\n      <td>11214</td>\n      <td>1.0</td>\n      <td>0</td>\n      <td>0</td>\n      <td>3</td>\n      <td>8</td>\n      <td>2010</td>\n      <td>800</td>\n      <td>1958</td>\n      <td>0</td>\n      <td>98031</td>\n      <td>47.4045</td>\n      <td>-122.197</td>\n      <td>1940</td>\n      <td>8349</td>\n      <td>2014-07-31</td>\n    </tr>\n  </tbody>\n</table>\n</div>"
          },
          "metadata": {},
          "execution_count": 29
        }
      ],
      "source": [
        "df[df.bathrooms==4.5].sort_values('price', ascending=False)"
      ]
    },
    {
      "cell_type": "markdown",
      "metadata": {
        "id": "-3EyjfOLwGJT"
      },
      "source": [
        "## **Feature Engineering**"
      ]
    },
    {
      "cell_type": "code",
      "metadata": {
        "id": "c_jKZgGkwJt3",
        "colab": {
          "base_uri": "https://localhost:8080/"
        },
        "outputId": "9916eb7c-931e-4273-bab0-b2c1882d1276"
      },
      "source": [
        "# Create new feature to incorporate built and renovation year\n",
        "df['sale_age'] = df.sale_date.dt.year - df[['yr_built', 'yr_renovated']].max(axis=1)\n",
        "# Reset display options set in the beginning\n",
        "pd.set_option('display.max_rows', 20)\n",
        "# Look for anomalous values\n",
        "df.sale_age.value_counts(ascending=False)"
      ],
      "execution_count": 30,
      "outputs": [
        {
          "output_type": "execute_result",
          "data": {
            "text/plain": [
              " 0      418\n",
              " 9      385\n",
              " 11     374\n",
              " 10     370\n",
              " 8      369\n",
              "       ... \n",
              " 112     21\n",
              " 115     17\n",
              " 81      15\n",
              " 80      12\n",
              "-1       10\n",
              "Name: sale_age, Length: 117, dtype: int64"
            ]
          },
          "metadata": {},
          "execution_count": 30
        }
      ]
    },
    {
      "cell_type": "code",
      "metadata": {
        "id": "Febi-9F2CESL",
        "colab": {
          "base_uri": "https://localhost:8080/"
        },
        "outputId": "b4c9cf10-bd52-4dc3-cf05-cf52039b525d"
      },
      "source": [
        "# Replace anomalous values\n",
        "df.replace({'sale_age': {-1: 0}}, inplace=True)\n",
        "df.sale_age.value_counts()"
      ],
      "execution_count": 31,
      "outputs": [
        {
          "output_type": "execute_result",
          "data": {
            "text/plain": [
              "0      428\n",
              "9      385\n",
              "11     374\n",
              "10     370\n",
              "8      369\n",
              "      ... \n",
              "113     23\n",
              "112     21\n",
              "115     17\n",
              "81      15\n",
              "80      12\n",
              "Name: sale_age, Length: 116, dtype: int64"
            ]
          },
          "metadata": {},
          "execution_count": 31
        }
      ]
    },
    {
      "cell_type": "code",
      "metadata": {
        "id": "1xz5uIwXNDQD"
      },
      "source": [
        "# Create binary variable for whether there has been a renovation, has a bathroom, and has been viewed\n",
        "df['renovated'] = df.yr_renovated.apply(lambda x: x if x==0 else 1)\n",
        "df['basement'] = df.sqft_basement.apply(lambda x: x if x==0 else 1)\n",
        "df['viewed'] = df.view.apply(lambda x: x if x==0 else 1)\n",
        "# Drop original columms as well as the sale_date columns since it is in datetime format\n",
        "df.drop(['yr_built', 'yr_renovated', 'sale_date', 'sqft_basement', 'view'], inplace=True, axis=1)"
      ],
      "execution_count": 32,
      "outputs": []
    },
    {
      "cell_type": "code",
      "metadata": {
        "colab": {
          "base_uri": "https://localhost:8080/"
        },
        "id": "vw4jN6rBQKcB",
        "outputId": "ded23343-f642-4f96-8451-9de07008358b"
      },
      "source": [
        "# Check for any\n",
        "print(df.basement.value_counts())\n",
        "print(df.viewed.value_counts())\n",
        "print(df.renovated.value_counts())"
      ],
      "execution_count": 33,
      "outputs": [
        {
          "output_type": "stream",
          "name": "stdout",
          "text": [
            "0    10414\n1     6762\nName: basement, dtype: int64\n0    15462\n1     1714\nName: viewed, dtype: int64\n0    16452\n1      724\nName: renovated, dtype: int64\n"
          ]
        }
      ]
    },
    {
      "cell_type": "code",
      "metadata": {
        "colab": {
          "base_uri": "https://localhost:8080/"
        },
        "id": "0qhfqeYddvWT",
        "outputId": "3692a202-4705-487e-ccbe-9df0fb5c581a"
      },
      "source": [
        "# Double-check for null values\n",
        "df.isna().sum()"
      ],
      "execution_count": 34,
      "outputs": [
        {
          "output_type": "execute_result",
          "data": {
            "text/plain": [
              "price            0\n",
              "bedrooms         0\n",
              "bathrooms        0\n",
              "sqft_living      0\n",
              "sqft_lot         0\n",
              "floors           0\n",
              "waterfront       0\n",
              "condition        0\n",
              "grade            0\n",
              "sqft_above       0\n",
              "zipcode          0\n",
              "lat              0\n",
              "long             0\n",
              "sqft_living15    0\n",
              "sqft_lot15       0\n",
              "sale_age         0\n",
              "renovated        0\n",
              "basement         0\n",
              "viewed           0\n",
              "dtype: int64"
            ]
          },
          "metadata": {},
          "execution_count": 34
        }
      ]
    },
    {
      "cell_type": "markdown",
      "metadata": {
        "id": "ed-SYx2Gjnr8"
      },
      "source": [
        "### **Creating Dummy Variables for Categoricals**\n"
      ]
    },
    {
      "cell_type": "code",
      "metadata": {
        "colab": {
          "base_uri": "https://localhost:8080/"
        },
        "id": "VfSp2r9vOEcG",
        "outputId": "1c310f92-0b88-4546-c094-ee5e0d6878b9"
      },
      "source": [
        "# Get index of the columns\n",
        "df.columns"
      ],
      "execution_count": 35,
      "outputs": [
        {
          "output_type": "execute_result",
          "data": {
            "text/plain": [
              "Index(['price', 'bedrooms', 'bathrooms', 'sqft_living', 'sqft_lot', 'floors',\n",
              "       'waterfront', 'condition', 'grade', 'sqft_above', 'zipcode', 'lat',\n",
              "       'long', 'sqft_living15', 'sqft_lot15', 'sale_age', 'renovated',\n",
              "       'basement', 'viewed'],\n",
              "      dtype='object')"
            ]
          },
          "metadata": {},
          "execution_count": 35
        }
      ]
    },
    {
      "cell_type": "code",
      "metadata": {
        "id": "j8zNB8LDPyia"
      },
      "source": [
        "# Recreate categorical and continuous subsets of features after feature engineering\n",
        "feat_con = df[['sqft_living', 'sqft_lot', 'sqft_above', 'sqft_living15', 'sqft_lot15', 'sale_age']]\n",
        "feat_cat = df[['bedrooms', 'bathrooms', 'waterfront', 'floors', 'viewed', 'condition', 'grade', 'renovated', 'basement']]\n",
        "index_cat = feat_cat.columns"
      ],
      "execution_count": 36,
      "outputs": []
    },
    {
      "cell_type": "code",
      "metadata": {
        "colab": {
          "base_uri": "https://localhost:8080/",
          "height": 362
        },
        "id": "SDy12Vb57ChK",
        "outputId": "e0ae35a2-f49a-436b-bd4e-ae077462eec9"
      },
      "source": [
        "sns.regplot('sale_age', 'price', df)"
      ],
      "execution_count": 7,
      "outputs": [
        {
          "output_type": "error",
          "ename": "NameError",
          "evalue": "name 'sns' is not defined",
          "traceback": [
            "\u001b[0;31m---------------------------------------------------------------------------\u001b[0m",
            "\u001b[0;31mNameError\u001b[0m                                 Traceback (most recent call last)",
            "\u001b[0;32m<ipython-input-7-026c8db20a05>\u001b[0m in \u001b[0;36m<module>\u001b[0;34m\u001b[0m\n\u001b[0;32m----> 1\u001b[0;31m \u001b[0msns\u001b[0m\u001b[0;34m.\u001b[0m\u001b[0mregplot\u001b[0m\u001b[0;34m(\u001b[0m\u001b[0;34m'sale_age'\u001b[0m\u001b[0;34m,\u001b[0m \u001b[0;34m'price'\u001b[0m\u001b[0;34m,\u001b[0m \u001b[0mdf\u001b[0m\u001b[0;34m)\u001b[0m\u001b[0;34m\u001b[0m\u001b[0;34m\u001b[0m\u001b[0m\n\u001b[0m",
            "\u001b[0;31mNameError\u001b[0m: name 'sns' is not defined"
          ]
        }
      ]
    },
    {
      "cell_type": "code",
      "metadata": {
        "colab": {
          "base_uri": "https://localhost:8080/",
          "height": 937
        },
        "id": "sMSFlXV75_MQ",
        "outputId": "01f65c7c-0524-4489-d8f8-7a7e0cc48b37"
      },
      "source": [
        "cat_4 = pd.melt(df, id_vars='price', value_vars=index_cat)\n",
        "g = sns.FacetGrid(cat_4, col='variable', col_wrap=3, sharex=False, sharey=False, height=4)\n",
        "g = g.map(sns.boxplot, 'value', 'price', color='mediumslateblue')\n",
        "g.set_xticklabels(rotation=90)"
      ],
      "execution_count": 8,
      "outputs": [
        {
          "output_type": "error",
          "ename": "NameError",
          "evalue": "name 'pd' is not defined",
          "traceback": [
            "\u001b[0;31m---------------------------------------------------------------------------\u001b[0m",
            "\u001b[0;31mNameError\u001b[0m                                 Traceback (most recent call last)",
            "\u001b[0;32m<ipython-input-8-a6b7285edf14>\u001b[0m in \u001b[0;36m<module>\u001b[0;34m\u001b[0m\n\u001b[0;32m----> 1\u001b[0;31m \u001b[0mcat_4\u001b[0m \u001b[0;34m=\u001b[0m \u001b[0mpd\u001b[0m\u001b[0;34m.\u001b[0m\u001b[0mmelt\u001b[0m\u001b[0;34m(\u001b[0m\u001b[0mdf\u001b[0m\u001b[0;34m,\u001b[0m \u001b[0mid_vars\u001b[0m\u001b[0;34m=\u001b[0m\u001b[0;34m'price'\u001b[0m\u001b[0;34m,\u001b[0m \u001b[0mvalue_vars\u001b[0m\u001b[0;34m=\u001b[0m\u001b[0mindex_cat\u001b[0m\u001b[0;34m)\u001b[0m\u001b[0;34m\u001b[0m\u001b[0;34m\u001b[0m\u001b[0m\n\u001b[0m\u001b[1;32m      2\u001b[0m \u001b[0mg\u001b[0m \u001b[0;34m=\u001b[0m \u001b[0msns\u001b[0m\u001b[0;34m.\u001b[0m\u001b[0mFacetGrid\u001b[0m\u001b[0;34m(\u001b[0m\u001b[0mcat_4\u001b[0m\u001b[0;34m,\u001b[0m \u001b[0mcol\u001b[0m\u001b[0;34m=\u001b[0m\u001b[0;34m'variable'\u001b[0m\u001b[0;34m,\u001b[0m \u001b[0mcol_wrap\u001b[0m\u001b[0;34m=\u001b[0m\u001b[0;36m3\u001b[0m\u001b[0;34m,\u001b[0m \u001b[0msharex\u001b[0m\u001b[0;34m=\u001b[0m\u001b[0;32mFalse\u001b[0m\u001b[0;34m,\u001b[0m \u001b[0msharey\u001b[0m\u001b[0;34m=\u001b[0m\u001b[0;32mFalse\u001b[0m\u001b[0;34m,\u001b[0m \u001b[0mheight\u001b[0m\u001b[0;34m=\u001b[0m\u001b[0;36m4\u001b[0m\u001b[0;34m)\u001b[0m\u001b[0;34m\u001b[0m\u001b[0;34m\u001b[0m\u001b[0m\n\u001b[1;32m      3\u001b[0m \u001b[0mg\u001b[0m \u001b[0;34m=\u001b[0m \u001b[0mg\u001b[0m\u001b[0;34m.\u001b[0m\u001b[0mmap\u001b[0m\u001b[0;34m(\u001b[0m\u001b[0msns\u001b[0m\u001b[0;34m.\u001b[0m\u001b[0mboxplot\u001b[0m\u001b[0;34m,\u001b[0m \u001b[0;34m'value'\u001b[0m\u001b[0;34m,\u001b[0m \u001b[0;34m'price'\u001b[0m\u001b[0;34m,\u001b[0m \u001b[0mcolor\u001b[0m\u001b[0;34m=\u001b[0m\u001b[0;34m'mediumslateblue'\u001b[0m\u001b[0;34m)\u001b[0m\u001b[0;34m\u001b[0m\u001b[0;34m\u001b[0m\u001b[0m\n\u001b[1;32m      4\u001b[0m \u001b[0mg\u001b[0m\u001b[0;34m.\u001b[0m\u001b[0mset_xticklabels\u001b[0m\u001b[0;34m(\u001b[0m\u001b[0mrotation\u001b[0m\u001b[0;34m=\u001b[0m\u001b[0;36m90\u001b[0m\u001b[0;34m)\u001b[0m\u001b[0;34m\u001b[0m\u001b[0;34m\u001b[0m\u001b[0m\n",
            "\u001b[0;31mNameError\u001b[0m: name 'pd' is not defined"
          ]
        }
      ]
    },
    {
      "cell_type": "code",
      "metadata": {
        "colab": {
          "base_uri": "https://localhost:8080/"
        },
        "id": "MS7uVJ1oT9M0",
        "outputId": "c10690fa-b600-48db-fea8-eac4a580625e"
      },
      "source": [
        "# Set categorical features as category type\n",
        "df.bedrooms = df.bedrooms.astype('category')\n",
        "df.bathrooms = df.bathrooms.astype('category')\n",
        "df.floors = df.floors.astype('category')\n",
        "df.condition = df.condition.astype('category')\n",
        "df.grade = df.grade.astype('category')\n",
        "df.renovated = df.renovated.astype('category')\n",
        "df.basement = df.basement.astype('category')\n",
        "df.viewed = df.viewed.astype('category')\n",
        "\n",
        "# Check datatype\n",
        "df.bedrooms.dtypes"
      ],
      "execution_count": 9,
      "outputs": [
        {
          "output_type": "error",
          "ename": "NameError",
          "evalue": "name 'df' is not defined",
          "traceback": [
            "\u001b[0;31m---------------------------------------------------------------------------\u001b[0m",
            "\u001b[0;31mNameError\u001b[0m                                 Traceback (most recent call last)",
            "\u001b[0;32m<ipython-input-9-be88963eb70a>\u001b[0m in \u001b[0;36m<module>\u001b[0;34m\u001b[0m\n\u001b[1;32m      1\u001b[0m \u001b[0;31m# Set categorical features as category type\u001b[0m\u001b[0;34m\u001b[0m\u001b[0;34m\u001b[0m\u001b[0;34m\u001b[0m\u001b[0m\n\u001b[0;32m----> 2\u001b[0;31m \u001b[0mdf\u001b[0m\u001b[0;34m.\u001b[0m\u001b[0mbedrooms\u001b[0m \u001b[0;34m=\u001b[0m \u001b[0mdf\u001b[0m\u001b[0;34m.\u001b[0m\u001b[0mbedrooms\u001b[0m\u001b[0;34m.\u001b[0m\u001b[0mastype\u001b[0m\u001b[0;34m(\u001b[0m\u001b[0;34m'category'\u001b[0m\u001b[0;34m)\u001b[0m\u001b[0;34m\u001b[0m\u001b[0;34m\u001b[0m\u001b[0m\n\u001b[0m\u001b[1;32m      3\u001b[0m \u001b[0mdf\u001b[0m\u001b[0;34m.\u001b[0m\u001b[0mbathrooms\u001b[0m \u001b[0;34m=\u001b[0m \u001b[0mdf\u001b[0m\u001b[0;34m.\u001b[0m\u001b[0mbathrooms\u001b[0m\u001b[0;34m.\u001b[0m\u001b[0mastype\u001b[0m\u001b[0;34m(\u001b[0m\u001b[0;34m'category'\u001b[0m\u001b[0;34m)\u001b[0m\u001b[0;34m\u001b[0m\u001b[0;34m\u001b[0m\u001b[0m\n\u001b[1;32m      4\u001b[0m \u001b[0mdf\u001b[0m\u001b[0;34m.\u001b[0m\u001b[0mfloors\u001b[0m \u001b[0;34m=\u001b[0m \u001b[0mdf\u001b[0m\u001b[0;34m.\u001b[0m\u001b[0mfloors\u001b[0m\u001b[0;34m.\u001b[0m\u001b[0mastype\u001b[0m\u001b[0;34m(\u001b[0m\u001b[0;34m'category'\u001b[0m\u001b[0;34m)\u001b[0m\u001b[0;34m\u001b[0m\u001b[0;34m\u001b[0m\u001b[0m\n\u001b[1;32m      5\u001b[0m \u001b[0mdf\u001b[0m\u001b[0;34m.\u001b[0m\u001b[0mcondition\u001b[0m \u001b[0;34m=\u001b[0m \u001b[0mdf\u001b[0m\u001b[0;34m.\u001b[0m\u001b[0mcondition\u001b[0m\u001b[0;34m.\u001b[0m\u001b[0mastype\u001b[0m\u001b[0;34m(\u001b[0m\u001b[0;34m'category'\u001b[0m\u001b[0;34m)\u001b[0m\u001b[0;34m\u001b[0m\u001b[0;34m\u001b[0m\u001b[0m\n",
            "\u001b[0;31mNameError\u001b[0m: name 'df' is not defined"
          ]
        }
      ]
    },
    {
      "cell_type": "code",
      "metadata": {
        "id": "AbBnwK1PZRuq",
        "colab": {
          "base_uri": "https://localhost:8080/",
          "height": 224
        },
        "outputId": "53335341-9a8b-4311-cf46-6c19e2ec3986"
      },
      "source": [
        "# Grab indices of columns for creating dummy variables and set dataframe to dum\n",
        "index_dum = df[['bedrooms', 'bathrooms', 'floors', 'condition', 'grade']].columns\n",
        "df_dum = pd.get_dummies(data=df, columns=index_dum, drop_first=True, prefix=['bdr', 'bth', 'flr', 'cnd', 'grd'])\n",
        "df_dum.head()"
      ],
      "execution_count": 40,
      "outputs": [
        {
          "output_type": "execute_result",
          "data": {
            "text/plain": [
              "      0         0        0         0        0         0   \n",
              "3        0         0        0         0        1         0        0         0   \n",
              "4        1         0        0         0        0         0        0         0   \n",
              "\n",
              "   bth_4.5  bth_4.75  bth_5.0  bth_5.25  bth_5.5  bth_5.75  bth_6.0  bth_6.25  \\\n",
              "0        0         0        0         0        0         0        0         0   \n",
              "1        0         0        0         0        0         0        0         0   \n",
              "2        0         0        0         0        0         0        0         0   \n",
              "3        0         0        0         0        0         0        0         0   \n",
              "4        0         0        0         0        0         0        0         0   \n",
              "\n",
              "   bth_6.5  bth_6.75  bth_7.5  bth_7.75  bth_8.0  flr_1.5  flr_2.0  flr_2.5  \\\n",
              "0        0         0        0         0        0        0        1        0   \n",
              "1        0         0        0         0        0        0        0        0   \n",
              "2        0         0        0         0        0        0        1        0   \n",
              "3        0         0        0         0        0        0        1        0   \n",
              "4        0         0        0         0        0        0        1        0   \n",
              "\n",
              "   flr_3.0  flr_3.5  cnd_2  cnd_3  cnd_4  cnd_5  grd_3  grd_4  grd_5  grd_6  \\\n",
              "0        0        0      0      0      1      0      0      0      0      0   \n",
              "1        0        0      0      0      0      1      0      0      0      0   \n",
              "2        0        0      0      1      0      0      0      0      0      0   \n",
              "3        0        0      0      1      0      0      0      0      0      0   \n",
              "4        0        0      0      1      0      0      0      0      0      0   \n",
              "\n",
              "   grd_7  grd_8  grd_9  grd_10  grd_11  grd_12  grd_13  \n",
              "0      0      1      0       0       0       0       0  \n",
              "1      0      1      0       0       0       0       0  \n",
              "2      0      0      0       0       1       0       0  \n",
              "3      0      0      0       0       0       1       0  \n",
              "4      0      0      1       0       0       0       0  "
            ],
            "text/html": "<div>\n<style scoped>\n    .dataframe tbody tr th:only-of-type {\n        vertical-align: middle;\n    }\n\n    .dataframe tbody tr th {\n        vertical-align: top;\n    }\n\n    .dataframe thead th {\n        text-align: right;\n    }\n</style>\n<table border=\"1\" class=\"dataframe\">\n  <thead>\n    <tr style=\"text-align: right;\">\n      <th></th>\n      <th>price</th>\n      <th>sqft_living</th>\n      <th>sqft_lot</th>\n      <th>waterfront</th>\n      <th>sqft_above</th>\n      <th>zipcode</th>\n      <th>lat</th>\n      <th>long</th>\n      <th>sqft_living15</th>\n      <th>sqft_lot15</th>\n      <th>sale_age</th>\n      <th>renovated</th>\n      <th>basement</th>\n      <th>viewed</th>\n      <th>bdr_1</th>\n      <th>bdr_2</th>\n      <th>bdr_3</th>\n      <th>bdr_4</th>\n      <th>bdr_5</th>\n      <th>bdr_6</th>\n      <th>bdr_7</th>\n      <th>bdr_8</th>\n      <th>bdr_9</th>\n      <th>bdr_10</th>\n      <th>bth_0.5</th>\n      <th>bth_0.75</th>\n      <th>bth_1.0</th>\n      <th>bth_1.25</th>\n      <th>bth_1.5</th>\n      <th>bth_1.75</th>\n      <th>bth_2.0</th>\n      <th>bth_2.25</th>\n      <th>bth_2.5</th>\n      <th>bth_2.75</th>\n      <th>bth_3.0</th>\n      <th>bth_3.25</th>\n      <th>bth_3.5</th>\n      <th>bth_3.75</th>\n      <th>bth_4.0</th>\n      <th>bth_4.25</th>\n      <th>bth_4.5</th>\n      <th>bth_4.75</th>\n      <th>bth_5.0</th>\n      <th>bth_5.25</th>\n      <th>bth_5.5</th>\n      <th>bth_5.75</th>\n      <th>bth_6.0</th>\n      <th>bth_6.25</th>\n      <th>bth_6.5</th>\n      <th>bth_6.75</th>\n      <th>bth_7.5</th>\n      <th>bth_7.75</th>\n      <th>bth_8.0</th>\n      <th>flr_1.5</th>\n      <th>flr_2.0</th>\n      <th>flr_2.5</th>\n      <th>flr_3.0</th>\n      <th>flr_3.5</th>\n      <th>cnd_2</th>\n      <th>cnd_3</th>\n      <th>cnd_4</th>\n      <th>cnd_5</th>\n      <th>grd_3</th>\n      <th>grd_4</th>\n      <th>grd_5</th>\n      <th>grd_6</th>\n      <th>grd_7</th>\n      <th>grd_8</th>\n      <th>grd_9</th>\n      <th>grd_10</th>\n      <th>grd_11</th>\n      <th>grd_12</th>\n      <th>grd_13</th>\n    </tr>\n  </thead>\n  <tbody>\n    <tr>\n      <th>0</th>\n      <td>365000.0</td>\n      <td>2070</td>\n      <td>8893</td>\n      <td>0</td>\n      <td>2070</td>\n      <td>98058</td>\n      <td>47.4388</td>\n      <td>-122.162</td>\n      <td>2390</td>\n      <td>7700</td>\n      <td>28</td>\n      <td>0</td>\n      <td>0</td>\n      <td>0</td>\n      <td>0</td>\n      <td>0</td>\n      <td>0</td>\n      <td>1</td>\n      <td>0</td>\n      <td>0</td>\n      <td>0</td>\n      <td>0</td>\n      <td>0</td>\n      <td>0</td>\n      <td>0</td>\n      <td>0</td>\n      <td>0</td>\n      <td>0</td>\n      <td>0</td>\n      <td>0</td>\n      <td>0</td>\n      <td>1</td>\n      <td>0</td>\n      <td>0</td>\n      <td>0</td>\n      <td>0</td>\n      <td>0</td>\n      <td>0</td>\n      <td>0</td>\n      <td>0</td>\n      <td>0</td>\n      <td>0</td>\n      <td>0</td>\n      <td>0</td>\n      <td>0</td>\n      <td>0</td>\n      <td>0</td>\n      <td>0</td>\n      <td>0</td>\n      <td>0</td>\n      <td>0</td>\n      <td>0</td>\n      <td>0</td>\n      <td>0</td>\n      <td>1</td>\n      <td>0</td>\n      <td>0</td>\n      <td>0</td>\n      <td>0</td>\n      <td>0</td>\n      <td>1</td>\n      <td>0</td>\n      <td>0</td>\n      <td>0</td>\n      <td>0</td>\n      <td>0</td>\n      <td>0</td>\n      <td>1</td>\n      <td>0</td>\n      <td>0</td>\n      <td>0</td>\n      <td>0</td>\n      <td>0</td>\n    </tr>\n    <tr>\n      <th>1</th>\n      <td>865000.0</td>\n      <td>2900</td>\n      <td>6730</td>\n      <td>0</td>\n      <td>1830</td>\n      <td>98115</td>\n      <td>47.6784</td>\n      <td>-122.285</td>\n      <td>2370</td>\n      <td>6283</td>\n      <td>37</td>\n      <td>0</td>\n      <td>1</td>\n      <td>0</td>\n      <td>0</td>\n      <td>0</td>\n      <td>0</td>\n      <td>0</td>\n      <td>1</td>\n      <td>0</td>\n      <td>0</td>\n      <td>0</td>\n      <td>0</td>\n      <td>0</td>\n      <td>0</td>\n      <td>0</td>\n      <td>0</td>\n      <td>0</td>\n      <td>0</td>\n      <td>0</td>\n      <td>0</td>\n      <td>0</td>\n      <td>0</td>\n      <td>0</td>\n      <td>1</td>\n      <td>0</td>\n      <td>0</td>\n      <td>0</td>\n      <td>0</td>\n      <td>0</td>\n      <td>0</td>\n      <td>0</td>\n      <td>0</td>\n      <td>0</td>\n      <td>0</td>\n      <td>0</td>\n      <td>0</td>\n      <td>0</td>\n      <td>0</td>\n      <td>0</td>\n      <td>0</td>\n      <td>0</td>\n      <td>0</td>\n      <td>0</td>\n      <td>0</td>\n      <td>0</td>\n      <td>0</td>\n      <td>0</td>\n      <td>0</td>\n      <td>0</td>\n      <td>0</td>\n      <td>1</td>\n      <td>0</td>\n      <td>0</td>\n      <td>0</td>\n      <td>0</td>\n      <td>0</td>\n      <td>1</td>\n      <td>0</td>\n      <td>0</td>\n      <td>0</td>\n      <td>0</td>\n      <td>0</td>\n    </tr>\n    <tr>\n      <th>2</th>\n      <td>1038000.0</td>\n      <td>3770</td>\n      <td>10893</td>\n      <td>0</td>\n      <td>3770</td>\n      <td>98006</td>\n      <td>47.5646</td>\n      <td>-122.129</td>\n      <td>3710</td>\n      <td>9685</td>\n      <td>17</td>\n      <td>0</td>\n      <td>0</td>\n      <td>1</td>\n      <td>0</td>\n      <td>0</td>\n      <td>0</td>\n      <td>1</td>\n      <td>0</td>\n      <td>0</td>\n      <td>0</td>\n      <td>0</td>\n      <td>0</td>\n      <td>0</td>\n      <td>0</td>\n      <td>0</td>\n      <td>0</td>\n      <td>0</td>\n      <td>0</td>\n      <td>0</td>\n      <td>0</td>\n      <td>0</td>\n      <td>1</td>\n      <td>0</td>\n      <td>0</td>\n      <td>0</td>\n      <td>0</td>\n      <td>0</td>\n      <td>0</td>\n      <td>0</td>\n      <td>0</td>\n      <td>0</td>\n      <td>0</td>\n      <td>0</td>\n      <td>0</td>\n      <td>0</td>\n      <td>0</td>\n      <td>0</td>\n      <td>0</td>\n      <td>0</td>\n      <td>0</td>\n      <td>0</td>\n      <td>0</td>\n      <td>0</td>\n      <td>1</td>\n      <td>0</td>\n      <td>0</td>\n      <td>0</td>\n      <td>0</td>\n      <td>1</td>\n      <td>0</td>\n      <td>0</td>\n      <td>0</td>\n      <td>0</td>\n      <td>0</td>\n      <td>0</td>\n      <td>0</td>\n      <td>0</td>\n      <td>0</td>\n      <td>0</td>\n      <td>1</td>\n      <td>0</td>\n      <td>0</td>\n    </tr>\n    <tr>\n      <th>3</th>\n      <td>1490000.0</td>\n      <td>4560</td>\n      <td>14608</td>\n      <td>0</td>\n      <td>4560</td>\n      <td>98034</td>\n      <td>47.6995</td>\n      <td>-122.228</td>\n      <td>4050</td>\n      <td>14226</td>\n      <td>25</td>\n      <td>0</td>\n      <td>0</td>\n      <td>1</td>\n      <td>0</td>\n      <td>0</td>\n      <td>1</td>\n      <td>0</td>\n      <td>0</td>\n      <td>0</td>\n      <td>0</td>\n      <td>0</td>\n      <td>0</td>\n      <td>0</td>\n      <td>0</td>\n      <td>0</td>\n      <td>0</td>\n      <td>0</td>\n      <td>0</td>\n      <td>0</td>\n      <td>0</td>\n      <td>0</td>\n      <td>0</td>\n      <td>0</td>\n      <td>0</td>\n      <td>0</td>\n      <td>1</td>\n      <td>0</td>\n      <td>0</td>\n      <td>0</td>\n      <td>0</td>\n      <td>0</td>\n      <td>0</td>\n      <td>0</td>\n      <td>0</td>\n      <td>0</td>\n      <td>0</td>\n      <td>0</td>\n      <td>0</td>\n      <td>0</td>\n      <td>0</td>\n      <td>0</td>\n      <td>0</td>\n      <td>0</td>\n      <td>1</td>\n      <td>0</td>\n      <td>0</td>\n      <td>0</td>\n      <td>0</td>\n      <td>1</td>\n      <td>0</td>\n      <td>0</td>\n      <td>0</td>\n      <td>0</td>\n      <td>0</td>\n      <td>0</td>\n      <td>0</td>\n      <td>0</td>\n      <td>0</td>\n      <td>0</td>\n      <td>0</td>\n      <td>1</td>\n      <td>0</td>\n    </tr>\n    <tr>\n      <th>4</th>\n      <td>711000.0</td>\n      <td>2550</td>\n      <td>5376</td>\n      <td>0</td>\n      <td>2550</td>\n      <td>98052</td>\n      <td>47.6647</td>\n      <td>-122.083</td>\n      <td>2250</td>\n      <td>4050</td>\n      <td>10</td>\n      <td>0</td>\n      <td>0</td>\n      <td>0</td>\n      <td>0</td>\n      <td>0</td>\n      <td>1</td>\n      <td>0</td>\n      <td>0</td>\n      <td>0</td>\n      <td>0</td>\n      <td>0</td>\n      <td>0</td>\n      <td>0</td>\n      <td>0</td>\n      <td>0</td>\n      <td>0</td>\n      <td>0</td>\n      <td>0</td>\n      <td>0</td>\n      <td>0</td>\n      <td>0</td>\n      <td>1</td>\n      <td>0</td>\n      <td>0</td>\n      <td>0</td>\n      <td>0</td>\n      <td>0</td>\n      <td>0</td>\n      <td>0</td>\n      <td>0</td>\n      <td>0</td>\n      <td>0</td>\n      <td>0</td>\n      <td>0</td>\n      <td>0</td>\n      <td>0</td>\n      <td>0</td>\n      <td>0</td>\n      <td>0</td>\n      <td>0</td>\n      <td>0</td>\n      <td>0</td>\n      <td>0</td>\n      <td>1</td>\n      <td>0</td>\n      <td>0</td>\n      <td>0</td>\n      <td>0</td>\n      <td>1</td>\n      <td>0</td>\n      <td>0</td>\n      <td>0</td>\n      <td>0</td>\n      <td>0</td>\n      <td>0</td>\n      <td>0</td>\n      <td>0</td>\n      <td>1</td>\n      <td>0</td>\n      <td>0</td>\n      <td>0</td>\n      <td>0</td>\n    </tr>\n  </tbody>\n</table>\n</div>"
          },
          "metadata": {},
          "execution_count": 40
        }
      ]
    },
    {
      "cell_type": "markdown",
      "metadata": {
        "id": "ojelrgwxvpfU"
      },
      "source": [
        "### **Polynomial and Interaction Features**"
      ]
    },
    {
      "cell_type": "code",
      "metadata": {
        "id": "jWpC6vmtONSb",
        "colab": {
          "base_uri": "https://localhost:8080/",
          "height": 439
        },
        "outputId": "b56dbc0c-61f8-4279-f7d9-376456197c55"
      },
      "source": [
        "# Get dataframe of columns to get polynomial and interaction features\n",
        "df_features = df_dum.drop('price', axis=1)\n",
        "# Get target series\n",
        "target = df_dum['price']\n",
        "df_features"
      ],
      "execution_count": 41,
      "outputs": [
        {
          "output_type": "execute_result",
          "data": {
            "text/plain": [
              "0      1   \n",
              "3            0        0        1        0        0        0      0      1   \n",
              "4            0        0        1        0        0        0      0      1   \n",
              "...        ...      ...      ...      ...      ...      ...    ...    ...   \n",
              "17285        0        0        0        0        0        0      0      1   \n",
              "17286        0        0        1        0        0        0      0      1   \n",
              "17287        0        0        0        0        0        0      0      1   \n",
              "17288        0        1        0        0        0        0      0      0   \n",
              "17289        0        0        0        0        0        0      0      0   \n",
              "\n",
              "       cnd_4  cnd_5  grd_3  grd_4  grd_5  grd_6  grd_7  grd_8  grd_9  grd_10  \\\n",
              "0          1      0      0      0      0      0      0      1      0       0   \n",
              "1          0      1      0      0      0      0      0      1      0       0   \n",
              "2          0      0      0      0      0      0      0      0      0       0   \n",
              "3          0      0      0      0      0      0      0      0      0       0   \n",
              "4          0      0      0      0      0      0      0      0      1       0   \n",
              "...      ...    ...    ...    ...    ...    ...    ...    ...    ...     ...   \n",
              "17285      0      0      0      0      0      0      0      1      0       0   \n",
              "17286      0      0      0      0      0      0      1      0      0       0   \n",
              "17287      0      0      0      0      0      0      1      0      0       0   \n",
              "17288      1      0      0      0      0      0      1      0      0       0   \n",
              "17289      1      0      0      0      0      0      1      0      0       0   \n",
              "\n",
              "       grd_11  grd_12  grd_13  \n",
              "0           0       0       0  \n",
              "1           0       0       0  \n",
              "2           1       0       0  \n",
              "3           0       1       0  \n",
              "4           0       0       0  \n",
              "...       ...     ...     ...  \n",
              "17285       0       0       0  \n",
              "17286       0       0       0  \n",
              "17287       0       0       0  \n",
              "17288       0       0       0  \n",
              "17289       0       0       0  \n",
              "\n",
              "[17176 rows x 72 columns]"
            ],
            "text/html": "<div>\n<style scoped>\n    .dataframe tbody tr th:only-of-type {\n        vertical-align: middle;\n    }\n\n    .dataframe tbody tr th {\n        vertical-align: top;\n    }\n\n    .dataframe thead th {\n        text-align: right;\n    }\n</style>\n<table border=\"1\" class=\"dataframe\">\n  <thead>\n    <tr style=\"text-align: right;\">\n      <th></th>\n      <th>sqft_living</th>\n      <th>sqft_lot</th>\n      <th>waterfront</th>\n      <th>sqft_above</th>\n      <th>zipcode</th>\n      <th>lat</th>\n      <th>long</th>\n      <th>sqft_living15</th>\n      <th>sqft_lot15</th>\n      <th>sale_age</th>\n      <th>renovated</th>\n      <th>basement</th>\n      <th>viewed</th>\n      <th>bdr_1</th>\n      <th>bdr_2</th>\n      <th>bdr_3</th>\n      <th>bdr_4</th>\n      <th>bdr_5</th>\n      <th>bdr_6</th>\n      <th>bdr_7</th>\n      <th>bdr_8</th>\n      <th>bdr_9</th>\n      <th>bdr_10</th>\n      <th>bth_0.5</th>\n      <th>bth_0.75</th>\n      <th>bth_1.0</th>\n      <th>bth_1.25</th>\n      <th>bth_1.5</th>\n      <th>bth_1.75</th>\n      <th>bth_2.0</th>\n      <th>bth_2.25</th>\n      <th>bth_2.5</th>\n      <th>bth_2.75</th>\n      <th>bth_3.0</th>\n      <th>bth_3.25</th>\n      <th>bth_3.5</th>\n      <th>bth_3.75</th>\n      <th>bth_4.0</th>\n      <th>bth_4.25</th>\n      <th>bth_4.5</th>\n      <th>bth_4.75</th>\n      <th>bth_5.0</th>\n      <th>bth_5.25</th>\n      <th>bth_5.5</th>\n      <th>bth_5.75</th>\n      <th>bth_6.0</th>\n      <th>bth_6.25</th>\n      <th>bth_6.5</th>\n      <th>bth_6.75</th>\n      <th>bth_7.5</th>\n      <th>bth_7.75</th>\n      <th>bth_8.0</th>\n      <th>flr_1.5</th>\n      <th>flr_2.0</th>\n      <th>flr_2.5</th>\n      <th>flr_3.0</th>\n      <th>flr_3.5</th>\n      <th>cnd_2</th>\n      <th>cnd_3</th>\n      <th>cnd_4</th>\n      <th>cnd_5</th>\n      <th>grd_3</th>\n      <th>grd_4</th>\n      <th>grd_5</th>\n      <th>grd_6</th>\n      <th>grd_7</th>\n      <th>grd_8</th>\n      <th>grd_9</th>\n      <th>grd_10</th>\n      <th>grd_11</th>\n      <th>grd_12</th>\n      <th>grd_13</th>\n    </tr>\n  </thead>\n  <tbody>\n    <tr>\n      <th>0</th>\n      <td>2070</td>\n      <td>8893</td>\n      <td>0</td>\n      <td>2070</td>\n      <td>98058</td>\n      <td>47.4388</td>\n      <td>-122.162</td>\n      <td>2390</td>\n      <td>7700</td>\n      <td>28</td>\n      <td>0</td>\n      <td>0</td>\n      <td>0</td>\n      <td>0</td>\n      <td>0</td>\n      <td>0</td>\n      <td>1</td>\n      <td>0</td>\n      <td>0</td>\n      <td>0</td>\n      <td>0</td>\n      <td>0</td>\n      <td>0</td>\n      <td>0</td>\n      <td>0</td>\n      <td>0</td>\n      <td>0</td>\n      <td>0</td>\n      <td>0</td>\n      <td>0</td>\n      <td>1</td>\n      <td>0</td>\n      <td>0</td>\n      <td>0</td>\n      <td>0</td>\n      <td>0</td>\n      <td>0</td>\n      <td>0</td>\n      <td>0</td>\n      <td>0</td>\n      <td>0</td>\n      <td>0</td>\n      <td>0</td>\n      <td>0</td>\n      <td>0</td>\n      <td>0</td>\n      <td>0</td>\n      <td>0</td>\n      <td>0</td>\n      <td>0</td>\n      <td>0</td>\n      <td>0</td>\n      <td>0</td>\n      <td>1</td>\n      <td>0</td>\n      <td>0</td>\n      <td>0</td>\n      <td>0</td>\n      <td>0</td>\n      <td>1</td>\n      <td>0</td>\n      <td>0</td>\n      <td>0</td>\n      <td>0</td>\n      <td>0</td>\n      <td>0</td>\n      <td>1</td>\n      <td>0</td>\n      <td>0</td>\n      <td>0</td>\n      <td>0</td>\n      <td>0</td>\n    </tr>\n    <tr>\n      <th>1</th>\n      <td>2900</td>\n      <td>6730</td>\n      <td>0</td>\n      <td>1830</td>\n      <td>98115</td>\n      <td>47.6784</td>\n      <td>-122.285</td>\n      <td>2370</td>\n      <td>6283</td>\n      <td>37</td>\n      <td>0</td>\n      <td>1</td>\n      <td>0</td>\n      <td>0</td>\n      <td>0</td>\n      <td>0</td>\n      <td>0</td>\n      <td>1</td>\n      <td>0</td>\n      <td>0</td>\n      <td>0</td>\n      <td>0</td>\n      <td>0</td>\n      <td>0</td>\n      <td>0</td>\n      <td>0</td>\n      <td>0</td>\n      <td>0</td>\n      <td>0</td>\n      <td>0</td>\n      <td>0</td>\n      <td>0</td>\n      <td>0</td>\n      <td>1</td>\n      <td>0</td>\n      <td>0</td>\n      <td>0</td>\n      <td>0</td>\n      <td>0</td>\n      <td>0</td>\n      <td>0</td>\n      <td>0</td>\n      <td>0</td>\n      <td>0</td>\n      <td>0</td>\n      <td>0</td>\n      <td>0</td>\n      <td>0</td>\n      <td>0</td>\n      <td>0</td>\n      <td>0</td>\n      <td>0</td>\n      <td>0</td>\n      <td>0</td>\n      <td>0</td>\n      <td>0</td>\n      <td>0</td>\n      <td>0</td>\n      <td>0</td>\n      <td>0</td>\n      <td>1</td>\n      <td>0</td>\n      <td>0</td>\n      <td>0</td>\n      <td>0</td>\n      <td>0</td>\n      <td>1</td>\n      <td>0</td>\n      <td>0</td>\n      <td>0</td>\n      <td>0</td>\n      <td>0</td>\n    </tr>\n    <tr>\n      <th>2</th>\n      <td>3770</td>\n      <td>10893</td>\n      <td>0</td>\n      <td>3770</td>\n      <td>98006</td>\n      <td>47.5646</td>\n      <td>-122.129</td>\n      <td>3710</td>\n      <td>9685</td>\n      <td>17</td>\n      <td>0</td>\n      <td>0</td>\n      <td>1</td>\n      <td>0</td>\n      <td>0</td>\n      <td>0</td>\n      <td>1</td>\n      <td>0</td>\n      <td>0</td>\n      <td>0</td>\n      <td>0</td>\n      <td>0</td>\n      <td>0</td>\n      <td>0</td>\n      <td>0</td>\n      <td>0</td>\n      <td>0</td>\n      <td>0</td>\n      <td>0</td>\n      <td>0</td>\n      <td>0</td>\n      <td>1</td>\n      <td>0</td>\n      <td>0</td>\n      <td>0</td>\n      <td>0</td>\n      <td>0</td>\n      <td>0</td>\n      <td>0</td>\n      <td>0</td>\n      <td>0</td>\n      <td>0</td>\n      <td>0</td>\n      <td>0</td>\n      <td>0</td>\n      <td>0</td>\n      <td>0</td>\n      <td>0</td>\n      <td>0</td>\n      <td>0</td>\n      <td>0</td>\n      <td>0</td>\n      <td>0</td>\n      <td>1</td>\n      <td>0</td>\n      <td>0</td>\n      <td>0</td>\n      <td>0</td>\n      <td>1</td>\n      <td>0</td>\n      <td>0</td>\n      <td>0</td>\n      <td>0</td>\n      <td>0</td>\n      <td>0</td>\n      <td>0</td>\n      <td>0</td>\n      <td>0</td>\n      <td>0</td>\n      <td>1</td>\n      <td>0</td>\n      <td>0</td>\n    </tr>\n    <tr>\n      <th>3</th>\n      <td>4560</td>\n      <td>14608</td>\n      <td>0</td>\n      <td>4560</td>\n      <td>98034</td>\n      <td>47.6995</td>\n      <td>-122.228</td>\n      <td>4050</td>\n      <td>14226</td>\n      <td>25</td>\n      <td>0</td>\n      <td>0</td>\n      <td>1</td>\n      <td>0</td>\n      <td>0</td>\n      <td>1</td>\n      <td>0</td>\n      <td>0</td>\n      <td>0</td>\n      <td>0</td>\n      <td>0</td>\n      <td>0</td>\n      <td>0</td>\n      <td>0</td>\n      <td>0</td>\n      <td>0</td>\n      <td>0</td>\n      <td>0</td>\n      <td>0</td>\n      <td>0</td>\n      <td>0</td>\n      <td>0</td>\n      <td>0</td>\n      <td>0</td>\n      <td>0</td>\n      <td>1</td>\n      <td>0</td>\n      <td>0</td>\n      <td>0</td>\n      <td>0</td>\n      <td>0</td>\n      <td>0</td>\n      <td>0</td>\n      <td>0</td>\n      <td>0</td>\n      <td>0</td>\n      <td>0</td>\n      <td>0</td>\n      <td>0</td>\n      <td>0</td>\n      <td>0</td>\n      <td>0</td>\n      <td>0</td>\n      <td>1</td>\n      <td>0</td>\n      <td>0</td>\n      <td>0</td>\n      <td>0</td>\n      <td>1</td>\n      <td>0</td>\n      <td>0</td>\n      <td>0</td>\n      <td>0</td>\n      <td>0</td>\n      <td>0</td>\n      <td>0</td>\n      <td>0</td>\n      <td>0</td>\n      <td>0</td>\n      <td>0</td>\n      <td>1</td>\n      <td>0</td>\n    </tr>\n    <tr>\n      <th>4</th>\n      <td>2550</td>\n      <td>5376</td>\n      <td>0</td>\n      <td>2550</td>\n      <td>98052</td>\n      <td>47.6647</td>\n      <td>-122.083</td>\n      <td>2250</td>\n      <td>4050</td>\n      <td>10</td>\n      <td>0</td>\n      <td>0</td>\n      <td>0</td>\n      <td>0</td>\n      <td>0</td>\n      <td>1</td>\n      <td>0</td>\n      <td>0</td>\n      <td>0</td>\n      <td>0</td>\n      <td>0</td>\n      <td>0</td>\n      <td>0</td>\n      <td>0</td>\n      <td>0</td>\n      <td>0</td>\n      <td>0</td>\n      <td>0</td>\n      <td>0</td>\n      <td>0</td>\n      <td>0</td>\n      <td>1</td>\n      <td>0</td>\n      <td>0</td>\n      <td>0</td>\n      <td>0</td>\n      <td>0</td>\n      <td>0</td>\n      <td>0</td>\n      <td>0</td>\n      <td>0</td>\n      <td>0</td>\n      <td>0</td>\n      <td>0</td>\n      <td>0</td>\n      <td>0</td>\n      <td>0</td>\n      <td>0</td>\n      <td>0</td>\n      <td>0</td>\n      <td>0</td>\n      <td>0</td>\n      <td>0</td>\n      <td>1</td>\n      <td>0</td>\n      <td>0</td>\n      <td>0</td>\n      <td>0</td>\n      <td>1</td>\n      <td>0</td>\n      <td>0</td>\n      <td>0</td>\n      <td>0</td>\n      <td>0</td>\n      <td>0</td>\n      <td>0</td>\n      <td>0</td>\n      <td>1</td>\n      <td>0</td>\n      <td>0</td>\n      <td>0</td>\n      <td>0</td>\n    </tr>\n    <tr>\n      <th>...</th>\n      <td>...</td>\n      <td>...</td>\n      <td>...</td>\n      <td>...</td>\n      <td>...</td>\n      <td>...</td>\n      <td>...</td>\n      <td>...</td>\n      <td>...</td>\n      <td>...</td>\n      <td>...</td>\n      <td>...</td>\n      <td>...</td>\n      <td>...</td>\n      <td>...</td>\n      <td>...</td>\n      <td>...</td>\n      <td>...</td>\n      <td>...</td>\n      <td>...</td>\n      <td>...</td>\n      <td>...</td>\n      <td>...</td>\n      <td>...</td>\n      <td>...</td>\n      <td>...</td>\n      <td>...</td>\n      <td>...</td>\n      <td>...</td>\n      <td>...</td>\n      <td>...</td>\n      <td>...</td>\n      <td>...</td>\n      <td>...</td>\n      <td>...</td>\n      <td>...</td>\n      <td>...</td>\n      <td>...</td>\n      <td>...</td>\n      <td>...</td>\n      <td>...</td>\n      <td>...</td>\n      <td>...</td>\n      <td>...</td>\n      <td>...</td>\n      <td>...</td>\n      <td>...</td>\n      <td>...</td>\n      <td>...</td>\n      <td>...</td>\n      <td>...</td>\n      <td>...</td>\n      <td>...</td>\n      <td>...</td>\n      <td>...</td>\n      <td>...</td>\n      <td>...</td>\n      <td>...</td>\n      <td>...</td>\n      <td>...</td>\n      <td>...</td>\n      <td>...</td>\n      <td>...</td>\n      <td>...</td>\n      <td>...</td>\n      <td>...</td>\n      <td>...</td>\n      <td>...</td>\n      <td>...</td>\n      <td>...</td>\n      <td>...</td>\n      <td>...</td>\n    </tr>\n    <tr>\n      <th>17285</th>\n      <td>3240</td>\n      <td>9960</td>\n      <td>0</td>\n      <td>2020</td>\n      <td>98008</td>\n      <td>47.5858</td>\n      <td>-122.112</td>\n      <td>2730</td>\n      <td>10400</td>\n      <td>57</td>\n      <td>0</td>\n      <td>1</td>\n      <td>1</td>\n      <td>0</td>\n      <td>0</td>\n      <td>0</td>\n      <td>0</td>\n      <td>1</td>\n      <td>0</td>\n      <td>0</td>\n      <td>0</td>\n      <td>0</td>\n      <td>0</td>\n      <td>0</td>\n      <td>0</td>\n      <td>0</td>\n      <td>0</td>\n      <td>0</td>\n      <td>0</td>\n      <td>0</td>\n      <td>0</td>\n      <td>1</td>\n      <td>0</td>\n      <td>0</td>\n      <td>0</td>\n      <td>0</td>\n      <td>0</td>\n      <td>0</td>\n      <td>0</td>\n      <td>0</td>\n      <td>0</td>\n      <td>0</td>\n      <td>0</td>\n      <td>0</td>\n      <td>0</td>\n      <td>0</td>\n      <td>0</td>\n      <td>0</td>\n      <td>0</td>\n      <td>0</td>\n      <td>0</td>\n      <td>0</td>\n      <td>0</td>\n      <td>0</td>\n      <td>0</td>\n      <td>0</td>\n      <td>0</td>\n      <td>0</td>\n      <td>1</td>\n      <td>0</td>\n      <td>0</td>\n      <td>0</td>\n      <td>0</td>\n      <td>0</td>\n      <td>0</td>\n      <td>0</td>\n      <td>1</td>\n      <td>0</td>\n      <td>0</td>\n      <td>0</td>\n      <td>0</td>\n      <td>0</td>\n    </tr>\n    <tr>\n      <th>17286</th>\n      <td>1300</td>\n      <td>4000</td>\n      <td>0</td>\n      <td>1300</td>\n      <td>98105</td>\n      <td>47.6687</td>\n      <td>-122.288</td>\n      <td>1350</td>\n      <td>4013</td>\n      <td>66</td>\n      <td>0</td>\n      <td>0</td>\n      <td>0</td>\n      <td>0</td>\n      <td>1</td>\n      <td>0</td>\n      <td>0</td>\n      <td>0</td>\n      <td>0</td>\n      <td>0</td>\n      <td>0</td>\n      <td>0</td>\n      <td>0</td>\n      <td>0</td>\n      <td>0</td>\n      <td>0</td>\n      <td>0</td>\n      <td>0</td>\n      <td>1</td>\n      <td>0</td>\n      <td>0</td>\n      <td>0</td>\n      <td>0</td>\n      <td>0</td>\n      <td>0</td>\n      <td>0</td>\n      <td>0</td>\n      <td>0</td>\n      <td>0</td>\n      <td>0</td>\n      <td>0</td>\n      <td>0</td>\n      <td>0</td>\n      <td>0</td>\n      <td>0</td>\n      <td>0</td>\n      <td>0</td>\n      <td>0</td>\n      <td>0</td>\n      <td>0</td>\n      <td>0</td>\n      <td>0</td>\n      <td>0</td>\n      <td>1</td>\n      <td>0</td>\n      <td>0</td>\n      <td>0</td>\n      <td>0</td>\n      <td>1</td>\n      <td>0</td>\n      <td>0</td>\n      <td>0</td>\n      <td>0</td>\n      <td>0</td>\n      <td>0</td>\n      <td>1</td>\n      <td>0</td>\n      <td>0</td>\n      <td>0</td>\n      <td>0</td>\n      <td>0</td>\n      <td>0</td>\n    </tr>\n    <tr>\n      <th>17287</th>\n      <td>1050</td>\n      <td>9876</td>\n      <td>0</td>\n      <td>1050</td>\n      <td>98028</td>\n      <td>47.7635</td>\n      <td>-122.262</td>\n      <td>1760</td>\n      <td>9403</td>\n      <td>61</td>\n      <td>0</td>\n      <td>0</td>\n      <td>0</td>\n      <td>0</td>\n      <td>0</td>\n      <td>1</td>\n      <td>0</td>\n      <td>0</td>\n      <td>0</td>\n      <td>0</td>\n      <td>0</td>\n      <td>0</td>\n      <td>0</td>\n      <td>0</td>\n      <td>0</td>\n      <td>1</td>\n      <td>0</td>\n      <td>0</td>\n      <td>0</td>\n      <td>0</td>\n      <td>0</td>\n      <td>0</td>\n      <td>0</td>\n      <td>0</td>\n      <td>0</td>\n      <td>0</td>\n      <td>0</td>\n      <td>0</td>\n      <td>0</td>\n      <td>0</td>\n      <td>0</td>\n      <td>0</td>\n      <td>0</td>\n      <td>0</td>\n      <td>0</td>\n      <td>0</td>\n      <td>0</td>\n      <td>0</td>\n      <td>0</td>\n      <td>0</td>\n      <td>0</td>\n      <td>0</td>\n      <td>0</td>\n      <td>0</td>\n      <td>0</td>\n      <td>0</td>\n      <td>0</td>\n      <td>0</td>\n      <td>1</td>\n      <td>0</td>\n      <td>0</td>\n      <td>0</td>\n      <td>0</td>\n      <td>0</td>\n      <td>0</td>\n      <td>1</td>\n      <td>0</td>\n      <td>0</td>\n      <td>0</td>\n      <td>0</td>\n      <td>0</td>\n      <td>0</td>\n    </tr>\n    <tr>\n      <th>17288</th>\n      <td>1900</td>\n      <td>43186</td>\n      <td>0</td>\n      <td>1300</td>\n      <td>98038</td>\n      <td>47.4199</td>\n      <td>-121.990</td>\n      <td>2080</td>\n      <td>108028</td>\n      <td>43</td>\n      <td>0</td>\n      <td>1</td>\n      <td>0</td>\n      <td>0</td>\n      <td>0</td>\n      <td>1</td>\n      <td>0</td>\n      <td>0</td>\n      <td>0</td>\n      <td>0</td>\n      <td>0</td>\n      <td>0</td>\n      <td>0</td>\n      <td>0</td>\n      <td>0</td>\n      <td>0</td>\n      <td>0</td>\n      <td>1</td>\n      <td>0</td>\n      <td>0</td>\n      <td>0</td>\n      <td>0</td>\n      <td>0</td>\n      <td>0</td>\n      <td>0</td>\n      <td>0</td>\n      <td>0</td>\n      <td>0</td>\n      <td>0</td>\n      <td>0</td>\n      <td>0</td>\n      <td>0</td>\n      <td>0</td>\n      <td>0</td>\n      <td>0</td>\n      <td>0</td>\n      <td>0</td>\n      <td>0</td>\n      <td>0</td>\n      <td>0</td>\n      <td>0</td>\n      <td>0</td>\n      <td>1</td>\n      <td>0</td>\n      <td>0</td>\n      <td>0</td>\n      <td>0</td>\n      <td>0</td>\n      <td>0</td>\n      <td>1</td>\n      <td>0</td>\n      <td>0</td>\n      <td>0</td>\n      <td>0</td>\n      <td>0</td>\n      <td>1</td>\n      <td>0</td>\n      <td>0</td>\n      <td>0</td>\n      <td>0</td>\n      <td>0</td>\n      <td>0</td>\n    </tr>\n    <tr>\n      <th>17289</th>\n      <td>1330</td>\n      <td>6768</td>\n      <td>0</td>\n      <td>1330</td>\n      <td>98155</td>\n      <td>47.7366</td>\n      <td>-122.319</td>\n      <td>1320</td>\n      <td>6910</td>\n      <td>63</td>\n      <td>0</td>\n      <td>0</td>\n      <td>0</td>\n      <td>0</td>\n      <td>0</td>\n      <td>1</td>\n      <td>0</td>\n      <td>0</td>\n      <td>0</td>\n      <td>0</td>\n      <td>0</td>\n      <td>0</td>\n      <td>0</td>\n      <td>0</td>\n      <td>0</td>\n      <td>0</td>\n      <td>0</td>\n      <td>1</td>\n      <td>0</td>\n      <td>0</td>\n      <td>0</td>\n      <td>0</td>\n      <td>0</td>\n      <td>0</td>\n      <td>0</td>\n      <td>0</td>\n      <td>0</td>\n      <td>0</td>\n      <td>0</td>\n      <td>0</td>\n      <td>0</td>\n      <td>0</td>\n      <td>0</td>\n      <td>0</td>\n      <td>0</td>\n      <td>0</td>\n      <td>0</td>\n      <td>0</td>\n      <td>0</td>\n      <td>0</td>\n      <td>0</td>\n      <td>0</td>\n      <td>0</td>\n      <td>0</td>\n      <td>0</td>\n      <td>0</td>\n      <td>0</td>\n      <td>0</td>\n      <td>0</td>\n      <td>1</td>\n      <td>0</td>\n      <td>0</td>\n      <td>0</td>\n      <td>0</td>\n      <td>0</td>\n      <td>1</td>\n      <td>0</td>\n      <td>0</td>\n      <td>0</td>\n      <td>0</td>\n      <td>0</td>\n      <td>0</td>\n    </tr>\n  </tbody>\n</table>\n<p>17176 rows × 72 columns</p>\n</div>"
          },
          "metadata": {},
          "execution_count": 41
        }
      ]
    },
    {
      "cell_type": "code",
      "metadata": {
        "colab": {
          "base_uri": "https://localhost:8080/"
        },
        "id": "I3_rBBoivp9z",
        "outputId": "4e882009-dbaf-42dd-87b1-955616df5c35"
      },
      "source": [
        "# Use SKlearn to create binomial features\n",
        "poly = PolynomialFeatures(degree=2, include_bias=False)\n",
        "poly_data = poly.fit_transform(df_features)\n",
        "poly_data"
      ],
      "execution_count": 42,
      "outputs": [
        {
          "output_type": "execute_result",
          "data": {
            "text/plain": [
              "array([[ 2070.,  8893.,     0., ...,     0.,     0.,     0.],\n",
              "       [ 2900.,  6730.,     0., ...,     0.,     0.,     0.],\n",
              "       [ 3770., 10893.,     0., ...,     0.,     0.,     0.],\n",
              "       ...,\n",
              "       [ 1050.,  9876.,     0., ...,     0.,     0.,     0.],\n",
              "       [ 1900., 43186.,     0., ...,     0.,     0.,     0.],\n",
              "       [ 1330.,  6768.,     0., ...,     0.,     0.,     0.]])"
            ]
          },
          "metadata": {},
          "execution_count": 42
        }
      ]
    },
    {
      "cell_type": "code",
      "metadata": {
        "colab": {
          "base_uri": "https://localhost:8080/",
          "height": 270
        },
        "id": "8gQbY4pCQhr1",
        "outputId": "bab332d7-7209-4627-da25-55b241de6ab7"
      },
      "source": [
        "# Create new dataframe with interaction and polynomial features\n",
        "poly_columns = poly.get_feature_names(df_features.columns)\n",
        "df_poly = pd.DataFrame(poly_data, columns=poly_columns)\n",
        "df_poly.head()"
      ],
      "execution_count": 43,
      "outputs": [
        {
          "output_type": "execute_result",
          "data": {
            "text/plain": [
              "d_9  \\\n",
              "0           0.0           0.0           0.0      1.0          0.0   \n",
              "1           0.0           0.0           0.0      1.0          0.0   \n",
              "2           0.0           0.0           0.0      0.0          0.0   \n",
              "3           0.0           0.0           0.0      0.0          0.0   \n",
              "4           0.0           0.0           0.0      0.0          0.0   \n",
              "\n",
              "   grd_8 grd_10  grd_8 grd_11  grd_8 grd_12  grd_8 grd_13  grd_9^2  \\\n",
              "0           0.0           0.0           0.0           0.0      0.0   \n",
              "1           0.0           0.0           0.0           0.0      0.0   \n",
              "2           0.0           0.0           0.0           0.0      0.0   \n",
              "3           0.0           0.0           0.0           0.0      0.0   \n",
              "4           0.0           0.0           0.0           0.0      1.0   \n",
              "\n",
              "   grd_9 grd_10  grd_9 grd_11  grd_9 grd_12  grd_9 grd_13  grd_10^2  \\\n",
              "0           0.0           0.0           0.0           0.0       0.0   \n",
              "1           0.0           0.0           0.0           0.0       0.0   \n",
              "2           0.0           0.0           0.0           0.0       0.0   \n",
              "3           0.0           0.0           0.0           0.0       0.0   \n",
              "4           0.0           0.0           0.0           0.0       0.0   \n",
              "\n",
              "   grd_10 grd_11  grd_10 grd_12  grd_10 grd_13  grd_11^2  grd_11 grd_12  \\\n",
              "0            0.0            0.0            0.0       0.0            0.0   \n",
              "1            0.0            0.0            0.0       0.0            0.0   \n",
              "2            0.0            0.0            0.0       1.0            0.0   \n",
              "3            0.0            0.0            0.0       0.0            0.0   \n",
              "4            0.0            0.0            0.0       0.0            0.0   \n",
              "\n",
              "   grd_11 grd_13  grd_12^2  grd_12 grd_13  grd_13^2  \n",
              "0            0.0       0.0            0.0       0.0  \n",
              "1            0.0       0.0            0.0       0.0  \n",
              "2            0.0       0.0            0.0       0.0  \n",
              "3            0.0       1.0            0.0       0.0  \n",
              "4            0.0       0.0            0.0       0.0  \n",
              "\n",
              "[5 rows x 2700 columns]"
            ],
            "text/html": "<div>\n<style scoped>\n    .dataframe tbody tr th:only-of-type {\n        vertical-align: middle;\n    }\n\n    .dataframe tbody tr th {\n        vertical-align: top;\n    }\n\n    .dataframe thead th {\n        text-align: right;\n    }\n</style>\n<table border=\"1\" class=\"dataframe\">\n  <thead>\n    <tr style=\"text-align: right;\">\n      <th></th>\n      <th>sqft_living</th>\n      <th>sqft_lot</th>\n      <th>waterfront</th>\n      <th>sqft_above</th>\n      <th>zipcode</th>\n      <th>lat</th>\n      <th>long</th>\n      <th>sqft_living15</th>\n      <th>sqft_lot15</th>\n      <th>sale_age</th>\n      <th>renovated</th>\n      <th>basement</th>\n      <th>viewed</th>\n      <th>bdr_1</th>\n      <th>bdr_2</th>\n      <th>bdr_3</th>\n      <th>bdr_4</th>\n      <th>bdr_5</th>\n      <th>bdr_6</th>\n      <th>bdr_7</th>\n      <th>bdr_8</th>\n      <th>bdr_9</th>\n      <th>bdr_10</th>\n      <th>bth_0.5</th>\n      <th>bth_0.75</th>\n      <th>bth_1.0</th>\n      <th>bth_1.25</th>\n      <th>bth_1.5</th>\n      <th>bth_1.75</th>\n      <th>bth_2.0</th>\n      <th>bth_2.25</th>\n      <th>bth_2.5</th>\n      <th>bth_2.75</th>\n      <th>bth_3.0</th>\n      <th>bth_3.25</th>\n      <th>bth_3.5</th>\n      <th>bth_3.75</th>\n      <th>bth_4.0</th>\n      <th>bth_4.25</th>\n      <th>bth_4.5</th>\n      <th>bth_4.75</th>\n      <th>bth_5.0</th>\n      <th>bth_5.25</th>\n      <th>bth_5.5</th>\n      <th>bth_5.75</th>\n      <th>bth_6.0</th>\n      <th>bth_6.25</th>\n      <th>bth_6.5</th>\n      <th>bth_6.75</th>\n      <th>bth_7.5</th>\n      <th>bth_7.75</th>\n      <th>bth_8.0</th>\n      <th>flr_1.5</th>\n      <th>flr_2.0</th>\n      <th>flr_2.5</th>\n      <th>flr_3.0</th>\n      <th>flr_3.5</th>\n      <th>cnd_2</th>\n      <th>cnd_3</th>\n      <th>cnd_4</th>\n      <th>cnd_5</th>\n      <th>grd_3</th>\n      <th>grd_4</th>\n      <th>grd_5</th>\n      <th>grd_6</th>\n      <th>grd_7</th>\n      <th>grd_8</th>\n      <th>grd_9</th>\n      <th>grd_10</th>\n      <th>grd_11</th>\n      <th>grd_12</th>\n      <th>grd_13</th>\n      <th>sqft_living^2</th>\n      <th>sqft_living sqft_lot</th>\n      <th>sqft_living waterfront</th>\n      <th>sqft_living sqft_above</th>\n      <th>sqft_living zipcode</th>\n      <th>sqft_living lat</th>\n      <th>sqft_living long</th>\n      <th>sqft_living sqft_living15</th>\n      <th>sqft_living sqft_lot15</th>\n      <th>sqft_living sale_age</th>\n      <th>sqft_living renovated</th>\n      <th>sqft_living basement</th>\n      <th>sqft_living viewed</th>\n      <th>sqft_living bdr_1</th>\n      <th>sqft_living bdr_2</th>\n      <th>sqft_living bdr_3</th>\n      <th>sqft_living bdr_4</th>\n      <th>sqft_living bdr_5</th>\n      <th>sqft_living bdr_6</th>\n      <th>sqft_living bdr_7</th>\n      <th>sqft_living bdr_8</th>\n      <th>sqft_living bdr_9</th>\n      <th>sqft_living bdr_10</th>\n      <th>sqft_living bth_0.5</th>\n      <th>sqft_living bth_0.75</th>\n      <th>sqft_living bth_1.0</th>\n      <th>sqft_living bth_1.25</th>\n      <th>sqft_living bth_1.5</th>\n      <th>...</th>\n      <th>cnd_3 grd_5</th>\n      <th>cnd_3 grd_6</th>\n      <th>cnd_3 grd_7</th>\n      <th>cnd_3 grd_8</th>\n      <th>cnd_3 grd_9</th>\n      <th>cnd_3 grd_10</th>\n      <th>cnd_3 grd_11</th>\n      <th>cnd_3 grd_12</th>\n      <th>cnd_3 grd_13</th>\n      <th>cnd_4^2</th>\n      <th>cnd_4 cnd_5</th>\n      <th>cnd_4 grd_3</th>\n      <th>cnd_4 grd_4</th>\n      <th>cnd_4 grd_5</th>\n      <th>cnd_4 grd_6</th>\n      <th>cnd_4 grd_7</th>\n      <th>cnd_4 grd_8</th>\n      <th>cnd_4 grd_9</th>\n      <th>cnd_4 grd_10</th>\n      <th>cnd_4 grd_11</th>\n      <th>cnd_4 grd_12</th>\n      <th>cnd_4 grd_13</th>\n      <th>cnd_5^2</th>\n      <th>cnd_5 grd_3</th>\n      <th>cnd_5 grd_4</th>\n      <th>cnd_5 grd_5</th>\n      <th>cnd_5 grd_6</th>\n      <th>cnd_5 grd_7</th>\n      <th>cnd_5 grd_8</th>\n      <th>cnd_5 grd_9</th>\n      <th>cnd_5 grd_10</th>\n      <th>cnd_5 grd_11</th>\n      <th>cnd_5 grd_12</th>\n      <th>cnd_5 grd_13</th>\n      <th>grd_3^2</th>\n      <th>grd_3 grd_4</th>\n      <th>grd_3 grd_5</th>\n      <th>grd_3 grd_6</th>\n      <th>grd_3 grd_7</th>\n      <th>grd_3 grd_8</th>\n      <th>grd_3 grd_9</th>\n      <th>grd_3 grd_10</th>\n      <th>grd_3 grd_11</th>\n      <th>grd_3 grd_12</th>\n      <th>grd_3 grd_13</th>\n      <th>grd_4^2</th>\n      <th>grd_4 grd_5</th>\n      <th>grd_4 grd_6</th>\n      <th>grd_4 grd_7</th>\n      <th>grd_4 grd_8</th>\n      <th>grd_4 grd_9</th>\n      <th>grd_4 grd_10</th>\n      <th>grd_4 grd_11</th>\n      <th>grd_4 grd_12</th>\n      <th>grd_4 grd_13</th>\n      <th>grd_5^2</th>\n      <th>grd_5 grd_6</th>\n      <th>grd_5 grd_7</th>\n      <th>grd_5 grd_8</th>\n      <th>grd_5 grd_9</th>\n      <th>grd_5 grd_10</th>\n      <th>grd_5 grd_11</th>\n      <th>grd_5 grd_12</th>\n      <th>grd_5 grd_13</th>\n      <th>grd_6^2</th>\n      <th>grd_6 grd_7</th>\n      <th>grd_6 grd_8</th>\n      <th>grd_6 grd_9</th>\n      <th>grd_6 grd_10</th>\n      <th>grd_6 grd_11</th>\n      <th>grd_6 grd_12</th>\n      <th>grd_6 grd_13</th>\n      <th>grd_7^2</th>\n      <th>grd_7 grd_8</th>\n      <th>grd_7 grd_9</th>\n      <th>grd_7 grd_10</th>\n      <th>grd_7 grd_11</th>\n      <th>grd_7 grd_12</th>\n      <th>grd_7 grd_13</th>\n      <th>grd_8^2</th>\n      <th>grd_8 grd_9</th>\n      <th>grd_8 grd_10</th>\n      <th>grd_8 grd_11</th>\n      <th>grd_8 grd_12</th>\n      <th>grd_8 grd_13</th>\n      <th>grd_9^2</th>\n      <th>grd_9 grd_10</th>\n      <th>grd_9 grd_11</th>\n      <th>grd_9 grd_12</th>\n      <th>grd_9 grd_13</th>\n      <th>grd_10^2</th>\n      <th>grd_10 grd_11</th>\n      <th>grd_10 grd_12</th>\n      <th>grd_10 grd_13</th>\n      <th>grd_11^2</th>\n      <th>grd_11 grd_12</th>\n      <th>grd_11 grd_13</th>\n      <th>grd_12^2</th>\n      <th>grd_12 grd_13</th>\n      <th>grd_13^2</th>\n    </tr>\n  </thead>\n  <tbody>\n    <tr>\n      <th>0</th>\n      <td>2070.0</td>\n      <td>8893.0</td>\n      <td>0.0</td>\n      <td>2070.0</td>\n      <td>98058.0</td>\n      <td>47.4388</td>\n      <td>-122.162</td>\n      <td>2390.0</td>\n      <td>7700.0</td>\n      <td>28.0</td>\n      <td>0.0</td>\n      <td>0.0</td>\n      <td>0.0</td>\n      <td>0.0</td>\n      <td>0.0</td>\n      <td>0.0</td>\n      <td>1.0</td>\n      <td>0.0</td>\n      <td>0.0</td>\n      <td>0.0</td>\n      <td>0.0</td>\n      <td>0.0</td>\n      <td>0.0</td>\n      <td>0.0</td>\n      <td>0.0</td>\n      <td>0.0</td>\n      <td>0.0</td>\n      <td>0.0</td>\n      <td>0.0</td>\n      <td>0.0</td>\n      <td>1.0</td>\n      <td>0.0</td>\n      <td>0.0</td>\n      <td>0.0</td>\n      <td>0.0</td>\n      <td>0.0</td>\n      <td>0.0</td>\n      <td>0.0</td>\n      <td>0.0</td>\n      <td>0.0</td>\n      <td>0.0</td>\n      <td>0.0</td>\n      <td>0.0</td>\n      <td>0.0</td>\n      <td>0.0</td>\n      <td>0.0</td>\n      <td>0.0</td>\n      <td>0.0</td>\n      <td>0.0</td>\n      <td>0.0</td>\n      <td>0.0</td>\n      <td>0.0</td>\n      <td>0.0</td>\n      <td>1.0</td>\n      <td>0.0</td>\n      <td>0.0</td>\n      <td>0.0</td>\n      <td>0.0</td>\n      <td>0.0</td>\n      <td>1.0</td>\n      <td>0.0</td>\n      <td>0.0</td>\n      <td>0.0</td>\n      <td>0.0</td>\n      <td>0.0</td>\n      <td>0.0</td>\n      <td>1.0</td>\n      <td>0.0</td>\n      <td>0.0</td>\n      <td>0.0</td>\n      <td>0.0</td>\n      <td>0.0</td>\n      <td>4284900.0</td>\n      <td>18408510.0</td>\n      <td>0.0</td>\n      <td>4284900.0</td>\n      <td>202980060.0</td>\n      <td>98198.316</td>\n      <td>-252875.34</td>\n      <td>4947300.0</td>\n      <td>15939000.0</td>\n      <td>57960.0</td>\n      <td>0.0</td>\n      <td>0.0</td>\n      <td>0.0</td>\n      <td>0.0</td>\n      <td>0.0</td>\n      <td>0.0</td>\n      <td>2070.0</td>\n      <td>0.0</td>\n      <td>0.0</td>\n      <td>0.0</td>\n      <td>0.0</td>\n      <td>0.0</td>\n      <td>0.0</td>\n      <td>0.0</td>\n      <td>0.0</td>\n      <td>0.0</td>\n      <td>0.0</td>\n      <td>0.0</td>\n      <td>...</td>\n      <td>0.0</td>\n      <td>0.0</td>\n      <td>0.0</td>\n      <td>0.0</td>\n      <td>0.0</td>\n      <td>0.0</td>\n      <td>0.0</td>\n      <td>0.0</td>\n      <td>0.0</td>\n      <td>1.0</td>\n      <td>0.0</td>\n      <td>0.0</td>\n      <td>0.0</td>\n      <td>0.0</td>\n      <td>0.0</td>\n      <td>0.0</td>\n      <td>1.0</td>\n      <td>0.0</td>\n      <td>0.0</td>\n      <td>0.0</td>\n      <td>0.0</td>\n      <td>0.0</td>\n      <td>0.0</td>\n      <td>0.0</td>\n      <td>0.0</td>\n      <td>0.0</td>\n      <td>0.0</td>\n      <td>0.0</td>\n      <td>0.0</td>\n      <td>0.0</td>\n      <td>0.0</td>\n      <td>0.0</td>\n      <td>0.0</td>\n      <td>0.0</td>\n      <td>0.0</td>\n      <td>0.0</td>\n      <td>0.0</td>\n      <td>0.0</td>\n      <td>0.0</td>\n      <td>0.0</td>\n      <td>0.0</td>\n      <td>0.0</td>\n      <td>0.0</td>\n      <td>0.0</td>\n      <td>0.0</td>\n      <td>0.0</td>\n      <td>0.0</td>\n      <td>0.0</td>\n      <td>0.0</td>\n      <td>0.0</td>\n      <td>0.0</td>\n      <td>0.0</td>\n      <td>0.0</td>\n      <td>0.0</td>\n      <td>0.0</td>\n      <td>0.0</td>\n      <td>0.0</td>\n      <td>0.0</td>\n      <td>0.0</td>\n      <td>0.0</td>\n      <td>0.0</td>\n      <td>0.0</td>\n      <td>0.0</td>\n      <td>0.0</td>\n      <td>0.0</td>\n      <td>0.0</td>\n      <td>0.0</td>\n      <td>0.0</td>\n      <td>0.0</td>\n      <td>0.0</td>\n      <td>0.0</td>\n      <td>0.0</td>\n      <td>0.0</td>\n      <td>0.0</td>\n      <td>0.0</td>\n      <td>0.0</td>\n      <td>0.0</td>\n      <td>0.0</td>\n      <td>0.0</td>\n      <td>1.0</td>\n      <td>0.0</td>\n      <td>0.0</td>\n      <td>0.0</td>\n      <td>0.0</td>\n      <td>0.0</td>\n      <td>0.0</td>\n      <td>0.0</td>\n      <td>0.0</td>\n      <td>0.0</td>\n      <td>0.0</td>\n      <td>0.0</td>\n      <td>0.0</td>\n      <td>0.0</td>\n      <td>0.0</td>\n      <td>0.0</td>\n      <td>0.0</td>\n      <td>0.0</td>\n      <td>0.0</td>\n      <td>0.0</td>\n      <td>0.0</td>\n    </tr>\n    <tr>\n      <th>1</th>\n      <td>2900.0</td>\n      <td>6730.0</td>\n      <td>0.0</td>\n      <td>1830.0</td>\n      <td>98115.0</td>\n      <td>47.6784</td>\n      <td>-122.285</td>\n      <td>2370.0</td>\n      <td>6283.0</td>\n      <td>37.0</td>\n      <td>0.0</td>\n      <td>1.0</td>\n      <td>0.0</td>\n      <td>0.0</td>\n      <td>0.0</td>\n      <td>0.0</td>\n      <td>0.0</td>\n      <td>1.0</td>\n      <td>0.0</td>\n      <td>0.0</td>\n      <td>0.0</td>\n      <td>0.0</td>\n      <td>0.0</td>\n      <td>0.0</td>\n      <td>0.0</td>\n      <td>0.0</td>\n      <td>0.0</td>\n      <td>0.0</td>\n      <td>0.0</td>\n      <td>0.0</td>\n      <td>0.0</td>\n      <td>0.0</td>\n      <td>0.0</td>\n      <td>1.0</td>\n      <td>0.0</td>\n      <td>0.0</td>\n      <td>0.0</td>\n      <td>0.0</td>\n      <td>0.0</td>\n      <td>0.0</td>\n      <td>0.0</td>\n      <td>0.0</td>\n      <td>0.0</td>\n      <td>0.0</td>\n      <td>0.0</td>\n      <td>0.0</td>\n      <td>0.0</td>\n      <td>0.0</td>\n      <td>0.0</td>\n      <td>0.0</td>\n      <td>0.0</td>\n      <td>0.0</td>\n      <td>0.0</td>\n      <td>0.0</td>\n      <td>0.0</td>\n      <td>0.0</td>\n      <td>0.0</td>\n      <td>0.0</td>\n      <td>0.0</td>\n      <td>0.0</td>\n      <td>1.0</td>\n      <td>0.0</td>\n      <td>0.0</td>\n      <td>0.0</td>\n      <td>0.0</td>\n      <td>0.0</td>\n      <td>1.0</td>\n      <td>0.0</td>\n      <td>0.0</td>\n      <td>0.0</td>\n      <td>0.0</td>\n      <td>0.0</td>\n      <td>8410000.0</td>\n      <td>19517000.0</td>\n      <td>0.0</td>\n      <td>5307000.0</td>\n      <td>284533500.0</td>\n      <td>138267.360</td>\n      <td>-354626.50</td>\n      <td>6873000.0</td>\n      <td>18220700.0</td>\n      <td>107300.0</td>\n      <td>0.0</td>\n      <td>2900.0</td>\n      <td>0.0</td>\n      <td>0.0</td>\n      <td>0.0</td>\n      <td>0.0</td>\n      <td>0.0</td>\n      <td>2900.0</td>\n      <td>0.0</td>\n      <td>0.0</td>\n      <td>0.0</td>\n      <td>0.0</td>\n      <td>0.0</td>\n      <td>0.0</td>\n      <td>0.0</td>\n      <td>0.0</td>\n      <td>0.0</td>\n      <td>0.0</td>\n      <td>...</td>\n      <td>0.0</td>\n      <td>0.0</td>\n      <td>0.0</td>\n      <td>0.0</td>\n      <td>0.0</td>\n      <td>0.0</td>\n      <td>0.0</td>\n      <td>0.0</td>\n      <td>0.0</td>\n      <td>0.0</td>\n      <td>0.0</td>\n      <td>0.0</td>\n      <td>0.0</td>\n      <td>0.0</td>\n      <td>0.0</td>\n      <td>0.0</td>\n      <td>0.0</td>\n      <td>0.0</td>\n      <td>0.0</td>\n      <td>0.0</td>\n      <td>0.0</td>\n      <td>0.0</td>\n      <td>1.0</td>\n      <td>0.0</td>\n      <td>0.0</td>\n      <td>0.0</td>\n      <td>0.0</td>\n      <td>0.0</td>\n      <td>1.0</td>\n      <td>0.0</td>\n      <td>0.0</td>\n      <td>0.0</td>\n      <td>0.0</td>\n      <td>0.0</td>\n      <td>0.0</td>\n      <td>0.0</td>\n      <td>0.0</td>\n      <td>0.0</td>\n      <td>0.0</td>\n      <td>0.0</td>\n      <td>0.0</td>\n      <td>0.0</td>\n      <td>0.0</td>\n      <td>0.0</td>\n      <td>0.0</td>\n      <td>0.0</td>\n      <td>0.0</td>\n      <td>0.0</td>\n      <td>0.0</td>\n      <td>0.0</td>\n      <td>0.0</td>\n      <td>0.0</td>\n      <td>0.0</td>\n      <td>0.0</td>\n      <td>0.0</td>\n      <td>0.0</td>\n      <td>0.0</td>\n      <td>0.0</td>\n      <td>0.0</td>\n      <td>0.0</td>\n      <td>0.0</td>\n      <td>0.0</td>\n      <td>0.0</td>\n      <td>0.0</td>\n      <td>0.0</td>\n      <td>0.0</td>\n      <td>0.0</td>\n      <td>0.0</td>\n      <td>0.0</td>\n      <td>0.0</td>\n      <td>0.0</td>\n      <td>0.0</td>\n      <td>0.0</td>\n      <td>0.0</td>\n      <td>0.0</td>\n      <td>0.0</td>\n      <td>0.0</td>\n      <td>0.0</td>\n      <td>0.0</td>\n      <td>1.0</td>\n      <td>0.0</td>\n      <td>0.0</td>\n      <td>0.0</td>\n      <td>0.0</td>\n      <td>0.0</td>\n      <td>0.0</td>\n      <td>0.0</td>\n      <td>0.0</td>\n      <td>0.0</td>\n      <td>0.0</td>\n      <td>0.0</td>\n      <td>0.0</td>\n      <td>0.0</td>\n      <td>0.0</td>\n      <td>0.0</td>\n      <td>0.0</td>\n      <td>0.0</td>\n      <td>0.0</td>\n      <td>0.0</td>\n      <td>0.0</td>\n    </tr>\n    <tr>\n      <th>2</th>\n      <td>3770.0</td>\n      <td>10893.0</td>\n      <td>0.0</td>\n      <td>3770.0</td>\n      <td>98006.0</td>\n      <td>47.5646</td>\n      <td>-122.129</td>\n      <td>3710.0</td>\n      <td>9685.0</td>\n      <td>17.0</td>\n      <td>0.0</td>\n      <td>0.0</td>\n      <td>1.0</td>\n      <td>0.0</td>\n      <td>0.0</td>\n      <td>0.0</td>\n      <td>1.0</td>\n      <td>0.0</td>\n      <td>0.0</td>\n      <td>0.0</td>\n      <td>0.0</td>\n      <td>0.0</td>\n      <td>0.0</td>\n      <td>0.0</td>\n      <td>0.0</td>\n      <td>0.0</td>\n      <td>0.0</td>\n      <td>0.0</td>\n      <td>0.0</td>\n      <td>0.0</td>\n      <td>0.0</td>\n      <td>1.0</td>\n      <td>0.0</td>\n      <td>0.0</td>\n      <td>0.0</td>\n      <td>0.0</td>\n      <td>0.0</td>\n      <td>0.0</td>\n      <td>0.0</td>\n      <td>0.0</td>\n      <td>0.0</td>\n      <td>0.0</td>\n      <td>0.0</td>\n      <td>0.0</td>\n      <td>0.0</td>\n      <td>0.0</td>\n      <td>0.0</td>\n      <td>0.0</td>\n      <td>0.0</td>\n      <td>0.0</td>\n      <td>0.0</td>\n      <td>0.0</td>\n      <td>0.0</td>\n      <td>1.0</td>\n      <td>0.0</td>\n      <td>0.0</td>\n      <td>0.0</td>\n      <td>0.0</td>\n      <td>1.0</td>\n      <td>0.0</td>\n      <td>0.0</td>\n      <td>0.0</td>\n      <td>0.0</td>\n      <td>0.0</td>\n      <td>0.0</td>\n      <td>0.0</td>\n      <td>0.0</td>\n      <td>0.0</td>\n      <td>0.0</td>\n      <td>1.0</td>\n      <td>0.0</td>\n      <td>0.0</td>\n      <td>14212900.0</td>\n      <td>41066610.0</td>\n      <td>0.0</td>\n      <td>14212900.0</td>\n      <td>369482620.0</td>\n      <td>179318.542</td>\n      <td>-460426.33</td>\n      <td>13986700.0</td>\n      <td>36512450.0</td>\n      <td>64090.0</td>\n      <td>0.0</td>\n      <td>0.0</td>\n      <td>3770.0</td>\n      <td>0.0</td>\n      <td>0.0</td>\n      <td>0.0</td>\n      <td>3770.0</td>\n      <td>0.0</td>\n      <td>0.0</td>\n      <td>0.0</td>\n      <td>0.0</td>\n      <td>0.0</td>\n      <td>0.0</td>\n      <td>0.0</td>\n      <td>0.0</td>\n      <td>0.0</td>\n      <td>0.0</td>\n      <td>0.0</td>\n      <td>...</td>\n      <td>0.0</td>\n      <td>0.0</td>\n      <td>0.0</td>\n      <td>0.0</td>\n      <td>0.0</td>\n      <td>0.0</td>\n      <td>1.0</td>\n      <td>0.0</td>\n      <td>0.0</td>\n      <td>0.0</td>\n      <td>0.0</td>\n      <td>0.0</td>\n      <td>0.0</td>\n      <td>0.0</td>\n      <td>0.0</td>\n      <td>0.0</td>\n      <td>0.0</td>\n      <td>0.0</td>\n      <td>0.0</td>\n      <td>0.0</td>\n      <td>0.0</td>\n      <td>0.0</td>\n      <td>0.0</td>\n      <td>0.0</td>\n      <td>0.0</td>\n      <td>0.0</td>\n      <td>0.0</td>\n      <td>0.0</td>\n      <td>0.0</td>\n      <td>0.0</td>\n      <td>0.0</td>\n      <td>0.0</td>\n      <td>0.0</td>\n      <td>0.0</td>\n      <td>0.0</td>\n      <td>0.0</td>\n      <td>0.0</td>\n      <td>0.0</td>\n      <td>0.0</td>\n      <td>0.0</td>\n      <td>0.0</td>\n      <td>0.0</td>\n      <td>0.0</td>\n      <td>0.0</td>\n      <td>0.0</td>\n      <td>0.0</td>\n      <td>0.0</td>\n      <td>0.0</td>\n      <td>0.0</td>\n      <td>0.0</td>\n      <td>0.0</td>\n      <td>0.0</td>\n      <td>0.0</td>\n      <td>0.0</td>\n      <td>0.0</td>\n      <td>0.0</td>\n      <td>0.0</td>\n      <td>0.0</td>\n      <td>0.0</td>\n      <td>0.0</td>\n      <td>0.0</td>\n      <td>0.0</td>\n      <td>0.0</td>\n      <td>0.0</td>\n      <td>0.0</td>\n      <td>0.0</td>\n      <td>0.0</td>\n      <td>0.0</td>\n      <td>0.0</td>\n      <td>0.0</td>\n      <td>0.0</td>\n      <td>0.0</td>\n      <td>0.0</td>\n      <td>0.0</td>\n      <td>0.0</td>\n      <td>0.0</td>\n      <td>0.0</td>\n      <td>0.0</td>\n      <td>0.0</td>\n      <td>0.0</td>\n      <td>0.0</td>\n      <td>0.0</td>\n      <td>0.0</td>\n      <td>0.0</td>\n      <td>0.0</td>\n      <td>0.0</td>\n      <td>0.0</td>\n      <td>0.0</td>\n      <td>0.0</td>\n      <td>0.0</td>\n      <td>0.0</td>\n      <td>0.0</td>\n      <td>0.0</td>\n      <td>0.0</td>\n      <td>1.0</td>\n      <td>0.0</td>\n      <td>0.0</td>\n      <td>0.0</td>\n      <td>0.0</td>\n      <td>0.0</td>\n    </tr>\n    <tr>\n      <th>3</th>\n      <td>4560.0</td>\n      <td>14608.0</td>\n      <td>0.0</td>\n      <td>4560.0</td>\n      <td>98034.0</td>\n      <td>47.6995</td>\n      <td>-122.228</td>\n      <td>4050.0</td>\n      <td>14226.0</td>\n      <td>25.0</td>\n      <td>0.0</td>\n      <td>0.0</td>\n      <td>1.0</td>\n      <td>0.0</td>\n      <td>0.0</td>\n      <td>1.0</td>\n      <td>0.0</td>\n      <td>0.0</td>\n      <td>0.0</td>\n      <td>0.0</td>\n      <td>0.0</td>\n      <td>0.0</td>\n      <td>0.0</td>\n      <td>0.0</td>\n      <td>0.0</td>\n      <td>0.0</td>\n      <td>0.0</td>\n      <td>0.0</td>\n      <td>0.0</td>\n      <td>0.0</td>\n      <td>0.0</td>\n      <td>0.0</td>\n      <td>0.0</td>\n      <td>0.0</td>\n      <td>0.0</td>\n      <td>1.0</td>\n      <td>0.0</td>\n      <td>0.0</td>\n      <td>0.0</td>\n      <td>0.0</td>\n      <td>0.0</td>\n      <td>0.0</td>\n      <td>0.0</td>\n      <td>0.0</td>\n      <td>0.0</td>\n      <td>0.0</td>\n      <td>0.0</td>\n      <td>0.0</td>\n      <td>0.0</td>\n      <td>0.0</td>\n      <td>0.0</td>\n      <td>0.0</td>\n      <td>0.0</td>\n      <td>1.0</td>\n      <td>0.0</td>\n      <td>0.0</td>\n      <td>0.0</td>\n      <td>0.0</td>\n      <td>1.0</td>\n      <td>0.0</td>\n      <td>0.0</td>\n      <td>0.0</td>\n      <td>0.0</td>\n      <td>0.0</td>\n      <td>0.0</td>\n      <td>0.0</td>\n      <td>0.0</td>\n      <td>0.0</td>\n      <td>0.0</td>\n      <td>0.0</td>\n      <td>1.0</td>\n      <td>0.0</td>\n      <td>20793600.0</td>\n      <td>66612480.0</td>\n      <td>0.0</td>\n      <td>20793600.0</td>\n      <td>447035040.0</td>\n      <td>217509.720</td>\n      <td>-557359.68</td>\n      <td>18468000.0</td>\n      <td>64870560.0</td>\n      <td>114000.0</td>\n      <td>0.0</td>\n      <td>0.0</td>\n      <td>4560.0</td>\n      <td>0.0</td>\n      <td>0.0</td>\n      <td>4560.0</td>\n      <td>0.0</td>\n      <td>0.0</td>\n      <td>0.0</td>\n      <td>0.0</td>\n      <td>0.0</td>\n      <td>0.0</td>\n      <td>0.0</td>\n      <td>0.0</td>\n      <td>0.0</td>\n      <td>0.0</td>\n      <td>0.0</td>\n      <td>0.0</td>\n      <td>...</td>\n      <td>0.0</td>\n      <td>0.0</td>\n      <td>0.0</td>\n      <td>0.0</td>\n      <td>0.0</td>\n      <td>0.0</td>\n      <td>0.0</td>\n      <td>1.0</td>\n      <td>0.0</td>\n      <td>0.0</td>\n      <td>0.0</td>\n      <td>0.0</td>\n      <td>0.0</td>\n      <td>0.0</td>\n      <td>0.0</td>\n      <td>0.0</td>\n      <td>0.0</td>\n      <td>0.0</td>\n      <td>0.0</td>\n      <td>0.0</td>\n      <td>0.0</td>\n      <td>0.0</td>\n      <td>0.0</td>\n      <td>0.0</td>\n      <td>0.0</td>\n      <td>0.0</td>\n      <td>0.0</td>\n      <td>0.0</td>\n      <td>0.0</td>\n      <td>0.0</td>\n      <td>0.0</td>\n      <td>0.0</td>\n      <td>0.0</td>\n      <td>0.0</td>\n      <td>0.0</td>\n      <td>0.0</td>\n      <td>0.0</td>\n      <td>0.0</td>\n      <td>0.0</td>\n      <td>0.0</td>\n      <td>0.0</td>\n      <td>0.0</td>\n      <td>0.0</td>\n      <td>0.0</td>\n      <td>0.0</td>\n      <td>0.0</td>\n      <td>0.0</td>\n      <td>0.0</td>\n      <td>0.0</td>\n      <td>0.0</td>\n      <td>0.0</td>\n      <td>0.0</td>\n      <td>0.0</td>\n      <td>0.0</td>\n      <td>0.0</td>\n      <td>0.0</td>\n      <td>0.0</td>\n      <td>0.0</td>\n      <td>0.0</td>\n      <td>0.0</td>\n      <td>0.0</td>\n      <td>0.0</td>\n      <td>0.0</td>\n      <td>0.0</td>\n      <td>0.0</td>\n      <td>0.0</td>\n      <td>0.0</td>\n      <td>0.0</td>\n      <td>0.0</td>\n      <td>0.0</td>\n      <td>0.0</td>\n      <td>0.0</td>\n      <td>0.0</td>\n      <td>0.0</td>\n      <td>0.0</td>\n      <td>0.0</td>\n      <td>0.0</td>\n      <td>0.0</td>\n      <td>0.0</td>\n      <td>0.0</td>\n      <td>0.0</td>\n      <td>0.0</td>\n      <td>0.0</td>\n      <td>0.0</td>\n      <td>0.0</td>\n      <td>0.0</td>\n      <td>0.0</td>\n      <td>0.0</td>\n      <td>0.0</td>\n      <td>0.0</td>\n      <td>0.0</td>\n      <td>0.0</td>\n      <td>0.0</td>\n      <td>0.0</td>\n      <td>0.0</td>\n      <td>0.0</td>\n      <td>0.0</td>\n      <td>1.0</td>\n      <td>0.0</td>\n      <td>0.0</td>\n    </tr>\n    <tr>\n      <th>4</th>\n      <td>2550.0</td>\n      <td>5376.0</td>\n      <td>0.0</td>\n      <td>2550.0</td>\n      <td>98052.0</td>\n      <td>47.6647</td>\n      <td>-122.083</td>\n      <td>2250.0</td>\n      <td>4050.0</td>\n      <td>10.0</td>\n      <td>0.0</td>\n      <td>0.0</td>\n      <td>0.0</td>\n      <td>0.0</td>\n      <td>0.0</td>\n      <td>1.0</td>\n      <td>0.0</td>\n      <td>0.0</td>\n      <td>0.0</td>\n      <td>0.0</td>\n      <td>0.0</td>\n      <td>0.0</td>\n      <td>0.0</td>\n      <td>0.0</td>\n      <td>0.0</td>\n      <td>0.0</td>\n      <td>0.0</td>\n      <td>0.0</td>\n      <td>0.0</td>\n      <td>0.0</td>\n      <td>0.0</td>\n      <td>1.0</td>\n      <td>0.0</td>\n      <td>0.0</td>\n      <td>0.0</td>\n      <td>0.0</td>\n      <td>0.0</td>\n      <td>0.0</td>\n      <td>0.0</td>\n      <td>0.0</td>\n      <td>0.0</td>\n      <td>0.0</td>\n      <td>0.0</td>\n      <td>0.0</td>\n      <td>0.0</td>\n      <td>0.0</td>\n      <td>0.0</td>\n      <td>0.0</td>\n      <td>0.0</td>\n      <td>0.0</td>\n      <td>0.0</td>\n      <td>0.0</td>\n      <td>0.0</td>\n      <td>1.0</td>\n      <td>0.0</td>\n      <td>0.0</td>\n      <td>0.0</td>\n      <td>0.0</td>\n      <td>1.0</td>\n      <td>0.0</td>\n      <td>0.0</td>\n      <td>0.0</td>\n      <td>0.0</td>\n      <td>0.0</td>\n      <td>0.0</td>\n      <td>0.0</td>\n      <td>0.0</td>\n      <td>1.0</td>\n      <td>0.0</td>\n      <td>0.0</td>\n      <td>0.0</td>\n      <td>0.0</td>\n      <td>6502500.0</td>\n      <td>13708800.0</td>\n      <td>0.0</td>\n      <td>6502500.0</td>\n      <td>250032600.0</td>\n      <td>121544.985</td>\n      <td>-311311.65</td>\n      <td>5737500.0</td>\n      <td>10327500.0</td>\n      <td>25500.0</td>\n      <td>0.0</td>\n      <td>0.0</td>\n      <td>0.0</td>\n      <td>0.0</td>\n      <td>0.0</td>\n      <td>2550.0</td>\n      <td>0.0</td>\n      <td>0.0</td>\n      <td>0.0</td>\n      <td>0.0</td>\n      <td>0.0</td>\n      <td>0.0</td>\n      <td>0.0</td>\n      <td>0.0</td>\n      <td>0.0</td>\n      <td>0.0</td>\n      <td>0.0</td>\n      <td>0.0</td>\n      <td>...</td>\n      <td>0.0</td>\n      <td>0.0</td>\n      <td>0.0</td>\n      <td>0.0</td>\n      <td>1.0</td>\n      <td>0.0</td>\n      <td>0.0</td>\n      <td>0.0</td>\n      <td>0.0</td>\n      <td>0.0</td>\n      <td>0.0</td>\n      <td>0.0</td>\n      <td>0.0</td>\n      <td>0.0</td>\n      <td>0.0</td>\n      <td>0.0</td>\n      <td>0.0</td>\n      <td>0.0</td>\n      <td>0.0</td>\n      <td>0.0</td>\n      <td>0.0</td>\n      <td>0.0</td>\n      <td>0.0</td>\n      <td>0.0</td>\n      <td>0.0</td>\n      <td>0.0</td>\n      <td>0.0</td>\n      <td>0.0</td>\n      <td>0.0</td>\n      <td>0.0</td>\n      <td>0.0</td>\n      <td>0.0</td>\n      <td>0.0</td>\n      <td>0.0</td>\n      <td>0.0</td>\n      <td>0.0</td>\n      <td>0.0</td>\n      <td>0.0</td>\n      <td>0.0</td>\n      <td>0.0</td>\n      <td>0.0</td>\n      <td>0.0</td>\n      <td>0.0</td>\n      <td>0.0</td>\n      <td>0.0</td>\n      <td>0.0</td>\n      <td>0.0</td>\n      <td>0.0</td>\n      <td>0.0</td>\n      <td>0.0</td>\n      <td>0.0</td>\n      <td>0.0</td>\n      <td>0.0</td>\n      <td>0.0</td>\n      <td>0.0</td>\n      <td>0.0</td>\n      <td>0.0</td>\n      <td>0.0</td>\n      <td>0.0</td>\n      <td>0.0</td>\n      <td>0.0</td>\n      <td>0.0</td>\n      <td>0.0</td>\n      <td>0.0</td>\n      <td>0.0</td>\n      <td>0.0</td>\n      <td>0.0</td>\n      <td>0.0</td>\n      <td>0.0</td>\n      <td>0.0</td>\n      <td>0.0</td>\n      <td>0.0</td>\n      <td>0.0</td>\n      <td>0.0</td>\n      <td>0.0</td>\n      <td>0.0</td>\n      <td>0.0</td>\n      <td>0.0</td>\n      <td>0.0</td>\n      <td>0.0</td>\n      <td>0.0</td>\n      <td>0.0</td>\n      <td>0.0</td>\n      <td>0.0</td>\n      <td>0.0</td>\n      <td>1.0</td>\n      <td>0.0</td>\n      <td>0.0</td>\n      <td>0.0</td>\n      <td>0.0</td>\n      <td>0.0</td>\n      <td>0.0</td>\n      <td>0.0</td>\n      <td>0.0</td>\n      <td>0.0</td>\n      <td>0.0</td>\n      <td>0.0</td>\n      <td>0.0</td>\n      <td>0.0</td>\n      <td>0.0</td>\n    </tr>\n  </tbody>\n</table>\n<p>5 rows × 2700 columns</p>\n</div>"
          },
          "metadata": {},
          "execution_count": 43
        }
      ]
    },
    {
      "cell_type": "code",
      "metadata": {
        "colab": {
          "base_uri": "https://localhost:8080/"
        },
        "id": "3l9rVznqQ27N",
        "outputId": "9a73c4ba-f078-4b78-fafc-94738c2a91b4"
      },
      "source": [
        "# Display difference between original and new Dataframe shapes\n",
        "print(df_features.shape)\n",
        "df_poly.shape"
      ],
      "execution_count": 44,
      "outputs": [
        {
          "output_type": "stream",
          "name": "stdout",
          "text": [
            "(17176, 72)\n"
          ]
        },
        {
          "output_type": "execute_result",
          "data": {
            "text/plain": [
              "(17176, 2700)"
            ]
          },
          "metadata": {},
          "execution_count": 44
        }
      ]
    },
    {
      "cell_type": "code",
      "metadata": {
        "colab": {
          "base_uri": "https://localhost:8080/"
        },
        "id": "FnSXAjlVQli8",
        "outputId": "bd1be873-6a6a-4025-8b93-f6a52e0a87c6"
      },
      "source": [
        "# Use scikit-learn to fit and assess new model\n",
        "\n",
        "# instantiate a linear regression object\n",
        "lm_2 = LinearRegression()\n",
        "\n",
        "# fit the linear regression to the data\n",
        "lm_2 = lm_2.fit(df_poly, target)\n",
        "\n",
        "# access output\n",
        "print(lm_2.intercept_)\n",
        "print(lm_2.coef_)\n",
        "print(\"R^2: \", lm_2.score(df_poly, target))"
      ],
      "execution_count": 45,
      "outputs": [
        {
          "output_type": "stream",
          "name": "stdout",
          "text": [
            "35189591762.97262\n[ 3.16889156e+06 -2.80496812e+04  5.49897406e+07 ... -2.09905003e+08\n  0.00000000e+00  1.62765027e+00]\nR^2:  0.8205562569101579\n"
          ]
        }
      ]
    },
    {
      "cell_type": "markdown",
      "metadata": {
        "id": "ltpRoHcfGQ-N"
      },
      "source": [
        "## **Train-Test Split**"
      ]
    },
    {
      "cell_type": "markdown",
      "metadata": {
        "id": "0eEPYtAAdQJW"
      },
      "source": [
        "### Identify features and target variable"
      ]
    },
    {
      "cell_type": "code",
      "metadata": {
        "colab": {
          "base_uri": "https://localhost:8080/"
        },
        "id": "jgzdpRBrSbfV",
        "outputId": "4747463c-6290-4d8a-e65c-34630f3842b6"
      },
      "source": [
        "df_poly.columns"
      ],
      "execution_count": 46,
      "outputs": [
        {
          "output_type": "execute_result",
          "data": {
            "text/plain": [
              "Index(['sqft_living', 'sqft_lot', 'waterfront', 'sqft_above', 'zipcode', 'lat',\n",
              "       'long', 'sqft_living15', 'sqft_lot15', 'sale_age',\n",
              "       ...\n",
              "       'grd_10^2', 'grd_10 grd_11', 'grd_10 grd_12', 'grd_10 grd_13',\n",
              "       'grd_11^2', 'grd_11 grd_12', 'grd_11 grd_13', 'grd_12^2',\n",
              "       'grd_12 grd_13', 'grd_13^2'],\n",
              "      dtype='object', length=2700)"
            ]
          },
          "metadata": {},
          "execution_count": 46
        }
      ]
    },
    {
      "cell_type": "code",
      "metadata": {
        "id": "KbPzl0LkTHKF"
      },
      "source": [
        "features = df_poly\n",
        "target = df_dum['price']"
      ],
      "execution_count": 47,
      "outputs": []
    },
    {
      "cell_type": "code",
      "metadata": {
        "colab": {
          "base_uri": "https://localhost:8080/",
          "height": 456
        },
        "id": "Uadp6WG-TYgT",
        "outputId": "143fc87f-939f-46b2-d6fd-d704d90beba1"
      },
      "source": [
        "features"
      ],
      "execution_count": 48,
      "outputs": [
        {
          "output_type": "execute_result",
          "data": {
            "text/plain": [
              "         0.0       0.0   \n",
              "17172           0.0           0.0           0.0           0.0       0.0   \n",
              "17173           0.0           0.0           0.0           0.0       0.0   \n",
              "17174           0.0           0.0           0.0           0.0       0.0   \n",
              "17175           0.0           0.0           0.0           0.0       0.0   \n",
              "\n",
              "       grd_10 grd_11  grd_10 grd_12  grd_10 grd_13  grd_11^2  grd_11 grd_12  \\\n",
              "0                0.0            0.0            0.0       0.0            0.0   \n",
              "1                0.0            0.0            0.0       0.0            0.0   \n",
              "2                0.0            0.0            0.0       1.0            0.0   \n",
              "3                0.0            0.0            0.0       0.0            0.0   \n",
              "4                0.0            0.0            0.0       0.0            0.0   \n",
              "...              ...            ...            ...       ...            ...   \n",
              "17171            0.0            0.0            0.0       0.0            0.0   \n",
              "17172            0.0            0.0            0.0       0.0            0.0   \n",
              "17173            0.0            0.0            0.0       0.0            0.0   \n",
              "17174            0.0            0.0            0.0       0.0            0.0   \n",
              "17175            0.0            0.0            0.0       0.0            0.0   \n",
              "\n",
              "       grd_11 grd_13  grd_12^2  grd_12 grd_13  grd_13^2  \n",
              "0                0.0       0.0            0.0       0.0  \n",
              "1                0.0       0.0            0.0       0.0  \n",
              "2                0.0       0.0            0.0       0.0  \n",
              "3                0.0       1.0            0.0       0.0  \n",
              "4                0.0       0.0            0.0       0.0  \n",
              "...              ...       ...            ...       ...  \n",
              "17171            0.0       0.0            0.0       0.0  \n",
              "17172            0.0       0.0            0.0       0.0  \n",
              "17173            0.0       0.0            0.0       0.0  \n",
              "17174            0.0       0.0            0.0       0.0  \n",
              "17175            0.0       0.0            0.0       0.0  \n",
              "\n",
              "[17176 rows x 2700 columns]"
            ],
            "text/html": "<div>\n<style scoped>\n    .dataframe tbody tr th:only-of-type {\n        vertical-align: middle;\n    }\n\n    .dataframe tbody tr th {\n        vertical-align: top;\n    }\n\n    .dataframe thead th {\n        text-align: right;\n    }\n</style>\n<table border=\"1\" class=\"dataframe\">\n  <thead>\n    <tr style=\"text-align: right;\">\n      <th></th>\n      <th>sqft_living</th>\n      <th>sqft_lot</th>\n      <th>waterfront</th>\n      <th>sqft_above</th>\n      <th>zipcode</th>\n      <th>lat</th>\n      <th>long</th>\n      <th>sqft_living15</th>\n      <th>sqft_lot15</th>\n      <th>sale_age</th>\n      <th>renovated</th>\n      <th>basement</th>\n      <th>viewed</th>\n      <th>bdr_1</th>\n      <th>bdr_2</th>\n      <th>bdr_3</th>\n      <th>bdr_4</th>\n      <th>bdr_5</th>\n      <th>bdr_6</th>\n      <th>bdr_7</th>\n      <th>bdr_8</th>\n      <th>bdr_9</th>\n      <th>bdr_10</th>\n      <th>bth_0.5</th>\n      <th>bth_0.75</th>\n      <th>bth_1.0</th>\n      <th>bth_1.25</th>\n      <th>bth_1.5</th>\n      <th>bth_1.75</th>\n      <th>bth_2.0</th>\n      <th>bth_2.25</th>\n      <th>bth_2.5</th>\n      <th>bth_2.75</th>\n      <th>bth_3.0</th>\n      <th>bth_3.25</th>\n      <th>bth_3.5</th>\n      <th>bth_3.75</th>\n      <th>bth_4.0</th>\n      <th>bth_4.25</th>\n      <th>bth_4.5</th>\n      <th>bth_4.75</th>\n      <th>bth_5.0</th>\n      <th>bth_5.25</th>\n      <th>bth_5.5</th>\n      <th>bth_5.75</th>\n      <th>bth_6.0</th>\n      <th>bth_6.25</th>\n      <th>bth_6.5</th>\n      <th>bth_6.75</th>\n      <th>bth_7.5</th>\n      <th>bth_7.75</th>\n      <th>bth_8.0</th>\n      <th>flr_1.5</th>\n      <th>flr_2.0</th>\n      <th>flr_2.5</th>\n      <th>flr_3.0</th>\n      <th>flr_3.5</th>\n      <th>cnd_2</th>\n      <th>cnd_3</th>\n      <th>cnd_4</th>\n      <th>cnd_5</th>\n      <th>grd_3</th>\n      <th>grd_4</th>\n      <th>grd_5</th>\n      <th>grd_6</th>\n      <th>grd_7</th>\n      <th>grd_8</th>\n      <th>grd_9</th>\n      <th>grd_10</th>\n      <th>grd_11</th>\n      <th>grd_12</th>\n      <th>grd_13</th>\n      <th>sqft_living^2</th>\n      <th>sqft_living sqft_lot</th>\n      <th>sqft_living waterfront</th>\n      <th>sqft_living sqft_above</th>\n      <th>sqft_living zipcode</th>\n      <th>sqft_living lat</th>\n      <th>sqft_living long</th>\n      <th>sqft_living sqft_living15</th>\n      <th>sqft_living sqft_lot15</th>\n      <th>sqft_living sale_age</th>\n      <th>sqft_living renovated</th>\n      <th>sqft_living basement</th>\n      <th>sqft_living viewed</th>\n      <th>sqft_living bdr_1</th>\n      <th>sqft_living bdr_2</th>\n      <th>sqft_living bdr_3</th>\n      <th>sqft_living bdr_4</th>\n      <th>sqft_living bdr_5</th>\n      <th>sqft_living bdr_6</th>\n      <th>sqft_living bdr_7</th>\n      <th>sqft_living bdr_8</th>\n      <th>sqft_living bdr_9</th>\n      <th>sqft_living bdr_10</th>\n      <th>sqft_living bth_0.5</th>\n      <th>sqft_living bth_0.75</th>\n      <th>sqft_living bth_1.0</th>\n      <th>sqft_living bth_1.25</th>\n      <th>sqft_living bth_1.5</th>\n      <th>...</th>\n      <th>cnd_3 grd_5</th>\n      <th>cnd_3 grd_6</th>\n      <th>cnd_3 grd_7</th>\n      <th>cnd_3 grd_8</th>\n      <th>cnd_3 grd_9</th>\n      <th>cnd_3 grd_10</th>\n      <th>cnd_3 grd_11</th>\n      <th>cnd_3 grd_12</th>\n      <th>cnd_3 grd_13</th>\n      <th>cnd_4^2</th>\n      <th>cnd_4 cnd_5</th>\n      <th>cnd_4 grd_3</th>\n      <th>cnd_4 grd_4</th>\n      <th>cnd_4 grd_5</th>\n      <th>cnd_4 grd_6</th>\n      <th>cnd_4 grd_7</th>\n      <th>cnd_4 grd_8</th>\n      <th>cnd_4 grd_9</th>\n      <th>cnd_4 grd_10</th>\n      <th>cnd_4 grd_11</th>\n      <th>cnd_4 grd_12</th>\n      <th>cnd_4 grd_13</th>\n      <th>cnd_5^2</th>\n      <th>cnd_5 grd_3</th>\n      <th>cnd_5 grd_4</th>\n      <th>cnd_5 grd_5</th>\n      <th>cnd_5 grd_6</th>\n      <th>cnd_5 grd_7</th>\n      <th>cnd_5 grd_8</th>\n      <th>cnd_5 grd_9</th>\n      <th>cnd_5 grd_10</th>\n      <th>cnd_5 grd_11</th>\n      <th>cnd_5 grd_12</th>\n      <th>cnd_5 grd_13</th>\n      <th>grd_3^2</th>\n      <th>grd_3 grd_4</th>\n      <th>grd_3 grd_5</th>\n      <th>grd_3 grd_6</th>\n      <th>grd_3 grd_7</th>\n      <th>grd_3 grd_8</th>\n      <th>grd_3 grd_9</th>\n      <th>grd_3 grd_10</th>\n      <th>grd_3 grd_11</th>\n      <th>grd_3 grd_12</th>\n      <th>grd_3 grd_13</th>\n      <th>grd_4^2</th>\n      <th>grd_4 grd_5</th>\n      <th>grd_4 grd_6</th>\n      <th>grd_4 grd_7</th>\n      <th>grd_4 grd_8</th>\n      <th>grd_4 grd_9</th>\n      <th>grd_4 grd_10</th>\n      <th>grd_4 grd_11</th>\n      <th>grd_4 grd_12</th>\n      <th>grd_4 grd_13</th>\n      <th>grd_5^2</th>\n      <th>grd_5 grd_6</th>\n      <th>grd_5 grd_7</th>\n      <th>grd_5 grd_8</th>\n      <th>grd_5 grd_9</th>\n      <th>grd_5 grd_10</th>\n      <th>grd_5 grd_11</th>\n      <th>grd_5 grd_12</th>\n      <th>grd_5 grd_13</th>\n      <th>grd_6^2</th>\n      <th>grd_6 grd_7</th>\n      <th>grd_6 grd_8</th>\n      <th>grd_6 grd_9</th>\n      <th>grd_6 grd_10</th>\n      <th>grd_6 grd_11</th>\n      <th>grd_6 grd_12</th>\n      <th>grd_6 grd_13</th>\n      <th>grd_7^2</th>\n      <th>grd_7 grd_8</th>\n      <th>grd_7 grd_9</th>\n      <th>grd_7 grd_10</th>\n      <th>grd_7 grd_11</th>\n      <th>grd_7 grd_12</th>\n      <th>grd_7 grd_13</th>\n      <th>grd_8^2</th>\n      <th>grd_8 grd_9</th>\n      <th>grd_8 grd_10</th>\n      <th>grd_8 grd_11</th>\n      <th>grd_8 grd_12</th>\n      <th>grd_8 grd_13</th>\n      <th>grd_9^2</th>\n      <th>grd_9 grd_10</th>\n      <th>grd_9 grd_11</th>\n      <th>grd_9 grd_12</th>\n      <th>grd_9 grd_13</th>\n      <th>grd_10^2</th>\n      <th>grd_10 grd_11</th>\n      <th>grd_10 grd_12</th>\n      <th>grd_10 grd_13</th>\n      <th>grd_11^2</th>\n      <th>grd_11 grd_12</th>\n      <th>grd_11 grd_13</th>\n      <th>grd_12^2</th>\n      <th>grd_12 grd_13</th>\n      <th>grd_13^2</th>\n    </tr>\n  </thead>\n  <tbody>\n    <tr>\n      <th>0</th>\n      <td>2070.0</td>\n      <td>8893.0</td>\n      <td>0.0</td>\n      <td>2070.0</td>\n      <td>98058.0</td>\n      <td>47.4388</td>\n      <td>-122.162</td>\n      <td>2390.0</td>\n      <td>7700.0</td>\n      <td>28.0</td>\n      <td>0.0</td>\n      <td>0.0</td>\n      <td>0.0</td>\n      <td>0.0</td>\n      <td>0.0</td>\n      <td>0.0</td>\n      <td>1.0</td>\n      <td>0.0</td>\n      <td>0.0</td>\n      <td>0.0</td>\n      <td>0.0</td>\n      <td>0.0</td>\n      <td>0.0</td>\n      <td>0.0</td>\n      <td>0.0</td>\n      <td>0.0</td>\n      <td>0.0</td>\n      <td>0.0</td>\n      <td>0.0</td>\n      <td>0.0</td>\n      <td>1.0</td>\n      <td>0.0</td>\n      <td>0.0</td>\n      <td>0.0</td>\n      <td>0.0</td>\n      <td>0.0</td>\n      <td>0.0</td>\n      <td>0.0</td>\n      <td>0.0</td>\n      <td>0.0</td>\n      <td>0.0</td>\n      <td>0.0</td>\n      <td>0.0</td>\n      <td>0.0</td>\n      <td>0.0</td>\n      <td>0.0</td>\n      <td>0.0</td>\n      <td>0.0</td>\n      <td>0.0</td>\n      <td>0.0</td>\n      <td>0.0</td>\n      <td>0.0</td>\n      <td>0.0</td>\n      <td>1.0</td>\n      <td>0.0</td>\n      <td>0.0</td>\n      <td>0.0</td>\n      <td>0.0</td>\n      <td>0.0</td>\n      <td>1.0</td>\n      <td>0.0</td>\n      <td>0.0</td>\n      <td>0.0</td>\n      <td>0.0</td>\n      <td>0.0</td>\n      <td>0.0</td>\n      <td>1.0</td>\n      <td>0.0</td>\n      <td>0.0</td>\n      <td>0.0</td>\n      <td>0.0</td>\n      <td>0.0</td>\n      <td>4284900.0</td>\n      <td>18408510.0</td>\n      <td>0.0</td>\n      <td>4284900.0</td>\n      <td>202980060.0</td>\n      <td>98198.316</td>\n      <td>-252875.34</td>\n      <td>4947300.0</td>\n      <td>15939000.0</td>\n      <td>57960.0</td>\n      <td>0.0</td>\n      <td>0.0</td>\n      <td>0.0</td>\n      <td>0.0</td>\n      <td>0.0</td>\n      <td>0.0</td>\n      <td>2070.0</td>\n      <td>0.0</td>\n      <td>0.0</td>\n      <td>0.0</td>\n      <td>0.0</td>\n      <td>0.0</td>\n      <td>0.0</td>\n      <td>0.0</td>\n      <td>0.0</td>\n      <td>0.0</td>\n      <td>0.0</td>\n      <td>0.0</td>\n      <td>...</td>\n      <td>0.0</td>\n      <td>0.0</td>\n      <td>0.0</td>\n      <td>0.0</td>\n      <td>0.0</td>\n      <td>0.0</td>\n      <td>0.0</td>\n      <td>0.0</td>\n      <td>0.0</td>\n      <td>1.0</td>\n      <td>0.0</td>\n      <td>0.0</td>\n      <td>0.0</td>\n      <td>0.0</td>\n      <td>0.0</td>\n      <td>0.0</td>\n      <td>1.0</td>\n      <td>0.0</td>\n      <td>0.0</td>\n      <td>0.0</td>\n      <td>0.0</td>\n      <td>0.0</td>\n      <td>0.0</td>\n      <td>0.0</td>\n      <td>0.0</td>\n      <td>0.0</td>\n      <td>0.0</td>\n      <td>0.0</td>\n      <td>0.0</td>\n      <td>0.0</td>\n      <td>0.0</td>\n      <td>0.0</td>\n      <td>0.0</td>\n      <td>0.0</td>\n      <td>0.0</td>\n      <td>0.0</td>\n      <td>0.0</td>\n      <td>0.0</td>\n      <td>0.0</td>\n      <td>0.0</td>\n      <td>0.0</td>\n      <td>0.0</td>\n      <td>0.0</td>\n      <td>0.0</td>\n      <td>0.0</td>\n      <td>0.0</td>\n      <td>0.0</td>\n      <td>0.0</td>\n      <td>0.0</td>\n      <td>0.0</td>\n      <td>0.0</td>\n      <td>0.0</td>\n      <td>0.0</td>\n      <td>0.0</td>\n      <td>0.0</td>\n      <td>0.0</td>\n      <td>0.0</td>\n      <td>0.0</td>\n      <td>0.0</td>\n      <td>0.0</td>\n      <td>0.0</td>\n      <td>0.0</td>\n      <td>0.0</td>\n      <td>0.0</td>\n      <td>0.0</td>\n      <td>0.0</td>\n      <td>0.0</td>\n      <td>0.0</td>\n      <td>0.0</td>\n      <td>0.0</td>\n      <td>0.0</td>\n      <td>0.0</td>\n      <td>0.0</td>\n      <td>0.0</td>\n      <td>0.0</td>\n      <td>0.0</td>\n      <td>0.0</td>\n      <td>0.0</td>\n      <td>0.0</td>\n      <td>1.0</td>\n      <td>0.0</td>\n      <td>0.0</td>\n      <td>0.0</td>\n      <td>0.0</td>\n      <td>0.0</td>\n      <td>0.0</td>\n      <td>0.0</td>\n      <td>0.0</td>\n      <td>0.0</td>\n      <td>0.0</td>\n      <td>0.0</td>\n      <td>0.0</td>\n      <td>0.0</td>\n      <td>0.0</td>\n      <td>0.0</td>\n      <td>0.0</td>\n      <td>0.0</td>\n      <td>0.0</td>\n      <td>0.0</td>\n      <td>0.0</td>\n    </tr>\n    <tr>\n      <th>1</th>\n      <td>2900.0</td>\n      <td>6730.0</td>\n      <td>0.0</td>\n      <td>1830.0</td>\n      <td>98115.0</td>\n      <td>47.6784</td>\n      <td>-122.285</td>\n      <td>2370.0</td>\n      <td>6283.0</td>\n      <td>37.0</td>\n      <td>0.0</td>\n      <td>1.0</td>\n      <td>0.0</td>\n      <td>0.0</td>\n      <td>0.0</td>\n      <td>0.0</td>\n      <td>0.0</td>\n      <td>1.0</td>\n      <td>0.0</td>\n      <td>0.0</td>\n      <td>0.0</td>\n      <td>0.0</td>\n      <td>0.0</td>\n      <td>0.0</td>\n      <td>0.0</td>\n      <td>0.0</td>\n      <td>0.0</td>\n      <td>0.0</td>\n      <td>0.0</td>\n      <td>0.0</td>\n      <td>0.0</td>\n      <td>0.0</td>\n      <td>0.0</td>\n      <td>1.0</td>\n      <td>0.0</td>\n      <td>0.0</td>\n      <td>0.0</td>\n      <td>0.0</td>\n      <td>0.0</td>\n      <td>0.0</td>\n      <td>0.0</td>\n      <td>0.0</td>\n      <td>0.0</td>\n      <td>0.0</td>\n      <td>0.0</td>\n      <td>0.0</td>\n      <td>0.0</td>\n      <td>0.0</td>\n      <td>0.0</td>\n      <td>0.0</td>\n      <td>0.0</td>\n      <td>0.0</td>\n      <td>0.0</td>\n      <td>0.0</td>\n      <td>0.0</td>\n      <td>0.0</td>\n      <td>0.0</td>\n      <td>0.0</td>\n      <td>0.0</td>\n      <td>0.0</td>\n      <td>1.0</td>\n      <td>0.0</td>\n      <td>0.0</td>\n      <td>0.0</td>\n      <td>0.0</td>\n      <td>0.0</td>\n      <td>1.0</td>\n      <td>0.0</td>\n      <td>0.0</td>\n      <td>0.0</td>\n      <td>0.0</td>\n      <td>0.0</td>\n      <td>8410000.0</td>\n      <td>19517000.0</td>\n      <td>0.0</td>\n      <td>5307000.0</td>\n      <td>284533500.0</td>\n      <td>138267.360</td>\n      <td>-354626.50</td>\n      <td>6873000.0</td>\n      <td>18220700.0</td>\n      <td>107300.0</td>\n      <td>0.0</td>\n      <td>2900.0</td>\n      <td>0.0</td>\n      <td>0.0</td>\n      <td>0.0</td>\n      <td>0.0</td>\n      <td>0.0</td>\n      <td>2900.0</td>\n      <td>0.0</td>\n      <td>0.0</td>\n      <td>0.0</td>\n      <td>0.0</td>\n      <td>0.0</td>\n      <td>0.0</td>\n      <td>0.0</td>\n      <td>0.0</td>\n      <td>0.0</td>\n      <td>0.0</td>\n      <td>...</td>\n      <td>0.0</td>\n      <td>0.0</td>\n      <td>0.0</td>\n      <td>0.0</td>\n      <td>0.0</td>\n      <td>0.0</td>\n      <td>0.0</td>\n      <td>0.0</td>\n      <td>0.0</td>\n      <td>0.0</td>\n      <td>0.0</td>\n      <td>0.0</td>\n      <td>0.0</td>\n      <td>0.0</td>\n      <td>0.0</td>\n      <td>0.0</td>\n      <td>0.0</td>\n      <td>0.0</td>\n      <td>0.0</td>\n      <td>0.0</td>\n      <td>0.0</td>\n      <td>0.0</td>\n      <td>1.0</td>\n      <td>0.0</td>\n      <td>0.0</td>\n      <td>0.0</td>\n      <td>0.0</td>\n      <td>0.0</td>\n      <td>1.0</td>\n      <td>0.0</td>\n      <td>0.0</td>\n      <td>0.0</td>\n      <td>0.0</td>\n      <td>0.0</td>\n      <td>0.0</td>\n      <td>0.0</td>\n      <td>0.0</td>\n      <td>0.0</td>\n      <td>0.0</td>\n      <td>0.0</td>\n      <td>0.0</td>\n      <td>0.0</td>\n      <td>0.0</td>\n      <td>0.0</td>\n      <td>0.0</td>\n      <td>0.0</td>\n      <td>0.0</td>\n      <td>0.0</td>\n      <td>0.0</td>\n      <td>0.0</td>\n      <td>0.0</td>\n      <td>0.0</td>\n      <td>0.0</td>\n      <td>0.0</td>\n      <td>0.0</td>\n      <td>0.0</td>\n      <td>0.0</td>\n      <td>0.0</td>\n      <td>0.0</td>\n      <td>0.0</td>\n      <td>0.0</td>\n      <td>0.0</td>\n      <td>0.0</td>\n      <td>0.0</td>\n      <td>0.0</td>\n      <td>0.0</td>\n      <td>0.0</td>\n      <td>0.0</td>\n      <td>0.0</td>\n      <td>0.0</td>\n      <td>0.0</td>\n      <td>0.0</td>\n      <td>0.0</td>\n      <td>0.0</td>\n      <td>0.0</td>\n      <td>0.0</td>\n      <td>0.0</td>\n      <td>0.0</td>\n      <td>0.0</td>\n      <td>1.0</td>\n      <td>0.0</td>\n      <td>0.0</td>\n      <td>0.0</td>\n      <td>0.0</td>\n      <td>0.0</td>\n      <td>0.0</td>\n      <td>0.0</td>\n      <td>0.0</td>\n      <td>0.0</td>\n      <td>0.0</td>\n      <td>0.0</td>\n      <td>0.0</td>\n      <td>0.0</td>\n      <td>0.0</td>\n      <td>0.0</td>\n      <td>0.0</td>\n      <td>0.0</td>\n      <td>0.0</td>\n      <td>0.0</td>\n      <td>0.0</td>\n    </tr>\n    <tr>\n      <th>2</th>\n      <td>3770.0</td>\n      <td>10893.0</td>\n      <td>0.0</td>\n      <td>3770.0</td>\n      <td>98006.0</td>\n      <td>47.5646</td>\n      <td>-122.129</td>\n      <td>3710.0</td>\n      <td>9685.0</td>\n      <td>17.0</td>\n      <td>0.0</td>\n      <td>0.0</td>\n      <td>1.0</td>\n      <td>0.0</td>\n      <td>0.0</td>\n      <td>0.0</td>\n      <td>1.0</td>\n      <td>0.0</td>\n      <td>0.0</td>\n      <td>0.0</td>\n      <td>0.0</td>\n      <td>0.0</td>\n      <td>0.0</td>\n      <td>0.0</td>\n      <td>0.0</td>\n      <td>0.0</td>\n      <td>0.0</td>\n      <td>0.0</td>\n      <td>0.0</td>\n      <td>0.0</td>\n      <td>0.0</td>\n      <td>1.0</td>\n      <td>0.0</td>\n      <td>0.0</td>\n      <td>0.0</td>\n      <td>0.0</td>\n      <td>0.0</td>\n      <td>0.0</td>\n      <td>0.0</td>\n      <td>0.0</td>\n      <td>0.0</td>\n      <td>0.0</td>\n      <td>0.0</td>\n      <td>0.0</td>\n      <td>0.0</td>\n      <td>0.0</td>\n      <td>0.0</td>\n      <td>0.0</td>\n      <td>0.0</td>\n      <td>0.0</td>\n      <td>0.0</td>\n      <td>0.0</td>\n      <td>0.0</td>\n      <td>1.0</td>\n      <td>0.0</td>\n      <td>0.0</td>\n      <td>0.0</td>\n      <td>0.0</td>\n      <td>1.0</td>\n      <td>0.0</td>\n      <td>0.0</td>\n      <td>0.0</td>\n      <td>0.0</td>\n      <td>0.0</td>\n      <td>0.0</td>\n      <td>0.0</td>\n      <td>0.0</td>\n      <td>0.0</td>\n      <td>0.0</td>\n      <td>1.0</td>\n      <td>0.0</td>\n      <td>0.0</td>\n      <td>14212900.0</td>\n      <td>41066610.0</td>\n      <td>0.0</td>\n      <td>14212900.0</td>\n      <td>369482620.0</td>\n      <td>179318.542</td>\n      <td>-460426.33</td>\n      <td>13986700.0</td>\n      <td>36512450.0</td>\n      <td>64090.0</td>\n      <td>0.0</td>\n      <td>0.0</td>\n      <td>3770.0</td>\n      <td>0.0</td>\n      <td>0.0</td>\n      <td>0.0</td>\n      <td>3770.0</td>\n      <td>0.0</td>\n      <td>0.0</td>\n      <td>0.0</td>\n      <td>0.0</td>\n      <td>0.0</td>\n      <td>0.0</td>\n      <td>0.0</td>\n      <td>0.0</td>\n      <td>0.0</td>\n      <td>0.0</td>\n      <td>0.0</td>\n      <td>...</td>\n      <td>0.0</td>\n      <td>0.0</td>\n      <td>0.0</td>\n      <td>0.0</td>\n      <td>0.0</td>\n      <td>0.0</td>\n      <td>1.0</td>\n      <td>0.0</td>\n      <td>0.0</td>\n      <td>0.0</td>\n      <td>0.0</td>\n      <td>0.0</td>\n      <td>0.0</td>\n      <td>0.0</td>\n      <td>0.0</td>\n      <td>0.0</td>\n      <td>0.0</td>\n      <td>0.0</td>\n      <td>0.0</td>\n      <td>0.0</td>\n      <td>0.0</td>\n      <td>0.0</td>\n      <td>0.0</td>\n      <td>0.0</td>\n      <td>0.0</td>\n      <td>0.0</td>\n      <td>0.0</td>\n      <td>0.0</td>\n      <td>0.0</td>\n      <td>0.0</td>\n      <td>0.0</td>\n      <td>0.0</td>\n      <td>0.0</td>\n      <td>0.0</td>\n      <td>0.0</td>\n      <td>0.0</td>\n      <td>0.0</td>\n      <td>0.0</td>\n      <td>0.0</td>\n      <td>0.0</td>\n      <td>0.0</td>\n      <td>0.0</td>\n      <td>0.0</td>\n      <td>0.0</td>\n      <td>0.0</td>\n      <td>0.0</td>\n      <td>0.0</td>\n      <td>0.0</td>\n      <td>0.0</td>\n      <td>0.0</td>\n      <td>0.0</td>\n      <td>0.0</td>\n      <td>0.0</td>\n      <td>0.0</td>\n      <td>0.0</td>\n      <td>0.0</td>\n      <td>0.0</td>\n      <td>0.0</td>\n      <td>0.0</td>\n      <td>0.0</td>\n      <td>0.0</td>\n      <td>0.0</td>\n      <td>0.0</td>\n      <td>0.0</td>\n      <td>0.0</td>\n      <td>0.0</td>\n      <td>0.0</td>\n      <td>0.0</td>\n      <td>0.0</td>\n      <td>0.0</td>\n      <td>0.0</td>\n      <td>0.0</td>\n      <td>0.0</td>\n      <td>0.0</td>\n      <td>0.0</td>\n      <td>0.0</td>\n      <td>0.0</td>\n      <td>0.0</td>\n      <td>0.0</td>\n      <td>0.0</td>\n      <td>0.0</td>\n      <td>0.0</td>\n      <td>0.0</td>\n      <td>0.0</td>\n      <td>0.0</td>\n      <td>0.0</td>\n      <td>0.0</td>\n      <td>0.0</td>\n      <td>0.0</td>\n      <td>0.0</td>\n      <td>0.0</td>\n      <td>0.0</td>\n      <td>0.0</td>\n      <td>0.0</td>\n      <td>1.0</td>\n      <td>0.0</td>\n      <td>0.0</td>\n      <td>0.0</td>\n      <td>0.0</td>\n      <td>0.0</td>\n    </tr>\n    <tr>\n      <th>3</th>\n      <td>4560.0</td>\n      <td>14608.0</td>\n      <td>0.0</td>\n      <td>4560.0</td>\n      <td>98034.0</td>\n      <td>47.6995</td>\n      <td>-122.228</td>\n      <td>4050.0</td>\n      <td>14226.0</td>\n      <td>25.0</td>\n      <td>0.0</td>\n      <td>0.0</td>\n      <td>1.0</td>\n      <td>0.0</td>\n      <td>0.0</td>\n      <td>1.0</td>\n      <td>0.0</td>\n      <td>0.0</td>\n      <td>0.0</td>\n      <td>0.0</td>\n      <td>0.0</td>\n      <td>0.0</td>\n      <td>0.0</td>\n      <td>0.0</td>\n      <td>0.0</td>\n      <td>0.0</td>\n      <td>0.0</td>\n      <td>0.0</td>\n      <td>0.0</td>\n      <td>0.0</td>\n      <td>0.0</td>\n      <td>0.0</td>\n      <td>0.0</td>\n      <td>0.0</td>\n      <td>0.0</td>\n      <td>1.0</td>\n      <td>0.0</td>\n      <td>0.0</td>\n      <td>0.0</td>\n      <td>0.0</td>\n      <td>0.0</td>\n      <td>0.0</td>\n      <td>0.0</td>\n      <td>0.0</td>\n      <td>0.0</td>\n      <td>0.0</td>\n      <td>0.0</td>\n      <td>0.0</td>\n      <td>0.0</td>\n      <td>0.0</td>\n      <td>0.0</td>\n      <td>0.0</td>\n      <td>0.0</td>\n      <td>1.0</td>\n      <td>0.0</td>\n      <td>0.0</td>\n      <td>0.0</td>\n      <td>0.0</td>\n      <td>1.0</td>\n      <td>0.0</td>\n      <td>0.0</td>\n      <td>0.0</td>\n      <td>0.0</td>\n      <td>0.0</td>\n      <td>0.0</td>\n      <td>0.0</td>\n      <td>0.0</td>\n      <td>0.0</td>\n      <td>0.0</td>\n      <td>0.0</td>\n      <td>1.0</td>\n      <td>0.0</td>\n      <td>20793600.0</td>\n      <td>66612480.0</td>\n      <td>0.0</td>\n      <td>20793600.0</td>\n      <td>447035040.0</td>\n      <td>217509.720</td>\n      <td>-557359.68</td>\n      <td>18468000.0</td>\n      <td>64870560.0</td>\n      <td>114000.0</td>\n      <td>0.0</td>\n      <td>0.0</td>\n      <td>4560.0</td>\n      <td>0.0</td>\n      <td>0.0</td>\n      <td>4560.0</td>\n      <td>0.0</td>\n      <td>0.0</td>\n      <td>0.0</td>\n      <td>0.0</td>\n      <td>0.0</td>\n      <td>0.0</td>\n      <td>0.0</td>\n      <td>0.0</td>\n      <td>0.0</td>\n      <td>0.0</td>\n      <td>0.0</td>\n      <td>0.0</td>\n      <td>...</td>\n      <td>0.0</td>\n      <td>0.0</td>\n      <td>0.0</td>\n      <td>0.0</td>\n      <td>0.0</td>\n      <td>0.0</td>\n      <td>0.0</td>\n      <td>1.0</td>\n      <td>0.0</td>\n      <td>0.0</td>\n      <td>0.0</td>\n      <td>0.0</td>\n      <td>0.0</td>\n      <td>0.0</td>\n      <td>0.0</td>\n      <td>0.0</td>\n      <td>0.0</td>\n      <td>0.0</td>\n      <td>0.0</td>\n      <td>0.0</td>\n      <td>0.0</td>\n      <td>0.0</td>\n      <td>0.0</td>\n      <td>0.0</td>\n      <td>0.0</td>\n      <td>0.0</td>\n      <td>0.0</td>\n      <td>0.0</td>\n      <td>0.0</td>\n      <td>0.0</td>\n      <td>0.0</td>\n      <td>0.0</td>\n      <td>0.0</td>\n      <td>0.0</td>\n      <td>0.0</td>\n      <td>0.0</td>\n      <td>0.0</td>\n      <td>0.0</td>\n      <td>0.0</td>\n      <td>0.0</td>\n      <td>0.0</td>\n      <td>0.0</td>\n      <td>0.0</td>\n      <td>0.0</td>\n      <td>0.0</td>\n      <td>0.0</td>\n      <td>0.0</td>\n      <td>0.0</td>\n      <td>0.0</td>\n      <td>0.0</td>\n      <td>0.0</td>\n      <td>0.0</td>\n      <td>0.0</td>\n      <td>0.0</td>\n      <td>0.0</td>\n      <td>0.0</td>\n      <td>0.0</td>\n      <td>0.0</td>\n      <td>0.0</td>\n      <td>0.0</td>\n      <td>0.0</td>\n      <td>0.0</td>\n      <td>0.0</td>\n      <td>0.0</td>\n      <td>0.0</td>\n      <td>0.0</td>\n      <td>0.0</td>\n      <td>0.0</td>\n      <td>0.0</td>\n      <td>0.0</td>\n      <td>0.0</td>\n      <td>0.0</td>\n      <td>0.0</td>\n      <td>0.0</td>\n      <td>0.0</td>\n      <td>0.0</td>\n      <td>0.0</td>\n      <td>0.0</td>\n      <td>0.0</td>\n      <td>0.0</td>\n      <td>0.0</td>\n      <td>0.0</td>\n      <td>0.0</td>\n      <td>0.0</td>\n      <td>0.0</td>\n      <td>0.0</td>\n      <td>0.0</td>\n      <td>0.0</td>\n      <td>0.0</td>\n      <td>0.0</td>\n      <td>0.0</td>\n      <td>0.0</td>\n      <td>0.0</td>\n      <td>0.0</td>\n      <td>0.0</td>\n      <td>0.0</td>\n      <td>0.0</td>\n      <td>1.0</td>\n      <td>0.0</td>\n      <td>0.0</td>\n    </tr>\n    <tr>\n      <th>4</th>\n      <td>2550.0</td>\n      <td>5376.0</td>\n      <td>0.0</td>\n      <td>2550.0</td>\n      <td>98052.0</td>\n      <td>47.6647</td>\n      <td>-122.083</td>\n      <td>2250.0</td>\n      <td>4050.0</td>\n      <td>10.0</td>\n      <td>0.0</td>\n      <td>0.0</td>\n      <td>0.0</td>\n      <td>0.0</td>\n      <td>0.0</td>\n      <td>1.0</td>\n      <td>0.0</td>\n      <td>0.0</td>\n      <td>0.0</td>\n      <td>0.0</td>\n      <td>0.0</td>\n      <td>0.0</td>\n      <td>0.0</td>\n      <td>0.0</td>\n      <td>0.0</td>\n      <td>0.0</td>\n      <td>0.0</td>\n      <td>0.0</td>\n      <td>0.0</td>\n      <td>0.0</td>\n      <td>0.0</td>\n      <td>1.0</td>\n      <td>0.0</td>\n      <td>0.0</td>\n      <td>0.0</td>\n      <td>0.0</td>\n      <td>0.0</td>\n      <td>0.0</td>\n      <td>0.0</td>\n      <td>0.0</td>\n      <td>0.0</td>\n      <td>0.0</td>\n      <td>0.0</td>\n      <td>0.0</td>\n      <td>0.0</td>\n      <td>0.0</td>\n      <td>0.0</td>\n      <td>0.0</td>\n      <td>0.0</td>\n      <td>0.0</td>\n      <td>0.0</td>\n      <td>0.0</td>\n      <td>0.0</td>\n      <td>1.0</td>\n      <td>0.0</td>\n      <td>0.0</td>\n      <td>0.0</td>\n      <td>0.0</td>\n      <td>1.0</td>\n      <td>0.0</td>\n      <td>0.0</td>\n      <td>0.0</td>\n      <td>0.0</td>\n      <td>0.0</td>\n      <td>0.0</td>\n      <td>0.0</td>\n      <td>0.0</td>\n      <td>1.0</td>\n      <td>0.0</td>\n      <td>0.0</td>\n      <td>0.0</td>\n      <td>0.0</td>\n      <td>6502500.0</td>\n      <td>13708800.0</td>\n      <td>0.0</td>\n      <td>6502500.0</td>\n      <td>250032600.0</td>\n      <td>121544.985</td>\n      <td>-311311.65</td>\n      <td>5737500.0</td>\n      <td>10327500.0</td>\n      <td>25500.0</td>\n      <td>0.0</td>\n      <td>0.0</td>\n      <td>0.0</td>\n      <td>0.0</td>\n      <td>0.0</td>\n      <td>2550.0</td>\n      <td>0.0</td>\n      <td>0.0</td>\n      <td>0.0</td>\n      <td>0.0</td>\n      <td>0.0</td>\n      <td>0.0</td>\n      <td>0.0</td>\n      <td>0.0</td>\n      <td>0.0</td>\n      <td>0.0</td>\n      <td>0.0</td>\n      <td>0.0</td>\n      <td>...</td>\n      <td>0.0</td>\n      <td>0.0</td>\n      <td>0.0</td>\n      <td>0.0</td>\n      <td>1.0</td>\n      <td>0.0</td>\n      <td>0.0</td>\n      <td>0.0</td>\n      <td>0.0</td>\n      <td>0.0</td>\n      <td>0.0</td>\n      <td>0.0</td>\n      <td>0.0</td>\n      <td>0.0</td>\n      <td>0.0</td>\n      <td>0.0</td>\n      <td>0.0</td>\n      <td>0.0</td>\n      <td>0.0</td>\n      <td>0.0</td>\n      <td>0.0</td>\n      <td>0.0</td>\n      <td>0.0</td>\n      <td>0.0</td>\n      <td>0.0</td>\n      <td>0.0</td>\n      <td>0.0</td>\n      <td>0.0</td>\n      <td>0.0</td>\n      <td>0.0</td>\n      <td>0.0</td>\n      <td>0.0</td>\n      <td>0.0</td>\n      <td>0.0</td>\n      <td>0.0</td>\n      <td>0.0</td>\n      <td>0.0</td>\n      <td>0.0</td>\n      <td>0.0</td>\n      <td>0.0</td>\n      <td>0.0</td>\n      <td>0.0</td>\n      <td>0.0</td>\n      <td>0.0</td>\n      <td>0.0</td>\n      <td>0.0</td>\n      <td>0.0</td>\n      <td>0.0</td>\n      <td>0.0</td>\n      <td>0.0</td>\n      <td>0.0</td>\n      <td>0.0</td>\n      <td>0.0</td>\n      <td>0.0</td>\n      <td>0.0</td>\n      <td>0.0</td>\n      <td>0.0</td>\n      <td>0.0</td>\n      <td>0.0</td>\n      <td>0.0</td>\n      <td>0.0</td>\n      <td>0.0</td>\n      <td>0.0</td>\n      <td>0.0</td>\n      <td>0.0</td>\n      <td>0.0</td>\n      <td>0.0</td>\n      <td>0.0</td>\n      <td>0.0</td>\n      <td>0.0</td>\n      <td>0.0</td>\n      <td>0.0</td>\n      <td>0.0</td>\n      <td>0.0</td>\n      <td>0.0</td>\n      <td>0.0</td>\n      <td>0.0</td>\n      <td>0.0</td>\n      <td>0.0</td>\n      <td>0.0</td>\n      <td>0.0</td>\n      <td>0.0</td>\n      <td>0.0</td>\n      <td>0.0</td>\n      <td>0.0</td>\n      <td>1.0</td>\n      <td>0.0</td>\n      <td>0.0</td>\n      <td>0.0</td>\n      <td>0.0</td>\n      <td>0.0</td>\n      <td>0.0</td>\n      <td>0.0</td>\n      <td>0.0</td>\n      <td>0.0</td>\n      <td>0.0</td>\n      <td>0.0</td>\n      <td>0.0</td>\n      <td>0.0</td>\n      <td>0.0</td>\n    </tr>\n    <tr>\n      <th>...</th>\n      <td>...</td>\n      <td>...</td>\n      <td>...</td>\n      <td>...</td>\n      <td>...</td>\n      <td>...</td>\n      <td>...</td>\n      <td>...</td>\n      <td>...</td>\n      <td>...</td>\n      <td>...</td>\n      <td>...</td>\n      <td>...</td>\n      <td>...</td>\n      <td>...</td>\n      <td>...</td>\n      <td>...</td>\n      <td>...</td>\n      <td>...</td>\n      <td>...</td>\n      <td>...</td>\n      <td>...</td>\n      <td>...</td>\n      <td>...</td>\n      <td>...</td>\n      <td>...</td>\n      <td>...</td>\n      <td>...</td>\n      <td>...</td>\n      <td>...</td>\n      <td>...</td>\n      <td>...</td>\n      <td>...</td>\n      <td>...</td>\n      <td>...</td>\n      <td>...</td>\n      <td>...</td>\n      <td>...</td>\n      <td>...</td>\n      <td>...</td>\n      <td>...</td>\n      <td>...</td>\n      <td>...</td>\n      <td>...</td>\n      <td>...</td>\n      <td>...</td>\n      <td>...</td>\n      <td>...</td>\n      <td>...</td>\n      <td>...</td>\n      <td>...</td>\n      <td>...</td>\n      <td>...</td>\n      <td>...</td>\n      <td>...</td>\n      <td>...</td>\n      <td>...</td>\n      <td>...</td>\n      <td>...</td>\n      <td>...</td>\n      <td>...</td>\n      <td>...</td>\n      <td>...</td>\n      <td>...</td>\n      <td>...</td>\n      <td>...</td>\n      <td>...</td>\n      <td>...</td>\n      <td>...</td>\n      <td>...</td>\n      <td>...</td>\n      <td>...</td>\n      <td>...</td>\n      <td>...</td>\n      <td>...</td>\n      <td>...</td>\n      <td>...</td>\n      <td>...</td>\n      <td>...</td>\n      <td>...</td>\n      <td>...</td>\n      <td>...</td>\n      <td>...</td>\n      <td>...</td>\n      <td>...</td>\n      <td>...</td>\n      <td>...</td>\n      <td>...</td>\n      <td>...</td>\n      <td>...</td>\n      <td>...</td>\n      <td>...</td>\n      <td>...</td>\n      <td>...</td>\n      <td>...</td>\n      <td>...</td>\n      <td>...</td>\n      <td>...</td>\n      <td>...</td>\n      <td>...</td>\n      <td>...</td>\n      <td>...</td>\n      <td>...</td>\n      <td>...</td>\n      <td>...</td>\n      <td>...</td>\n      <td>...</td>\n      <td>...</td>\n      <td>...</td>\n      <td>...</td>\n      <td>...</td>\n      <td>...</td>\n      <td>...</td>\n      <td>...</td>\n      <td>...</td>\n      <td>...</td>\n      <td>...</td>\n      <td>...</td>\n      <td>...</td>\n      <td>...</td>\n      <td>...</td>\n      <td>...</td>\n      <td>...</td>\n      <td>...</td>\n      <td>...</td>\n      <td>...</td>\n      <td>...</td>\n      <td>...</td>\n      <td>...</td>\n      <td>...</td>\n      <td>...</td>\n      <td>...</td>\n      <td>...</td>\n      <td>...</td>\n      <td>...</td>\n      <td>...</td>\n      <td>...</td>\n      <td>...</td>\n      <td>...</td>\n      <td>...</td>\n      <td>...</td>\n      <td>...</td>\n      <td>...</td>\n      <td>...</td>\n      <td>...</td>\n      <td>...</td>\n      <td>...</td>\n      <td>...</td>\n      <td>...</td>\n      <td>...</td>\n      <td>...</td>\n      <td>...</td>\n      <td>...</td>\n      <td>...</td>\n      <td>...</td>\n      <td>...</td>\n      <td>...</td>\n      <td>...</td>\n      <td>...</td>\n      <td>...</td>\n      <td>...</td>\n      <td>...</td>\n      <td>...</td>\n      <td>...</td>\n      <td>...</td>\n      <td>...</td>\n      <td>...</td>\n      <td>...</td>\n      <td>...</td>\n      <td>...</td>\n      <td>...</td>\n      <td>...</td>\n      <td>...</td>\n      <td>...</td>\n      <td>...</td>\n      <td>...</td>\n      <td>...</td>\n      <td>...</td>\n      <td>...</td>\n      <td>...</td>\n      <td>...</td>\n      <td>...</td>\n      <td>...</td>\n      <td>...</td>\n      <td>...</td>\n      <td>...</td>\n      <td>...</td>\n      <td>...</td>\n      <td>...</td>\n      <td>...</td>\n      <td>...</td>\n      <td>...</td>\n      <td>...</td>\n      <td>...</td>\n      <td>...</td>\n      <td>...</td>\n      <td>...</td>\n      <td>...</td>\n      <td>...</td>\n      <td>...</td>\n      <td>...</td>\n    </tr>\n    <tr>\n      <th>17171</th>\n      <td>3240.0</td>\n      <td>9960.0</td>\n      <td>0.0</td>\n      <td>2020.0</td>\n      <td>98008.0</td>\n      <td>47.5858</td>\n      <td>-122.112</td>\n      <td>2730.0</td>\n      <td>10400.0</td>\n      <td>57.0</td>\n      <td>0.0</td>\n      <td>1.0</td>\n      <td>1.0</td>\n      <td>0.0</td>\n      <td>0.0</td>\n      <td>0.0</td>\n      <td>0.0</td>\n      <td>1.0</td>\n      <td>0.0</td>\n      <td>0.0</td>\n      <td>0.0</td>\n      <td>0.0</td>\n      <td>0.0</td>\n      <td>0.0</td>\n      <td>0.0</td>\n      <td>0.0</td>\n      <td>0.0</td>\n      <td>0.0</td>\n      <td>0.0</td>\n      <td>0.0</td>\n      <td>0.0</td>\n      <td>1.0</td>\n      <td>0.0</td>\n      <td>0.0</td>\n      <td>0.0</td>\n      <td>0.0</td>\n      <td>0.0</td>\n      <td>0.0</td>\n      <td>0.0</td>\n      <td>0.0</td>\n      <td>0.0</td>\n      <td>0.0</td>\n      <td>0.0</td>\n      <td>0.0</td>\n      <td>0.0</td>\n      <td>0.0</td>\n      <td>0.0</td>\n      <td>0.0</td>\n      <td>0.0</td>\n      <td>0.0</td>\n      <td>0.0</td>\n      <td>0.0</td>\n      <td>0.0</td>\n      <td>0.0</td>\n      <td>0.0</td>\n      <td>0.0</td>\n      <td>0.0</td>\n      <td>0.0</td>\n      <td>1.0</td>\n      <td>0.0</td>\n      <td>0.0</td>\n      <td>0.0</td>\n      <td>0.0</td>\n      <td>0.0</td>\n      <td>0.0</td>\n      <td>0.0</td>\n      <td>1.0</td>\n      <td>0.0</td>\n      <td>0.0</td>\n      <td>0.0</td>\n      <td>0.0</td>\n      <td>0.0</td>\n      <td>10497600.0</td>\n      <td>32270400.0</td>\n      <td>0.0</td>\n      <td>6544800.0</td>\n      <td>317545920.0</td>\n      <td>154177.992</td>\n      <td>-395642.88</td>\n      <td>8845200.0</td>\n      <td>33696000.0</td>\n      <td>184680.0</td>\n      <td>0.0</td>\n      <td>3240.0</td>\n      <td>3240.0</td>\n      <td>0.0</td>\n      <td>0.0</td>\n      <td>0.0</td>\n      <td>0.0</td>\n      <td>3240.0</td>\n      <td>0.0</td>\n      <td>0.0</td>\n      <td>0.0</td>\n      <td>0.0</td>\n      <td>0.0</td>\n      <td>0.0</td>\n      <td>0.0</td>\n      <td>0.0</td>\n      <td>0.0</td>\n      <td>0.0</td>\n      <td>...</td>\n      <td>0.0</td>\n      <td>0.0</td>\n      <td>0.0</td>\n      <td>1.0</td>\n      <td>0.0</td>\n      <td>0.0</td>\n      <td>0.0</td>\n      <td>0.0</td>\n      <td>0.0</td>\n      <td>0.0</td>\n      <td>0.0</td>\n      <td>0.0</td>\n      <td>0.0</td>\n      <td>0.0</td>\n      <td>0.0</td>\n      <td>0.0</td>\n      <td>0.0</td>\n      <td>0.0</td>\n      <td>0.0</td>\n      <td>0.0</td>\n      <td>0.0</td>\n      <td>0.0</td>\n      <td>0.0</td>\n      <td>0.0</td>\n      <td>0.0</td>\n      <td>0.0</td>\n      <td>0.0</td>\n      <td>0.0</td>\n      <td>0.0</td>\n      <td>0.0</td>\n      <td>0.0</td>\n      <td>0.0</td>\n      <td>0.0</td>\n      <td>0.0</td>\n      <td>0.0</td>\n      <td>0.0</td>\n      <td>0.0</td>\n      <td>0.0</td>\n      <td>0.0</td>\n      <td>0.0</td>\n      <td>0.0</td>\n      <td>0.0</td>\n      <td>0.0</td>\n      <td>0.0</td>\n      <td>0.0</td>\n      <td>0.0</td>\n      <td>0.0</td>\n      <td>0.0</td>\n      <td>0.0</td>\n      <td>0.0</td>\n      <td>0.0</td>\n      <td>0.0</td>\n      <td>0.0</td>\n      <td>0.0</td>\n      <td>0.0</td>\n      <td>0.0</td>\n      <td>0.0</td>\n      <td>0.0</td>\n      <td>0.0</td>\n      <td>0.0</td>\n      <td>0.0</td>\n      <td>0.0</td>\n      <td>0.0</td>\n      <td>0.0</td>\n      <td>0.0</td>\n      <td>0.0</td>\n      <td>0.0</td>\n      <td>0.0</td>\n      <td>0.0</td>\n      <td>0.0</td>\n      <td>0.0</td>\n      <td>0.0</td>\n      <td>0.0</td>\n      <td>0.0</td>\n      <td>0.0</td>\n      <td>0.0</td>\n      <td>0.0</td>\n      <td>0.0</td>\n      <td>0.0</td>\n      <td>1.0</td>\n      <td>0.0</td>\n      <td>0.0</td>\n      <td>0.0</td>\n      <td>0.0</td>\n      <td>0.0</td>\n      <td>0.0</td>\n      <td>0.0</td>\n      <td>0.0</td>\n      <td>0.0</td>\n      <td>0.0</td>\n      <td>0.0</td>\n      <td>0.0</td>\n      <td>0.0</td>\n      <td>0.0</td>\n      <td>0.0</td>\n      <td>0.0</td>\n      <td>0.0</td>\n      <td>0.0</td>\n      <td>0.0</td>\n      <td>0.0</td>\n    </tr>\n    <tr>\n      <th>17172</th>\n      <td>1300.0</td>\n      <td>4000.0</td>\n      <td>0.0</td>\n      <td>1300.0</td>\n      <td>98105.0</td>\n      <td>47.6687</td>\n      <td>-122.288</td>\n      <td>1350.0</td>\n      <td>4013.0</td>\n      <td>66.0</td>\n      <td>0.0</td>\n      <td>0.0</td>\n      <td>0.0</td>\n      <td>0.0</td>\n      <td>1.0</td>\n      <td>0.0</td>\n      <td>0.0</td>\n      <td>0.0</td>\n      <td>0.0</td>\n      <td>0.0</td>\n      <td>0.0</td>\n      <td>0.0</td>\n      <td>0.0</td>\n      <td>0.0</td>\n      <td>0.0</td>\n      <td>0.0</td>\n      <td>0.0</td>\n      <td>0.0</td>\n      <td>1.0</td>\n      <td>0.0</td>\n      <td>0.0</td>\n      <td>0.0</td>\n      <td>0.0</td>\n      <td>0.0</td>\n      <td>0.0</td>\n      <td>0.0</td>\n      <td>0.0</td>\n      <td>0.0</td>\n      <td>0.0</td>\n      <td>0.0</td>\n      <td>0.0</td>\n      <td>0.0</td>\n      <td>0.0</td>\n      <td>0.0</td>\n      <td>0.0</td>\n      <td>0.0</td>\n      <td>0.0</td>\n      <td>0.0</td>\n      <td>0.0</td>\n      <td>0.0</td>\n      <td>0.0</td>\n      <td>0.0</td>\n      <td>0.0</td>\n      <td>1.0</td>\n      <td>0.0</td>\n      <td>0.0</td>\n      <td>0.0</td>\n      <td>0.0</td>\n      <td>1.0</td>\n      <td>0.0</td>\n      <td>0.0</td>\n      <td>0.0</td>\n      <td>0.0</td>\n      <td>0.0</td>\n      <td>0.0</td>\n      <td>1.0</td>\n      <td>0.0</td>\n      <td>0.0</td>\n      <td>0.0</td>\n      <td>0.0</td>\n      <td>0.0</td>\n      <td>0.0</td>\n      <td>1690000.0</td>\n      <td>5200000.0</td>\n      <td>0.0</td>\n      <td>1690000.0</td>\n      <td>127536500.0</td>\n      <td>61969.310</td>\n      <td>-158974.40</td>\n      <td>1755000.0</td>\n      <td>5216900.0</td>\n      <td>85800.0</td>\n      <td>0.0</td>\n      <td>0.0</td>\n      <td>0.0</td>\n      <td>0.0</td>\n      <td>1300.0</td>\n      <td>0.0</td>\n      <td>0.0</td>\n      <td>0.0</td>\n      <td>0.0</td>\n      <td>0.0</td>\n      <td>0.0</td>\n      <td>0.0</td>\n      <td>0.0</td>\n      <td>0.0</td>\n      <td>0.0</td>\n      <td>0.0</td>\n      <td>0.0</td>\n      <td>0.0</td>\n      <td>...</td>\n      <td>0.0</td>\n      <td>0.0</td>\n      <td>1.0</td>\n      <td>0.0</td>\n      <td>0.0</td>\n      <td>0.0</td>\n      <td>0.0</td>\n      <td>0.0</td>\n      <td>0.0</td>\n      <td>0.0</td>\n      <td>0.0</td>\n      <td>0.0</td>\n      <td>0.0</td>\n      <td>0.0</td>\n      <td>0.0</td>\n      <td>0.0</td>\n      <td>0.0</td>\n      <td>0.0</td>\n      <td>0.0</td>\n      <td>0.0</td>\n      <td>0.0</td>\n      <td>0.0</td>\n      <td>0.0</td>\n      <td>0.0</td>\n      <td>0.0</td>\n      <td>0.0</td>\n      <td>0.0</td>\n      <td>0.0</td>\n      <td>0.0</td>\n      <td>0.0</td>\n      <td>0.0</td>\n      <td>0.0</td>\n      <td>0.0</td>\n      <td>0.0</td>\n      <td>0.0</td>\n      <td>0.0</td>\n      <td>0.0</td>\n      <td>0.0</td>\n      <td>0.0</td>\n      <td>0.0</td>\n      <td>0.0</td>\n      <td>0.0</td>\n      <td>0.0</td>\n      <td>0.0</td>\n      <td>0.0</td>\n      <td>0.0</td>\n      <td>0.0</td>\n      <td>0.0</td>\n      <td>0.0</td>\n      <td>0.0</td>\n      <td>0.0</td>\n      <td>0.0</td>\n      <td>0.0</td>\n      <td>0.0</td>\n      <td>0.0</td>\n      <td>0.0</td>\n      <td>0.0</td>\n      <td>0.0</td>\n      <td>0.0</td>\n      <td>0.0</td>\n      <td>0.0</td>\n      <td>0.0</td>\n      <td>0.0</td>\n      <td>0.0</td>\n      <td>0.0</td>\n      <td>0.0</td>\n      <td>0.0</td>\n      <td>0.0</td>\n      <td>0.0</td>\n      <td>0.0</td>\n      <td>0.0</td>\n      <td>0.0</td>\n      <td>1.0</td>\n      <td>0.0</td>\n      <td>0.0</td>\n      <td>0.0</td>\n      <td>0.0</td>\n      <td>0.0</td>\n      <td>0.0</td>\n      <td>0.0</td>\n      <td>0.0</td>\n      <td>0.0</td>\n      <td>0.0</td>\n      <td>0.0</td>\n      <td>0.0</td>\n      <td>0.0</td>\n      <td>0.0</td>\n      <td>0.0</td>\n      <td>0.0</td>\n      <td>0.0</td>\n      <td>0.0</td>\n      <td>0.0</td>\n      <td>0.0</td>\n      <td>0.0</td>\n      <td>0.0</td>\n      <td>0.0</td>\n      <td>0.0</td>\n      <td>0.0</td>\n      <td>0.0</td>\n      <td>0.0</td>\n    </tr>\n    <tr>\n      <th>17173</th>\n      <td>1050.0</td>\n      <td>9876.0</td>\n      <td>0.0</td>\n      <td>1050.0</td>\n      <td>98028.0</td>\n      <td>47.7635</td>\n      <td>-122.262</td>\n      <td>1760.0</td>\n      <td>9403.0</td>\n      <td>61.0</td>\n      <td>0.0</td>\n      <td>0.0</td>\n      <td>0.0</td>\n      <td>0.0</td>\n      <td>0.0</td>\n      <td>1.0</td>\n      <td>0.0</td>\n      <td>0.0</td>\n      <td>0.0</td>\n      <td>0.0</td>\n      <td>0.0</td>\n      <td>0.0</td>\n      <td>0.0</td>\n      <td>0.0</td>\n      <td>0.0</td>\n      <td>1.0</td>\n      <td>0.0</td>\n      <td>0.0</td>\n      <td>0.0</td>\n      <td>0.0</td>\n      <td>0.0</td>\n      <td>0.0</td>\n      <td>0.0</td>\n      <td>0.0</td>\n      <td>0.0</td>\n      <td>0.0</td>\n      <td>0.0</td>\n      <td>0.0</td>\n      <td>0.0</td>\n      <td>0.0</td>\n      <td>0.0</td>\n      <td>0.0</td>\n      <td>0.0</td>\n      <td>0.0</td>\n      <td>0.0</td>\n      <td>0.0</td>\n      <td>0.0</td>\n      <td>0.0</td>\n      <td>0.0</td>\n      <td>0.0</td>\n      <td>0.0</td>\n      <td>0.0</td>\n      <td>0.0</td>\n      <td>0.0</td>\n      <td>0.0</td>\n      <td>0.0</td>\n      <td>0.0</td>\n      <td>0.0</td>\n      <td>1.0</td>\n      <td>0.0</td>\n      <td>0.0</td>\n      <td>0.0</td>\n      <td>0.0</td>\n      <td>0.0</td>\n      <td>0.0</td>\n      <td>1.0</td>\n      <td>0.0</td>\n      <td>0.0</td>\n      <td>0.0</td>\n      <td>0.0</td>\n      <td>0.0</td>\n      <td>0.0</td>\n      <td>1102500.0</td>\n      <td>10369800.0</td>\n      <td>0.0</td>\n      <td>1102500.0</td>\n      <td>102929400.0</td>\n      <td>50151.675</td>\n      <td>-128375.10</td>\n      <td>1848000.0</td>\n      <td>9873150.0</td>\n      <td>64050.0</td>\n      <td>0.0</td>\n      <td>0.0</td>\n      <td>0.0</td>\n      <td>0.0</td>\n      <td>0.0</td>\n      <td>1050.0</td>\n      <td>0.0</td>\n      <td>0.0</td>\n      <td>0.0</td>\n      <td>0.0</td>\n      <td>0.0</td>\n      <td>0.0</td>\n      <td>0.0</td>\n      <td>0.0</td>\n      <td>0.0</td>\n      <td>1050.0</td>\n      <td>0.0</td>\n      <td>0.0</td>\n      <td>...</td>\n      <td>0.0</td>\n      <td>0.0</td>\n      <td>1.0</td>\n      <td>0.0</td>\n      <td>0.0</td>\n      <td>0.0</td>\n      <td>0.0</td>\n      <td>0.0</td>\n      <td>0.0</td>\n      <td>0.0</td>\n      <td>0.0</td>\n      <td>0.0</td>\n      <td>0.0</td>\n      <td>0.0</td>\n      <td>0.0</td>\n      <td>0.0</td>\n      <td>0.0</td>\n      <td>0.0</td>\n      <td>0.0</td>\n      <td>0.0</td>\n      <td>0.0</td>\n      <td>0.0</td>\n      <td>0.0</td>\n      <td>0.0</td>\n      <td>0.0</td>\n      <td>0.0</td>\n      <td>0.0</td>\n      <td>0.0</td>\n      <td>0.0</td>\n      <td>0.0</td>\n      <td>0.0</td>\n      <td>0.0</td>\n      <td>0.0</td>\n      <td>0.0</td>\n      <td>0.0</td>\n      <td>0.0</td>\n      <td>0.0</td>\n      <td>0.0</td>\n      <td>0.0</td>\n      <td>0.0</td>\n      <td>0.0</td>\n      <td>0.0</td>\n      <td>0.0</td>\n      <td>0.0</td>\n      <td>0.0</td>\n      <td>0.0</td>\n      <td>0.0</td>\n      <td>0.0</td>\n      <td>0.0</td>\n      <td>0.0</td>\n      <td>0.0</td>\n      <td>0.0</td>\n      <td>0.0</td>\n      <td>0.0</td>\n      <td>0.0</td>\n      <td>0.0</td>\n      <td>0.0</td>\n      <td>0.0</td>\n      <td>0.0</td>\n      <td>0.0</td>\n      <td>0.0</td>\n      <td>0.0</td>\n      <td>0.0</td>\n      <td>0.0</td>\n      <td>0.0</td>\n      <td>0.0</td>\n      <td>0.0</td>\n      <td>0.0</td>\n      <td>0.0</td>\n      <td>0.0</td>\n      <td>0.0</td>\n      <td>0.0</td>\n      <td>1.0</td>\n      <td>0.0</td>\n      <td>0.0</td>\n      <td>0.0</td>\n      <td>0.0</td>\n      <td>0.0</td>\n      <td>0.0</td>\n      <td>0.0</td>\n      <td>0.0</td>\n      <td>0.0</td>\n      <td>0.0</td>\n      <td>0.0</td>\n      <td>0.0</td>\n      <td>0.0</td>\n      <td>0.0</td>\n      <td>0.0</td>\n      <td>0.0</td>\n      <td>0.0</td>\n      <td>0.0</td>\n      <td>0.0</td>\n      <td>0.0</td>\n      <td>0.0</td>\n      <td>0.0</td>\n      <td>0.0</td>\n      <td>0.0</td>\n      <td>0.0</td>\n      <td>0.0</td>\n      <td>0.0</td>\n    </tr>\n    <tr>\n      <th>17174</th>\n      <td>1900.0</td>\n      <td>43186.0</td>\n      <td>0.0</td>\n      <td>1300.0</td>\n      <td>98038.0</td>\n      <td>47.4199</td>\n      <td>-121.990</td>\n      <td>2080.0</td>\n      <td>108028.0</td>\n      <td>43.0</td>\n      <td>0.0</td>\n      <td>1.0</td>\n      <td>0.0</td>\n      <td>0.0</td>\n      <td>0.0</td>\n      <td>1.0</td>\n      <td>0.0</td>\n      <td>0.0</td>\n      <td>0.0</td>\n      <td>0.0</td>\n      <td>0.0</td>\n      <td>0.0</td>\n      <td>0.0</td>\n      <td>0.0</td>\n      <td>0.0</td>\n      <td>0.0</td>\n      <td>0.0</td>\n      <td>1.0</td>\n      <td>0.0</td>\n      <td>0.0</td>\n      <td>0.0</td>\n      <td>0.0</td>\n      <td>0.0</td>\n      <td>0.0</td>\n      <td>0.0</td>\n      <td>0.0</td>\n      <td>0.0</td>\n      <td>0.0</td>\n      <td>0.0</td>\n      <td>0.0</td>\n      <td>0.0</td>\n      <td>0.0</td>\n      <td>0.0</td>\n      <td>0.0</td>\n      <td>0.0</td>\n      <td>0.0</td>\n      <td>0.0</td>\n      <td>0.0</td>\n      <td>0.0</td>\n      <td>0.0</td>\n      <td>0.0</td>\n      <td>0.0</td>\n      <td>1.0</td>\n      <td>0.0</td>\n      <td>0.0</td>\n      <td>0.0</td>\n      <td>0.0</td>\n      <td>0.0</td>\n      <td>0.0</td>\n      <td>1.0</td>\n      <td>0.0</td>\n      <td>0.0</td>\n      <td>0.0</td>\n      <td>0.0</td>\n      <td>0.0</td>\n      <td>1.0</td>\n      <td>0.0</td>\n      <td>0.0</td>\n      <td>0.0</td>\n      <td>0.0</td>\n      <td>0.0</td>\n      <td>0.0</td>\n      <td>3610000.0</td>\n      <td>82053400.0</td>\n      <td>0.0</td>\n      <td>2470000.0</td>\n      <td>186272200.0</td>\n      <td>90097.810</td>\n      <td>-231781.00</td>\n      <td>3952000.0</td>\n      <td>205253200.0</td>\n      <td>81700.0</td>\n      <td>0.0</td>\n      <td>1900.0</td>\n      <td>0.0</td>\n      <td>0.0</td>\n      <td>0.0</td>\n      <td>1900.0</td>\n      <td>0.0</td>\n      <td>0.0</td>\n      <td>0.0</td>\n      <td>0.0</td>\n      <td>0.0</td>\n      <td>0.0</td>\n      <td>0.0</td>\n      <td>0.0</td>\n      <td>0.0</td>\n      <td>0.0</td>\n      <td>0.0</td>\n      <td>1900.0</td>\n      <td>...</td>\n      <td>0.0</td>\n      <td>0.0</td>\n      <td>0.0</td>\n      <td>0.0</td>\n      <td>0.0</td>\n      <td>0.0</td>\n      <td>0.0</td>\n      <td>0.0</td>\n      <td>0.0</td>\n      <td>1.0</td>\n      <td>0.0</td>\n      <td>0.0</td>\n      <td>0.0</td>\n      <td>0.0</td>\n      <td>0.0</td>\n      <td>1.0</td>\n      <td>0.0</td>\n      <td>0.0</td>\n      <td>0.0</td>\n      <td>0.0</td>\n      <td>0.0</td>\n      <td>0.0</td>\n      <td>0.0</td>\n      <td>0.0</td>\n      <td>0.0</td>\n      <td>0.0</td>\n      <td>0.0</td>\n      <td>0.0</td>\n      <td>0.0</td>\n      <td>0.0</td>\n      <td>0.0</td>\n      <td>0.0</td>\n      <td>0.0</td>\n      <td>0.0</td>\n      <td>0.0</td>\n      <td>0.0</td>\n      <td>0.0</td>\n      <td>0.0</td>\n      <td>0.0</td>\n      <td>0.0</td>\n      <td>0.0</td>\n      <td>0.0</td>\n      <td>0.0</td>\n      <td>0.0</td>\n      <td>0.0</td>\n      <td>0.0</td>\n      <td>0.0</td>\n      <td>0.0</td>\n      <td>0.0</td>\n      <td>0.0</td>\n      <td>0.0</td>\n      <td>0.0</td>\n      <td>0.0</td>\n      <td>0.0</td>\n      <td>0.0</td>\n      <td>0.0</td>\n      <td>0.0</td>\n      <td>0.0</td>\n      <td>0.0</td>\n      <td>0.0</td>\n      <td>0.0</td>\n      <td>0.0</td>\n      <td>0.0</td>\n      <td>0.0</td>\n      <td>0.0</td>\n      <td>0.0</td>\n      <td>0.0</td>\n      <td>0.0</td>\n      <td>0.0</td>\n      <td>0.0</td>\n      <td>0.0</td>\n      <td>0.0</td>\n      <td>1.0</td>\n      <td>0.0</td>\n      <td>0.0</td>\n      <td>0.0</td>\n      <td>0.0</td>\n      <td>0.0</td>\n      <td>0.0</td>\n      <td>0.0</td>\n      <td>0.0</td>\n      <td>0.0</td>\n      <td>0.0</td>\n      <td>0.0</td>\n      <td>0.0</td>\n      <td>0.0</td>\n      <td>0.0</td>\n      <td>0.0</td>\n      <td>0.0</td>\n      <td>0.0</td>\n      <td>0.0</td>\n      <td>0.0</td>\n      <td>0.0</td>\n      <td>0.0</td>\n      <td>0.0</td>\n      <td>0.0</td>\n      <td>0.0</td>\n      <td>0.0</td>\n      <td>0.0</td>\n      <td>0.0</td>\n    </tr>\n    <tr>\n      <th>17175</th>\n      <td>1330.0</td>\n      <td>6768.0</td>\n      <td>0.0</td>\n      <td>1330.0</td>\n      <td>98155.0</td>\n      <td>47.7366</td>\n      <td>-122.319</td>\n      <td>1320.0</td>\n      <td>6910.0</td>\n      <td>63.0</td>\n      <td>0.0</td>\n      <td>0.0</td>\n      <td>0.0</td>\n      <td>0.0</td>\n      <td>0.0</td>\n      <td>1.0</td>\n      <td>0.0</td>\n      <td>0.0</td>\n      <td>0.0</td>\n      <td>0.0</td>\n      <td>0.0</td>\n      <td>0.0</td>\n      <td>0.0</td>\n      <td>0.0</td>\n      <td>0.0</td>\n      <td>0.0</td>\n      <td>0.0</td>\n      <td>1.0</td>\n      <td>0.0</td>\n      <td>0.0</td>\n      <td>0.0</td>\n      <td>0.0</td>\n      <td>0.0</td>\n      <td>0.0</td>\n      <td>0.0</td>\n      <td>0.0</td>\n      <td>0.0</td>\n      <td>0.0</td>\n      <td>0.0</td>\n      <td>0.0</td>\n      <td>0.0</td>\n      <td>0.0</td>\n      <td>0.0</td>\n      <td>0.0</td>\n      <td>0.0</td>\n      <td>0.0</td>\n      <td>0.0</td>\n      <td>0.0</td>\n      <td>0.0</td>\n      <td>0.0</td>\n      <td>0.0</td>\n      <td>0.0</td>\n      <td>0.0</td>\n      <td>0.0</td>\n      <td>0.0</td>\n      <td>0.0</td>\n      <td>0.0</td>\n      <td>0.0</td>\n      <td>0.0</td>\n      <td>1.0</td>\n      <td>0.0</td>\n      <td>0.0</td>\n      <td>0.0</td>\n      <td>0.0</td>\n      <td>0.0</td>\n      <td>1.0</td>\n      <td>0.0</td>\n      <td>0.0</td>\n      <td>0.0</td>\n      <td>0.0</td>\n      <td>0.0</td>\n      <td>0.0</td>\n      <td>1768900.0</td>\n      <td>9001440.0</td>\n      <td>0.0</td>\n      <td>1768900.0</td>\n      <td>130546150.0</td>\n      <td>63489.678</td>\n      <td>-162684.27</td>\n      <td>1755600.0</td>\n      <td>9190300.0</td>\n      <td>83790.0</td>\n      <td>0.0</td>\n      <td>0.0</td>\n      <td>0.0</td>\n      <td>0.0</td>\n      <td>0.0</td>\n      <td>1330.0</td>\n      <td>0.0</td>\n      <td>0.0</td>\n      <td>0.0</td>\n      <td>0.0</td>\n      <td>0.0</td>\n      <td>0.0</td>\n      <td>0.0</td>\n      <td>0.0</td>\n      <td>0.0</td>\n      <td>0.0</td>\n      <td>0.0</td>\n      <td>1330.0</td>\n      <td>...</td>\n      <td>0.0</td>\n      <td>0.0</td>\n      <td>0.0</td>\n      <td>0.0</td>\n      <td>0.0</td>\n      <td>0.0</td>\n      <td>0.0</td>\n      <td>0.0</td>\n      <td>0.0</td>\n      <td>1.0</td>\n      <td>0.0</td>\n      <td>0.0</td>\n      <td>0.0</td>\n      <td>0.0</td>\n      <td>0.0</td>\n      <td>1.0</td>\n      <td>0.0</td>\n      <td>0.0</td>\n      <td>0.0</td>\n      <td>0.0</td>\n      <td>0.0</td>\n      <td>0.0</td>\n      <td>0.0</td>\n      <td>0.0</td>\n      <td>0.0</td>\n      <td>0.0</td>\n      <td>0.0</td>\n      <td>0.0</td>\n      <td>0.0</td>\n      <td>0.0</td>\n      <td>0.0</td>\n      <td>0.0</td>\n      <td>0.0</td>\n      <td>0.0</td>\n      <td>0.0</td>\n      <td>0.0</td>\n      <td>0.0</td>\n      <td>0.0</td>\n      <td>0.0</td>\n      <td>0.0</td>\n      <td>0.0</td>\n      <td>0.0</td>\n      <td>0.0</td>\n      <td>0.0</td>\n      <td>0.0</td>\n      <td>0.0</td>\n      <td>0.0</td>\n      <td>0.0</td>\n      <td>0.0</td>\n      <td>0.0</td>\n      <td>0.0</td>\n      <td>0.0</td>\n      <td>0.0</td>\n      <td>0.0</td>\n      <td>0.0</td>\n      <td>0.0</td>\n      <td>0.0</td>\n      <td>0.0</td>\n      <td>0.0</td>\n      <td>0.0</td>\n      <td>0.0</td>\n      <td>0.0</td>\n      <td>0.0</td>\n      <td>0.0</td>\n      <td>0.0</td>\n      <td>0.0</td>\n      <td>0.0</td>\n      <td>0.0</td>\n      <td>0.0</td>\n      <td>0.0</td>\n      <td>0.0</td>\n      <td>0.0</td>\n      <td>1.0</td>\n      <td>0.0</td>\n      <td>0.0</td>\n      <td>0.0</td>\n      <td>0.0</td>\n      <td>0.0</td>\n      <td>0.0</td>\n      <td>0.0</td>\n      <td>0.0</td>\n      <td>0.0</td>\n      <td>0.0</td>\n      <td>0.0</td>\n      <td>0.0</td>\n      <td>0.0</td>\n      <td>0.0</td>\n      <td>0.0</td>\n      <td>0.0</td>\n      <td>0.0</td>\n      <td>0.0</td>\n      <td>0.0</td>\n      <td>0.0</td>\n      <td>0.0</td>\n      <td>0.0</td>\n      <td>0.0</td>\n      <td>0.0</td>\n      <td>0.0</td>\n      <td>0.0</td>\n      <td>0.0</td>\n    </tr>\n  </tbody>\n</table>\n<p>17176 rows × 2700 columns</p>\n</div>"
          },
          "metadata": {},
          "execution_count": 48
        }
      ]
    },
    {
      "cell_type": "markdown",
      "metadata": {
        "id": "Xqmt9SzkdcNU"
      },
      "source": [
        "### Create Train and Test Split"
      ]
    },
    {
      "cell_type": "code",
      "metadata": {
        "colab": {
          "base_uri": "https://localhost:8080/"
        },
        "id": "2xdXmUi1UNyg",
        "outputId": "44f67a18-4c28-41a4-b9ba-586ca60adf72"
      },
      "source": [
        "x_train, x_test, y_train, y_test = train_test_split(features, target, random_state=34, test_size=0.2)\n",
        "print(\"Training Set - Features: \", x_train.shape, \"Target: \", y_train.shape)\n",
        "print(\"Testing Set - Features: \", x_test.shape, \"Target: \", y_test.shape)"
      ],
      "execution_count": 49,
      "outputs": [
        {
          "output_type": "stream",
          "name": "stdout",
          "text": [
            "Training Set - Features:  (13740, 2700) Target:  (13740,)\nTesting Set - Features:  (3436, 2700) Target:  (3436,)\n"
          ]
        }
      ]
    },
    {
      "cell_type": "code",
      "metadata": {
        "colab": {
          "base_uri": "https://localhost:8080/"
        },
        "id": "N_XHqgu8e94k",
        "outputId": "01c1450d-8dc2-4840-f2ca-a536e6463a5b"
      },
      "source": [
        "lm = linear_model.LinearRegression()\n",
        "lm = lm.fit(x_train, y_train)\n",
        "print(lm.intercept_)\n",
        "print(lm.coef_)\n",
        "print(\"R^2 Score: \", lm.score(x_train, y_train))"
      ],
      "execution_count": 50,
      "outputs": [
        {
          "output_type": "stream",
          "name": "stdout",
          "text": [
            "33670031831.09995\n[ 1.18537215e+07 -2.19278192e+04  7.20477868e+07 ...  8.63572918e+06\n  0.00000000e+00  7.74360917e-01]\nR^2 Score:  0.8773466150085426\n"
          ]
        }
      ]
    },
    {
      "cell_type": "markdown",
      "metadata": {
        "id": "jjzIP40odiZY"
      },
      "source": [
        "### Model Performance"
      ]
    },
    {
      "cell_type": "code",
      "metadata": {
        "colab": {
          "base_uri": "https://localhost:8080/"
        },
        "id": "2DRadR7wGQ-N",
        "outputId": "7bfb1e46-1787-4648-ee11-ddf80cd6a7b2"
      },
      "source": [
        "y_train_pred = lm.predict(x_train)\n",
        "train_mae = metrics.mean_absolute_error(y_train, y_train_pred)\n",
        "train_mse = metrics.mean_squared_error(y_train, y_train_pred)\n",
        "train_rmse = np.sqrt(metrics.mean_squared_error(y_train, y_train_pred))\n",
        "price_std = target.std()\n",
        "print('Mean Absolute Error: ', train_mae)\n",
        "print('Mean Squared Error: ', train_mse)\n",
        "print('Root Mean Squared Error: ', train_rmse)\n",
        "print('Z-Score of Mean Absolute Error: ', train_mae/price_std)\n",
        "print('Z-Score of Root Mean Squared Error: ', train_rmse/price_std)"
      ],
      "execution_count": 51,
      "outputs": [
        {
          "output_type": "stream",
          "name": "stdout",
          "text": [
            "Mean Absolute Error:  91114.85608689365\nMean Squared Error:  17381154843.69151\nRoot Mean Squared Error:  131837.6078503077\nZ-Score of Mean Absolute Error:  0.2438349502572931\nZ-Score of Root Mean Squared Error:  0.3528142163947773\n"
          ]
        }
      ]
    },
    {
      "cell_type": "markdown",
      "metadata": {
        "id": "TzOgYjrkdsw6"
      },
      "source": [
        "### Predicting Test Set and *comparing* model performance on training vs. test data"
      ]
    },
    {
      "cell_type": "code",
      "metadata": {
        "id": "ZLXJhFxEGQ-N",
        "colab": {
          "base_uri": "https://localhost:8080/"
        },
        "outputId": "7cd1870b-d7d1-4cee-f93e-f97a4fde8f01"
      },
      "source": [
        "y_pred = lm.predict(x_test)\n",
        "test_mae = metrics.mean_absolute_error(y_test, y_pred)\n",
        "test_rmse = np.sqrt(metrics.mean_squared_error(y_test, y_pred))\n",
        "print(\"Score: \", lm.score(x_test, y_test))\n",
        "print('Mean Absolute Error: ' + str(metrics.mean_absolute_error(y_test, y_pred)))\n",
        "print('Mean Squared Error: ' + str(metrics.mean_squared_error(y_test, y_pred)))\n",
        "print('Root Mean Squared Error: ' + str(np.sqrt(metrics.mean_squared_error(y_test, y_pred))))\n",
        "print('Mean Absolute Error Z: ', test_mae/price_std)\n",
        "print('Root Mean Squared Error Z: ', test_rmse/price_std)\n",
        "print('Training: ', int(train_rmse), \"vs. Testing: \", int(test_rmse))"
      ],
      "execution_count": 52,
      "outputs": [
        {
          "output_type": "stream",
          "name": "stdout",
          "text": [
            "Score:  -15388223.577193366\nMean Absolute Error: 28520385.47613443\nMean Squared Error: 2.020255713455701e+18\nRoot Mean Squared Error: 1421356997.1881452\nMean Absolute Error Z:  76.32418106724525\nRoot Mean Squared Error Z:  3803.7322078049124\nTraining:  131837 vs. Testing:  1421356997\n"
          ]
        }
      ]
    },
    {
      "cell_type": "markdown",
      "metadata": {
        "id": "MzDyVJN4d-Wd"
      },
      "source": [
        "### Check assumptions of linear regression"
      ]
    },
    {
      "cell_type": "code",
      "metadata": {
        "id": "T1gD_PPzK4AF"
      },
      "source": [
        "residuals = (y_test - y_pred)"
      ],
      "execution_count": 53,
      "outputs": []
    },
    {
      "cell_type": "code",
      "metadata": {
        "colab": {
          "base_uri": "https://localhost:8080/",
          "height": 380
        },
        "id": "5b9VkM5oLFES",
        "outputId": "bd9414d0-558e-4709-8720-f9b816fe9614"
      },
      "source": [
        "plt.hist(residuals)"
      ],
      "execution_count": 10,
      "outputs": [
        {
          "output_type": "error",
          "ename": "NameError",
          "evalue": "name 'plt' is not defined",
          "traceback": [
            "\u001b[0;31m---------------------------------------------------------------------------\u001b[0m",
            "\u001b[0;31mNameError\u001b[0m                                 Traceback (most recent call last)",
            "\u001b[0;32m<ipython-input-10-e8cca67e239d>\u001b[0m in \u001b[0;36m<module>\u001b[0;34m\u001b[0m\n\u001b[0;32m----> 1\u001b[0;31m \u001b[0mplt\u001b[0m\u001b[0;34m.\u001b[0m\u001b[0mhist\u001b[0m\u001b[0;34m(\u001b[0m\u001b[0mresiduals\u001b[0m\u001b[0;34m)\u001b[0m\u001b[0;34m\u001b[0m\u001b[0;34m\u001b[0m\u001b[0m\n\u001b[0m",
            "\u001b[0;31mNameError\u001b[0m: name 'plt' is not defined"
          ]
        }
      ]
    },
    {
      "cell_type": "code",
      "metadata": {
        "colab": {
          "base_uri": "https://localhost:8080/",
          "height": 360
        },
        "id": "T_M_SthrLGgM",
        "outputId": "461927f4-2e96-4797-f986-289baca5f815"
      },
      "source": [
        "sns.residplot(y_pred, y_test, lowess=True, color='g')"
      ],
      "execution_count": 11,
      "outputs": [
        {
          "output_type": "error",
          "ename": "NameError",
          "evalue": "name 'sns' is not defined",
          "traceback": [
            "\u001b[0;31m---------------------------------------------------------------------------\u001b[0m",
            "\u001b[0;31mNameError\u001b[0m                                 Traceback (most recent call last)",
            "\u001b[0;32m<ipython-input-11-7e9b52ca8b7d>\u001b[0m in \u001b[0;36m<module>\u001b[0;34m\u001b[0m\n\u001b[0;32m----> 1\u001b[0;31m \u001b[0msns\u001b[0m\u001b[0;34m.\u001b[0m\u001b[0mresidplot\u001b[0m\u001b[0;34m(\u001b[0m\u001b[0my_pred\u001b[0m\u001b[0;34m,\u001b[0m \u001b[0my_test\u001b[0m\u001b[0;34m,\u001b[0m \u001b[0mlowess\u001b[0m\u001b[0;34m=\u001b[0m\u001b[0;32mTrue\u001b[0m\u001b[0;34m,\u001b[0m \u001b[0mcolor\u001b[0m\u001b[0;34m=\u001b[0m\u001b[0;34m'g'\u001b[0m\u001b[0;34m)\u001b[0m\u001b[0;34m\u001b[0m\u001b[0;34m\u001b[0m\u001b[0m\n\u001b[0m",
            "\u001b[0;31mNameError\u001b[0m: name 'sns' is not defined"
          ]
        }
      ]
    },
    {
      "cell_type": "markdown",
      "metadata": {
        "id": "Ldaoo6f9fBXh"
      },
      "source": [
        "### Log Transformation of Target"
      ]
    },
    {
      "cell_type": "code",
      "metadata": {
        "colab": {
          "base_uri": "https://localhost:8080/"
        },
        "id": "kyxdkigVLkZv",
        "outputId": "3efe1dc7-4e89-41d7-a5cf-4b85dcd75278"
      },
      "source": [
        ""
      ],
      "execution_count": null,
      "outputs": [
        {
          "output_type": "stream",
          "text": [
            "44907.30113528344\n",
            "[ 3.24401184e+01 -1.51384012e-01  4.46425780e+01 ... -5.05951542e+00\n",
            "  0.00000000e+00  1.75409539e-06]\n"
          ],
          "name": "stdout"
        }
      ]
    },
    {
      "cell_type": "markdown",
      "metadata": {
        "id": "BB773vE6gW4p"
      },
      "source": [
        "### Check for assumptions of linear regression"
      ]
    },
    {
      "cell_type": "code",
      "metadata": {
        "colab": {
          "base_uri": "https://localhost:8080/",
          "height": 567
        },
        "id": "4nAxiwqkMTBU",
        "outputId": "3782ed92-b316-4a23-c830-4784ae5c96e1"
      },
      "source": [
        "residuals = (y_test- y_log_pred)\n",
        "plt.hist(residuals, bins=30)\n",
        "sns.residplot(y_log_pred, y_test, lowess=True, color=\"g\")"
      ],
      "execution_count": 12,
      "outputs": [
        {
          "output_type": "error",
          "ename": "NameError",
          "evalue": "name 'y_test' is not defined",
          "traceback": [
            "\u001b[0;31m---------------------------------------------------------------------------\u001b[0m",
            "\u001b[0;31mNameError\u001b[0m                                 Traceback (most recent call last)",
            "\u001b[0;32m<ipython-input-12-68d74db3d116>\u001b[0m in \u001b[0;36m<module>\u001b[0;34m\u001b[0m\n\u001b[0;32m----> 1\u001b[0;31m \u001b[0mresiduals\u001b[0m \u001b[0;34m=\u001b[0m \u001b[0;34m(\u001b[0m\u001b[0my_test\u001b[0m\u001b[0;34m-\u001b[0m \u001b[0my_log_pred\u001b[0m\u001b[0;34m)\u001b[0m\u001b[0;34m\u001b[0m\u001b[0;34m\u001b[0m\u001b[0m\n\u001b[0m\u001b[1;32m      2\u001b[0m \u001b[0mplt\u001b[0m\u001b[0;34m.\u001b[0m\u001b[0mhist\u001b[0m\u001b[0;34m(\u001b[0m\u001b[0mresiduals\u001b[0m\u001b[0;34m,\u001b[0m \u001b[0mbins\u001b[0m\u001b[0;34m=\u001b[0m\u001b[0;36m30\u001b[0m\u001b[0;34m)\u001b[0m\u001b[0;34m\u001b[0m\u001b[0;34m\u001b[0m\u001b[0m\n\u001b[1;32m      3\u001b[0m \u001b[0msns\u001b[0m\u001b[0;34m.\u001b[0m\u001b[0mresidplot\u001b[0m\u001b[0;34m(\u001b[0m\u001b[0my_log_pred\u001b[0m\u001b[0;34m,\u001b[0m \u001b[0my_test\u001b[0m\u001b[0;34m,\u001b[0m \u001b[0mlowess\u001b[0m\u001b[0;34m=\u001b[0m\u001b[0;32mTrue\u001b[0m\u001b[0;34m,\u001b[0m \u001b[0mcolor\u001b[0m\u001b[0;34m=\u001b[0m\u001b[0;34m\"g\"\u001b[0m\u001b[0;34m)\u001b[0m\u001b[0;34m\u001b[0m\u001b[0;34m\u001b[0m\u001b[0m\n",
            "\u001b[0;31mNameError\u001b[0m: name 'y_test' is not defined"
          ]
        }
      ]
    },
    {
      "cell_type": "code",
      "metadata": {
        "colab": {
          "base_uri": "https://localhost:8080/",
          "height": 306
        },
        "id": "1uMvxjIrMYvD",
        "outputId": "7ccb0340-a933-4cbc-c3fc-12a311afd0c7"
      },
      "source": [
        ""
      ],
      "execution_count": null,
      "outputs": [
        {
          "output_type": "execute_result",
          "data": {
            "text/plain": [
              "<matplotlib.axes._subplots.AxesSubplot at 0x7f9c01b0f860>"
            ]
          },
          "metadata": {
            "tags": []
          },
          "execution_count": 239
        },
        {
          "output_type": "display_data",
          "data": {
            "image/png": "[encoded data removed]",
            "text/plain": [
              "<Figure size 432x288 with 1 Axes>"
            ]
          },
          "metadata": {
            "tags": []
          }
        }
      ]
    },
    {
      "cell_type": "markdown",
      "metadata": {
        "id": "3A9Em1pHwa-5"
      },
      "source": [
        "## **Feature Selection (K-best, recursive)**\n"
      ]
    },
    {
      "cell_type": "code",
      "metadata": {
        "id": "ax-DkE5wGfi8"
      },
      "source": [
        "x_train, x_test, y_train, y_test = train_test_split(features, target, random_state=9, test_size=0.2)"
      ],
      "execution_count": 56,
      "outputs": []
    },
    {
      "cell_type": "markdown",
      "metadata": {
        "id": "Hg9xZdAucSwP"
      },
      "source": [
        "### K-best"
      ]
    },
    {
      "cell_type": "code",
      "metadata": {
        "colab": {
          "base_uri": "https://localhost:8080/"
        },
        "id": "nv6YEKLhY1-D",
        "outputId": "c8b2cfe6-44f4-4c71-f641-1a73e2e2ab0b"
      },
      "source": [
        "x_train.shape"
      ],
      "execution_count": 58,
      "outputs": [
        {
          "output_type": "execute_result",
          "data": {
            "text/plain": [
              "(13740, 2700)"
            ]
          },
          "metadata": {},
          "execution_count": 58
        }
      ]
    },
    {
      "cell_type": "code",
      "metadata": {
        "colab": {
          "base_uri": "https://localhost:8080/"
        },
        "id": "VjRsHd9jY3n5",
        "outputId": "b6219f54-9e8d-4eb5-db1c-ea5af2faa8bd"
      },
      "source": [
        "selector = SelectKBest(f_regression, k=20)\n",
        "selector.fit(x_train, y_train)"
      ],
      "execution_count": 59,
      "outputs": [
        {
          "output_type": "execute_result",
          "data": {
            "text/plain": [
              "SelectKBest(k=20, score_func=<function f_regression at 0x7fb454ad6dc0>)"
            ]
          },
          "metadata": {},
          "execution_count": 59
        }
      ]
    },
    {
      "cell_type": "code",
      "metadata": {
        "id": "oG_OGFHtY5jb"
      },
      "source": [
        "selected_columns = x_train.columns[selector.get_support()]\n",
        "removed_columns = x_train.columns[~selector.get_support()]\n",
        "#X_train = X_train[selected_columns]\n",
        "#X_test = X_test[selected_columns]"
      ],
      "execution_count": 60,
      "outputs": []
    },
    {
      "cell_type": "code",
      "metadata": {
        "colab": {
          "base_uri": "https://localhost:8080/"
        },
        "id": "8ip33hauY8B5",
        "outputId": "f68e0e82-dd11-4c80-f4a7-867c9ce1818e"
      },
      "source": [
        "list(selected_columns)"
      ],
      "execution_count": 61,
      "outputs": [
        {
          "output_type": "execute_result",
          "data": {
            "text/plain": [
              "['sqft_living',\n",
              " 'sqft_above',\n",
              " 'sqft_living15',\n",
              " 'sqft_living^2',\n",
              " 'sqft_living sqft_above',\n",
              " 'sqft_living zipcode',\n",
              " 'sqft_living lat',\n",
              " 'sqft_living long',\n",
              " 'sqft_living sqft_living15',\n",
              " 'sqft_living viewed',\n",
              " 'sqft_above^2',\n",
              " 'sqft_above zipcode',\n",
              " 'sqft_above lat',\n",
              " 'sqft_above long',\n",
              " 'sqft_above sqft_living15',\n",
              " 'sqft_above viewed',\n",
              " 'zipcode sqft_living15',\n",
              " 'lat sqft_living15',\n",
              " 'long sqft_living15',\n",
              " 'sqft_living15^2']"
            ]
          },
          "metadata": {},
          "execution_count": 61
        }
      ]
    },
    {
      "cell_type": "code",
      "metadata": {
        "colab": {
          "base_uri": "https://localhost:8080/"
        },
        "id": "lhAFz_y4Y-ek",
        "outputId": "62029dbc-84cb-44a4-ff5a-4498adf2ff86"
      },
      "source": [
        "#instantiate a linear regression object\n",
        "lm_kbest = LinearRegression()\n",
        "\n",
        "#fit the linear regression to the data\n",
        "lm_kbest.fit(x_train[selected_columns], y_train)\n",
        "y_train_kbest = lm_kbest.predict(x_train[selected_columns])\n",
        "trainK_rmse = np.sqrt(metrics.mean_squared_error(y_train, y_train_kbest))\n",
        "print('Training Root Mean Squared Error:' , trainK_rmse)\n",
        "\n",
        "y_kbest = lm_kbest.predict(x_test[selected_columns])\n",
        "testK_rmse = np.sqrt(metrics.mean_squared_error(y_test, y_kbest))\n",
        "print('Testing Root Mean Squared Error:' , testK_rmse)"
      ],
      "execution_count": 62,
      "outputs": [
        {
          "output_type": "stream",
          "name": "stdout",
          "text": [
            "Training Root Mean Squared Error: 208007.9199366878\nTesting Root Mean Squared Error: 203488.65947786396\n"
          ]
        }
      ]
    },
    {
      "cell_type": "code",
      "metadata": {
        "colab": {
          "base_uri": "https://localhost:8080/"
        },
        "id": "jCfWLGWdZAY8",
        "outputId": "f947b2eb-ee26-4c92-e4ad-6bba2f25ba64"
      },
      "source": [
        "list(zip(selected_columns, lm_kbest.coef_))"
      ],
      "execution_count": 63,
      "outputs": [
        {
          "output_type": "execute_result",
          "data": {
            "text/plain": [
              "[('sqft_living', -33670.62943275622),\n",
              " ('sqft_above', 24136.538457455834),\n",
              " ('sqft_living15', -7137.214106763799),\n",
              " ('sqft_living^2', -0.02541728815525352),\n",
              " ('sqft_living sqft_above', 0.08602490301990362),\n",
              " ('sqft_living zipcode', -0.7425490608091445),\n",
              " ('sqft_living lat', 275.0378785803648),\n",
              " ('sqft_living long', -763.5665165870732),\n",
              " ('sqft_living sqft_living15', 0.09103206532234963),\n",
              " ('sqft_living viewed', -5.337529635037424),\n",
              " ('sqft_above^2', -0.011931067811917741),\n",
              " ('sqft_above zipcode', 0.0197438556629099),\n",
              " ('sqft_above lat', 77.45229547483142),\n",
              " ('sqft_above long', 242.2919172623073),\n",
              " ('sqft_above sqft_living15', -0.12394871670627193),\n",
              " ('sqft_above viewed', 92.51736544217373),\n",
              " ('zipcode sqft_living15', 0.4823309388349777),\n",
              " ('lat sqft_living15', 12.947237606190217),\n",
              " ('long sqft_living15', 333.32700171255834),\n",
              " ('sqft_living15^2', 0.020563398443346766)]"
            ]
          },
          "metadata": {},
          "execution_count": 63
        }
      ]
    },
    {
      "cell_type": "code",
      "metadata": {
        "colab": {
          "base_uri": "https://localhost:8080/"
        },
        "id": "-5FaIJPqZCCk",
        "outputId": "c865645e-f923-4ae9-abb5-55fe96d8c5c5"
      },
      "source": [
        "print('Original: ', test_rmse, '\\n',\n",
        "      \"KBest:   \", testK_rmse,'\\n')"
      ],
      "execution_count": 64,
      "outputs": [
        {
          "output_type": "stream",
          "name": "stdout",
          "text": [
            "Original:  1421356997.1881452 \n KBest:    203488.65947786396 \n\n"
          ]
        }
      ]
    },
    {
      "cell_type": "code",
      "metadata": {
        "colab": {
          "base_uri": "https://localhost:8080/"
        },
        "id": "jqFxtKzcTb_S",
        "outputId": "bb341e7d-e393-4a72-b0bc-266634ee7b59"
      },
      "source": [
        "selected_columns"
      ],
      "execution_count": 65,
      "outputs": [
        {
          "output_type": "execute_result",
          "data": {
            "text/plain": [
              "Index(['sqft_living', 'sqft_above', 'sqft_living15', 'sqft_living^2',\n",
              "       'sqft_living sqft_above', 'sqft_living zipcode', 'sqft_living lat',\n",
              "       'sqft_living long', 'sqft_living sqft_living15', 'sqft_living viewed',\n",
              "       'sqft_above^2', 'sqft_above zipcode', 'sqft_above lat',\n",
              "       'sqft_above long', 'sqft_above sqft_living15', 'sqft_above viewed',\n",
              "       'zipcode sqft_living15', 'lat sqft_living15', 'long sqft_living15',\n",
              "       'sqft_living15^2'],\n",
              "      dtype='object')"
            ]
          },
          "metadata": {},
          "execution_count": 65
        }
      ]
    },
    {
      "cell_type": "markdown",
      "metadata": {
        "id": "iU5hMAEYZJIY"
      },
      "source": [
        "### Recursive Feature Elimination"
      ]
    },
    {
      "cell_type": "code",
      "metadata": {
        "colab": {
          "base_uri": "https://localhost:8080/"
        },
        "id": "7RfZauH-9U6i",
        "outputId": "69ac22c3-cac8-4986-f637-7f6728847fb0"
      },
      "source": [
        "ols = linear_model.LinearRegression()\n",
        "\n",
        "X_train_8.shape\n",
        "# Create recursive feature eliminator that scores features by mean squared errors\n",
        "selector = RFECV(estimator=ols, step=1, cv=5, scoring='neg_mean_squared_error', n_jobs=-1)\n",
        "# Fit recursive feature eliminator \n",
        "selector.fit(X_train_8, y_train_8)\n",
        "selected_rfe = X_train_8.columns[selector.support_]\n",
        "removed_rfe = X_train_8.columns[~selector.support_]\n",
        "list(removed_rfe)\n",
        "len(list(selected_rfe))\n",
        "\n",
        "#instantiate a linear regression object\n",
        "lm_rfe = LinearRegression()\n",
        "#fit the linear regression to the data\n",
        "lm_rfe = lm_rfe.fit(X_train_8[selected_rfe], y_train_8)\n",
        "y_rfe = lm_rfe.predict(X_train_8[selected_rfe])\n",
        "trainRFE_rmse = np.sqrt(metrics.mean_squared_error(y_train_8, y_rfe))\n",
        "print('Training Root Mean Squared Error:' , trainRFE_rmse)\n",
        "y_pred_rfe = lm_rfe.predict(X_test_8[selected_rfe])\n",
        "testRFE_rmse = np.sqrt(metrics.mean_squared_error(y_test_8, y_pred_rfe))\n",
        "print('Testing Root Mean Squared Error:' , testRFE_rmse)\n",
        "\n",
        "print('Original: ', test_rmse, '\\n',\n",
        "      \"KBest:   \", testK_rmse,'\\n',)\n",
        "      \"RFE:     \", testRFE_rmse)"
      ],
      "execution_count": null,
      "outputs": [
        {
          "output_type": "execute_result",
          "data": {
            "text/plain": [
              "(13740, 2700)"
            ]
          },
          "metadata": {
            "tags": []
          },
          "execution_count": 59
        }
      ]
    },
    {
      "cell_type": "code",
      "metadata": {
        "id": "_g7MGZNELbRL"
      },
      "source": [
        "target_log = np.log(target)\n",
        "#instantiate a linear regression object\n",
        "log_model = LinearRegression()\n",
        "\n",
        "#fit the linear regression to the log of the target variable\n",
        "log_model.fit(x_train, np.log(y_train))\n",
        "\n",
        "#access output\n",
        "print(log_model.intercept_)\n",
        "print(log_model.coef_)\n",
        "\n",
        "y_log_train_pred = log_model.predict(x_train)\n",
        "y_log_train_pred = np.exp(y_log_train_pred)\n",
        "log_train_mae = metrics.mean_absolute_error(y_train, y_log_train_pred)\n",
        "log_train_rmse = np.sqrt(metrics.mean_squared_error(y_train, y_log_train_pred))\n",
        "print('Mean Absolute Error:', log_train_mae)\n",
        "print('Root Mean Squared Error:' , log_train_rmse)\n",
        "\n",
        "y_log_pred = log_model.predict(x_test)\n",
        "y_log_pred = np.exp(y_log_pred)\n",
        "test_log_mae = metrics.mean_absolute_error(y_test, y_log_pred)\n",
        "test_log_rmse = np.sqrt(metrics.mean_squared_error(y_test, y_log_pred))\n",
        "print('Mean Absolute Error:' + str(test_log_mae))\n",
        "print('Root Mean Squared Error:' + str(test_log_rmse))\n",
        "print('Original: ', int(test_rmse), \"vs. Logged: \", int(test_log_rmse))"
      ],
      "execution_count": null,
      "outputs": []
    },
    {
      "cell_type": "markdown",
      "metadata": {
        "id": "BnPGiZCdZdUK"
      },
      "source": [
        "## **Final Model**"
      ]
    },
    {
      "cell_type": "code",
      "metadata": {
        "id": "VKSaXcAGZd1w"
      },
      "source": [
        "scaler = StandardScaler()\n",
        "\n",
        "#fit and transform the  data\n",
        "features = pd.DataFrame(data=scaler.fit_transform(features), columns=features.columns)"
      ],
      "execution_count": 66,
      "outputs": []
    },
    {
      "cell_type": "code",
      "metadata": {
        "colab": {
          "base_uri": "https://localhost:8080/"
        },
        "id": "oKpiwwg8ZfVI",
        "outputId": "b9901ae3-57b5-4406-e485-9234a88cc0be"
      },
      "source": [
        "selector = SelectKBest(f_regression, k=20)\n",
        "\n",
        "selector.fit(features, target)"
      ],
      "execution_count": 67,
      "outputs": [
        {
          "output_type": "execute_result",
          "data": {
            "text/plain": [
              "SelectKBest(k=20, score_func=<function f_regression at 0x7fb454ad6dc0>)"
            ]
          },
          "metadata": {},
          "execution_count": 67
        }
      ]
    },
    {
      "cell_type": "code",
      "metadata": {
        "colab": {
          "base_uri": "https://localhost:8080/",
          "height": 300
        },
        "id": "2z_1lbAFZglO",
        "outputId": "b2d46242-3e5f-48bd-c7a0-7cfacbc0264b"
      },
      "source": [
        "selected_columns = x_train.columns[selector.get_support()]\n",
        "removed_columns = x_train.columns[~selector.get_support()]"
      ],
      "execution_count": 68,
      "outputs": []
    },
    {
      "cell_type": "code",
      "metadata": {
        "id": "s3nL3noSZiE6"
      },
      "source": [
        "#instantiate a linear regression object\n",
        "lm_final = LinearRegression()\n",
        "\n",
        "#fit the linear regression to the data\n",
        "lm_final = lm_final.fit(features[selected_columns], target)"
      ],
      "execution_count": 69,
      "outputs": []
    },
    {
      "cell_type": "code",
      "metadata": {
        "id": "zXbm1yg1Zj7y",
        "colab": {
          "base_uri": "https://localhost:8080/"
        },
        "outputId": "32e8d1d2-e867-4fd3-c02c-8654321731e6"
      },
      "source": [
        "lm_final.coef_"
      ],
      "execution_count": 70,
      "outputs": [
        {
          "output_type": "execute_result",
          "data": {
            "text/plain": [
              "array([-2.18251873e+07,  1.44053993e+07, -7.71804589e+06, -2.08984352e+05,\n",
              "        5.42861482e+05, -6.75644748e+07,  1.33304238e+07, -7.59566327e+07,\n",
              "        3.16777387e+05, -8.91425252e+02, -1.38036677e+05,  6.19240347e+06,\n",
              "        1.78143949e+06,  2.22470778e+07, -3.89293764e+05,  6.30234444e+04,\n",
              "        2.98645380e+07,  2.75519170e+05,  2.23742280e+07,  6.96963076e+04])"
            ]
          },
          "metadata": {},
          "execution_count": 70
        }
      ]
    },
    {
      "cell_type": "markdown",
      "metadata": {
        "id": "hh-NF9RVZl05"
      },
      "source": [
        "## **Pickle**"
      ]
    },
    {
      "cell_type": "code",
      "metadata": {
        "id": "3n-02AQRZmOk"
      },
      "source": [
        "pickle_out = open(\"model.pickle\",\"wb\")\n",
        "pickle.dump(lm_final, pickle_out)\n",
        "pickle_out.close()"
      ],
      "execution_count": 71,
      "outputs": []
    },
    {
      "cell_type": "code",
      "metadata": {
        "id": "PQLxB2D0ZoGQ",
        "colab": {
          "base_uri": "https://localhost:8080/",
          "height": 198
        },
        "outputId": "d7b7c24e-7b85-4980-fcd7-26a8c3f06cb9"
      },
      "source": [
        "pickle_out = open(\"scaler.pickle\", \"wb\")\n",
        "pickle.dump(scaler, pickle_out)\n",
        "pickle_out.close"
      ],
      "execution_count": 74,
      "outputs": [
        {
          "output_type": "execute_result",
          "data": {
            "text/plain": [
              "<function BufferedWriter.close>"
            ]
          },
          "metadata": {},
          "execution_count": 74
        }
      ]
    },
    {
      "cell_type": "code",
      "execution_count": null,
      "metadata": {},
      "outputs": [],
      "source": []
    }
  ]
}