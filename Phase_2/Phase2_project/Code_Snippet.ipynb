{
 "metadata": {
  "language_info": {
   "codemirror_mode": {
    "name": "ipython",
    "version": 3
   },
   "file_extension": ".py",
   "mimetype": "text/x-python",
   "name": "python",
   "nbconvert_exporter": "python",
   "pygments_lexer": "ipython3",
   "version": 3
  },
  "orig_nbformat": 2
 },
 "nbformat": 4,
 "nbformat_minor": 2,
 "cells": [
  {
   "cell_type": "code",
   "execution_count": null,
   "metadata": {},
   "outputs": [],
   "source": [
    "ols = linear_model.LinearRegression()\n",
    "selector = RFECV(estimator=ols, step=1, cv=5, scoring='neg_mean_squared_error', n_jobs=-1)\n",
    "selector.fit(x_train, y_train)\n",
    "selected = x_train.columns[selector.support_]\n",
    "removed = x_train.columns[~selector.support_]\n",
    "\n",
    "lm_rfe = LinearRegression()\n",
    "lm_rfe = lm_rfe.fit(x_train[selected_rfe], y_train)\n",
    "y_rfe = lm_rfe.predict(x_train[selected_rfe])\n",
    "train = np.sqrt(metrics.mean_squared_error(y_train, y_rfe))\n",
    "y_pred_rfe = lm_rfe.predict(x_test[selected_rfe])\n",
    "test = np.sqrt(metrics.mean_squared_error(y_test, y_pred_rfe))\n",
    "\n",
    "print('Training Root Mean Squared Error:' , train)\n",
    "print('Testing Root Mean Squared Error:' , test)\n",
    "\n",
    "print('Original: ', test_rmse, '\\n',\n",
    "      \"KBest:   \", testK_rmse,'\\n',)\n",
    "      \"RFE:     \", testRFE_rmse)"
   ]
  },
  {
   "cell_type": "code",
   "execution_count": null,
   "metadata": {},
   "outputs": [],
   "source": [
    "target_log = np.log(target)\n",
    "#instantiate a linear regression object\n",
    "log_model = LinearRegression()\n",
    "\n",
    "#fit the linear regression to the log of the target variable\n",
    "log_model.fit(x_train, np.log(y_train))\n",
    "\n",
    "#access output\n",
    "print(log_model.intercept_)\n",
    "print(log_model.coef_)\n",
    "\n",
    "y_log_train_pred = log_model.predict(x_train)\n",
    "y_log_train_pred = np.exp(y_log_train_pred)\n",
    "log_train_mae = metrics.mean_absolute_error(y_train, y_log_train_pred)\n",
    "log_train_rmse = np.sqrt(metrics.mean_squared_error(y_train, y_log_train_pred))\n",
    "print('Mean Absolute Error:', log_train_mae)\n",
    "print('Root Mean Squared Error:' , log_train_rmse)\n",
    "\n",
    "y_log_pred = log_model.predict(x_test)\n",
    "y_log_pred = np.exp(y_log_pred)\n",
    "test_log_mae = metrics.mean_absolute_error(y_test, y_log_pred)\n",
    "test_log_rmse = np.sqrt(metrics.mean_squared_error(y_test, y_log_pred))\n",
    "print('Mean Absolute Error:' + str(test_log_mae))\n",
    "print('Root Mean Squared Error:' + str(test_log_rmse))\n",
    "print('Original: ', int(test_rmse), \"vs. Logged: \", int(test_log_rmse))"
   ]
  }
 ]
}